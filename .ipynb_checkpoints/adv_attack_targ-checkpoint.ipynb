{
 "cells": [
  {
   "cell_type": "code",
   "execution_count": 2,
   "id": "d76cb747-4315-403c-8c60-bc837c7299fc",
   "metadata": {},
   "outputs": [],
   "source": [
    "# imports\n",
    "import torch\n",
    "import torch.nn as nn\n",
    "import torchvision.models as models\n",
    "from torch.nn import CrossEntropyLoss\n",
    "from torchvision import datasets, transforms\n",
    "from torch.utils.data import DataLoader\n",
    "from utils.metrics import topk_acc, real_acc, AverageMeter\n",
    "from utils.parsers import get_training_parser\n",
    "from utils.optimizer import get_optimizer, get_scheduler, OPTIMIZERS_DICT, SCHEDULERS\n",
    "\n",
    "from models.networks import get_model\n",
    "from data_utils.data_stats import *\n",
    "\n",
    "import matplotlib.pyplot as plt\n",
    "import argparse\n",
    "import time"
   ]
  },
  {
   "cell_type": "code",
   "execution_count": 3,
   "id": "3af5b896",
   "metadata": {},
   "outputs": [
    {
     "data": {
      "text/plain": [
       "<torch._C.Generator at 0x112d66c10>"
      ]
     },
     "execution_count": 3,
     "metadata": {},
     "output_type": "execute_result"
    }
   ],
   "source": [
    "import torch.nn.functional as F\n",
    "import torch.optim as optim\n",
    "import numpy as np\n",
    "\n",
    "torch.manual_seed(0)"
   ]
  },
  {
   "cell_type": "markdown",
   "id": "678e25c4",
   "metadata": {},
   "source": [
    "# Adversarial attack MLP"
   ]
  },
  {
   "cell_type": "markdown",
   "id": "d757e5fb",
   "metadata": {},
   "source": [
    "### Import dataset and normalize images"
   ]
  },
  {
   "cell_type": "code",
   "execution_count": 4,
   "id": "82158259",
   "metadata": {},
   "outputs": [],
   "source": [
    "dataset = 'cifar10'                 # One of cifar10, cifar100, stl10, imagenet or imagenet21\n",
    "architecture = 'B_12-Wi_1024'\n",
    "data_resolution = 32                # Resolution of data as it is stored\n",
    "crop_resolution = 64                # Resolution of fine-tuned model (64 for all models we provide)\n",
    "num_classes = CLASS_DICT[dataset]\n",
    "eval_batch_size = 1024\n",
    "checkpoint = 'in21k_cifar10'"
   ]
  },
  {
   "cell_type": "code",
   "execution_count": 5,
   "id": "09bdcaec",
   "metadata": {},
   "outputs": [
    {
     "name": "stdout",
     "output_type": "stream",
     "text": [
      "Files already downloaded and verified\n"
     ]
    }
   ],
   "source": [
    "mean = (0.4914, 0.4822, 0.4465)\n",
    "std = (0.2471, 0.2435, 0.2616)\n",
    "\n",
    "transform = transforms.Compose([\n",
    "    transforms.Resize((crop_resolution, crop_resolution)),\n",
    "    transforms.ToTensor(),\n",
    "    transforms.Normalize(mean, std),\n",
    "])\n",
    "\n",
    "cifar10_dataset_norm = datasets.CIFAR10(root='./data', train=False, download=True, transform=transform)\n",
    "loader = DataLoader(cifar10_dataset_norm, batch_size=500, shuffle=False)"
   ]
  },
  {
   "cell_type": "markdown",
   "id": "c23c3112",
   "metadata": {},
   "source": [
    "### Initialize model"
   ]
  },
  {
   "cell_type": "code",
   "execution_count": 6,
   "id": "3e978da2",
   "metadata": {},
   "outputs": [
    {
     "name": "stdout",
     "output_type": "stream",
     "text": [
      "Weights already downloaded\n",
      "Load_state output <All keys matched successfully>\n"
     ]
    },
    {
     "data": {
      "text/plain": [
       "BottleneckMLP(\n",
       "  (linear_in): Linear(in_features=12288, out_features=1024, bias=True)\n",
       "  (linear_out): Linear(in_features=1024, out_features=10, bias=True)\n",
       "  (blocks): ModuleList(\n",
       "    (0-11): 12 x BottleneckBlock(\n",
       "      (block): Sequential(\n",
       "        (0): Linear(in_features=1024, out_features=4096, bias=True)\n",
       "        (1): GELU(approximate='none')\n",
       "        (2): Linear(in_features=4096, out_features=1024, bias=True)\n",
       "      )\n",
       "    )\n",
       "  )\n",
       "  (layernorms): ModuleList(\n",
       "    (0-11): 12 x LayerNorm((1024,), eps=1e-05, elementwise_affine=True)\n",
       "  )\n",
       ")"
      ]
     },
     "execution_count": 6,
     "metadata": {},
     "output_type": "execute_result"
    }
   ],
   "source": [
    "torch.backends.cuda.matmul.allow_tf32 = True\n",
    "model = get_model(architecture=architecture, resolution=crop_resolution, num_classes=num_classes, checkpoint=checkpoint)\n",
    "model.eval()"
   ]
  },
  {
   "cell_type": "markdown",
   "id": "fe8e833d",
   "metadata": {},
   "source": [
    "### Adversarial attack implementation\n",
    "Folowing this useful guide: https://pytorch.org/tutorials/beginner/fgsm_tutorial.html"
   ]
  },
  {
   "cell_type": "code",
   "execution_count": 23,
   "id": "7fe4b9c8",
   "metadata": {},
   "outputs": [],
   "source": [
    "# FGSM attack code\n",
    "def mlp_fgsm_attack(image, epsilon, pic_grad):\n",
    "    \n",
    "    # Collect the element-wise sign of the data gradient\n",
    "    sign_data_grad = pic_grad.sign()\n",
    "\n",
    "    # Create the perturbed image by adjusting each pixel of the input image\n",
    "    perturbed_image = image - epsilon*sign_data_grad\n",
    "\n",
    "    perturbed_image = torch.clamp(perturbed_image, 0, 1)\n",
    "\n",
    "    return perturbed_image\n",
    "\n",
    "\n",
    "denormalize = transforms.Compose([\n",
    "    transforms.Normalize((-mean[0] / std[0], -mean[1] / std[1], -mean[2] / std[2]), (1 / std[0], 1 / std[1], 1 / std[2])),\n",
    "])\n",
    "\n",
    "normalize = transforms.Compose([\n",
    "    transforms.Normalize(mean, std),\n",
    "])\n",
    "\n",
    "resize_to_32 = transforms.Compose([\n",
    "    transforms.Resize((data_resolution, data_resolution)),\n",
    "])"
   ]
  },
  {
   "cell_type": "code",
   "execution_count": null,
   "id": "c2933a64",
   "metadata": {},
   "outputs": [],
   "source": []
  },
  {
   "cell_type": "code",
   "execution_count": null,
   "id": "07d47eb9",
   "metadata": {},
   "outputs": [],
   "source": []
  },
  {
   "cell_type": "code",
   "execution_count": 126,
   "id": "8e0cb6d9",
   "metadata": {},
   "outputs": [],
   "source": [
    "test_loader = loader"
   ]
  },
  {
   "cell_type": "code",
   "execution_count": 24,
   "id": "890a1f42",
   "metadata": {},
   "outputs": [],
   "source": [
    "def adv_mlp_test( model, test_loader, epsilon, target_val, epoch=1):\n",
    "\n",
    "\n",
    "    for i in range(epoch):\n",
    "        # Accuracy counter\n",
    "        correct = 0\n",
    "        adv_examples = []\n",
    "        adv_labels = []\n",
    "\n",
    "        non_adv_examples = []\n",
    "        non_adv_labels = []\n",
    "\n",
    "        miss_examples = []\n",
    "        miss_labels = []\n",
    "\n",
    "        noise_list = []\n",
    "        for data, real_target in test_loader:\n",
    "            noise = torch.zeros_like(data)\n",
    "            noise_list.append(noise)\n",
    "\n",
    "        # Loop over all examples in test set\n",
    "        for noise, (data, real_target) in zip(noise_list, test_loader):\n",
    "            target = torch.ones_like(real_target)*target_val\n",
    "            # Set requires_grad attribute of tensor. Important for Attack\n",
    "            data.requires_grad = True\n",
    "\n",
    "            # Forward pass the data through the model\n",
    "            output = model(data.flatten(1))\n",
    "            init_pred = output.max(1, keepdim=True)[1] # get the index of the max log-probability\n",
    "            init_pred = init_pred.squeeze(1)\n",
    "\n",
    "            # If the initial prediction is wrong, don't bother attacking, just move on\n",
    "            # if init_pred.item() != target.item():\n",
    "            \n",
    "            miss_examples.append(data[init_pred != target])\n",
    "            miss_labels.append(target[init_pred != target])\n",
    "                # continue\n",
    "\n",
    "            # Calculate the loss\n",
    "            loss = F.nll_loss(output, target)\n",
    "\n",
    "            # Zero all existing gradients\n",
    "            model.zero_grad()\n",
    "\n",
    "            # Calculate gradients of model in backward pass\n",
    "            loss.backward()\n",
    "\n",
    "            # Collect ``datagrad``\n",
    "            data_grad = data.grad.data\n",
    "\n",
    "            # Restore the data to its original scale\n",
    "            data_denorm = denormalize(data)\n",
    "\n",
    "            # Call FGSM Attack\n",
    "            perturbed_data = mlp_fgsm_attack(data_denorm, epsilon, data_grad)\n",
    "            noise += perturbed_data-data\n",
    "\n",
    "        # Reapply normalization\n",
    "        perturbed_data_normalized = normalize(perturbed_data)\n",
    "\n",
    "        # Re-classify the perturbed image\n",
    "        output = model(perturbed_data_normalized.flatten(1))\n",
    "\n",
    "        # Check for success\n",
    "        final_pred = output.max(1, keepdim=True)[1] # get the index of the max log-probability\n",
    "        final_pred = final_pred.squeeze(1)\n",
    "        \n",
    "        non_adv_examples.append(perturbed_data_normalized[final_pred == target])\n",
    "        non_adv_labels.append(target[final_pred == target])\n",
    "\n",
    "        adv_examples.append(perturbed_data_normalized[final_pred != target])\n",
    "        adv_labels.append(target[final_pred != target])\n",
    "\n",
    "\n",
    "    # Return the accuracy and an adversarial example\n",
    "    adv_examples = torch.cat(adv_examples)\n",
    "    adv_labels = torch.cat(adv_labels)\n",
    "\n",
    "    non_adv_examples = torch.cat(non_adv_examples)\n",
    "    non_adv_labels = torch.cat(non_adv_labels)\n",
    "\n",
    "    miss_examples = torch.cat(miss_examples)\n",
    "    miss_labels = torch.cat(miss_labels)\n",
    "\n",
    "    return adv_examples, non_adv_examples, miss_examples, adv_labels, non_adv_labels, miss_labels"
   ]
  },
  {
   "cell_type": "code",
   "execution_count": null,
   "id": "83a76db7",
   "metadata": {},
   "outputs": [],
   "source": []
  },
  {
   "cell_type": "code",
   "execution_count": 32,
   "id": "37d40c27",
   "metadata": {},
   "outputs": [],
   "source": [
    "epsilon = 0.008\n",
    "target_val = 0\n",
    "\n",
    "adv_examples, non_adv_examples, miss_examples, adv_labels, non_adv_labels, miss_labels = adv_mlp_test( \n",
    "    model, loader, epsilon, target_val, epoch=3)\n"
   ]
  },
  {
   "cell_type": "code",
   "execution_count": 33,
   "id": "4bea4a9f",
   "metadata": {},
   "outputs": [
    {
     "data": {
      "text/plain": [
       "torch.Size([411, 3, 64, 64])"
      ]
     },
     "execution_count": 33,
     "metadata": {},
     "output_type": "execute_result"
    }
   ],
   "source": [
    "adv_examples.shape"
   ]
  },
  {
   "cell_type": "code",
   "execution_count": 29,
   "id": "c50a330f",
   "metadata": {},
   "outputs": [
    {
     "data": {
      "text/plain": [
       "tensor([0, 0, 0, 0, 0, 0, 0, 0, 0, 0, 0, 0, 0, 0, 0, 0, 0, 0, 0, 0, 0, 0, 0, 0,\n",
       "        0, 0, 0, 0, 0, 0, 0, 0, 0, 0, 0, 0, 0, 0, 0, 0, 0, 0, 0, 0, 0, 0, 0, 0,\n",
       "        0, 0, 0, 0, 0, 0, 0, 0, 0, 0, 0, 0, 0, 0, 0, 0, 0, 0, 0, 0, 0, 0, 0, 0,\n",
       "        0, 0, 0, 0, 0, 0, 0, 0, 0, 0, 0, 0, 0, 0, 0, 0, 0, 0, 0, 0, 0, 0, 0, 0,\n",
       "        0, 0, 0, 0, 0, 0, 0, 0, 0, 0, 0, 0, 0, 0, 0, 0, 0, 0, 0, 0, 0, 0, 0, 0,\n",
       "        0, 0, 0, 0, 0, 0, 0, 0, 0, 0, 0, 0, 0, 0, 0, 0, 0, 0, 0, 0, 0, 0, 0, 0,\n",
       "        0, 0, 0, 0, 0, 0, 0, 0, 0, 0, 0, 0, 0, 0, 0, 0, 0, 0, 0, 0, 0, 0, 0, 0,\n",
       "        0, 0, 0, 0, 0, 0, 0, 0, 0, 0, 0, 0, 0, 0, 0, 0, 0, 0, 0, 0, 0, 0, 0, 0,\n",
       "        0, 0, 0, 0, 0, 0, 0, 0, 0, 0, 0, 0, 0, 0, 0, 0, 0, 0, 0, 0, 0, 0, 0, 0,\n",
       "        0, 0, 0, 0, 0, 0, 0, 0, 0, 0, 0, 0, 0, 0, 0, 0, 0, 0, 0, 0, 0, 0, 0, 0,\n",
       "        0, 0, 0, 0, 0, 0, 0, 0, 0, 0, 0, 0, 0, 0, 0, 0, 0, 0, 0, 0, 0, 0, 0, 0,\n",
       "        0, 0, 0, 0, 0, 0, 0, 0, 0, 0, 0, 0, 0, 0, 0, 0, 0, 0, 0, 0, 0, 0, 0, 0,\n",
       "        0, 0, 0, 0, 0, 0, 0, 0, 0, 0, 0, 0, 0, 0, 0, 0, 0, 0, 0, 0, 0, 0, 0, 0,\n",
       "        0, 0, 0, 0, 0, 0, 0, 0, 0, 0, 0, 0, 0, 0, 0, 0, 0, 0, 0, 0, 0, 0, 0, 0,\n",
       "        0, 0, 0, 0, 0, 0, 0, 0, 0, 0, 0, 0, 0, 0, 0, 0, 0, 0, 0, 0, 0, 0, 0, 0,\n",
       "        0, 0, 0, 0, 0, 0, 0, 0, 0, 0, 0, 0, 0, 0, 0, 0, 0, 0, 0, 0, 0, 0, 0, 0,\n",
       "        0, 0, 0, 0, 0, 0, 0, 0, 0, 0, 0, 0, 0, 0, 0, 0, 0, 0, 0, 0, 0, 0, 0, 0,\n",
       "        0, 0, 0])"
      ]
     },
     "execution_count": 29,
     "metadata": {},
     "output_type": "execute_result"
    }
   ],
   "source": [
    "adv_labels"
   ]
  },
  {
   "cell_type": "code",
   "execution_count": 22,
   "id": "42bb528c",
   "metadata": {},
   "outputs": [
    {
     "data": {
      "text/plain": [
       "20"
      ]
     },
     "execution_count": 22,
     "metadata": {},
     "output_type": "execute_result"
    }
   ],
   "source": [
    "loader.__len__()"
   ]
  },
  {
   "cell_type": "code",
   "execution_count": 138,
   "id": "cccbb216",
   "metadata": {},
   "outputs": [
    {
     "name": "stderr",
     "output_type": "stream",
     "text": [
      "/Users/pieroneri/opt/anaconda3/envs/dlproject/lib/python3.10/site-packages/torchvision/transforms/functional.py:1603: UserWarning: The default value of the antialias parameter of all the resizing transforms (Resize(), RandomResizedCrop(), etc.) will change from None to True in v0.17, in order to be consistent across the PIL and Tensor backends. To suppress this warning, directly pass antialias=True (recommended, future default), antialias=None (current default, which means False for Tensors and True for PIL), or antialias=False (only works on Tensors - PIL will still use antialiasing). This also applies if you are using the inference transforms from the models weights: update the call to weights.transforms(antialias=True).\n",
      "  warnings.warn(\n"
     ]
    }
   ],
   "source": [
    "mlp_adv_on_cnn = model_resnet(resize_to_32(adv_examples))"
   ]
  },
  {
   "cell_type": "code",
   "execution_count": 139,
   "id": "e6de9e97",
   "metadata": {},
   "outputs": [
    {
     "name": "stdout",
     "output_type": "stream",
     "text": [
      "torch.Size([6476, 3, 64, 64])\n",
      "torch.Size([3524, 3, 64, 64])\n",
      "torch.Size([593, 3, 64, 64])\n"
     ]
    }
   ],
   "source": [
    "print(adv_examples.shape)\n",
    "print(non_adv_examples.shape)\n",
    "print(miss_examples.shape)"
   ]
  },
  {
   "cell_type": "code",
   "execution_count": 140,
   "id": "2bcf338d",
   "metadata": {},
   "outputs": [
    {
     "data": {
      "text/plain": [
       "torch.Size([6476, 10])"
      ]
     },
     "execution_count": 140,
     "metadata": {},
     "output_type": "execute_result"
    }
   ],
   "source": [
    "mlp_adv_on_cnn.shape"
   ]
  },
  {
   "cell_type": "code",
   "execution_count": 141,
   "id": "02e1c520",
   "metadata": {},
   "outputs": [],
   "source": [
    "mlp_adv_on_cnn_labels = torch.argmax(mlp_adv_on_cnn, dim=1)"
   ]
  },
  {
   "cell_type": "code",
   "execution_count": 142,
   "id": "496882fc",
   "metadata": {},
   "outputs": [
    {
     "data": {
      "text/plain": [
       "torch.Size([6476])"
      ]
     },
     "execution_count": 142,
     "metadata": {},
     "output_type": "execute_result"
    }
   ],
   "source": [
    "mlp_adv_on_cnn_labels.shape"
   ]
  },
  {
   "cell_type": "code",
   "execution_count": 143,
   "id": "3f85fb6c",
   "metadata": {},
   "outputs": [
    {
     "data": {
      "text/plain": [
       "tensor(2174)"
      ]
     },
     "execution_count": 143,
     "metadata": {},
     "output_type": "execute_result"
    }
   ],
   "source": [
    "torch.sum(mlp_adv_on_cnn_labels==adv_labels)"
   ]
  },
  {
   "cell_type": "code",
   "execution_count": 144,
   "id": "d2f30816",
   "metadata": {},
   "outputs": [
    {
     "data": {
      "text/plain": [
       "tensor(4302)"
      ]
     },
     "execution_count": 144,
     "metadata": {},
     "output_type": "execute_result"
    }
   ],
   "source": [
    "torch.sum(mlp_adv_on_cnn_labels!=adv_labels)"
   ]
  },
  {
   "cell_type": "code",
   "execution_count": 17,
   "id": "2736b87f",
   "metadata": {},
   "outputs": [
    {
     "data": {
      "text/plain": [
       "torch.Size([500])"
      ]
     },
     "execution_count": 17,
     "metadata": {},
     "output_type": "execute_result"
    }
   ],
   "source": [
    "target.sign().shape"
   ]
  },
  {
   "cell_type": "code",
   "execution_count": 7,
   "id": "443fb8c9",
   "metadata": {},
   "outputs": [],
   "source": []
  },
  {
   "cell_type": "markdown",
   "id": "ec6024f7",
   "metadata": {},
   "source": [
    "### Test an adversarial attack on MLP:"
   ]
  },
  {
   "cell_type": "code",
   "execution_count": 8,
   "id": "5021b99a",
   "metadata": {},
   "outputs": [
    {
     "name": "stdout",
     "output_type": "stream",
     "text": [
      "True label: 6\n",
      "Prediction BEFORE attack: 6\n",
      "Prediction AFTER attack: 2\n"
     ]
    }
   ],
   "source": [
    "# Specify an epsilon between 0 and 1. The smaller the epsilon, the less visible is the noise layer\n",
    "epsilon = 0.008\n",
    "\n",
    "# Choose an image number in the CIFAR10 dataset\n",
    "img_nr = 4\n",
    "\n",
    "pic_and_label = cifar10_dataset[img_nr]\n",
    "pic = denormalize(pic_and_label[0].clone())\n",
    "\n",
    "# Perform attack\n",
    "perturbed_pic =  adversarial_attack(model, pic_and_label, epsilon)"
   ]
  },
  {
   "cell_type": "markdown",
   "id": "cbe63278",
   "metadata": {},
   "source": [
    "#### Plot original image vs noise perturbed image:"
   ]
  },
  {
   "cell_type": "code",
   "execution_count": 9,
   "id": "b2e8a2b8",
   "metadata": {},
   "outputs": [
    {
     "data": {
      "image/png": "[encoded data removed]",
      "text/plain": [
       "<Figure size 1000x500 with 2 Axes>"
      ]
     },
     "metadata": {},
     "output_type": "display_data"
    }
   ],
   "source": [
    "pic_plot = np.transpose(pic.numpy(), (1, 2, 0))\n",
    "perturbed_pic_plot = np.transpose(perturbed_pic.detach().numpy().squeeze(), (1, 2, 0))\n",
    "\n",
    "fig, axarr = plt.subplots(1, 2, figsize=(10, 5))\n",
    "\n",
    "axarr[0].imshow(pic_plot)\n",
    "axarr[0].set_title('Original image')\n",
    "\n",
    "axarr[1].imshow(perturbed_pic_plot)\n",
    "axarr[1].set_title('Perturbed image')\n",
    "\n",
    "for ax in axarr:\n",
    "    ax.axis('off')\n",
    "\n",
    "plt.show()"
   ]
  },
  {
   "cell_type": "markdown",
   "id": "98937a90",
   "metadata": {},
   "source": [
    "# Adversarial attack CNN"
   ]
  },
  {
   "cell_type": "markdown",
   "id": "b87bbc2a",
   "metadata": {},
   "source": [
    "### Import dataset and normalize images"
   ]
  },
  {
   "cell_type": "code",
   "execution_count": 41,
   "id": "1e4b4c82",
   "metadata": {},
   "outputs": [
    {
     "name": "stdout",
     "output_type": "stream",
     "text": [
      "Files already downloaded and verified\n"
     ]
    }
   ],
   "source": [
    "mean = (0.4914, 0.4822, 0.4465)\n",
    "std = (0.2471, 0.2435, 0.2616)\n",
    "\n",
    "transform = transforms.Compose([\n",
    "    transforms.ToTensor(),\n",
    "    transforms.Normalize(mean, std),\n",
    "])\n",
    "\n",
    "cifar10_dataset = datasets.CIFAR10(root='./data', train=False, download=True, transform=transform)\n",
    "test_loader = DataLoader(cifar10_dataset,500)"
   ]
  },
  {
   "cell_type": "markdown",
   "id": "ada9a782",
   "metadata": {},
   "source": [
    "### Initialize model"
   ]
  },
  {
   "cell_type": "code",
   "execution_count": 95,
   "id": "3b8f5af4",
   "metadata": {},
   "outputs": [
    {
     "data": {
      "text/plain": [
       "ResNet(\n",
       "  (conv1): Conv2d(3, 64, kernel_size=(3, 3), stride=(1, 1), padding=(1, 1), bias=False)\n",
       "  (bn1): BatchNorm2d(64, eps=1e-05, momentum=0.1, affine=True, track_running_stats=True)\n",
       "  (relu): ReLU(inplace=True)\n",
       "  (maxpool): MaxPool2d(kernel_size=3, stride=2, padding=1, dilation=1, ceil_mode=False)\n",
       "  (layer1): Sequential(\n",
       "    (0): BasicBlock(\n",
       "      (conv1): Conv2d(64, 64, kernel_size=(3, 3), stride=(1, 1), padding=(1, 1), bias=False)\n",
       "      (bn1): BatchNorm2d(64, eps=1e-05, momentum=0.1, affine=True, track_running_stats=True)\n",
       "      (relu): ReLU(inplace=True)\n",
       "      (conv2): Conv2d(64, 64, kernel_size=(3, 3), stride=(1, 1), padding=(1, 1), bias=False)\n",
       "      (bn2): BatchNorm2d(64, eps=1e-05, momentum=0.1, affine=True, track_running_stats=True)\n",
       "    )\n",
       "    (1): BasicBlock(\n",
       "      (conv1): Conv2d(64, 64, kernel_size=(3, 3), stride=(1, 1), padding=(1, 1), bias=False)\n",
       "      (bn1): BatchNorm2d(64, eps=1e-05, momentum=0.1, affine=True, track_running_stats=True)\n",
       "      (relu): ReLU(inplace=True)\n",
       "      (conv2): Conv2d(64, 64, kernel_size=(3, 3), stride=(1, 1), padding=(1, 1), bias=False)\n",
       "      (bn2): BatchNorm2d(64, eps=1e-05, momentum=0.1, affine=True, track_running_stats=True)\n",
       "    )\n",
       "  )\n",
       "  (layer2): Sequential(\n",
       "    (0): BasicBlock(\n",
       "      (conv1): Conv2d(64, 128, kernel_size=(3, 3), stride=(2, 2), padding=(1, 1), bias=False)\n",
       "      (bn1): BatchNorm2d(128, eps=1e-05, momentum=0.1, affine=True, track_running_stats=True)\n",
       "      (relu): ReLU(inplace=True)\n",
       "      (conv2): Conv2d(128, 128, kernel_size=(3, 3), stride=(1, 1), padding=(1, 1), bias=False)\n",
       "      (bn2): BatchNorm2d(128, eps=1e-05, momentum=0.1, affine=True, track_running_stats=True)\n",
       "      (downsample): Sequential(\n",
       "        (0): Conv2d(64, 128, kernel_size=(1, 1), stride=(2, 2), bias=False)\n",
       "        (1): BatchNorm2d(128, eps=1e-05, momentum=0.1, affine=True, track_running_stats=True)\n",
       "      )\n",
       "    )\n",
       "    (1): BasicBlock(\n",
       "      (conv1): Conv2d(128, 128, kernel_size=(3, 3), stride=(1, 1), padding=(1, 1), bias=False)\n",
       "      (bn1): BatchNorm2d(128, eps=1e-05, momentum=0.1, affine=True, track_running_stats=True)\n",
       "      (relu): ReLU(inplace=True)\n",
       "      (conv2): Conv2d(128, 128, kernel_size=(3, 3), stride=(1, 1), padding=(1, 1), bias=False)\n",
       "      (bn2): BatchNorm2d(128, eps=1e-05, momentum=0.1, affine=True, track_running_stats=True)\n",
       "    )\n",
       "  )\n",
       "  (layer3): Sequential(\n",
       "    (0): BasicBlock(\n",
       "      (conv1): Conv2d(128, 256, kernel_size=(3, 3), stride=(2, 2), padding=(1, 1), bias=False)\n",
       "      (bn1): BatchNorm2d(256, eps=1e-05, momentum=0.1, affine=True, track_running_stats=True)\n",
       "      (relu): ReLU(inplace=True)\n",
       "      (conv2): Conv2d(256, 256, kernel_size=(3, 3), stride=(1, 1), padding=(1, 1), bias=False)\n",
       "      (bn2): BatchNorm2d(256, eps=1e-05, momentum=0.1, affine=True, track_running_stats=True)\n",
       "      (downsample): Sequential(\n",
       "        (0): Conv2d(128, 256, kernel_size=(1, 1), stride=(2, 2), bias=False)\n",
       "        (1): BatchNorm2d(256, eps=1e-05, momentum=0.1, affine=True, track_running_stats=True)\n",
       "      )\n",
       "    )\n",
       "    (1): BasicBlock(\n",
       "      (conv1): Conv2d(256, 256, kernel_size=(3, 3), stride=(1, 1), padding=(1, 1), bias=False)\n",
       "      (bn1): BatchNorm2d(256, eps=1e-05, momentum=0.1, affine=True, track_running_stats=True)\n",
       "      (relu): ReLU(inplace=True)\n",
       "      (conv2): Conv2d(256, 256, kernel_size=(3, 3), stride=(1, 1), padding=(1, 1), bias=False)\n",
       "      (bn2): BatchNorm2d(256, eps=1e-05, momentum=0.1, affine=True, track_running_stats=True)\n",
       "    )\n",
       "  )\n",
       "  (layer4): Sequential(\n",
       "    (0): BasicBlock(\n",
       "      (conv1): Conv2d(256, 512, kernel_size=(3, 3), stride=(2, 2), padding=(1, 1), bias=False)\n",
       "      (bn1): BatchNorm2d(512, eps=1e-05, momentum=0.1, affine=True, track_running_stats=True)\n",
       "      (relu): ReLU(inplace=True)\n",
       "      (conv2): Conv2d(512, 512, kernel_size=(3, 3), stride=(1, 1), padding=(1, 1), bias=False)\n",
       "      (bn2): BatchNorm2d(512, eps=1e-05, momentum=0.1, affine=True, track_running_stats=True)\n",
       "      (downsample): Sequential(\n",
       "        (0): Conv2d(256, 512, kernel_size=(1, 1), stride=(2, 2), bias=False)\n",
       "        (1): BatchNorm2d(512, eps=1e-05, momentum=0.1, affine=True, track_running_stats=True)\n",
       "      )\n",
       "    )\n",
       "    (1): BasicBlock(\n",
       "      (conv1): Conv2d(512, 512, kernel_size=(3, 3), stride=(1, 1), padding=(1, 1), bias=False)\n",
       "      (bn1): BatchNorm2d(512, eps=1e-05, momentum=0.1, affine=True, track_running_stats=True)\n",
       "      (relu): ReLU(inplace=True)\n",
       "      (conv2): Conv2d(512, 512, kernel_size=(3, 3), stride=(1, 1), padding=(1, 1), bias=False)\n",
       "      (bn2): BatchNorm2d(512, eps=1e-05, momentum=0.1, affine=True, track_running_stats=True)\n",
       "    )\n",
       "  )\n",
       "  (avgpool): AdaptiveAvgPool2d(output_size=(1, 1))\n",
       "  (fc): Linear(in_features=512, out_features=10, bias=True)\n",
       ")"
      ]
     },
     "execution_count": 95,
     "metadata": {},
     "output_type": "execute_result"
    }
   ],
   "source": [
    "from cifar10_models.resnet import *\n",
    "model_resnet = resnet18()\n",
    "\n",
    "# Use the weights of the resnet18 model trained on CIFAR10\n",
    "weights = torch.load('state_dicts/resnet18.pt')\n",
    "model_resnet.load_state_dict(weights)\n",
    "\n",
    "model_resnet.eval()"
   ]
  },
  {
   "cell_type": "markdown",
   "id": "3fe793f7",
   "metadata": {},
   "source": [
    "### Adversarial attack implementation\n",
    "Folowing this useful guide: https://pytorch.org/tutorials/beginner/fgsm_tutorial.html"
   ]
  },
  {
   "cell_type": "code",
   "execution_count": 109,
   "id": "0ad8f0f0",
   "metadata": {},
   "outputs": [],
   "source": [
    "# FGSM attack code\n",
    "def cnn_fgsm_attack(image, epsilon, pic_grad):\n",
    "    \n",
    "    # Collect the element-wise sign of the data gradient\n",
    "    sign_data_grad = pic_grad.sign()\n",
    "\n",
    "    # Create the perturbed image by adjusting each pixel of the input image\n",
    "    perturbed_image = image + epsilon*sign_data_grad\n",
    "\n",
    "    perturbed_image = torch.clamp(perturbed_image, 0, 1)\n",
    "\n",
    "    return perturbed_image\n",
    "\n",
    "\n",
    "denormalize = transforms.Compose([\n",
    "    transforms.Normalize((-mean[0] / std[0], -mean[1] / std[1], -mean[2] / std[2]), (1 / std[0], 1 / std[1], 1 / std[2])),\n",
    "])\n",
    "\n",
    "normalize = transforms.Compose([\n",
    "    transforms.Normalize(mean, std),\n",
    "])\n",
    "\n",
    "resize_to_64 = transforms.Compose([\n",
    "    transforms.Resize((crop_resolution, crop_resolution)),\n",
    "])"
   ]
  },
  {
   "cell_type": "code",
   "execution_count": 53,
   "id": "a052d4b2",
   "metadata": {},
   "outputs": [],
   "source": []
  },
  {
   "cell_type": "code",
   "execution_count": 78,
   "id": "758d57df",
   "metadata": {},
   "outputs": [],
   "source": [
    "test_loader\n",
    "epsilon = 0.1"
   ]
  },
  {
   "cell_type": "code",
   "execution_count": 1,
   "id": "6f669a90",
   "metadata": {},
   "outputs": [],
   "source": [
    "def adv_cnn_test( model, test_loader, epsilon ):\n",
    "\n",
    "    # Accuracy counter\n",
    "    correct = 0\n",
    "    adv_examples = []\n",
    "    adv_labels = []\n",
    "\n",
    "    non_adv_examples = []\n",
    "    non_adv_labels = []\n",
    "\n",
    "    miss_examples = []\n",
    "    miss_labels = []\n",
    "\n",
    "    # Loop over all examples in test set\n",
    "    for data, target in test_loader:\n",
    "\n",
    "        # Set requires_grad attribute of tensor. Important for Attack\n",
    "        data.requires_grad = True\n",
    "\n",
    "        # Forward pass the data through the model\n",
    "        output = model(data)\n",
    "        init_pred = output.max(1, keepdim=True)[1] # get the index of the max log-probability\n",
    "        init_pred = init_pred.squeeze(1)\n",
    "\n",
    "        # If the initial prediction is wrong, don't bother attacking, just move on\n",
    "        # if init_pred.item() != target.item():\n",
    "        \n",
    "        miss_examples.append(data[init_pred != target])\n",
    "        miss_labels.append(target[init_pred != target])\n",
    "            # continue\n",
    "\n",
    "        # Calculate the loss\n",
    "        loss = F.nll_loss(output, target)\n",
    "\n",
    "        # Zero all existing gradients\n",
    "        model.zero_grad()\n",
    "\n",
    "        # Calculate gradients of model in backward pass\n",
    "        loss.backward()\n",
    "\n",
    "        # Collect ``datagrad``\n",
    "        data_grad = data.grad.data\n",
    "\n",
    "        # Restore the data to its original scale\n",
    "        data_denorm = denormalize(data)\n",
    "\n",
    "        # Call FGSM Attack\n",
    "        perturbed_data = cnn_fgsm_attack(data_denorm, epsilon, data_grad)\n",
    "\n",
    "        # Reapply normalization\n",
    "        perturbed_data_normalized = normalize(perturbed_data)\n",
    "\n",
    "        # Re-classify the perturbed image\n",
    "        output = model(perturbed_data_normalized)\n",
    "\n",
    "        # Check for success\n",
    "        final_pred = output.max(1, keepdim=True)[1] # get the index of the max log-probability\n",
    "        final_pred = final_pred.squeeze(1)\n",
    "        \n",
    "        non_adv_examples.append(perturbed_data_normalized[final_pred == target])\n",
    "        non_adv_labels.append(target[final_pred == target])\n",
    "\n",
    "        adv_examples.append(perturbed_data_normalized[final_pred != target])\n",
    "        adv_labels.append(target[final_pred != target])\n",
    "\n",
    "\n",
    "    # Return the accuracy and an adversarial example\n",
    "    adv_examples = torch.cat(adv_examples)\n",
    "    adv_labels = torch.cat(adv_labels)\n",
    "\n",
    "    non_adv_examples = torch.cat(non_adv_examples)\n",
    "    non_adv_labels = torch.cat(non_adv_labels)\n",
    "\n",
    "    miss_examples = torch.cat(miss_examples)\n",
    "    miss_labels = torch.cat(miss_labels)\n",
    "\n",
    "    return adv_examples, non_adv_examples, miss_examples, adv_labels, non_adv_labels, miss_labels"
   ]
  },
  {
   "cell_type": "code",
   "execution_count": null,
   "id": "31aaf6b4",
   "metadata": {},
   "outputs": [],
   "source": []
  },
  {
   "cell_type": "code",
   "execution_count": null,
   "id": "3b62484e",
   "metadata": {},
   "outputs": [],
   "source": []
  },
  {
   "cell_type": "code",
   "execution_count": 87,
   "id": "1b7bf1c1",
   "metadata": {},
   "outputs": [
    {
     "data": {
      "text/plain": [
       "torch.Size([8120, 3, 32, 32])"
      ]
     },
     "execution_count": 87,
     "metadata": {},
     "output_type": "execute_result"
    }
   ],
   "source": [
    "adv_examples.shape"
   ]
  },
  {
   "cell_type": "code",
   "execution_count": 88,
   "id": "e4571ed0",
   "metadata": {},
   "outputs": [
    {
     "data": {
      "text/plain": [
       "torch.Size([8120])"
      ]
     },
     "execution_count": 88,
     "metadata": {},
     "output_type": "execute_result"
    }
   ],
   "source": [
    "adv_labels.shape"
   ]
  },
  {
   "cell_type": "code",
   "execution_count": 89,
   "id": "e6f13f9e",
   "metadata": {},
   "outputs": [
    {
     "data": {
      "text/plain": [
       "torch.Size([1880, 3, 32, 32])"
      ]
     },
     "execution_count": 89,
     "metadata": {},
     "output_type": "execute_result"
    }
   ],
   "source": [
    "non_adv_examples.shape"
   ]
  },
  {
   "cell_type": "code",
   "execution_count": 90,
   "id": "bfde8f38",
   "metadata": {},
   "outputs": [
    {
     "data": {
      "text/plain": [
       "torch.Size([1880])"
      ]
     },
     "execution_count": 90,
     "metadata": {},
     "output_type": "execute_result"
    }
   ],
   "source": [
    "non_adv_labels.shape"
   ]
  },
  {
   "cell_type": "code",
   "execution_count": 86,
   "id": "cd959330",
   "metadata": {},
   "outputs": [
    {
     "data": {
      "text/plain": [
       "torch.Size([693, 3, 32, 32])"
      ]
     },
     "execution_count": 86,
     "metadata": {},
     "output_type": "execute_result"
    }
   ],
   "source": [
    "miss_examples.shape"
   ]
  },
  {
   "cell_type": "code",
   "execution_count": 91,
   "id": "1dbf2d30",
   "metadata": {},
   "outputs": [
    {
     "data": {
      "text/plain": [
       "torch.Size([693])"
      ]
     },
     "execution_count": 91,
     "metadata": {},
     "output_type": "execute_result"
    }
   ],
   "source": [
    "miss_labels.shape"
   ]
  },
  {
   "cell_type": "code",
   "execution_count": null,
   "id": "cf7e2bfb",
   "metadata": {},
   "outputs": [],
   "source": []
  },
  {
   "cell_type": "code",
   "execution_count": 104,
   "id": "cfee723e",
   "metadata": {},
   "outputs": [
    {
     "data": {
      "text/plain": [
       "torch.Size([500])"
      ]
     },
     "execution_count": 104,
     "metadata": {},
     "output_type": "execute_result"
    }
   ],
   "source": [
    "init_pred.shape"
   ]
  },
  {
   "cell_type": "code",
   "execution_count": 110,
   "id": "e446e199",
   "metadata": {},
   "outputs": [
    {
     "data": {
      "text/plain": [
       "torch.Size([8120, 3, 32, 32])"
      ]
     },
     "execution_count": 110,
     "metadata": {},
     "output_type": "execute_result"
    }
   ],
   "source": [
    "adv_examples.shape"
   ]
  },
  {
   "cell_type": "code",
   "execution_count": 112,
   "id": "c049bc9f",
   "metadata": {},
   "outputs": [
    {
     "name": "stderr",
     "output_type": "stream",
     "text": [
      "/Users/pieroneri/opt/anaconda3/envs/dlproject/lib/python3.10/site-packages/torchvision/transforms/functional.py:1603: UserWarning: The default value of the antialias parameter of all the resizing transforms (Resize(), RandomResizedCrop(), etc.) will change from None to True in v0.17, in order to be consistent across the PIL and Tensor backends. To suppress this warning, directly pass antialias=True (recommended, future default), antialias=None (current default, which means False for Tensors and True for PIL), or antialias=False (only works on Tensors - PIL will still use antialiasing). This also applies if you are using the inference transforms from the models weights: update the call to weights.transforms(antialias=True).\n",
      "  warnings.warn(\n"
     ]
    },
    {
     "data": {
      "text/plain": [
       "torch.Size([8120, 3, 64, 64])"
      ]
     },
     "execution_count": 112,
     "metadata": {},
     "output_type": "execute_result"
    }
   ],
   "source": [
    "resize_to_64(adv_examples).shape"
   ]
  },
  {
   "cell_type": "code",
   "execution_count": 107,
   "id": "e8390c64",
   "metadata": {},
   "outputs": [
    {
     "data": {
      "text/plain": [
       "torch.Size([8120, 3072])"
      ]
     },
     "execution_count": 107,
     "metadata": {},
     "output_type": "execute_result"
    }
   ],
   "source": [
    "adv_examples.flatten(1).shape"
   ]
  },
  {
   "cell_type": "code",
   "execution_count": 114,
   "id": "7a169021",
   "metadata": {},
   "outputs": [
    {
     "name": "stderr",
     "output_type": "stream",
     "text": [
      "/Users/pieroneri/opt/anaconda3/envs/dlproject/lib/python3.10/site-packages/torchvision/transforms/functional.py:1603: UserWarning: The default value of the antialias parameter of all the resizing transforms (Resize(), RandomResizedCrop(), etc.) will change from None to True in v0.17, in order to be consistent across the PIL and Tensor backends. To suppress this warning, directly pass antialias=True (recommended, future default), antialias=None (current default, which means False for Tensors and True for PIL), or antialias=False (only works on Tensors - PIL will still use antialiasing). This also applies if you are using the inference transforms from the models weights: update the call to weights.transforms(antialias=True).\n",
      "  warnings.warn(\n"
     ]
    }
   ],
   "source": [
    "cnn_adv_on_mlp = model(resize_to_64(adv_examples).flatten(1))"
   ]
  },
  {
   "cell_type": "code",
   "execution_count": 119,
   "id": "5fd2d4ec",
   "metadata": {},
   "outputs": [],
   "source": [
    "cnn_adv_on_mlp_labels = torch.argmax(cnn_adv_on_mlp, dim=1)\n"
   ]
  },
  {
   "cell_type": "code",
   "execution_count": 122,
   "id": "83ffe435",
   "metadata": {},
   "outputs": [
    {
     "data": {
      "text/plain": [
       "tensor(4359)"
      ]
     },
     "execution_count": 122,
     "metadata": {},
     "output_type": "execute_result"
    }
   ],
   "source": [
    "torch.sum(cnn_adv_on_mlp_labels == adv_labels)"
   ]
  },
  {
   "cell_type": "code",
   "execution_count": 123,
   "id": "b549a982",
   "metadata": {},
   "outputs": [
    {
     "data": {
      "text/plain": [
       "tensor(3761)"
      ]
     },
     "execution_count": 123,
     "metadata": {},
     "output_type": "execute_result"
    }
   ],
   "source": [
    "torch.sum(cnn_adv_on_mlp_labels != adv_labels)"
   ]
  },
  {
   "cell_type": "code",
   "execution_count": 120,
   "id": "907570b7",
   "metadata": {},
   "outputs": [
    {
     "data": {
      "text/plain": [
       "torch.Size([8120])"
      ]
     },
     "execution_count": 120,
     "metadata": {},
     "output_type": "execute_result"
    }
   ],
   "source": [
    "cnn_adv_on_mlp_labels.shape"
   ]
  },
  {
   "cell_type": "code",
   "execution_count": 117,
   "id": "fd4a67b2",
   "metadata": {},
   "outputs": [
    {
     "data": {
      "text/plain": [
       "torch.Size([8120, 10])"
      ]
     },
     "execution_count": 117,
     "metadata": {},
     "output_type": "execute_result"
    }
   ],
   "source": [
    "cnn_adv_on_mlp.shape"
   ]
  },
  {
   "cell_type": "code",
   "execution_count": null,
   "id": "f9f4f343",
   "metadata": {},
   "outputs": [],
   "source": []
  },
  {
   "cell_type": "markdown",
   "id": "228604b3",
   "metadata": {},
   "source": [
    "### Test an adversarial attack"
   ]
  },
  {
   "cell_type": "code",
   "execution_count": 14,
   "id": "ea52e5f7",
   "metadata": {},
   "outputs": [
    {
     "name": "stdout",
     "output_type": "stream",
     "text": [
      "True label: 6\n",
      "Prediction BEFORE attack: 6\n",
      "Prediction AFTER attack: 2\n"
     ]
    }
   ],
   "source": [
    "# Specify an epsilon between 0 and 1. The smaller the epsilon, the less visible is the noise layer\n",
    "epsilon = 0.019\n",
    "\n",
    "# Choose an image number in the CIFAR10 dataset\n",
    "img_nr = 4\n",
    "\n",
    "pic_and_label = cifar10_dataset[img_nr]\n",
    "pic = denormalize(pic_and_label[0].clone())\n",
    "\n",
    "# Perform attack\n",
    "perturbed_pic =  adversarial_attack(model, pic_and_label, epsilon)"
   ]
  },
  {
   "cell_type": "markdown",
   "id": "7b67e479",
   "metadata": {},
   "source": [
    "#### Plot original image vs noise perturbed image:"
   ]
  },
  {
   "cell_type": "code",
   "execution_count": 15,
   "id": "bca0d5a3",
   "metadata": {},
   "outputs": [
    {
     "data": {
      "image/png": "[encoded data removed]",
      "text/plain": [
       "<Figure size 1000x500 with 2 Axes>"
      ]
     },
     "metadata": {},
     "output_type": "display_data"
    }
   ],
   "source": [
    "pic_plot = np.transpose(pic.numpy(), (1, 2, 0))\n",
    "perturbed_pic_plot = np.transpose(perturbed_pic.detach().numpy().squeeze(), (1, 2, 0))\n",
    "\n",
    "fig, axarr = plt.subplots(1, 2, figsize=(10, 5))\n",
    "\n",
    "axarr[0].imshow(pic_plot)\n",
    "axarr[0].set_title('Original image')\n",
    "\n",
    "axarr[1].imshow(perturbed_pic_plot)\n",
    "axarr[1].set_title('Perturbed image')\n",
    "\n",
    "for ax in axarr:\n",
    "    ax.axis('off')\n",
    "\n",
    "plt.show()\n"
   ]
  }
 ],
 "metadata": {
  "kernelspec": {
   "display_name": "Python 3 (ipykernel)",
   "language": "python",
   "name": "python3"
  },
  "language_info": {
   "codemirror_mode": {
    "name": "ipython",
    "version": 3
   },
   "file_extension": ".py",
   "mimetype": "text/x-python",
   "name": "python",
   "nbconvert_exporter": "python",
   "pygments_lexer": "ipython3",
   "version": "3.10.12"
  }
 },
 "nbformat": 4,
 "nbformat_minor": 5
}
