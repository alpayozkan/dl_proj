{
 "cells": [
  {
   "cell_type": "code",
   "execution_count": 1,
   "id": "d76cb747-4315-403c-8c60-bc837c7299fc",
   "metadata": {},
   "outputs": [
    {
     "name": "stderr",
     "output_type": "stream",
     "text": [
      "/cluster/courses/deep_learning/jupyter/lib/python3.10/site-packages/tqdm/auto.py:21: TqdmWarning: IProgress not found. Please update jupyter and ipywidgets. See https://ipywidgets.readthedocs.io/en/stable/user_install.html\n",
      "  from .autonotebook import tqdm as notebook_tqdm\n"
     ]
    }
   ],
   "source": [
    "# imports\n",
    "import torch\n",
    "import torch.nn as nn\n",
    "from torch.nn import CrossEntropyLoss\n",
    "from torchvision import datasets, transforms\n",
    "from torch.utils.data import DataLoader\n",
    "from utils.metrics import topk_acc, real_acc, AverageMeter\n",
    "\n",
    "from models.networks import get_model\n",
    "from data_utils.data_stats import *\n",
    "\n",
    "import matplotlib.pyplot as plt\n"
   ]
  },
  {
   "cell_type": "code",
   "execution_count": null,
   "id": "11f08c54-e4cb-4e62-bd12-1b95f8c4cf2f",
   "metadata": {},
   "outputs": [],
   "source": []
  },
  {
   "cell_type": "code",
   "execution_count": null,
   "id": "fce9a937-0363-4a31-a7ce-5c026d0c8773",
   "metadata": {},
   "outputs": [],
   "source": []
  },
  {
   "cell_type": "code",
   "execution_count": 4,
   "id": "27b57bbd-317a-4877-99bc-4c4790505d34",
   "metadata": {},
   "outputs": [],
   "source": [
    "dataset = 'cifar10'                 # One of cifar10, cifar100, stl10, imagenet or imagenet21\n",
    "architecture = 'B_12-Wi_1024'\n",
    "data_resolution = 32                # Resolution of data as it is stored\n",
    "crop_resolution = 64                # Resolution of fine-tuned model (64 for all models we provide)\n",
    "num_classes = CLASS_DICT[dataset]\n",
    "#data_path = './beton/'\n",
    "eval_batch_size = 1024\n",
    "checkpoint = 'in21k_cifar10'        # This means you want the network pre-trained on ImageNet21k and finetuned on CIFAR10"
   ]
  },
  {
   "cell_type": "code",
   "execution_count": 5,
   "id": "b9e058c1-839e-4bf0-b11a-4fcecfd993d2",
   "metadata": {},
   "outputs": [
    {
     "name": "stdout",
     "output_type": "stream",
     "text": [
      "Weights already downloaded\n",
      "Load_state output <All keys matched successfully>\n"
     ]
    },
    {
     "data": {
      "text/plain": [
       "BottleneckMLP(\n",
       "  (linear_in): Linear(in_features=12288, out_features=1024, bias=True)\n",
       "  (linear_out): Linear(in_features=1024, out_features=10, bias=True)\n",
       "  (blocks): ModuleList(\n",
       "    (0-11): 12 x BottleneckBlock(\n",
       "      (block): Sequential(\n",
       "        (0): Linear(in_features=1024, out_features=4096, bias=True)\n",
       "        (1): GELU(approximate='none')\n",
       "        (2): Linear(in_features=4096, out_features=1024, bias=True)\n",
       "      )\n",
       "    )\n",
       "  )\n",
       "  (layernorms): ModuleList(\n",
       "    (0-11): 12 x LayerNorm((1024,), eps=1e-05, elementwise_affine=True)\n",
       "  )\n",
       ")"
      ]
     },
     "execution_count": 5,
     "metadata": {},
     "output_type": "execute_result"
    }
   ],
   "source": [
    "# TODO: Do not forget to choose GPU as runtime\n",
    "torch.backends.cuda.matmul.allow_tf32 = True\n",
    "device = torch.device(\"cuda:0\" if torch.cuda.is_available() else \"cpu\")\n",
    "\n",
    "# TODO: Create a folder called 'checkpoints'. It is already included in the .gitignore file\n",
    "# Define the model and specify the pre-trained weights\n",
    "model = get_model(architecture=architecture, resolution=crop_resolution, num_classes=num_classes, checkpoint=checkpoint)\n",
    "model.cuda()"
   ]
  },
  {
   "cell_type": "code",
   "execution_count": 10,
   "id": "a4566f22-4459-45cd-9cf3-608a64b4580b",
   "metadata": {},
   "outputs": [
    {
     "data": {
      "text/plain": [
       "torch.Size([12288])"
      ]
     },
     "execution_count": 10,
     "metadata": {},
     "output_type": "execute_result"
    }
   ],
   "source": [
    "x = torch.randn(1, 3, 64, 64)\n",
    "x = x.flatten()\n",
    "x.shape"
   ]
  },
  {
   "cell_type": "code",
   "execution_count": null,
   "id": "eab64cc3-5d61-418a-9f94-1e19b81d6609",
   "metadata": {},
   "outputs": [],
   "source": []
  },
  {
   "cell_type": "code",
   "execution_count": 11,
   "id": "e0f80b49-504e-4109-8b57-f001d7634241",
   "metadata": {},
   "outputs": [],
   "source": [
    "x_c = nn.parameter.Parameter(torch.randn(3,64,64))"
   ]
  },
  {
   "cell_type": "code",
   "execution_count": 12,
   "id": "2ae2f929-9f5e-4d6d-a53b-b82ad8fc273f",
   "metadata": {},
   "outputs": [
    {
     "data": {
      "text/plain": [
       "<generator object Module.parameters at 0x150e3005ca50>"
      ]
     },
     "execution_count": 12,
     "metadata": {},
     "output_type": "execute_result"
    }
   ],
   "source": [
    "model.parameters()"
   ]
  },
  {
   "cell_type": "code",
   "execution_count": null,
   "id": "6890cb88-d446-4510-b752-fd998a90259a",
   "metadata": {},
   "outputs": [],
   "source": []
  },
  {
   "cell_type": "code",
   "execution_count": 23,
   "id": "b2c9b0cc-6b44-45a2-88a8-5074912fcd9a",
   "metadata": {},
   "outputs": [],
   "source": []
  },
  {
   "cell_type": "code",
   "execution_count": null,
   "id": "155f9914-9b87-408b-b9f1-e31f0c7e8ee0",
   "metadata": {},
   "outputs": [],
   "source": []
  },
  {
   "cell_type": "code",
   "execution_count": 14,
   "id": "7d98806c-146f-4794-a90e-2f5e9378a6b9",
   "metadata": {},
   "outputs": [
    {
     "name": "stdout",
     "output_type": "stream",
     "text": [
      "Files already downloaded and verified\n"
     ]
    }
   ],
   "source": [
    "# calculate mean for the train set\n",
    "\n",
    "transform = transforms.Compose([\n",
    "    transforms.Resize((crop_resolution, crop_resolution)),\n",
    "    transforms.ToTensor(),\n",
    "])\n",
    "\n",
    "cifar10_dataset = datasets.CIFAR10(root='./data', train=True, download=True, transform=transform)\n",
    "loader = DataLoader(cifar10_dataset, batch_size=1000, shuffle=True)\n",
    "\n",
    "\n",
    "cifar10_classes = [\n",
    "    'airplane', 'automobile', 'bird', 'cat', 'deer',\n",
    "    'dog', 'frog', 'horse', 'ship', 'truck'\n",
    "]"
   ]
  },
  {
   "cell_type": "code",
   "execution_count": 29,
   "id": "d7761d3a-bd87-450a-ad51-1d83ae0bb90d",
   "metadata": {},
   "outputs": [],
   "source": [
    "\n",
    "num_class = 10\n",
    "cmeans = [[] for i in range(num_class)]\n",
    "\n",
    "for x,y in loader:\n",
    "    for c in range(num_class):\n",
    "        cmeans[c].append(x[y==c])\n"
   ]
  },
  {
   "cell_type": "code",
   "execution_count": 31,
   "id": "69419235-60e4-4d46-a3b7-d4889d6bb0d4",
   "metadata": {
    "scrolled": true
   },
   "outputs": [
    {
     "data": {
      "text/plain": [
       "50"
      ]
     },
     "execution_count": 31,
     "metadata": {},
     "output_type": "execute_result"
    }
   ],
   "source": [
    "len(cmeans[0])"
   ]
  },
  {
   "cell_type": "code",
   "execution_count": 34,
   "id": "7528ee30-b636-455e-a70b-19c0c7c6d069",
   "metadata": {},
   "outputs": [
    {
     "data": {
      "text/plain": [
       "torch.Size([3, 64, 64])"
      ]
     },
     "execution_count": 34,
     "metadata": {},
     "output_type": "execute_result"
    }
   ],
   "source": [
    "torch.cat(cmeans[0]).mean(dim=0).shape"
   ]
  },
  {
   "cell_type": "code",
   "execution_count": 134,
   "id": "01fa8e0d-440d-4355-bfcd-1674be5b24e4",
   "metadata": {},
   "outputs": [],
   "source": [
    "clist = [torch.cat(cmeans[i]).mean(dim=0) for i in range(num_class)]"
   ]
  },
  {
   "cell_type": "code",
   "execution_count": 135,
   "id": "a92ea90d-3f5e-4de7-a682-ac89a6b31b3b",
   "metadata": {},
   "outputs": [
    {
     "data": {
      "text/plain": [
       "10"
      ]
     },
     "execution_count": 135,
     "metadata": {},
     "output_type": "execute_result"
    }
   ],
   "source": [
    "len(clist)"
   ]
  },
  {
   "cell_type": "code",
   "execution_count": 52,
   "id": "586a1b62-ec97-4b06-9a69-d4a064af0d50",
   "metadata": {},
   "outputs": [],
   "source": [
    "import matplotlib.pyplot as plt"
   ]
  },
  {
   "cell_type": "code",
   "execution_count": 136,
   "id": "8bc12ecc-79cb-4751-b48c-782d2ce56bf7",
   "metadata": {},
   "outputs": [
    {
     "data": {
      "text/plain": [
       "<matplotlib.image.AxesImage at 0x150e3a33a7d0>"
      ]
     },
     "execution_count": 136,
     "metadata": {},
     "output_type": "execute_result"
    },
    {
     "data": {
      "image/png": "[encoded data removed]",
      "text/plain": [
       "<Figure size 640x480 with 1 Axes>"
      ]
     },
     "metadata": {},
     "output_type": "display_data"
    }
   ],
   "source": [
    "plt.imshow(clist[9].numpy().transpose(1,2,0))"
   ]
  },
  {
   "cell_type": "code",
   "execution_count": null,
   "id": "c3ca597b-a518-46fa-89c6-98547bc08445",
   "metadata": {},
   "outputs": [],
   "source": []
  },
  {
   "cell_type": "code",
   "execution_count": 137,
   "id": "5f822825-b43c-49a4-855f-be77b6e1027d",
   "metadata": {},
   "outputs": [
    {
     "data": {
      "text/plain": [
       "10"
      ]
     },
     "execution_count": 137,
     "metadata": {},
     "output_type": "execute_result"
    }
   ],
   "source": [
    "num_class"
   ]
  },
  {
   "cell_type": "code",
   "execution_count": 138,
   "id": "1a1b9dba-7d52-4e37-94ce-c552a79a085f",
   "metadata": {},
   "outputs": [
    {
     "data": {
      "text/plain": [
       "torch.Size([94, 3, 64, 64])"
      ]
     },
     "execution_count": 138,
     "metadata": {},
     "output_type": "execute_result"
    }
   ],
   "source": [
    "x[y==0].shape"
   ]
  },
  {
   "cell_type": "code",
   "execution_count": null,
   "id": "a1cd96c0-c18d-4702-b192-daa1acd8a5fd",
   "metadata": {},
   "outputs": [],
   "source": []
  },
  {
   "cell_type": "code",
   "execution_count": 168,
   "id": "70476580-15f0-4b53-bcf6-2b3693e8f928",
   "metadata": {},
   "outputs": [],
   "source": [
    "class ClassMaxim(nn.Module):\n",
    "    def __init__(self,num_class, centers=None):\n",
    "        super(ClassMaxim, self).__init__()\n",
    "        self.x_c = nn.parameter.Parameter(torch.randn(num_class, 3, 64, 64)) # [nn.parameter.Parameter(torch.randn(3,64,64)) for i in range(num_class)]\n",
    "        if centers!=None:\n",
    "            self.x_c = nn.parameter.Parameter(centers.clone())    \n",
    "        self.clone = self.x_c.clone()"
   ]
  },
  {
   "cell_type": "code",
   "execution_count": null,
   "id": "ecbc4139-9505-4444-96f1-3f32563bc0da",
   "metadata": {},
   "outputs": [],
   "source": []
  },
  {
   "cell_type": "code",
   "execution_count": null,
   "id": "48e1fadb-e6ca-4143-8a5e-635633f5d708",
   "metadata": {},
   "outputs": [],
   "source": []
  },
  {
   "cell_type": "code",
   "execution_count": 169,
   "id": "137f1146-22e2-4ecc-9199-a459632e5c80",
   "metadata": {},
   "outputs": [],
   "source": [
    "cclist = [c.unsqueeze(0) for c in clist]"
   ]
  },
  {
   "cell_type": "code",
   "execution_count": 170,
   "id": "8cd6209a-883b-4a5e-a745-0aedd2b5c8f2",
   "metadata": {},
   "outputs": [
    {
     "data": {
      "text/plain": [
       "torch.Size([1, 3, 64, 64])"
      ]
     },
     "execution_count": 170,
     "metadata": {},
     "output_type": "execute_result"
    }
   ],
   "source": [
    "cclist[0].shape"
   ]
  },
  {
   "cell_type": "code",
   "execution_count": 171,
   "id": "59049c8d-be59-41e3-8c51-226514b66223",
   "metadata": {},
   "outputs": [
    {
     "data": {
      "text/plain": [
       "torch.Size([1, 3, 64, 64])"
      ]
     },
     "execution_count": 171,
     "metadata": {},
     "output_type": "execute_result"
    }
   ],
   "source": [
    "cclist[0].shape"
   ]
  },
  {
   "cell_type": "code",
   "execution_count": 172,
   "id": "3415251b-e256-4d6a-9d92-fc3b4063af9b",
   "metadata": {},
   "outputs": [
    {
     "data": {
      "text/plain": [
       "torch.Size([10, 3, 64, 64])"
      ]
     },
     "execution_count": 172,
     "metadata": {},
     "output_type": "execute_result"
    }
   ],
   "source": [
    "torch.cat(cclist).shape"
   ]
  },
  {
   "cell_type": "code",
   "execution_count": 173,
   "id": "78eb1bc6-7ea3-433c-82bb-06965b5e55e1",
   "metadata": {},
   "outputs": [
    {
     "data": {
      "text/plain": [
       "torch.Size([10, 3, 64, 64])"
      ]
     },
     "execution_count": 173,
     "metadata": {},
     "output_type": "execute_result"
    }
   ],
   "source": [
    "# cat centers\n",
    "centers = torch.cat(cclist)\n",
    "centers.shape"
   ]
  },
  {
   "cell_type": "code",
   "execution_count": 174,
   "id": "8d654e5c-b26c-43e8-9b5c-f89b4bf0754c",
   "metadata": {},
   "outputs": [],
   "source": [
    "# create the model\n",
    "clsmax = ClassMaxim(num_class=10, centers=centers)"
   ]
  },
  {
   "cell_type": "code",
   "execution_count": 175,
   "id": "560a33aa-8c71-4672-9b71-c5894bc4a600",
   "metadata": {
    "scrolled": true
   },
   "outputs": [
    {
     "data": {
      "text/plain": [
       "tensor([[[[True, True, True,  ..., True, True, True],\n",
       "          [True, True, True,  ..., True, True, True],\n",
       "          [True, True, True,  ..., True, True, True],\n",
       "          ...,\n",
       "          [True, True, True,  ..., True, True, True],\n",
       "          [True, True, True,  ..., True, True, True],\n",
       "          [True, True, True,  ..., True, True, True]],\n",
       "\n",
       "         [[True, True, True,  ..., True, True, True],\n",
       "          [True, True, True,  ..., True, True, True],\n",
       "          [True, True, True,  ..., True, True, True],\n",
       "          ...,\n",
       "          [True, True, True,  ..., True, True, True],\n",
       "          [True, True, True,  ..., True, True, True],\n",
       "          [True, True, True,  ..., True, True, True]],\n",
       "\n",
       "         [[True, True, True,  ..., True, True, True],\n",
       "          [True, True, True,  ..., True, True, True],\n",
       "          [True, True, True,  ..., True, True, True],\n",
       "          ...,\n",
       "          [True, True, True,  ..., True, True, True],\n",
       "          [True, True, True,  ..., True, True, True],\n",
       "          [True, True, True,  ..., True, True, True]]],\n",
       "\n",
       "\n",
       "        [[[True, True, True,  ..., True, True, True],\n",
       "          [True, True, True,  ..., True, True, True],\n",
       "          [True, True, True,  ..., True, True, True],\n",
       "          ...,\n",
       "          [True, True, True,  ..., True, True, True],\n",
       "          [True, True, True,  ..., True, True, True],\n",
       "          [True, True, True,  ..., True, True, True]],\n",
       "\n",
       "         [[True, True, True,  ..., True, True, True],\n",
       "          [True, True, True,  ..., True, True, True],\n",
       "          [True, True, True,  ..., True, True, True],\n",
       "          ...,\n",
       "          [True, True, True,  ..., True, True, True],\n",
       "          [True, True, True,  ..., True, True, True],\n",
       "          [True, True, True,  ..., True, True, True]],\n",
       "\n",
       "         [[True, True, True,  ..., True, True, True],\n",
       "          [True, True, True,  ..., True, True, True],\n",
       "          [True, True, True,  ..., True, True, True],\n",
       "          ...,\n",
       "          [True, True, True,  ..., True, True, True],\n",
       "          [True, True, True,  ..., True, True, True],\n",
       "          [True, True, True,  ..., True, True, True]]],\n",
       "\n",
       "\n",
       "        [[[True, True, True,  ..., True, True, True],\n",
       "          [True, True, True,  ..., True, True, True],\n",
       "          [True, True, True,  ..., True, True, True],\n",
       "          ...,\n",
       "          [True, True, True,  ..., True, True, True],\n",
       "          [True, True, True,  ..., True, True, True],\n",
       "          [True, True, True,  ..., True, True, True]],\n",
       "\n",
       "         [[True, True, True,  ..., True, True, True],\n",
       "          [True, True, True,  ..., True, True, True],\n",
       "          [True, True, True,  ..., True, True, True],\n",
       "          ...,\n",
       "          [True, True, True,  ..., True, True, True],\n",
       "          [True, True, True,  ..., True, True, True],\n",
       "          [True, True, True,  ..., True, True, True]],\n",
       "\n",
       "         [[True, True, True,  ..., True, True, True],\n",
       "          [True, True, True,  ..., True, True, True],\n",
       "          [True, True, True,  ..., True, True, True],\n",
       "          ...,\n",
       "          [True, True, True,  ..., True, True, True],\n",
       "          [True, True, True,  ..., True, True, True],\n",
       "          [True, True, True,  ..., True, True, True]]],\n",
       "\n",
       "\n",
       "        ...,\n",
       "\n",
       "\n",
       "        [[[True, True, True,  ..., True, True, True],\n",
       "          [True, True, True,  ..., True, True, True],\n",
       "          [True, True, True,  ..., True, True, True],\n",
       "          ...,\n",
       "          [True, True, True,  ..., True, True, True],\n",
       "          [True, True, True,  ..., True, True, True],\n",
       "          [True, True, True,  ..., True, True, True]],\n",
       "\n",
       "         [[True, True, True,  ..., True, True, True],\n",
       "          [True, True, True,  ..., True, True, True],\n",
       "          [True, True, True,  ..., True, True, True],\n",
       "          ...,\n",
       "          [True, True, True,  ..., True, True, True],\n",
       "          [True, True, True,  ..., True, True, True],\n",
       "          [True, True, True,  ..., True, True, True]],\n",
       "\n",
       "         [[True, True, True,  ..., True, True, True],\n",
       "          [True, True, True,  ..., True, True, True],\n",
       "          [True, True, True,  ..., True, True, True],\n",
       "          ...,\n",
       "          [True, True, True,  ..., True, True, True],\n",
       "          [True, True, True,  ..., True, True, True],\n",
       "          [True, True, True,  ..., True, True, True]]],\n",
       "\n",
       "\n",
       "        [[[True, True, True,  ..., True, True, True],\n",
       "          [True, True, True,  ..., True, True, True],\n",
       "          [True, True, True,  ..., True, True, True],\n",
       "          ...,\n",
       "          [True, True, True,  ..., True, True, True],\n",
       "          [True, True, True,  ..., True, True, True],\n",
       "          [True, True, True,  ..., True, True, True]],\n",
       "\n",
       "         [[True, True, True,  ..., True, True, True],\n",
       "          [True, True, True,  ..., True, True, True],\n",
       "          [True, True, True,  ..., True, True, True],\n",
       "          ...,\n",
       "          [True, True, True,  ..., True, True, True],\n",
       "          [True, True, True,  ..., True, True, True],\n",
       "          [True, True, True,  ..., True, True, True]],\n",
       "\n",
       "         [[True, True, True,  ..., True, True, True],\n",
       "          [True, True, True,  ..., True, True, True],\n",
       "          [True, True, True,  ..., True, True, True],\n",
       "          ...,\n",
       "          [True, True, True,  ..., True, True, True],\n",
       "          [True, True, True,  ..., True, True, True],\n",
       "          [True, True, True,  ..., True, True, True]]],\n",
       "\n",
       "\n",
       "        [[[True, True, True,  ..., True, True, True],\n",
       "          [True, True, True,  ..., True, True, True],\n",
       "          [True, True, True,  ..., True, True, True],\n",
       "          ...,\n",
       "          [True, True, True,  ..., True, True, True],\n",
       "          [True, True, True,  ..., True, True, True],\n",
       "          [True, True, True,  ..., True, True, True]],\n",
       "\n",
       "         [[True, True, True,  ..., True, True, True],\n",
       "          [True, True, True,  ..., True, True, True],\n",
       "          [True, True, True,  ..., True, True, True],\n",
       "          ...,\n",
       "          [True, True, True,  ..., True, True, True],\n",
       "          [True, True, True,  ..., True, True, True],\n",
       "          [True, True, True,  ..., True, True, True]],\n",
       "\n",
       "         [[True, True, True,  ..., True, True, True],\n",
       "          [True, True, True,  ..., True, True, True],\n",
       "          [True, True, True,  ..., True, True, True],\n",
       "          ...,\n",
       "          [True, True, True,  ..., True, True, True],\n",
       "          [True, True, True,  ..., True, True, True],\n",
       "          [True, True, True,  ..., True, True, True]]]])"
      ]
     },
     "execution_count": 175,
     "metadata": {},
     "output_type": "execute_result"
    }
   ],
   "source": [
    "clsmax.clone==clsmax.x_c"
   ]
  },
  {
   "cell_type": "code",
   "execution_count": 176,
   "id": "7b0d6a28-6819-446c-bbe4-a58a5001ca3e",
   "metadata": {},
   "outputs": [
    {
     "data": {
      "text/plain": [
       "tensor([[[True, True, True,  ..., True, True, True],\n",
       "         [True, True, True,  ..., True, True, True],\n",
       "         [True, True, True,  ..., True, True, True],\n",
       "         ...,\n",
       "         [True, True, True,  ..., True, True, True],\n",
       "         [True, True, True,  ..., True, True, True],\n",
       "         [True, True, True,  ..., True, True, True]],\n",
       "\n",
       "        [[True, True, True,  ..., True, True, True],\n",
       "         [True, True, True,  ..., True, True, True],\n",
       "         [True, True, True,  ..., True, True, True],\n",
       "         ...,\n",
       "         [True, True, True,  ..., True, True, True],\n",
       "         [True, True, True,  ..., True, True, True],\n",
       "         [True, True, True,  ..., True, True, True]],\n",
       "\n",
       "        [[True, True, True,  ..., True, True, True],\n",
       "         [True, True, True,  ..., True, True, True],\n",
       "         [True, True, True,  ..., True, True, True],\n",
       "         ...,\n",
       "         [True, True, True,  ..., True, True, True],\n",
       "         [True, True, True,  ..., True, True, True],\n",
       "         [True, True, True,  ..., True, True, True]]])"
      ]
     },
     "execution_count": 176,
     "metadata": {},
     "output_type": "execute_result"
    }
   ],
   "source": [
    "clsmax.x_c[0] == clist[0]"
   ]
  },
  {
   "cell_type": "code",
   "execution_count": 177,
   "id": "dda48808-a3e3-4914-826e-69a9f7f2697d",
   "metadata": {},
   "outputs": [
    {
     "data": {
      "text/plain": [
       "ClassMaxim()"
      ]
     },
     "execution_count": 177,
     "metadata": {},
     "output_type": "execute_result"
    }
   ],
   "source": [
    "clsmax"
   ]
  },
  {
   "cell_type": "code",
   "execution_count": 178,
   "id": "6d5bcb65-f4d4-49ef-addf-24c8f1554071",
   "metadata": {},
   "outputs": [
    {
     "name": "stdout",
     "output_type": "stream",
     "text": [
      "<class 'torch.Tensor'> torch.Size([10, 3, 64, 64])\n"
     ]
    }
   ],
   "source": [
    "for param in clsmax.parameters():\n",
    "    print(type(param.data), param.size())"
   ]
  },
  {
   "cell_type": "code",
   "execution_count": 179,
   "id": "00725fa2-6ca5-4f79-9ee2-8605a160c991",
   "metadata": {},
   "outputs": [
    {
     "data": {
      "text/plain": [
       "torch.Size([3, 64, 64])"
      ]
     },
     "execution_count": 179,
     "metadata": {},
     "output_type": "execute_result"
    }
   ],
   "source": [
    "clsmax.x_c[0].shape"
   ]
  },
  {
   "cell_type": "code",
   "execution_count": 180,
   "id": "44f2e3a3-d8f7-45dc-a807-4f103bed1292",
   "metadata": {},
   "outputs": [],
   "source": [
    "from utils.optimizer import get_optimizer, get_scheduler, OPTIMIZERS_DICT, SCHEDULERS"
   ]
  },
  {
   "cell_type": "code",
   "execution_count": 154,
   "id": "efe0e3d5-73ce-4938-be80-89337d8b6763",
   "metadata": {
    "scrolled": true
   },
   "outputs": [
    {
     "data": {
      "text/plain": [
       "[Parameter containing:\n",
       " tensor([[[[0.5686, 0.5681, 0.5661,  ..., 0.5668, 0.5671, 0.5669],\n",
       "           [0.5690, 0.5684, 0.5664,  ..., 0.5667, 0.5671, 0.5670],\n",
       "           [0.5688, 0.5682, 0.5661,  ..., 0.5657, 0.5663, 0.5662],\n",
       "           ...,\n",
       "           [0.5153, 0.5144, 0.5117,  ..., 0.5086, 0.5098, 0.5100],\n",
       "           [0.5159, 0.5151, 0.5126,  ..., 0.5089, 0.5097, 0.5098],\n",
       "           [0.5159, 0.5151, 0.5127,  ..., 0.5086, 0.5093, 0.5092]],\n",
       " \n",
       "          [[0.6323, 0.6318, 0.6297,  ..., 0.6301, 0.6300, 0.6296],\n",
       "           [0.6327, 0.6321, 0.6301,  ..., 0.6301, 0.6301, 0.6298],\n",
       "           [0.6327, 0.6320, 0.6297,  ..., 0.6293, 0.6294, 0.6292],\n",
       "           ...,\n",
       "           [0.5399, 0.5390, 0.5360,  ..., 0.5337, 0.5348, 0.5349],\n",
       "           [0.5400, 0.5391, 0.5365,  ..., 0.5333, 0.5341, 0.5341],\n",
       "           [0.5396, 0.5388, 0.5363,  ..., 0.5326, 0.5333, 0.5333]],\n",
       " \n",
       "          [[0.6989, 0.6984, 0.6963,  ..., 0.6955, 0.6953, 0.6948],\n",
       "           [0.6992, 0.6986, 0.6965,  ..., 0.6956, 0.6955, 0.6951],\n",
       "           [0.6988, 0.6981, 0.6957,  ..., 0.6948, 0.6948, 0.6945],\n",
       "           ...,\n",
       "           [0.5470, 0.5459, 0.5427,  ..., 0.5406, 0.5421, 0.5424],\n",
       "           [0.5465, 0.5455, 0.5426,  ..., 0.5398, 0.5410, 0.5411],\n",
       "           [0.5459, 0.5449, 0.5421,  ..., 0.5389, 0.5399, 0.5400]]],\n",
       " \n",
       " \n",
       "         [[[0.5362, 0.5363, 0.5358,  ..., 0.5344, 0.5329, 0.5318],\n",
       "           [0.5355, 0.5357, 0.5351,  ..., 0.5332, 0.5317, 0.5305],\n",
       "           [0.5334, 0.5335, 0.5329,  ..., 0.5299, 0.5282, 0.5270],\n",
       "           ...,\n",
       "           [0.5260, 0.5240, 0.5188,  ..., 0.5197, 0.5223, 0.5232],\n",
       "           [0.5274, 0.5260, 0.5220,  ..., 0.5216, 0.5237, 0.5242],\n",
       "           [0.5276, 0.5265, 0.5232,  ..., 0.5220, 0.5238, 0.5243]],\n",
       " \n",
       "          [[0.5421, 0.5422, 0.5414,  ..., 0.5412, 0.5399, 0.5388],\n",
       "           [0.5412, 0.5413, 0.5405,  ..., 0.5399, 0.5385, 0.5374],\n",
       "           [0.5387, 0.5387, 0.5379,  ..., 0.5363, 0.5347, 0.5335],\n",
       "           ...,\n",
       "           [0.5180, 0.5159, 0.5105,  ..., 0.5110, 0.5138, 0.5147],\n",
       "           [0.5193, 0.5178, 0.5136,  ..., 0.5129, 0.5150, 0.5156],\n",
       "           [0.5195, 0.5182, 0.5147,  ..., 0.5133, 0.5151, 0.5156]],\n",
       " \n",
       "          [[0.5333, 0.5332, 0.5323,  ..., 0.5333, 0.5323, 0.5315],\n",
       "           [0.5320, 0.5320, 0.5311,  ..., 0.5315, 0.5305, 0.5295],\n",
       "           [0.5285, 0.5286, 0.5277,  ..., 0.5271, 0.5258, 0.5247],\n",
       "           ...,\n",
       "           [0.4962, 0.4941, 0.4888,  ..., 0.4914, 0.4945, 0.4956],\n",
       "           [0.4978, 0.4963, 0.4922,  ..., 0.4936, 0.4960, 0.4967],\n",
       "           [0.4982, 0.4969, 0.4934,  ..., 0.4942, 0.4962, 0.4968]]],\n",
       " \n",
       " \n",
       "         [[[0.4899, 0.4906, 0.4909,  ..., 0.4888, 0.4880, 0.4871],\n",
       "           [0.4903, 0.4910, 0.4912,  ..., 0.4891, 0.4882, 0.4872],\n",
       "           [0.4902, 0.4908, 0.4910,  ..., 0.4887, 0.4875, 0.4865],\n",
       "           ...,\n",
       "           [0.4903, 0.4903, 0.4891,  ..., 0.4921, 0.4915, 0.4907],\n",
       "           [0.4906, 0.4904, 0.4893,  ..., 0.4928, 0.4919, 0.4910],\n",
       "           [0.4902, 0.4901, 0.4889,  ..., 0.4927, 0.4916, 0.4907]],\n",
       " \n",
       "          [[0.5135, 0.5143, 0.5147,  ..., 0.5123, 0.5115, 0.5106],\n",
       "           [0.5139, 0.5146, 0.5150,  ..., 0.5126, 0.5117, 0.5107],\n",
       "           [0.5137, 0.5143, 0.5145,  ..., 0.5122, 0.5111, 0.5101],\n",
       "           ...,\n",
       "           [0.4939, 0.4937, 0.4922,  ..., 0.4952, 0.4950, 0.4945],\n",
       "           [0.4937, 0.4935, 0.4920,  ..., 0.4955, 0.4951, 0.4944],\n",
       "           [0.4931, 0.4929, 0.4915,  ..., 0.4951, 0.4946, 0.4939]],\n",
       " \n",
       "          [[0.4525, 0.4530, 0.4530,  ..., 0.4501, 0.4498, 0.4492],\n",
       "           [0.4525, 0.4530, 0.4529,  ..., 0.4500, 0.4496, 0.4489],\n",
       "           [0.4514, 0.4519, 0.4518,  ..., 0.4487, 0.4480, 0.4473],\n",
       "           ...,\n",
       "           [0.4176, 0.4173, 0.4157,  ..., 0.4185, 0.4188, 0.4185],\n",
       "           [0.4187, 0.4184, 0.4168,  ..., 0.4195, 0.4196, 0.4192],\n",
       "           [0.4189, 0.4185, 0.4169,  ..., 0.4195, 0.4195, 0.4190]]],\n",
       " \n",
       " \n",
       "         ...,\n",
       " \n",
       " \n",
       "         [[[0.5293, 0.5285, 0.5258,  ..., 0.5325, 0.5336, 0.5338],\n",
       "           [0.5277, 0.5268, 0.5241,  ..., 0.5301, 0.5314, 0.5316],\n",
       "           [0.5235, 0.5225, 0.5195,  ..., 0.5242, 0.5258, 0.5262],\n",
       "           ...,\n",
       "           [0.5529, 0.5513, 0.5471,  ..., 0.5437, 0.5457, 0.5462],\n",
       "           [0.5560, 0.5546, 0.5508,  ..., 0.5469, 0.5487, 0.5491],\n",
       "           [0.5570, 0.5557, 0.5521,  ..., 0.5481, 0.5497, 0.5500]],\n",
       " \n",
       "          [[0.5547, 0.5538, 0.5510,  ..., 0.5586, 0.5594, 0.5594],\n",
       "           [0.5527, 0.5518, 0.5489,  ..., 0.5560, 0.5569, 0.5570],\n",
       "           [0.5479, 0.5468, 0.5437,  ..., 0.5496, 0.5510, 0.5512],\n",
       "           ...,\n",
       "           [0.5316, 0.5297, 0.5249,  ..., 0.5216, 0.5244, 0.5254],\n",
       "           [0.5344, 0.5327, 0.5284,  ..., 0.5252, 0.5276, 0.5283],\n",
       "           [0.5354, 0.5338, 0.5297,  ..., 0.5265, 0.5287, 0.5293]],\n",
       " \n",
       "          [[0.5391, 0.5382, 0.5356,  ..., 0.5415, 0.5426, 0.5426],\n",
       "           [0.5364, 0.5355, 0.5328,  ..., 0.5384, 0.5395, 0.5397],\n",
       "           [0.5302, 0.5292, 0.5263,  ..., 0.5310, 0.5325, 0.5328],\n",
       "           ...,\n",
       "           [0.4259, 0.4239, 0.4188,  ..., 0.4163, 0.4197, 0.4209],\n",
       "           [0.4291, 0.4273, 0.4226,  ..., 0.4201, 0.4231, 0.4241],\n",
       "           [0.4302, 0.4285, 0.4240,  ..., 0.4215, 0.4243, 0.4253]]],\n",
       " \n",
       " \n",
       "         [[[0.5736, 0.5732, 0.5714,  ..., 0.5721, 0.5722, 0.5718],\n",
       "           [0.5730, 0.5726, 0.5707,  ..., 0.5711, 0.5711, 0.5707],\n",
       "           [0.5708, 0.5703, 0.5683,  ..., 0.5680, 0.5680, 0.5676],\n",
       "           ...,\n",
       "           [0.3875, 0.3861, 0.3822,  ..., 0.3753, 0.3774, 0.3780],\n",
       "           [0.3877, 0.3864, 0.3828,  ..., 0.3757, 0.3778, 0.3783],\n",
       "           [0.3874, 0.3861, 0.3826,  ..., 0.3754, 0.3775, 0.3780]],\n",
       " \n",
       "          [[0.6385, 0.6382, 0.6366,  ..., 0.6380, 0.6378, 0.6373],\n",
       "           [0.6380, 0.6376, 0.6360,  ..., 0.6372, 0.6370, 0.6364],\n",
       "           [0.6360, 0.6356, 0.6339,  ..., 0.6346, 0.6343, 0.6337],\n",
       "           ...,\n",
       "           [0.4411, 0.4395, 0.4351,  ..., 0.4285, 0.4309, 0.4317],\n",
       "           [0.4407, 0.4391, 0.4350,  ..., 0.4282, 0.4305, 0.4311],\n",
       "           [0.4400, 0.4385, 0.4345,  ..., 0.4275, 0.4297, 0.4304]],\n",
       " \n",
       "          [[0.7016, 0.7013, 0.6998,  ..., 0.6996, 0.6990, 0.6983],\n",
       "           [0.7009, 0.7007, 0.6991,  ..., 0.6987, 0.6980, 0.6973],\n",
       "           [0.6987, 0.6985, 0.6969,  ..., 0.6959, 0.6951, 0.6943],\n",
       "           ...,\n",
       "           [0.4746, 0.4726, 0.4676,  ..., 0.4607, 0.4637, 0.4647],\n",
       "           [0.4734, 0.4715, 0.4667,  ..., 0.4597, 0.4625, 0.4634],\n",
       "           [0.4723, 0.4704, 0.4658,  ..., 0.4587, 0.4615, 0.4623]]],\n",
       " \n",
       " \n",
       "         [[[0.6562, 0.6557, 0.6538,  ..., 0.6538, 0.6527, 0.6517],\n",
       "           [0.6551, 0.6546, 0.6527,  ..., 0.6520, 0.6508, 0.6499],\n",
       "           [0.6520, 0.6515, 0.6494,  ..., 0.6473, 0.6462, 0.6453],\n",
       "           ...,\n",
       "           [0.5488, 0.5453, 0.5375,  ..., 0.5341, 0.5380, 0.5396],\n",
       "           [0.5540, 0.5512, 0.5446,  ..., 0.5417, 0.5442, 0.5450],\n",
       "           [0.5562, 0.5537, 0.5476,  ..., 0.5450, 0.5468, 0.5472]],\n",
       " \n",
       "          [[0.6954, 0.6949, 0.6929,  ..., 0.6928, 0.6914, 0.6903],\n",
       "           [0.6940, 0.6934, 0.6915,  ..., 0.6908, 0.6894, 0.6883],\n",
       "           [0.6901, 0.6897, 0.6876,  ..., 0.6857, 0.6844, 0.6833],\n",
       "           ...,\n",
       "           [0.5333, 0.5298, 0.5218,  ..., 0.5191, 0.5233, 0.5249],\n",
       "           [0.5388, 0.5358, 0.5290,  ..., 0.5268, 0.5295, 0.5304],\n",
       "           [0.5411, 0.5384, 0.5321,  ..., 0.5301, 0.5321, 0.5327]],\n",
       " \n",
       "          [[0.7242, 0.7236, 0.7216,  ..., 0.7206, 0.7196, 0.7187],\n",
       "           [0.7220, 0.7214, 0.7196,  ..., 0.7182, 0.7171, 0.7162],\n",
       "           [0.7167, 0.7163, 0.7144,  ..., 0.7122, 0.7111, 0.7101],\n",
       "           ...,\n",
       "           [0.5044, 0.5009, 0.4927,  ..., 0.4895, 0.4939, 0.4957],\n",
       "           [0.5098, 0.5068, 0.4997,  ..., 0.4972, 0.5003, 0.5014],\n",
       "           [0.5121, 0.5093, 0.5027,  ..., 0.5007, 0.5030, 0.5038]]]],\n",
       "        requires_grad=True)]"
      ]
     },
     "execution_count": 154,
     "metadata": {},
     "output_type": "execute_result"
    }
   ],
   "source": [
    "list(clsmax.parameters())"
   ]
  },
  {
   "cell_type": "code",
   "execution_count": null,
   "id": "1e92696e-b844-40ba-a412-97ec8ceaaa27",
   "metadata": {},
   "outputs": [],
   "source": []
  },
  {
   "cell_type": "code",
   "execution_count": 155,
   "id": "611e38c0-7ce9-4f8d-ada1-7e273d22231e",
   "metadata": {},
   "outputs": [],
   "source": [
    "from utils.parsers import get_training_parser\n",
    "\n",
    "parser = get_training_parser()\n",
    "args = parser.parse_args(args=[])"
   ]
  },
  {
   "cell_type": "code",
   "execution_count": 181,
   "id": "89ab20c3-5d92-4808-a8e4-56974327db07",
   "metadata": {},
   "outputs": [],
   "source": [
    "epoch = 100\n",
    "num_class=10\n",
    "\n",
    "loss_fn = CrossEntropyLoss(label_smoothing=args.smooth)\n",
    "opt = get_optimizer(args.optimizer)(clsmax.parameters(), lr=args.lr, weight_decay=args.weight_decay)\n",
    "scheduler = get_scheduler(opt, args.scheduler, **args.__dict__)"
   ]
  },
  {
   "cell_type": "code",
   "execution_count": 182,
   "id": "9f2b8bdc-f697-4a1b-819a-1d33e7e6e5d2",
   "metadata": {},
   "outputs": [
    {
     "data": {
      "text/plain": [
       "torch.Size([3, 64, 64])"
      ]
     },
     "execution_count": 182,
     "metadata": {},
     "output_type": "execute_result"
    }
   ],
   "source": [
    "torch.randn(3,64,64).shape"
   ]
  },
  {
   "cell_type": "code",
   "execution_count": null,
   "id": "2fae5bbd-f87b-4897-ae51-fc694bf324d4",
   "metadata": {},
   "outputs": [],
   "source": []
  },
  {
   "cell_type": "code",
   "execution_count": null,
   "id": "e9bcd8be-cfbd-4b06-971f-7125268ab9a3",
   "metadata": {},
   "outputs": [],
   "source": []
  },
  {
   "cell_type": "code",
   "execution_count": 183,
   "id": "6ab2f41d-0ded-4454-b698-f406991e47e0",
   "metadata": {},
   "outputs": [
    {
     "data": {
      "text/plain": [
       "500"
      ]
     },
     "execution_count": 183,
     "metadata": {},
     "output_type": "execute_result"
    }
   ],
   "source": [
    "args.epochs"
   ]
  },
  {
   "cell_type": "code",
   "execution_count": 184,
   "id": "9f4dbb8c-9fca-4a4e-b595-e469a88ed58b",
   "metadata": {},
   "outputs": [],
   "source": [
    "import time"
   ]
  },
  {
   "cell_type": "code",
   "execution_count": 185,
   "id": "90254740-4a66-464b-9bbe-7f2e6d4781c7",
   "metadata": {
    "scrolled": true
   },
   "outputs": [
    {
     "name": "stdout",
     "output_type": "stream",
     "text": [
      "tensor(1.5574, device='cuda:0', grad_fn=<SelectBackward0>)\n",
      "tensor(1.5880, device='cuda:0', grad_fn=<SelectBackward0>)\n",
      "tensor(1.6184, device='cuda:0', grad_fn=<SelectBackward0>)\n",
      "tensor(1.6487, device='cuda:0', grad_fn=<SelectBackward0>)\n",
      "tensor(1.6788, device='cuda:0', grad_fn=<SelectBackward0>)\n",
      "tensor(1.7087, device='cuda:0', grad_fn=<SelectBackward0>)\n",
      "tensor(1.7383, device='cuda:0', grad_fn=<SelectBackward0>)\n",
      "tensor(1.7677, device='cuda:0', grad_fn=<SelectBackward0>)\n",
      "tensor(1.7967, device='cuda:0', grad_fn=<SelectBackward0>)\n",
      "tensor(1.8254, device='cuda:0', grad_fn=<SelectBackward0>)\n",
      "tensor(1.8537, device='cuda:0', grad_fn=<SelectBackward0>)\n",
      "tensor(1.8816, device='cuda:0', grad_fn=<SelectBackward0>)\n",
      "tensor(1.9089, device='cuda:0', grad_fn=<SelectBackward0>)\n",
      "tensor(1.9358, device='cuda:0', grad_fn=<SelectBackward0>)\n",
      "tensor(1.9622, device='cuda:0', grad_fn=<SelectBackward0>)\n",
      "tensor(1.9880, device='cuda:0', grad_fn=<SelectBackward0>)\n",
      "tensor(2.0133, device='cuda:0', grad_fn=<SelectBackward0>)\n",
      "tensor(2.0379, device='cuda:0', grad_fn=<SelectBackward0>)\n",
      "tensor(2.0619, device='cuda:0', grad_fn=<SelectBackward0>)\n",
      "tensor(2.0852, device='cuda:0', grad_fn=<SelectBackward0>)\n",
      "tensor(2.1079, device='cuda:0', grad_fn=<SelectBackward0>)\n",
      "tensor(2.1299, device='cuda:0', grad_fn=<SelectBackward0>)\n",
      "tensor(2.1513, device='cuda:0', grad_fn=<SelectBackward0>)\n",
      "tensor(2.1720, device='cuda:0', grad_fn=<SelectBackward0>)\n",
      "tensor(2.1920, device='cuda:0', grad_fn=<SelectBackward0>)\n",
      "tensor(2.2113, device='cuda:0', grad_fn=<SelectBackward0>)\n",
      "tensor(2.2300, device='cuda:0', grad_fn=<SelectBackward0>)\n",
      "tensor(2.2480, device='cuda:0', grad_fn=<SelectBackward0>)\n",
      "tensor(2.2653, device='cuda:0', grad_fn=<SelectBackward0>)\n",
      "tensor(2.2820, device='cuda:0', grad_fn=<SelectBackward0>)\n",
      "tensor(2.2981, device='cuda:0', grad_fn=<SelectBackward0>)\n",
      "tensor(2.3136, device='cuda:0', grad_fn=<SelectBackward0>)\n",
      "tensor(2.3285, device='cuda:0', grad_fn=<SelectBackward0>)\n",
      "tensor(2.3428, device='cuda:0', grad_fn=<SelectBackward0>)\n",
      "tensor(2.3566, device='cuda:0', grad_fn=<SelectBackward0>)\n",
      "tensor(2.3699, device='cuda:0', grad_fn=<SelectBackward0>)\n",
      "tensor(2.3827, device='cuda:0', grad_fn=<SelectBackward0>)\n",
      "tensor(2.3951, device='cuda:0', grad_fn=<SelectBackward0>)\n",
      "tensor(2.4070, device='cuda:0', grad_fn=<SelectBackward0>)\n",
      "tensor(2.4184, device='cuda:0', grad_fn=<SelectBackward0>)\n",
      "tensor(2.4295, device='cuda:0', grad_fn=<SelectBackward0>)\n",
      "tensor(2.4402, device='cuda:0', grad_fn=<SelectBackward0>)\n",
      "tensor(2.4505, device='cuda:0', grad_fn=<SelectBackward0>)\n",
      "tensor(2.4604, device='cuda:0', grad_fn=<SelectBackward0>)\n",
      "tensor(2.4700, device='cuda:0', grad_fn=<SelectBackward0>)\n",
      "tensor(2.4793, device='cuda:0', grad_fn=<SelectBackward0>)\n",
      "tensor(2.4883, device='cuda:0', grad_fn=<SelectBackward0>)\n",
      "tensor(2.4970, device='cuda:0', grad_fn=<SelectBackward0>)\n",
      "tensor(2.5054, device='cuda:0', grad_fn=<SelectBackward0>)\n",
      "tensor(2.5136, device='cuda:0', grad_fn=<SelectBackward0>)\n",
      "tensor(2.5215, device='cuda:0', grad_fn=<SelectBackward0>)\n",
      "tensor(2.5292, device='cuda:0', grad_fn=<SelectBackward0>)\n",
      "tensor(2.5367, device='cuda:0', grad_fn=<SelectBackward0>)\n",
      "tensor(2.5441, device='cuda:0', grad_fn=<SelectBackward0>)\n",
      "tensor(2.5512, device='cuda:0', grad_fn=<SelectBackward0>)\n",
      "tensor(2.5581, device='cuda:0', grad_fn=<SelectBackward0>)\n",
      "tensor(2.5648, device='cuda:0', grad_fn=<SelectBackward0>)\n",
      "tensor(2.5714, device='cuda:0', grad_fn=<SelectBackward0>)\n",
      "tensor(2.5778, device='cuda:0', grad_fn=<SelectBackward0>)\n",
      "tensor(2.5841, device='cuda:0', grad_fn=<SelectBackward0>)\n",
      "tensor(2.5902, device='cuda:0', grad_fn=<SelectBackward0>)\n",
      "tensor(2.5961, device='cuda:0', grad_fn=<SelectBackward0>)\n",
      "tensor(2.6020, device='cuda:0', grad_fn=<SelectBackward0>)\n",
      "tensor(2.6076, device='cuda:0', grad_fn=<SelectBackward0>)\n",
      "tensor(2.6132, device='cuda:0', grad_fn=<SelectBackward0>)\n",
      "tensor(2.6186, device='cuda:0', grad_fn=<SelectBackward0>)\n",
      "tensor(2.6240, device='cuda:0', grad_fn=<SelectBackward0>)\n",
      "tensor(2.6292, device='cuda:0', grad_fn=<SelectBackward0>)\n",
      "tensor(2.6344, device='cuda:0', grad_fn=<SelectBackward0>)\n",
      "tensor(2.6395, device='cuda:0', grad_fn=<SelectBackward0>)\n",
      "tensor(2.6445, device='cuda:0', grad_fn=<SelectBackward0>)\n",
      "tensor(2.6494, device='cuda:0', grad_fn=<SelectBackward0>)\n",
      "tensor(2.6542, device='cuda:0', grad_fn=<SelectBackward0>)\n",
      "tensor(2.6590, device='cuda:0', grad_fn=<SelectBackward0>)\n",
      "tensor(2.6637, device='cuda:0', grad_fn=<SelectBackward0>)\n",
      "tensor(2.6683, device='cuda:0', grad_fn=<SelectBackward0>)\n",
      "tensor(2.6729, device='cuda:0', grad_fn=<SelectBackward0>)\n",
      "tensor(2.6774, device='cuda:0', grad_fn=<SelectBackward0>)\n",
      "tensor(2.6818, device='cuda:0', grad_fn=<SelectBackward0>)\n",
      "tensor(2.6862, device='cuda:0', grad_fn=<SelectBackward0>)\n",
      "tensor(2.6905, device='cuda:0', grad_fn=<SelectBackward0>)\n",
      "tensor(2.6947, device='cuda:0', grad_fn=<SelectBackward0>)\n",
      "tensor(2.6990, device='cuda:0', grad_fn=<SelectBackward0>)\n",
      "tensor(2.7032, device='cuda:0', grad_fn=<SelectBackward0>)\n",
      "tensor(2.7074, device='cuda:0', grad_fn=<SelectBackward0>)\n",
      "tensor(2.7115, device='cuda:0', grad_fn=<SelectBackward0>)\n",
      "tensor(2.7156, device='cuda:0', grad_fn=<SelectBackward0>)\n",
      "tensor(2.7197, device='cuda:0', grad_fn=<SelectBackward0>)\n",
      "tensor(2.7238, device='cuda:0', grad_fn=<SelectBackward0>)\n",
      "tensor(2.7278, device='cuda:0', grad_fn=<SelectBackward0>)\n",
      "tensor(2.7319, device='cuda:0', grad_fn=<SelectBackward0>)\n",
      "tensor(2.7359, device='cuda:0', grad_fn=<SelectBackward0>)\n",
      "tensor(2.7399, device='cuda:0', grad_fn=<SelectBackward0>)\n",
      "tensor(2.7440, device='cuda:0', grad_fn=<SelectBackward0>)\n",
      "tensor(2.7480, device='cuda:0', grad_fn=<SelectBackward0>)\n",
      "tensor(2.7521, device='cuda:0', grad_fn=<SelectBackward0>)\n",
      "tensor(2.7561, device='cuda:0', grad_fn=<SelectBackward0>)\n",
      "tensor(2.7601, device='cuda:0', grad_fn=<SelectBackward0>)\n",
      "tensor(2.7642, device='cuda:0', grad_fn=<SelectBackward0>)\n",
      "tensor(2.7683, device='cuda:0', grad_fn=<SelectBackward0>)\n"
     ]
    }
   ],
   "source": [
    "start = time.time()\n",
    "model.eval() # fixed model\n",
    "\n",
    "# total_acc, total_top5 = AverageMeter(), AverageMeter()\n",
    "total_loss = AverageMeter()\n",
    "\n",
    "for step in range(1000):\n",
    "    for c in range(1):\n",
    "        xx = clsmax.x_c[c].flatten().cuda()\n",
    "        preds = model(xx)\n",
    "        targs = torch.tensor(c).cuda()\n",
    "\n",
    "\n",
    "        (-preds[c]).backward()\n",
    "        # loss = loss_fn(preds, targs)\n",
    "        \n",
    "        # loss = loss / args.accum_steps\n",
    "        # loss.backward()\n",
    "\n",
    "        print(preds[c])\n",
    "        \n",
    "        opt.step()\n",
    "        opt.zero_grad()\n",
    "    \n",
    "        total_loss.update(loss.item() * args.accum_steps, 1)\n",
    "\n",
    "end = time.time()\n",
    "\n",
    "scheduler.step()"
   ]
  },
  {
   "cell_type": "code",
   "execution_count": 95,
   "id": "851226a9-8cbb-4884-af22-6116f1f913c3",
   "metadata": {},
   "outputs": [
    {
     "data": {
      "text/plain": [
       "torch.Size([12288])"
      ]
     },
     "execution_count": 95,
     "metadata": {},
     "output_type": "execute_result"
    }
   ],
   "source": [
    "xx.flatten().shape"
   ]
  },
  {
   "cell_type": "code",
   "execution_count": 97,
   "id": "9df615bc-6557-4ea3-b433-0b9fb5fbbb94",
   "metadata": {},
   "outputs": [
    {
     "data": {
      "text/plain": [
       "tensor(1.1765, device='cuda:0', grad_fn=<DivBackward0>)"
      ]
     },
     "execution_count": 97,
     "metadata": {},
     "output_type": "execute_result"
    }
   ],
   "source": [
    "loss"
   ]
  },
  {
   "cell_type": "code",
   "execution_count": 100,
   "id": "1dc08e02-abef-4e05-820c-cf62e85d05e3",
   "metadata": {},
   "outputs": [
    {
     "data": {
      "text/plain": [
       "torch.Size([10])"
      ]
     },
     "execution_count": 100,
     "metadata": {},
     "output_type": "execute_result"
    }
   ],
   "source": [
    "preds.shape"
   ]
  },
  {
   "cell_type": "code",
   "execution_count": 101,
   "id": "4f2d053c-44c5-4b39-a10a-bf7322cce1d3",
   "metadata": {},
   "outputs": [
    {
     "data": {
      "text/plain": [
       "tensor(2.6964, device='cuda:0', grad_fn=<SelectBackward0>)"
      ]
     },
     "execution_count": 101,
     "metadata": {},
     "output_type": "execute_result"
    }
   ],
   "source": [
    "preds[0]"
   ]
  },
  {
   "cell_type": "code",
   "execution_count": 186,
   "id": "a408314b-a7e7-4eac-9c61-c9f826ee873d",
   "metadata": {},
   "outputs": [
    {
     "data": {
      "text/plain": [
       "tensor([[[0.5736, 0.5699, 0.5611,  ..., 0.5618, 0.5664, 0.5701],\n",
       "         [0.5740, 0.5734, 0.5673,  ..., 0.5650, 0.5686, 0.5712],\n",
       "         [0.5738, 0.5632, 0.5611,  ..., 0.5607, 0.5613, 0.5697],\n",
       "         ...,\n",
       "         [0.5103, 0.5194, 0.5132,  ..., 0.5088, 0.5148, 0.5050],\n",
       "         [0.5164, 0.5201, 0.5140,  ..., 0.5091, 0.5147, 0.5124],\n",
       "         [0.5128, 0.5201, 0.5122,  ..., 0.5036, 0.5143, 0.5105]],\n",
       "\n",
       "        [[0.6373, 0.6332, 0.6333,  ..., 0.6251, 0.6250, 0.6246],\n",
       "         [0.6377, 0.6371, 0.6342,  ..., 0.6251, 0.6251, 0.6248],\n",
       "         [0.6377, 0.6321, 0.6247,  ..., 0.6243, 0.6244, 0.6242],\n",
       "         ...,\n",
       "         [0.5349, 0.5440, 0.5310,  ..., 0.5354, 0.5398, 0.5399],\n",
       "         [0.5450, 0.5441, 0.5381,  ..., 0.5380, 0.5391, 0.5391],\n",
       "         [0.5417, 0.5438, 0.5371,  ..., 0.5376, 0.5383, 0.5383]],\n",
       "\n",
       "        [[0.6939, 0.6934, 0.6913,  ..., 0.6905, 0.6903, 0.6898],\n",
       "         [0.6942, 0.6936, 0.6915,  ..., 0.6937, 0.6946, 0.6953],\n",
       "         [0.6938, 0.6931, 0.6907,  ..., 0.6898, 0.6902, 0.6995],\n",
       "         ...,\n",
       "         [0.5520, 0.5509, 0.5477,  ..., 0.5415, 0.5471, 0.5374],\n",
       "         [0.5515, 0.5505, 0.5476,  ..., 0.5384, 0.5460, 0.5410],\n",
       "         [0.5509, 0.5499, 0.5471,  ..., 0.5339, 0.5419, 0.5385]]],\n",
       "       grad_fn=<SelectBackward0>)"
      ]
     },
     "execution_count": 186,
     "metadata": {},
     "output_type": "execute_result"
    }
   ],
   "source": [
    "clsmax.x_c[c]"
   ]
  },
  {
   "cell_type": "code",
   "execution_count": 87,
   "id": "f4f536f3-4956-4aa1-a98e-26df21f7a385",
   "metadata": {},
   "outputs": [
    {
     "data": {
      "text/plain": [
       "tensor(1.1765, device='cuda:0', grad_fn=<DivBackward0>)"
      ]
     },
     "execution_count": 87,
     "metadata": {},
     "output_type": "execute_result"
    }
   ],
   "source": [
    "loss"
   ]
  },
  {
   "cell_type": "code",
   "execution_count": null,
   "id": "dee2a757-d224-413b-88e0-591b9d77da12",
   "metadata": {},
   "outputs": [],
   "source": []
  },
  {
   "cell_type": "code",
   "execution_count": 88,
   "id": "57991d96-cbc8-4333-9702-f045fcdcadb0",
   "metadata": {},
   "outputs": [],
   "source": [
    "import matplotlib.pyplot as plt"
   ]
  },
  {
   "cell_type": "code",
   "execution_count": 89,
   "id": "b182a256-a30c-4c99-9a46-a281831c8fb3",
   "metadata": {},
   "outputs": [
    {
     "data": {
      "text/plain": [
       "torch.Size([3, 64, 64])"
      ]
     },
     "execution_count": 89,
     "metadata": {},
     "output_type": "execute_result"
    }
   ],
   "source": [
    "clsmax.x_c[c].shape"
   ]
  },
  {
   "cell_type": "code",
   "execution_count": null,
   "id": "7d6376fa-18bb-4588-bedb-9f3d89ed54c2",
   "metadata": {},
   "outputs": [],
   "source": []
  },
  {
   "cell_type": "code",
   "execution_count": 187,
   "id": "6e8c54b2-e6f8-4af7-a8f9-e9d52392dc6a",
   "metadata": {},
   "outputs": [
    {
     "data": {
      "text/plain": [
       "tensor(62.3481, grad_fn=<LinalgVectorNormBackward0>)"
      ]
     },
     "execution_count": 187,
     "metadata": {},
     "output_type": "execute_result"
    }
   ],
   "source": [
    "torch.norm(clsmax.x_c[0])"
   ]
  },
  {
   "cell_type": "code",
   "execution_count": 188,
   "id": "dce4ba9f-495e-4ba6-86ed-c0637f42f9a2",
   "metadata": {},
   "outputs": [
    {
     "data": {
      "text/plain": [
       "tensor(62.3464)"
      ]
     },
     "execution_count": 188,
     "metadata": {},
     "output_type": "execute_result"
    }
   ],
   "source": [
    "torch.norm(centers[0])"
   ]
  },
  {
   "cell_type": "code",
   "execution_count": 189,
   "id": "0a38f753-95a0-4b42-bf84-941662af42f8",
   "metadata": {},
   "outputs": [
    {
     "data": {
      "text/plain": [
       "tensor([[[False, False, False,  ..., False, False, False],\n",
       "         [False, False, False,  ..., False, False, False],\n",
       "         [False, False, False,  ..., False, False, False],\n",
       "         ...,\n",
       "         [False, False, False,  ..., False, False, False],\n",
       "         [False, False, False,  ..., False, False, False],\n",
       "         [False, False, False,  ..., False, False, False]],\n",
       "\n",
       "        [[False, False, False,  ..., False, False, False],\n",
       "         [False, False, False,  ..., False, False, False],\n",
       "         [False, False, False,  ..., False, False, False],\n",
       "         ...,\n",
       "         [False, False, False,  ..., False, False, False],\n",
       "         [False, False, False,  ..., False, False, False],\n",
       "         [False, False, False,  ..., False, False, False]],\n",
       "\n",
       "        [[False, False, False,  ..., False, False, False],\n",
       "         [False, False, False,  ..., False, False, False],\n",
       "         [False, False, False,  ..., False, False, False],\n",
       "         ...,\n",
       "         [False, False, False,  ..., False, False, False],\n",
       "         [False, False, False,  ..., False, False, False],\n",
       "         [False, False, False,  ..., False, False, False]]])"
      ]
     },
     "execution_count": 189,
     "metadata": {},
     "output_type": "execute_result"
    }
   ],
   "source": [
    "clsmax.x_c[0]==centers[0]"
   ]
  },
  {
   "cell_type": "code",
   "execution_count": null,
   "id": "c69ea217-bc4a-42b6-9ea7-f8d884046a64",
   "metadata": {},
   "outputs": [],
   "source": []
  },
  {
   "cell_type": "code",
   "execution_count": 190,
   "id": "71585bcc-c739-4f98-ae46-841870b877b2",
   "metadata": {},
   "outputs": [
    {
     "data": {
      "text/plain": [
       "<matplotlib.image.AxesImage at 0x150e3a282a70>"
      ]
     },
     "execution_count": 190,
     "metadata": {},
     "output_type": "execute_result"
    },
    {
     "data": {
      "image/png": "[encoded data removed]",
      "text/plain": [
       "<Figure size 640x480 with 1 Axes>"
      ]
     },
     "metadata": {},
     "output_type": "display_data"
    }
   ],
   "source": [
    "plt.imshow(clsmax.x_c[0].detach().numpy().transpose(1,2,0))"
   ]
  },
  {
   "cell_type": "code",
   "execution_count": 166,
   "id": "a9490de9-bd80-4e23-9236-aeacdd9c1a79",
   "metadata": {},
   "outputs": [
    {
     "name": "stderr",
     "output_type": "stream",
     "text": [
      "Clipping input data to the valid range for imshow with RGB data ([0..1] for floats or [0..255] for integers).\n"
     ]
    },
    {
     "data": {
      "text/plain": [
       "<matplotlib.image.AxesImage at 0x1536e36123b0>"
      ]
     },
     "execution_count": 166,
     "metadata": {},
     "output_type": "execute_result"
    },
    {
     "data": {
      "image/png": "[encoded data removed]",
      "text/plain": [
       "<Figure size 640x480 with 1 Axes>"
      ]
     },
     "metadata": {},
     "output_type": "display_data"
    }
   ],
   "source": [
    "plt.imshow(clsmax.clone[0].detach().numpy().transpose(1,2,0))"
   ]
  },
  {
   "cell_type": "code",
   "execution_count": null,
   "id": "3f39e13e-c9e8-4f90-b6fb-a3b02d1192a2",
   "metadata": {},
   "outputs": [],
   "source": []
  },
  {
   "cell_type": "code",
   "execution_count": 187,
   "id": "848cac2e-3e82-4efa-98e9-5a9aab4b41da",
   "metadata": {
    "scrolled": true
   },
   "outputs": [
    {
     "data": {
      "text/plain": [
       "tensor([[[False, False, False,  ..., False, False, False],\n",
       "         [False, False, False,  ..., False, False, False],\n",
       "         [False, False, False,  ..., False, False, False],\n",
       "         ...,\n",
       "         [False, False, False,  ..., False, False, False],\n",
       "         [False, False, False,  ..., False, False, False],\n",
       "         [False, False, False,  ..., False, False, False]],\n",
       "\n",
       "        [[False, False, False,  ..., False, False, False],\n",
       "         [False, False, False,  ..., False, False, False],\n",
       "         [False, False, False,  ..., False, False, False],\n",
       "         ...,\n",
       "         [False, False, False,  ..., False, False, False],\n",
       "         [False, False, False,  ..., False, False, False],\n",
       "         [False, False, False,  ..., False, False, False]],\n",
       "\n",
       "        [[False, False, False,  ..., False, False, False],\n",
       "         [False, False, False,  ..., False, False, False],\n",
       "         [False, False, False,  ..., False, False, False],\n",
       "         ...,\n",
       "         [False, False, False,  ..., False, False, False],\n",
       "         [False, False, False,  ..., False, False, False],\n",
       "         [False, False, False,  ..., False, False, False]]])"
      ]
     },
     "execution_count": 187,
     "metadata": {},
     "output_type": "execute_result"
    }
   ],
   "source": [
    "clsmax.clone[0]==clsmax.x_c[0]"
   ]
  },
  {
   "cell_type": "code",
   "execution_count": null,
   "id": "98f92453-18e6-4026-9c91-6c7ec34118c8",
   "metadata": {},
   "outputs": [],
   "source": []
  }
 ],
 "metadata": {
  "kernelspec": {
   "display_name": "Python 3 (ipykernel)",
   "language": "python",
   "name": "python3"
  },
  "language_info": {
   "codemirror_mode": {
    "name": "ipython",
    "version": 3
   },
   "file_extension": ".py",
   "mimetype": "text/x-python",
   "name": "python",
   "nbconvert_exporter": "python",
   "pygments_lexer": "ipython3",
   "version": "3.10.12"
  }
 },
 "nbformat": 4,
 "nbformat_minor": 5
}
