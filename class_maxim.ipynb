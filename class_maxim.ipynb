{
 "cells": [
  {
   "cell_type": "code",
   "execution_count": 128,
   "id": "d76cb747-4315-403c-8c60-bc837c7299fc",
   "metadata": {},
   "outputs": [],
   "source": [
    "# imports\n",
    "import torch\n",
    "import torch.nn as nn\n",
    "import torchvision.models as models\n",
    "from torch.nn import CrossEntropyLoss\n",
    "from torchvision import datasets, transforms\n",
    "from torch.utils.data import DataLoader\n",
    "from utils.metrics import topk_acc, real_acc, AverageMeter\n",
    "from utils.parsers import get_training_parser\n",
    "from utils.optimizer import get_optimizer, get_scheduler, OPTIMIZERS_DICT, SCHEDULERS\n",
    "\n",
    "from models.networks import get_model\n",
    "from data_utils.data_stats import *\n",
    "\n",
    "import matplotlib.pyplot as plt\n",
    "import argparse\n",
    "import time\n"
   ]
  },
  {
   "cell_type": "code",
   "execution_count": 3,
   "id": "27b57bbd-317a-4877-99bc-4c4790505d34",
   "metadata": {},
   "outputs": [],
   "source": [
    "dataset = 'cifar10'                 # One of cifar10, cifar100, stl10, imagenet or imagenet21\n",
    "architecture = 'B_12-Wi_1024'\n",
    "data_resolution = 32                # Resolution of data as it is stored\n",
    "crop_resolution = 64                # Resolution of fine-tuned model (64 for all models we provide)\n",
    "num_classes = CLASS_DICT[dataset]\n",
    "#data_path = './beton/'\n",
    "eval_batch_size = 1024\n",
    "checkpoint = 'in21k_cifar10'        # This means you want the network pre-trained on ImageNet21k and finetuned on CIFAR10"
   ]
  },
  {
   "cell_type": "code",
   "execution_count": 4,
   "id": "b9e058c1-839e-4bf0-b11a-4fcecfd993d2",
   "metadata": {},
   "outputs": [
    {
     "name": "stdout",
     "output_type": "stream",
     "text": [
      "cpu\n",
      "Weights already downloaded\n",
      "Load_state output <All keys matched successfully>\n"
     ]
    },
    {
     "data": {
      "text/plain": [
       "BottleneckMLP(\n",
       "  (linear_in): Linear(in_features=12288, out_features=1024, bias=True)\n",
       "  (linear_out): Linear(in_features=1024, out_features=10, bias=True)\n",
       "  (blocks): ModuleList(\n",
       "    (0-11): 12 x BottleneckBlock(\n",
       "      (block): Sequential(\n",
       "        (0): Linear(in_features=1024, out_features=4096, bias=True)\n",
       "        (1): GELU(approximate='none')\n",
       "        (2): Linear(in_features=4096, out_features=1024, bias=True)\n",
       "      )\n",
       "    )\n",
       "  )\n",
       "  (layernorms): ModuleList(\n",
       "    (0-11): 12 x LayerNorm((1024,), eps=1e-05, elementwise_affine=True)\n",
       "  )\n",
       ")"
      ]
     },
     "execution_count": 4,
     "metadata": {},
     "output_type": "execute_result"
    }
   ],
   "source": [
    "# TODO: Do not forget to choose GPU as runtime\n",
    "torch.backends.cuda.matmul.allow_tf32 = True\n",
    "device = torch.device(\"cuda:0\" if torch.cuda.is_available() else \"cpu\")\n",
    "print(device)\n",
    "# TODO: Create a folder called 'checkpoints'. It is already included in the .gitignore file\n",
    "# Define the model and specify the pre-trained weights\n",
    "model = get_model(architecture=architecture, resolution=crop_resolution, num_classes=num_classes, checkpoint=checkpoint)\n",
    "model"
   ]
  },
  {
   "cell_type": "code",
   "execution_count": 5,
   "id": "a4566f22-4459-45cd-9cf3-608a64b4580b",
   "metadata": {},
   "outputs": [
    {
     "data": {
      "text/plain": [
       "torch.Size([12288])"
      ]
     },
     "execution_count": 5,
     "metadata": {},
     "output_type": "execute_result"
    }
   ],
   "source": [
    "x = torch.randn(1, 3, 64, 64)\n",
    "x = x.flatten()\n",
    "x.shape"
   ]
  },
  {
   "cell_type": "markdown",
   "metadata": {},
   "source": [
    "### Import dataset and initialize the DataLoader"
   ]
  },
  {
   "cell_type": "code",
   "execution_count": 6,
   "id": "eab64cc3-5d61-418a-9f94-1e19b81d6609",
   "metadata": {},
   "outputs": [
    {
     "name": "stdout",
     "output_type": "stream",
     "text": [
      "Files already downloaded and verified\n"
     ]
    }
   ],
   "source": [
    "transform = transforms.Compose([\n",
    "    transforms.Resize((crop_resolution, crop_resolution)),\n",
    "    transforms.ToTensor(),\n",
    "])\n",
    "\n",
    "cifar10_dataset = datasets.CIFAR10(root='./data', train=True, download=True, transform=transform)\n",
    "loader = DataLoader(cifar10_dataset, batch_size=1000, shuffle=True)\n",
    "\n",
    "\n",
    "cifar10_classes = [\n",
    "    'airplane', 'automobile', 'bird', 'cat', 'deer',\n",
    "    'dog', 'frog', 'horse', 'ship', 'truck'\n",
    "]"
   ]
  },
  {
   "cell_type": "markdown",
   "metadata": {},
   "source": [
    "### For each class, calculate the mean image"
   ]
  },
  {
   "cell_type": "code",
   "execution_count": 89,
   "id": "ce7d993e",
   "metadata": {},
   "outputs": [],
   "source": [
    "num_class = 10\n",
    "cmeans = [[] for i in range(num_class)]\n",
    "r = 0\n",
    "for x,y in loader:\n",
    "    r+=1\n",
    "    for c in range(num_class):\n",
    "        cmeans[c].append(x[y==c])\n"
   ]
  },
  {
   "cell_type": "code",
   "execution_count": 90,
   "id": "2b6be9fb",
   "metadata": {},
   "outputs": [],
   "source": [
    "clist = [torch.cat(cmeans[i]).mean(dim=0) for i in range(num_class)]"
   ]
  },
  {
   "cell_type": "code",
   "execution_count": null,
   "metadata": {},
   "outputs": [],
   "source": [
    "cclist = [c.unsqueeze(0) for c in clist]\n",
    "centers = torch.cat(cclist)\n",
    "centers.shape"
   ]
  },
  {
   "cell_type": "code",
   "execution_count": 91,
   "id": "3f0f577f",
   "metadata": {},
   "outputs": [
    {
     "data": {
      "text/plain": [
       "<matplotlib.image.AxesImage at 0x17c188760>"
      ]
     },
     "execution_count": 91,
     "metadata": {},
     "output_type": "execute_result"
    },
    {
     "data": {
      "image/png": "[encoded data removed]",
      "text/plain": [
       "<Figure size 640x480 with 1 Axes>"
      ]
     },
     "metadata": {},
     "output_type": "display_data"
    }
   ],
   "source": [
    "plt.imshow(clist[9].numpy().transpose(1,2,0))"
   ]
  },
  {
   "cell_type": "markdown",
   "metadata": {},
   "source": [
    "### Define the ClassMaximization class and create an instance of it"
   ]
  },
  {
   "cell_type": "code",
   "execution_count": 92,
   "id": "70476580-15f0-4b53-bcf6-2b3693e8f928",
   "metadata": {},
   "outputs": [],
   "source": [
    "x_c = nn.parameter.Parameter(torch.randn(3,64,64))\n",
    "\n",
    "\n",
    "class ClassMaxim(nn.Module):\n",
    "    def __init__(self,num_class, centers=None):\n",
    "        super(ClassMaxim, self).__init__()\n",
    "        self.x_c = nn.parameter.Parameter(torch.randn(num_class, 3, 64, 64))\n",
    "        if centers!=None:\n",
    "            self.x_c = nn.parameter.Parameter(centers.clone())    \n",
    "        self.clone = self.x_c.clone()"
   ]
  },
  {
   "cell_type": "code",
   "execution_count": 94,
   "id": "8d654e5c-b26c-43e8-9b5c-f89b4bf0754c",
   "metadata": {},
   "outputs": [],
   "source": [
    "# create the model\n",
    "clsmax = ClassMaxim(num_class=10, centers=centers)"
   ]
  },
  {
   "cell_type": "code",
   "execution_count": 95,
   "id": "560a33aa-8c71-4672-9b71-c5894bc4a600",
   "metadata": {
    "scrolled": true
   },
   "outputs": [
    {
     "data": {
      "text/plain": [
       "tensor([[[[True, True, True,  ..., True, True, True],\n",
       "          [True, True, True,  ..., True, True, True],\n",
       "          [True, True, True,  ..., True, True, True],\n",
       "          ...,\n",
       "          [True, True, True,  ..., True, True, True],\n",
       "          [True, True, True,  ..., True, True, True],\n",
       "          [True, True, True,  ..., True, True, True]],\n",
       "\n",
       "         [[True, True, True,  ..., True, True, True],\n",
       "          [True, True, True,  ..., True, True, True],\n",
       "          [True, True, True,  ..., True, True, True],\n",
       "          ...,\n",
       "          [True, True, True,  ..., True, True, True],\n",
       "          [True, True, True,  ..., True, True, True],\n",
       "          [True, True, True,  ..., True, True, True]],\n",
       "\n",
       "         [[True, True, True,  ..., True, True, True],\n",
       "          [True, True, True,  ..., True, True, True],\n",
       "          [True, True, True,  ..., True, True, True],\n",
       "          ...,\n",
       "          [True, True, True,  ..., True, True, True],\n",
       "          [True, True, True,  ..., True, True, True],\n",
       "          [True, True, True,  ..., True, True, True]]],\n",
       "\n",
       "\n",
       "        [[[True, True, True,  ..., True, True, True],\n",
       "          [True, True, True,  ..., True, True, True],\n",
       "          [True, True, True,  ..., True, True, True],\n",
       "          ...,\n",
       "          [True, True, True,  ..., True, True, True],\n",
       "          [True, True, True,  ..., True, True, True],\n",
       "          [True, True, True,  ..., True, True, True]],\n",
       "\n",
       "         [[True, True, True,  ..., True, True, True],\n",
       "          [True, True, True,  ..., True, True, True],\n",
       "          [True, True, True,  ..., True, True, True],\n",
       "          ...,\n",
       "          [True, True, True,  ..., True, True, True],\n",
       "          [True, True, True,  ..., True, True, True],\n",
       "          [True, True, True,  ..., True, True, True]],\n",
       "\n",
       "         [[True, True, True,  ..., True, True, True],\n",
       "          [True, True, True,  ..., True, True, True],\n",
       "          [True, True, True,  ..., True, True, True],\n",
       "          ...,\n",
       "          [True, True, True,  ..., True, True, True],\n",
       "          [True, True, True,  ..., True, True, True],\n",
       "          [True, True, True,  ..., True, True, True]]],\n",
       "\n",
       "\n",
       "        [[[True, True, True,  ..., True, True, True],\n",
       "          [True, True, True,  ..., True, True, True],\n",
       "          [True, True, True,  ..., True, True, True],\n",
       "          ...,\n",
       "          [True, True, True,  ..., True, True, True],\n",
       "          [True, True, True,  ..., True, True, True],\n",
       "          [True, True, True,  ..., True, True, True]],\n",
       "\n",
       "         [[True, True, True,  ..., True, True, True],\n",
       "          [True, True, True,  ..., True, True, True],\n",
       "          [True, True, True,  ..., True, True, True],\n",
       "          ...,\n",
       "          [True, True, True,  ..., True, True, True],\n",
       "          [True, True, True,  ..., True, True, True],\n",
       "          [True, True, True,  ..., True, True, True]],\n",
       "\n",
       "         [[True, True, True,  ..., True, True, True],\n",
       "          [True, True, True,  ..., True, True, True],\n",
       "          [True, True, True,  ..., True, True, True],\n",
       "          ...,\n",
       "          [True, True, True,  ..., True, True, True],\n",
       "          [True, True, True,  ..., True, True, True],\n",
       "          [True, True, True,  ..., True, True, True]]],\n",
       "\n",
       "\n",
       "        ...,\n",
       "\n",
       "\n",
       "        [[[True, True, True,  ..., True, True, True],\n",
       "          [True, True, True,  ..., True, True, True],\n",
       "          [True, True, True,  ..., True, True, True],\n",
       "          ...,\n",
       "          [True, True, True,  ..., True, True, True],\n",
       "          [True, True, True,  ..., True, True, True],\n",
       "          [True, True, True,  ..., True, True, True]],\n",
       "\n",
       "         [[True, True, True,  ..., True, True, True],\n",
       "          [True, True, True,  ..., True, True, True],\n",
       "          [True, True, True,  ..., True, True, True],\n",
       "          ...,\n",
       "          [True, True, True,  ..., True, True, True],\n",
       "          [True, True, True,  ..., True, True, True],\n",
       "          [True, True, True,  ..., True, True, True]],\n",
       "\n",
       "         [[True, True, True,  ..., True, True, True],\n",
       "          [True, True, True,  ..., True, True, True],\n",
       "          [True, True, True,  ..., True, True, True],\n",
       "          ...,\n",
       "          [True, True, True,  ..., True, True, True],\n",
       "          [True, True, True,  ..., True, True, True],\n",
       "          [True, True, True,  ..., True, True, True]]],\n",
       "\n",
       "\n",
       "        [[[True, True, True,  ..., True, True, True],\n",
       "          [True, True, True,  ..., True, True, True],\n",
       "          [True, True, True,  ..., True, True, True],\n",
       "          ...,\n",
       "          [True, True, True,  ..., True, True, True],\n",
       "          [True, True, True,  ..., True, True, True],\n",
       "          [True, True, True,  ..., True, True, True]],\n",
       "\n",
       "         [[True, True, True,  ..., True, True, True],\n",
       "          [True, True, True,  ..., True, True, True],\n",
       "          [True, True, True,  ..., True, True, True],\n",
       "          ...,\n",
       "          [True, True, True,  ..., True, True, True],\n",
       "          [True, True, True,  ..., True, True, True],\n",
       "          [True, True, True,  ..., True, True, True]],\n",
       "\n",
       "         [[True, True, True,  ..., True, True, True],\n",
       "          [True, True, True,  ..., True, True, True],\n",
       "          [True, True, True,  ..., True, True, True],\n",
       "          ...,\n",
       "          [True, True, True,  ..., True, True, True],\n",
       "          [True, True, True,  ..., True, True, True],\n",
       "          [True, True, True,  ..., True, True, True]]],\n",
       "\n",
       "\n",
       "        [[[True, True, True,  ..., True, True, True],\n",
       "          [True, True, True,  ..., True, True, True],\n",
       "          [True, True, True,  ..., True, True, True],\n",
       "          ...,\n",
       "          [True, True, True,  ..., True, True, True],\n",
       "          [True, True, True,  ..., True, True, True],\n",
       "          [True, True, True,  ..., True, True, True]],\n",
       "\n",
       "         [[True, True, True,  ..., True, True, True],\n",
       "          [True, True, True,  ..., True, True, True],\n",
       "          [True, True, True,  ..., True, True, True],\n",
       "          ...,\n",
       "          [True, True, True,  ..., True, True, True],\n",
       "          [True, True, True,  ..., True, True, True],\n",
       "          [True, True, True,  ..., True, True, True]],\n",
       "\n",
       "         [[True, True, True,  ..., True, True, True],\n",
       "          [True, True, True,  ..., True, True, True],\n",
       "          [True, True, True,  ..., True, True, True],\n",
       "          ...,\n",
       "          [True, True, True,  ..., True, True, True],\n",
       "          [True, True, True,  ..., True, True, True],\n",
       "          [True, True, True,  ..., True, True, True]]]])"
      ]
     },
     "execution_count": 95,
     "metadata": {},
     "output_type": "execute_result"
    }
   ],
   "source": [
    "clsmax.clone==clsmax.x_c"
   ]
  },
  {
   "cell_type": "code",
   "execution_count": 100,
   "id": "6d5bcb65-f4d4-49ef-addf-24c8f1554071",
   "metadata": {},
   "outputs": [
    {
     "name": "stdout",
     "output_type": "stream",
     "text": [
      "<class 'torch.Tensor'> torch.Size([10, 3, 64, 64])\n"
     ]
    },
    {
     "data": {
      "text/plain": [
       "torch.Size([3, 64, 64])"
      ]
     },
     "execution_count": 100,
     "metadata": {},
     "output_type": "execute_result"
    }
   ],
   "source": [
    "for param in clsmax.parameters():\n",
    "    print(type(param.data), param.size())\n",
    "\n",
    "clsmax.x_c[0].shape"
   ]
  },
  {
   "cell_type": "code",
   "execution_count": 110,
   "id": "efe0e3d5-73ce-4938-be80-89337d8b6763",
   "metadata": {
    "scrolled": true
   },
   "outputs": [
    {
     "data": {
      "text/plain": [
       "[Parameter containing:\n",
       " tensor([[[[0.5686, 0.5681, 0.5661,  ..., 0.5668, 0.5671, 0.5669],\n",
       "           [0.5690, 0.5684, 0.5664,  ..., 0.5667, 0.5671, 0.5670],\n",
       "           [0.5688, 0.5682, 0.5661,  ..., 0.5657, 0.5663, 0.5662],\n",
       "           ...,\n",
       "           [0.5153, 0.5144, 0.5117,  ..., 0.5086, 0.5098, 0.5100],\n",
       "           [0.5159, 0.5151, 0.5126,  ..., 0.5089, 0.5097, 0.5098],\n",
       "           [0.5159, 0.5151, 0.5127,  ..., 0.5086, 0.5093, 0.5092]],\n",
       " \n",
       "          [[0.6323, 0.6318, 0.6297,  ..., 0.6301, 0.6300, 0.6296],\n",
       "           [0.6327, 0.6321, 0.6301,  ..., 0.6301, 0.6301, 0.6298],\n",
       "           [0.6327, 0.6320, 0.6297,  ..., 0.6293, 0.6294, 0.6292],\n",
       "           ...,\n",
       "           [0.5399, 0.5390, 0.5360,  ..., 0.5337, 0.5348, 0.5349],\n",
       "           [0.5400, 0.5391, 0.5365,  ..., 0.5333, 0.5341, 0.5341],\n",
       "           [0.5396, 0.5388, 0.5363,  ..., 0.5326, 0.5333, 0.5333]],\n",
       " \n",
       "          [[0.6989, 0.6984, 0.6963,  ..., 0.6955, 0.6953, 0.6948],\n",
       "           [0.6992, 0.6986, 0.6965,  ..., 0.6956, 0.6955, 0.6951],\n",
       "           [0.6988, 0.6981, 0.6957,  ..., 0.6948, 0.6948, 0.6945],\n",
       "           ...,\n",
       "           [0.5470, 0.5459, 0.5427,  ..., 0.5406, 0.5421, 0.5424],\n",
       "           [0.5465, 0.5455, 0.5426,  ..., 0.5398, 0.5410, 0.5411],\n",
       "           [0.5459, 0.5449, 0.5421,  ..., 0.5389, 0.5399, 0.5400]]],\n",
       " \n",
       " \n",
       "         [[[0.5362, 0.5363, 0.5358,  ..., 0.5344, 0.5329, 0.5318],\n",
       "           [0.5355, 0.5357, 0.5351,  ..., 0.5332, 0.5317, 0.5305],\n",
       "           [0.5334, 0.5335, 0.5329,  ..., 0.5299, 0.5282, 0.5270],\n",
       "           ...,\n",
       "           [0.5260, 0.5240, 0.5188,  ..., 0.5197, 0.5223, 0.5232],\n",
       "           [0.5274, 0.5260, 0.5220,  ..., 0.5216, 0.5237, 0.5242],\n",
       "           [0.5276, 0.5265, 0.5232,  ..., 0.5220, 0.5238, 0.5243]],\n",
       " \n",
       "          [[0.5421, 0.5422, 0.5414,  ..., 0.5412, 0.5399, 0.5388],\n",
       "           [0.5412, 0.5413, 0.5405,  ..., 0.5399, 0.5385, 0.5374],\n",
       "           [0.5387, 0.5387, 0.5379,  ..., 0.5363, 0.5347, 0.5335],\n",
       "           ...,\n",
       "           [0.5180, 0.5159, 0.5105,  ..., 0.5110, 0.5138, 0.5147],\n",
       "           [0.5193, 0.5178, 0.5136,  ..., 0.5129, 0.5150, 0.5156],\n",
       "           [0.5195, 0.5182, 0.5147,  ..., 0.5133, 0.5151, 0.5156]],\n",
       " \n",
       "          [[0.5333, 0.5332, 0.5323,  ..., 0.5333, 0.5323, 0.5315],\n",
       "           [0.5320, 0.5320, 0.5311,  ..., 0.5315, 0.5305, 0.5295],\n",
       "           [0.5285, 0.5286, 0.5277,  ..., 0.5271, 0.5258, 0.5247],\n",
       "           ...,\n",
       "           [0.4962, 0.4941, 0.4888,  ..., 0.4914, 0.4945, 0.4956],\n",
       "           [0.4978, 0.4963, 0.4922,  ..., 0.4936, 0.4960, 0.4967],\n",
       "           [0.4982, 0.4969, 0.4934,  ..., 0.4942, 0.4962, 0.4968]]],\n",
       " \n",
       " \n",
       "         [[[0.4899, 0.4906, 0.4909,  ..., 0.4888, 0.4880, 0.4871],\n",
       "           [0.4903, 0.4910, 0.4912,  ..., 0.4891, 0.4882, 0.4872],\n",
       "           [0.4902, 0.4908, 0.4910,  ..., 0.4887, 0.4875, 0.4865],\n",
       "           ...,\n",
       "           [0.4903, 0.4903, 0.4891,  ..., 0.4921, 0.4915, 0.4907],\n",
       "           [0.4906, 0.4904, 0.4893,  ..., 0.4928, 0.4919, 0.4910],\n",
       "           [0.4902, 0.4901, 0.4889,  ..., 0.4927, 0.4916, 0.4907]],\n",
       " \n",
       "          [[0.5135, 0.5143, 0.5147,  ..., 0.5123, 0.5115, 0.5106],\n",
       "           [0.5139, 0.5146, 0.5150,  ..., 0.5126, 0.5117, 0.5107],\n",
       "           [0.5137, 0.5143, 0.5145,  ..., 0.5122, 0.5111, 0.5101],\n",
       "           ...,\n",
       "           [0.4939, 0.4937, 0.4922,  ..., 0.4952, 0.4950, 0.4945],\n",
       "           [0.4937, 0.4935, 0.4920,  ..., 0.4955, 0.4951, 0.4944],\n",
       "           [0.4931, 0.4929, 0.4915,  ..., 0.4951, 0.4946, 0.4939]],\n",
       " \n",
       "          [[0.4525, 0.4530, 0.4530,  ..., 0.4501, 0.4498, 0.4492],\n",
       "           [0.4525, 0.4530, 0.4529,  ..., 0.4500, 0.4496, 0.4489],\n",
       "           [0.4514, 0.4519, 0.4518,  ..., 0.4487, 0.4480, 0.4473],\n",
       "           ...,\n",
       "           [0.4176, 0.4173, 0.4157,  ..., 0.4185, 0.4188, 0.4185],\n",
       "           [0.4187, 0.4184, 0.4168,  ..., 0.4195, 0.4196, 0.4192],\n",
       "           [0.4189, 0.4185, 0.4169,  ..., 0.4195, 0.4195, 0.4190]]],\n",
       " \n",
       " \n",
       "         ...,\n",
       " \n",
       " \n",
       "         [[[0.5293, 0.5285, 0.5258,  ..., 0.5325, 0.5336, 0.5338],\n",
       "           [0.5277, 0.5268, 0.5241,  ..., 0.5301, 0.5314, 0.5316],\n",
       "           [0.5235, 0.5225, 0.5195,  ..., 0.5242, 0.5258, 0.5262],\n",
       "           ...,\n",
       "           [0.5529, 0.5513, 0.5471,  ..., 0.5437, 0.5457, 0.5462],\n",
       "           [0.5560, 0.5546, 0.5508,  ..., 0.5469, 0.5487, 0.5491],\n",
       "           [0.5570, 0.5557, 0.5521,  ..., 0.5481, 0.5497, 0.5500]],\n",
       " \n",
       "          [[0.5547, 0.5538, 0.5510,  ..., 0.5586, 0.5594, 0.5594],\n",
       "           [0.5527, 0.5518, 0.5489,  ..., 0.5560, 0.5569, 0.5570],\n",
       "           [0.5479, 0.5468, 0.5437,  ..., 0.5496, 0.5510, 0.5512],\n",
       "           ...,\n",
       "           [0.5316, 0.5297, 0.5249,  ..., 0.5216, 0.5244, 0.5254],\n",
       "           [0.5344, 0.5327, 0.5284,  ..., 0.5252, 0.5276, 0.5283],\n",
       "           [0.5354, 0.5338, 0.5297,  ..., 0.5265, 0.5287, 0.5293]],\n",
       " \n",
       "          [[0.5391, 0.5382, 0.5356,  ..., 0.5415, 0.5426, 0.5426],\n",
       "           [0.5364, 0.5355, 0.5328,  ..., 0.5384, 0.5395, 0.5397],\n",
       "           [0.5302, 0.5292, 0.5263,  ..., 0.5310, 0.5325, 0.5328],\n",
       "           ...,\n",
       "           [0.4259, 0.4239, 0.4188,  ..., 0.4163, 0.4197, 0.4209],\n",
       "           [0.4291, 0.4273, 0.4226,  ..., 0.4201, 0.4231, 0.4241],\n",
       "           [0.4302, 0.4285, 0.4240,  ..., 0.4215, 0.4243, 0.4253]]],\n",
       " \n",
       " \n",
       "         [[[0.5736, 0.5732, 0.5714,  ..., 0.5721, 0.5722, 0.5718],\n",
       "           [0.5730, 0.5726, 0.5707,  ..., 0.5711, 0.5711, 0.5707],\n",
       "           [0.5708, 0.5703, 0.5683,  ..., 0.5680, 0.5680, 0.5676],\n",
       "           ...,\n",
       "           [0.3875, 0.3861, 0.3822,  ..., 0.3753, 0.3774, 0.3780],\n",
       "           [0.3877, 0.3864, 0.3828,  ..., 0.3757, 0.3778, 0.3783],\n",
       "           [0.3874, 0.3861, 0.3826,  ..., 0.3754, 0.3775, 0.3780]],\n",
       " \n",
       "          [[0.6385, 0.6382, 0.6366,  ..., 0.6380, 0.6378, 0.6373],\n",
       "           [0.6380, 0.6376, 0.6360,  ..., 0.6372, 0.6370, 0.6364],\n",
       "           [0.6360, 0.6356, 0.6339,  ..., 0.6346, 0.6343, 0.6337],\n",
       "           ...,\n",
       "           [0.4411, 0.4395, 0.4351,  ..., 0.4285, 0.4309, 0.4317],\n",
       "           [0.4407, 0.4391, 0.4350,  ..., 0.4282, 0.4305, 0.4311],\n",
       "           [0.4400, 0.4385, 0.4345,  ..., 0.4275, 0.4297, 0.4304]],\n",
       " \n",
       "          [[0.7016, 0.7013, 0.6998,  ..., 0.6996, 0.6990, 0.6983],\n",
       "           [0.7009, 0.7007, 0.6991,  ..., 0.6987, 0.6980, 0.6973],\n",
       "           [0.6987, 0.6985, 0.6969,  ..., 0.6959, 0.6951, 0.6943],\n",
       "           ...,\n",
       "           [0.4746, 0.4726, 0.4676,  ..., 0.4607, 0.4637, 0.4647],\n",
       "           [0.4734, 0.4715, 0.4667,  ..., 0.4597, 0.4625, 0.4634],\n",
       "           [0.4723, 0.4704, 0.4658,  ..., 0.4587, 0.4615, 0.4623]]],\n",
       " \n",
       " \n",
       "         [[[0.6562, 0.6557, 0.6538,  ..., 0.6538, 0.6527, 0.6517],\n",
       "           [0.6551, 0.6546, 0.6527,  ..., 0.6520, 0.6508, 0.6499],\n",
       "           [0.6520, 0.6515, 0.6494,  ..., 0.6473, 0.6462, 0.6453],\n",
       "           ...,\n",
       "           [0.5488, 0.5453, 0.5375,  ..., 0.5341, 0.5380, 0.5396],\n",
       "           [0.5540, 0.5512, 0.5446,  ..., 0.5417, 0.5442, 0.5450],\n",
       "           [0.5562, 0.5537, 0.5476,  ..., 0.5450, 0.5468, 0.5472]],\n",
       " \n",
       "          [[0.6954, 0.6949, 0.6929,  ..., 0.6928, 0.6914, 0.6903],\n",
       "           [0.6940, 0.6934, 0.6915,  ..., 0.6908, 0.6894, 0.6883],\n",
       "           [0.6901, 0.6897, 0.6876,  ..., 0.6857, 0.6844, 0.6833],\n",
       "           ...,\n",
       "           [0.5333, 0.5298, 0.5218,  ..., 0.5191, 0.5233, 0.5249],\n",
       "           [0.5388, 0.5358, 0.5290,  ..., 0.5268, 0.5295, 0.5304],\n",
       "           [0.5411, 0.5384, 0.5321,  ..., 0.5301, 0.5321, 0.5327]],\n",
       " \n",
       "          [[0.7242, 0.7236, 0.7216,  ..., 0.7206, 0.7196, 0.7187],\n",
       "           [0.7220, 0.7214, 0.7196,  ..., 0.7182, 0.7171, 0.7162],\n",
       "           [0.7167, 0.7163, 0.7144,  ..., 0.7122, 0.7111, 0.7101],\n",
       "           ...,\n",
       "           [0.5044, 0.5009, 0.4927,  ..., 0.4895, 0.4939, 0.4957],\n",
       "           [0.5098, 0.5068, 0.4997,  ..., 0.4972, 0.5003, 0.5014],\n",
       "           [0.5121, 0.5093, 0.5027,  ..., 0.5007, 0.5030, 0.5038]]]],\n",
       "        requires_grad=True)]"
      ]
     },
     "execution_count": 110,
     "metadata": {},
     "output_type": "execute_result"
    }
   ],
   "source": [
    "list(clsmax.parameters())"
   ]
  },
  {
   "cell_type": "code",
   "execution_count": 111,
   "id": "89ab20c3-5d92-4808-a8e4-56974327db07",
   "metadata": {},
   "outputs": [],
   "source": [
    "parser = get_training_parser()\n",
    "args = parser.parse_args(args=[])\n",
    "\n",
    "epoch = 100\n",
    "num_class=10\n",
    "\n",
    "loss_fn = CrossEntropyLoss(label_smoothing=args.smooth)\n",
    "opt = get_optimizer(args.optimizer)(clsmax.parameters(), lr=0.003, weight_decay=args.weight_decay)#args.lr\n",
    "scheduler = get_scheduler(opt, args.scheduler, **args.__dict__)"
   ]
  },
  {
   "cell_type": "code",
   "execution_count": 114,
   "id": "90254740-4a66-464b-9bbe-7f2e6d4781c7",
   "metadata": {
    "scrolled": true
   },
   "outputs": [
    {
     "name": "stdout",
     "output_type": "stream",
     "text": [
      "tensor(1.5574, grad_fn=<SelectBackward0>)\n",
      "tensor(2.5286, grad_fn=<SelectBackward0>)\n",
      "tensor(2.7787, grad_fn=<SelectBackward0>)\n",
      "tensor(3.0540, grad_fn=<SelectBackward0>)\n",
      "tensor(3.2471, grad_fn=<SelectBackward0>)\n",
      "tensor(3.3144, grad_fn=<SelectBackward0>)\n",
      "tensor(3.2991, grad_fn=<SelectBackward0>)\n",
      "tensor(3.5806, grad_fn=<SelectBackward0>)\n",
      "tensor(3.7763, grad_fn=<SelectBackward0>)\n",
      "tensor(3.9521, grad_fn=<SelectBackward0>)\n",
      "tensor(4.0764, grad_fn=<SelectBackward0>)\n",
      "tensor(4.1131, grad_fn=<SelectBackward0>)\n",
      "tensor(4.3527, grad_fn=<SelectBackward0>)\n",
      "tensor(4.3751, grad_fn=<SelectBackward0>)\n",
      "tensor(4.6343, grad_fn=<SelectBackward0>)\n",
      "tensor(4.7068, grad_fn=<SelectBackward0>)\n",
      "tensor(4.8893, grad_fn=<SelectBackward0>)\n",
      "tensor(5.0124, grad_fn=<SelectBackward0>)\n",
      "tensor(5.1493, grad_fn=<SelectBackward0>)\n",
      "tensor(5.2786, grad_fn=<SelectBackward0>)\n",
      "tensor(5.3794, grad_fn=<SelectBackward0>)\n",
      "tensor(5.4742, grad_fn=<SelectBackward0>)\n",
      "tensor(5.6504, grad_fn=<SelectBackward0>)\n",
      "tensor(5.6988, grad_fn=<SelectBackward0>)\n",
      "tensor(5.8596, grad_fn=<SelectBackward0>)\n",
      "tensor(5.9044, grad_fn=<SelectBackward0>)\n",
      "tensor(6.0614, grad_fn=<SelectBackward0>)\n",
      "tensor(6.0868, grad_fn=<SelectBackward0>)\n",
      "tensor(6.2660, grad_fn=<SelectBackward0>)\n",
      "tensor(6.2791, grad_fn=<SelectBackward0>)\n",
      "tensor(6.4296, grad_fn=<SelectBackward0>)\n",
      "tensor(6.4579, grad_fn=<SelectBackward0>)\n",
      "tensor(6.5613, grad_fn=<SelectBackward0>)\n",
      "tensor(6.6481, grad_fn=<SelectBackward0>)\n",
      "tensor(6.7322, grad_fn=<SelectBackward0>)\n",
      "tensor(6.8248, grad_fn=<SelectBackward0>)\n",
      "tensor(6.8982, grad_fn=<SelectBackward0>)\n",
      "tensor(6.9822, grad_fn=<SelectBackward0>)\n",
      "tensor(7.0392, grad_fn=<SelectBackward0>)\n",
      "tensor(7.2077, grad_fn=<SelectBackward0>)\n"
     ]
    }
   ],
   "source": [
    "start = time.time()\n",
    "model.eval() # fixed model\n",
    "\n",
    "# total_acc, total_top5 = AverageMeter(), AverageMeter()\n",
    "total_loss = AverageMeter()\n",
    "\n",
    "for step in range(40):\n",
    "    for c in range(1):\n",
    "        xx = clsmax.x_c[c].flatten()#.cuda()\n",
    "        preds = model(xx)\n",
    "        targs = torch.tensor(c)#.cuda()\n",
    "\n",
    "\n",
    "        (-preds[c]).backward()\n",
    "        # loss = loss_fn(preds, targs)\n",
    "        \n",
    "        # loss = loss / args.accum_steps\n",
    "        # loss.backward()\n",
    "\n",
    "        print(preds[c])\n",
    "        \n",
    "        opt.step()\n",
    "        opt.zero_grad()\n",
    "    \n",
    "        #total_loss.update(loss.item() * args.accum_steps, 1)\n",
    "\n",
    "end = time.time()\n",
    "\n",
    "scheduler.step()"
   ]
  },
  {
   "cell_type": "code",
   "execution_count": 116,
   "id": "6e8c54b2-e6f8-4af7-a8f9-e9d52392dc6a",
   "metadata": {},
   "outputs": [
    {
     "data": {
      "text/plain": [
       "tensor(62.5754, grad_fn=<LinalgVectorNormBackward0>)"
      ]
     },
     "execution_count": 116,
     "metadata": {},
     "output_type": "execute_result"
    }
   ],
   "source": [
    "torch.norm(clsmax.x_c[0])"
   ]
  },
  {
   "cell_type": "code",
   "execution_count": 117,
   "id": "e3dc65a4",
   "metadata": {},
   "outputs": [
    {
     "data": {
      "text/plain": [
       "tensor(62.3464)"
      ]
     },
     "execution_count": 117,
     "metadata": {},
     "output_type": "execute_result"
    }
   ],
   "source": [
    "torch.norm(centers[0])"
   ]
  },
  {
   "cell_type": "code",
   "execution_count": 118,
   "id": "71585bcc-c739-4f98-ae46-841870b877b2",
   "metadata": {},
   "outputs": [
    {
     "data": {
      "text/plain": [
       "<matplotlib.image.AxesImage at 0x17c24a8c0>"
      ]
     },
     "execution_count": 118,
     "metadata": {},
     "output_type": "execute_result"
    },
    {
     "data": {
      "image/png": "[encoded data removed]",
      "text/plain": [
       "<Figure size 640x480 with 1 Axes>"
      ]
     },
     "metadata": {},
     "output_type": "display_data"
    }
   ],
   "source": [
    "plt.imshow(clsmax.x_c[0].detach().numpy().transpose(1,2,0))"
   ]
  },
  {
   "cell_type": "code",
   "execution_count": 119,
   "id": "a9490de9-bd80-4e23-9236-aeacdd9c1a79",
   "metadata": {},
   "outputs": [
    {
     "data": {
      "text/plain": [
       "<matplotlib.image.AxesImage at 0x17c2e9f60>"
      ]
     },
     "execution_count": 119,
     "metadata": {},
     "output_type": "execute_result"
    },
    {
     "data": {
      "image/png": "[encoded data removed]",
      "text/plain": [
       "<Figure size 640x480 with 1 Axes>"
      ]
     },
     "metadata": {},
     "output_type": "display_data"
    }
   ],
   "source": [
    "plt.imshow(clsmax.clone[0].detach().numpy().transpose(1,2,0))"
   ]
  },
  {
   "cell_type": "code",
   "execution_count": 121,
   "id": "848cac2e-3e82-4efa-98e9-5a9aab4b41da",
   "metadata": {
    "scrolled": true
   },
   "outputs": [
    {
     "data": {
      "text/plain": [
       "tensor([[[False, False, False,  ..., False, False, False],\n",
       "         [False, False, False,  ..., False, False, False],\n",
       "         [False, False, False,  ..., False, False, False],\n",
       "         ...,\n",
       "         [False, False, False,  ..., False, False, False],\n",
       "         [False, False,  True,  ..., False, False, False],\n",
       "         [False, False, False,  ..., False, False, False]],\n",
       "\n",
       "        [[False, False, False,  ..., False, False, False],\n",
       "         [False, False, False,  ..., False,  True,  True],\n",
       "         [False, False, False,  ..., False,  True, False],\n",
       "         ...,\n",
       "         [False, False, False,  ..., False, False, False],\n",
       "         [False, False, False,  ..., False, False, False],\n",
       "         [False, False,  True,  ..., False, False, False]],\n",
       "\n",
       "        [[False, False, False,  ..., False, False, False],\n",
       "         [False, False, False,  ..., False, False, False],\n",
       "         [False, False, False,  ..., False, False, False],\n",
       "         ...,\n",
       "         [False,  True, False,  ..., False, False, False],\n",
       "         [False, False, False,  ..., False, False, False],\n",
       "         [False, False, False,  ..., False, False, False]]])"
      ]
     },
     "execution_count": 121,
     "metadata": {},
     "output_type": "execute_result"
    }
   ],
   "source": [
    "clsmax.clone[0]==clsmax.x_c[0]"
   ]
  },
  {
   "cell_type": "markdown",
   "metadata": {},
   "source": [
    "# Same thing for CNNs"
   ]
  },
  {
   "cell_type": "code",
   "execution_count": 141,
   "metadata": {},
   "outputs": [
    {
     "data": {
      "text/plain": [
       "ResNet(\n",
       "  (conv1): Conv2d(3, 64, kernel_size=(7, 7), stride=(2, 2), padding=(3, 3), bias=False)\n",
       "  (bn1): BatchNorm2d(64, eps=1e-05, momentum=0.1, affine=True, track_running_stats=True)\n",
       "  (relu): ReLU(inplace=True)\n",
       "  (maxpool): MaxPool2d(kernel_size=3, stride=2, padding=1, dilation=1, ceil_mode=False)\n",
       "  (layer1): Sequential(\n",
       "    (0): BasicBlock(\n",
       "      (conv1): Conv2d(64, 64, kernel_size=(3, 3), stride=(1, 1), padding=(1, 1), bias=False)\n",
       "      (bn1): BatchNorm2d(64, eps=1e-05, momentum=0.1, affine=True, track_running_stats=True)\n",
       "      (relu): ReLU(inplace=True)\n",
       "      (conv2): Conv2d(64, 64, kernel_size=(3, 3), stride=(1, 1), padding=(1, 1), bias=False)\n",
       "      (bn2): BatchNorm2d(64, eps=1e-05, momentum=0.1, affine=True, track_running_stats=True)\n",
       "    )\n",
       "    (1): BasicBlock(\n",
       "      (conv1): Conv2d(64, 64, kernel_size=(3, 3), stride=(1, 1), padding=(1, 1), bias=False)\n",
       "      (bn1): BatchNorm2d(64, eps=1e-05, momentum=0.1, affine=True, track_running_stats=True)\n",
       "      (relu): ReLU(inplace=True)\n",
       "      (conv2): Conv2d(64, 64, kernel_size=(3, 3), stride=(1, 1), padding=(1, 1), bias=False)\n",
       "      (bn2): BatchNorm2d(64, eps=1e-05, momentum=0.1, affine=True, track_running_stats=True)\n",
       "    )\n",
       "  )\n",
       "  (layer2): Sequential(\n",
       "    (0): BasicBlock(\n",
       "      (conv1): Conv2d(64, 128, kernel_size=(3, 3), stride=(2, 2), padding=(1, 1), bias=False)\n",
       "      (bn1): BatchNorm2d(128, eps=1e-05, momentum=0.1, affine=True, track_running_stats=True)\n",
       "      (relu): ReLU(inplace=True)\n",
       "      (conv2): Conv2d(128, 128, kernel_size=(3, 3), stride=(1, 1), padding=(1, 1), bias=False)\n",
       "      (bn2): BatchNorm2d(128, eps=1e-05, momentum=0.1, affine=True, track_running_stats=True)\n",
       "      (downsample): Sequential(\n",
       "        (0): Conv2d(64, 128, kernel_size=(1, 1), stride=(2, 2), bias=False)\n",
       "        (1): BatchNorm2d(128, eps=1e-05, momentum=0.1, affine=True, track_running_stats=True)\n",
       "      )\n",
       "    )\n",
       "    (1): BasicBlock(\n",
       "      (conv1): Conv2d(128, 128, kernel_size=(3, 3), stride=(1, 1), padding=(1, 1), bias=False)\n",
       "      (bn1): BatchNorm2d(128, eps=1e-05, momentum=0.1, affine=True, track_running_stats=True)\n",
       "      (relu): ReLU(inplace=True)\n",
       "      (conv2): Conv2d(128, 128, kernel_size=(3, 3), stride=(1, 1), padding=(1, 1), bias=False)\n",
       "      (bn2): BatchNorm2d(128, eps=1e-05, momentum=0.1, affine=True, track_running_stats=True)\n",
       "    )\n",
       "  )\n",
       "  (layer3): Sequential(\n",
       "    (0): BasicBlock(\n",
       "      (conv1): Conv2d(128, 256, kernel_size=(3, 3), stride=(2, 2), padding=(1, 1), bias=False)\n",
       "      (bn1): BatchNorm2d(256, eps=1e-05, momentum=0.1, affine=True, track_running_stats=True)\n",
       "      (relu): ReLU(inplace=True)\n",
       "      (conv2): Conv2d(256, 256, kernel_size=(3, 3), stride=(1, 1), padding=(1, 1), bias=False)\n",
       "      (bn2): BatchNorm2d(256, eps=1e-05, momentum=0.1, affine=True, track_running_stats=True)\n",
       "      (downsample): Sequential(\n",
       "        (0): Conv2d(128, 256, kernel_size=(1, 1), stride=(2, 2), bias=False)\n",
       "        (1): BatchNorm2d(256, eps=1e-05, momentum=0.1, affine=True, track_running_stats=True)\n",
       "      )\n",
       "    )\n",
       "    (1): BasicBlock(\n",
       "      (conv1): Conv2d(256, 256, kernel_size=(3, 3), stride=(1, 1), padding=(1, 1), bias=False)\n",
       "      (bn1): BatchNorm2d(256, eps=1e-05, momentum=0.1, affine=True, track_running_stats=True)\n",
       "      (relu): ReLU(inplace=True)\n",
       "      (conv2): Conv2d(256, 256, kernel_size=(3, 3), stride=(1, 1), padding=(1, 1), bias=False)\n",
       "      (bn2): BatchNorm2d(256, eps=1e-05, momentum=0.1, affine=True, track_running_stats=True)\n",
       "    )\n",
       "  )\n",
       "  (layer4): Sequential(\n",
       "    (0): BasicBlock(\n",
       "      (conv1): Conv2d(256, 512, kernel_size=(3, 3), stride=(2, 2), padding=(1, 1), bias=False)\n",
       "      (bn1): BatchNorm2d(512, eps=1e-05, momentum=0.1, affine=True, track_running_stats=True)\n",
       "      (relu): ReLU(inplace=True)\n",
       "      (conv2): Conv2d(512, 512, kernel_size=(3, 3), stride=(1, 1), padding=(1, 1), bias=False)\n",
       "      (bn2): BatchNorm2d(512, eps=1e-05, momentum=0.1, affine=True, track_running_stats=True)\n",
       "      (downsample): Sequential(\n",
       "        (0): Conv2d(256, 512, kernel_size=(1, 1), stride=(2, 2), bias=False)\n",
       "        (1): BatchNorm2d(512, eps=1e-05, momentum=0.1, affine=True, track_running_stats=True)\n",
       "      )\n",
       "    )\n",
       "    (1): BasicBlock(\n",
       "      (conv1): Conv2d(512, 512, kernel_size=(3, 3), stride=(1, 1), padding=(1, 1), bias=False)\n",
       "      (bn1): BatchNorm2d(512, eps=1e-05, momentum=0.1, affine=True, track_running_stats=True)\n",
       "      (relu): ReLU(inplace=True)\n",
       "      (conv2): Conv2d(512, 512, kernel_size=(3, 3), stride=(1, 1), padding=(1, 1), bias=False)\n",
       "      (bn2): BatchNorm2d(512, eps=1e-05, momentum=0.1, affine=True, track_running_stats=True)\n",
       "    )\n",
       "  )\n",
       "  (avgpool): AdaptiveAvgPool2d(output_size=(1, 1))\n",
       "  (fc): Linear(in_features=512, out_features=1000, bias=True)\n",
       ")"
      ]
     },
     "execution_count": 141,
     "metadata": {},
     "output_type": "execute_result"
    }
   ],
   "source": [
    "# USE CNN that is pretrained on cifar10"
   ]
  },
  {
   "cell_type": "code",
   "execution_count": 122,
   "metadata": {},
   "outputs": [],
   "source": [
    "num_class = 10\n",
    "cmeans = [[] for i in range(num_class)]\n",
    "r = 0\n",
    "for x,y in loader:\n",
    "    r+=1\n",
    "    for c in range(num_class):\n",
    "        cmeans[c].append(x[y==c])"
   ]
  },
  {
   "cell_type": "code",
   "execution_count": 123,
   "metadata": {},
   "outputs": [],
   "source": [
    "clist = [torch.cat(cmeans[i]).mean(dim=0) for i in range(num_class)]"
   ]
  },
  {
   "cell_type": "code",
   "execution_count": 124,
   "metadata": {},
   "outputs": [
    {
     "data": {
      "text/plain": [
       "torch.Size([10, 3, 64, 64])"
      ]
     },
     "execution_count": 124,
     "metadata": {},
     "output_type": "execute_result"
    }
   ],
   "source": [
    "cclist = [c.unsqueeze(0) for c in clist]\n",
    "centers = torch.cat(cclist)\n",
    "centers.shape"
   ]
  },
  {
   "cell_type": "markdown",
   "metadata": {},
   "source": [
    "### Define the ClassMaximization class and create an instance of it"
   ]
  },
  {
   "cell_type": "code",
   "execution_count": null,
   "metadata": {},
   "outputs": [],
   "source": [
    "x_c = nn.parameter.Parameter(torch.randn(3,64,64))\n",
    "\n",
    "class ClassMaxim(nn.Module):\n",
    "    def __init__(self,num_class, centers=None):\n",
    "        super(ClassMaxim, self).__init__()\n",
    "        self.x_c = nn.parameter.Parameter(torch.randn(num_class, 3, 64, 64))\n",
    "        if centers!=None:\n",
    "            self.x_c = nn.parameter.Parameter(centers.clone())    \n",
    "        self.clone = self.x_c.clone()"
   ]
  },
  {
   "cell_type": "code",
   "execution_count": 125,
   "metadata": {},
   "outputs": [],
   "source": [
    "# create the model\n",
    "clsmax = ClassMaxim(num_class=10, centers=centers)"
   ]
  },
  {
   "cell_type": "code",
   "execution_count": 126,
   "metadata": {},
   "outputs": [
    {
     "data": {
      "text/plain": [
       "tensor([[[[True, True, True,  ..., True, True, True],\n",
       "          [True, True, True,  ..., True, True, True],\n",
       "          [True, True, True,  ..., True, True, True],\n",
       "          ...,\n",
       "          [True, True, True,  ..., True, True, True],\n",
       "          [True, True, True,  ..., True, True, True],\n",
       "          [True, True, True,  ..., True, True, True]],\n",
       "\n",
       "         [[True, True, True,  ..., True, True, True],\n",
       "          [True, True, True,  ..., True, True, True],\n",
       "          [True, True, True,  ..., True, True, True],\n",
       "          ...,\n",
       "          [True, True, True,  ..., True, True, True],\n",
       "          [True, True, True,  ..., True, True, True],\n",
       "          [True, True, True,  ..., True, True, True]],\n",
       "\n",
       "         [[True, True, True,  ..., True, True, True],\n",
       "          [True, True, True,  ..., True, True, True],\n",
       "          [True, True, True,  ..., True, True, True],\n",
       "          ...,\n",
       "          [True, True, True,  ..., True, True, True],\n",
       "          [True, True, True,  ..., True, True, True],\n",
       "          [True, True, True,  ..., True, True, True]]],\n",
       "\n",
       "\n",
       "        [[[True, True, True,  ..., True, True, True],\n",
       "          [True, True, True,  ..., True, True, True],\n",
       "          [True, True, True,  ..., True, True, True],\n",
       "          ...,\n",
       "          [True, True, True,  ..., True, True, True],\n",
       "          [True, True, True,  ..., True, True, True],\n",
       "          [True, True, True,  ..., True, True, True]],\n",
       "\n",
       "         [[True, True, True,  ..., True, True, True],\n",
       "          [True, True, True,  ..., True, True, True],\n",
       "          [True, True, True,  ..., True, True, True],\n",
       "          ...,\n",
       "          [True, True, True,  ..., True, True, True],\n",
       "          [True, True, True,  ..., True, True, True],\n",
       "          [True, True, True,  ..., True, True, True]],\n",
       "\n",
       "         [[True, True, True,  ..., True, True, True],\n",
       "          [True, True, True,  ..., True, True, True],\n",
       "          [True, True, True,  ..., True, True, True],\n",
       "          ...,\n",
       "          [True, True, True,  ..., True, True, True],\n",
       "          [True, True, True,  ..., True, True, True],\n",
       "          [True, True, True,  ..., True, True, True]]],\n",
       "\n",
       "\n",
       "        [[[True, True, True,  ..., True, True, True],\n",
       "          [True, True, True,  ..., True, True, True],\n",
       "          [True, True, True,  ..., True, True, True],\n",
       "          ...,\n",
       "          [True, True, True,  ..., True, True, True],\n",
       "          [True, True, True,  ..., True, True, True],\n",
       "          [True, True, True,  ..., True, True, True]],\n",
       "\n",
       "         [[True, True, True,  ..., True, True, True],\n",
       "          [True, True, True,  ..., True, True, True],\n",
       "          [True, True, True,  ..., True, True, True],\n",
       "          ...,\n",
       "          [True, True, True,  ..., True, True, True],\n",
       "          [True, True, True,  ..., True, True, True],\n",
       "          [True, True, True,  ..., True, True, True]],\n",
       "\n",
       "         [[True, True, True,  ..., True, True, True],\n",
       "          [True, True, True,  ..., True, True, True],\n",
       "          [True, True, True,  ..., True, True, True],\n",
       "          ...,\n",
       "          [True, True, True,  ..., True, True, True],\n",
       "          [True, True, True,  ..., True, True, True],\n",
       "          [True, True, True,  ..., True, True, True]]],\n",
       "\n",
       "\n",
       "        ...,\n",
       "\n",
       "\n",
       "        [[[True, True, True,  ..., True, True, True],\n",
       "          [True, True, True,  ..., True, True, True],\n",
       "          [True, True, True,  ..., True, True, True],\n",
       "          ...,\n",
       "          [True, True, True,  ..., True, True, True],\n",
       "          [True, True, True,  ..., True, True, True],\n",
       "          [True, True, True,  ..., True, True, True]],\n",
       "\n",
       "         [[True, True, True,  ..., True, True, True],\n",
       "          [True, True, True,  ..., True, True, True],\n",
       "          [True, True, True,  ..., True, True, True],\n",
       "          ...,\n",
       "          [True, True, True,  ..., True, True, True],\n",
       "          [True, True, True,  ..., True, True, True],\n",
       "          [True, True, True,  ..., True, True, True]],\n",
       "\n",
       "         [[True, True, True,  ..., True, True, True],\n",
       "          [True, True, True,  ..., True, True, True],\n",
       "          [True, True, True,  ..., True, True, True],\n",
       "          ...,\n",
       "          [True, True, True,  ..., True, True, True],\n",
       "          [True, True, True,  ..., True, True, True],\n",
       "          [True, True, True,  ..., True, True, True]]],\n",
       "\n",
       "\n",
       "        [[[True, True, True,  ..., True, True, True],\n",
       "          [True, True, True,  ..., True, True, True],\n",
       "          [True, True, True,  ..., True, True, True],\n",
       "          ...,\n",
       "          [True, True, True,  ..., True, True, True],\n",
       "          [True, True, True,  ..., True, True, True],\n",
       "          [True, True, True,  ..., True, True, True]],\n",
       "\n",
       "         [[True, True, True,  ..., True, True, True],\n",
       "          [True, True, True,  ..., True, True, True],\n",
       "          [True, True, True,  ..., True, True, True],\n",
       "          ...,\n",
       "          [True, True, True,  ..., True, True, True],\n",
       "          [True, True, True,  ..., True, True, True],\n",
       "          [True, True, True,  ..., True, True, True]],\n",
       "\n",
       "         [[True, True, True,  ..., True, True, True],\n",
       "          [True, True, True,  ..., True, True, True],\n",
       "          [True, True, True,  ..., True, True, True],\n",
       "          ...,\n",
       "          [True, True, True,  ..., True, True, True],\n",
       "          [True, True, True,  ..., True, True, True],\n",
       "          [True, True, True,  ..., True, True, True]]],\n",
       "\n",
       "\n",
       "        [[[True, True, True,  ..., True, True, True],\n",
       "          [True, True, True,  ..., True, True, True],\n",
       "          [True, True, True,  ..., True, True, True],\n",
       "          ...,\n",
       "          [True, True, True,  ..., True, True, True],\n",
       "          [True, True, True,  ..., True, True, True],\n",
       "          [True, True, True,  ..., True, True, True]],\n",
       "\n",
       "         [[True, True, True,  ..., True, True, True],\n",
       "          [True, True, True,  ..., True, True, True],\n",
       "          [True, True, True,  ..., True, True, True],\n",
       "          ...,\n",
       "          [True, True, True,  ..., True, True, True],\n",
       "          [True, True, True,  ..., True, True, True],\n",
       "          [True, True, True,  ..., True, True, True]],\n",
       "\n",
       "         [[True, True, True,  ..., True, True, True],\n",
       "          [True, True, True,  ..., True, True, True],\n",
       "          [True, True, True,  ..., True, True, True],\n",
       "          ...,\n",
       "          [True, True, True,  ..., True, True, True],\n",
       "          [True, True, True,  ..., True, True, True],\n",
       "          [True, True, True,  ..., True, True, True]]]])"
      ]
     },
     "execution_count": 126,
     "metadata": {},
     "output_type": "execute_result"
    }
   ],
   "source": [
    "clsmax.clone==clsmax.x_c"
   ]
  },
  {
   "cell_type": "code",
   "execution_count": 127,
   "metadata": {},
   "outputs": [],
   "source": [
    "parser = get_training_parser()\n",
    "args = parser.parse_args(args=[])\n",
    "\n",
    "epoch = 100\n",
    "num_class=10\n",
    "\n",
    "loss_fn = CrossEntropyLoss(label_smoothing=args.smooth)\n",
    "opt = get_optimizer(args.optimizer)(clsmax.parameters(), lr=0.003, weight_decay=args.weight_decay)#args.lr\n",
    "scheduler = get_scheduler(opt, args.scheduler, **args.__dict__)"
   ]
  },
  {
   "cell_type": "code",
   "execution_count": null,
   "metadata": {},
   "outputs": [],
   "source": [
    "start = time.time()\n",
    "model.eval() # fixed model\n",
    "\n",
    "# total_acc, total_top5 = AverageMeter(), AverageMeter()\n",
    "total_loss = AverageMeter()\n",
    "\n",
    "for step in range(40):\n",
    "    for c in range(1):\n",
    "        xx = clsmax.x_c[c]#.flatten()#.cuda()\n",
    "        #print(xx.size())\n",
    "        preds = model(xx)\n",
    "        print(preds.size())\n",
    "        targs = torch.tensor(c)#.cuda()\n",
    "\n",
    "\n",
    "        (-preds[c]).backward()\n",
    "        # loss = loss_fn(preds, targs)\n",
    "        \n",
    "        # loss = loss / args.accum_steps\n",
    "        # loss.backward()\n",
    "\n",
    "        print(preds[c])\n",
    "        \n",
    "        opt.step()\n",
    "        opt.zero_grad()\n",
    "    \n",
    "        #total_loss.update(loss.item() * args.accum_steps, 1)\n",
    "\n",
    "end = time.time()\n",
    "\n",
    "scheduler.step()"
   ]
  }
 ],
 "metadata": {
  "kernelspec": {
   "display_name": "Python 3 (ipykernel)",
   "language": "python",
   "name": "python3"
  },
  "language_info": {
   "codemirror_mode": {
    "name": "ipython",
    "version": 3
   },
   "file_extension": ".py",
   "mimetype": "text/x-python",
   "name": "python",
   "nbconvert_exporter": "python",
   "pygments_lexer": "ipython3",
   "version": "3.10.13"
  }
 },
 "nbformat": 4,
 "nbformat_minor": 5
}
