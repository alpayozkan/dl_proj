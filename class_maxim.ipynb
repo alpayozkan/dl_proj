{
 "cells": [
  {
   "cell_type": "code",
   "execution_count": 1,
   "id": "d76cb747-4315-403c-8c60-bc837c7299fc",
   "metadata": {},
   "outputs": [],
   "source": [
    "# imports\n",
    "import torch\n",
    "import torch.nn as nn\n",
    "import torchvision.models as models\n",
    "from torch.nn import CrossEntropyLoss\n",
    "from torchvision import datasets, transforms\n",
    "from torch.utils.data import DataLoader\n",
    "from utils.metrics import topk_acc, real_acc, AverageMeter\n",
    "from utils.parsers import get_training_parser\n",
    "from utils.optimizer import get_optimizer, get_scheduler, OPTIMIZERS_DICT, SCHEDULERS\n",
    "\n",
    "from models.networks import get_model\n",
    "from data_utils.data_stats import *\n",
    "\n",
    "import matplotlib.pyplot as plt\n",
    "import argparse\n",
    "import time\n"
   ]
  },
  {
   "cell_type": "code",
   "execution_count": 2,
   "id": "27b57bbd-317a-4877-99bc-4c4790505d34",
   "metadata": {},
   "outputs": [],
   "source": [
    "dataset = 'cifar10'                 # One of cifar10, cifar100, stl10, imagenet or imagenet21\n",
    "architecture = 'B_12-Wi_1024'\n",
    "data_resolution = 32                # Resolution of data as it is stored\n",
    "crop_resolution = 64                # Resolution of fine-tuned model (64 for all models we provide)\n",
    "num_classes = CLASS_DICT[dataset]\n",
    "#data_path = './beton/'\n",
    "eval_batch_size = 1024\n",
    "checkpoint = 'in21k_cifar10'        # This means you want the network pre-trained on ImageNet21k and finetuned on CIFAR10"
   ]
  },
  {
   "cell_type": "code",
   "execution_count": 3,
   "id": "b9e058c1-839e-4bf0-b11a-4fcecfd993d2",
   "metadata": {},
   "outputs": [
    {
     "name": "stdout",
     "output_type": "stream",
     "text": [
      "Weights already downloaded\n",
      "Load_state output <All keys matched successfully>\n"
     ]
    }
   ],
   "source": [
    "# TODO: Do not forget to choose GPU as runtime\n",
    "torch.backends.cuda.matmul.allow_tf32 = True\n",
    "device = torch.device(\"cuda:0\" if torch.cuda.is_available() else \"cpu\")\n",
    "\n",
    "# TODO: Create a folder called 'checkpoints'. It is already included in the .gitignore file\n",
    "# Define the model and specify the pre-trained weights\n",
    "model = get_model(architecture=architecture, resolution=crop_resolution, num_classes=num_classes, checkpoint=checkpoint)\n",
    "\n",
    "\n"
   ]
  },
  {
   "cell_type": "code",
   "execution_count": 4,
   "id": "02ac606b",
   "metadata": {},
   "outputs": [],
   "source": [
    "import argparse"
   ]
  },
  {
   "cell_type": "code",
   "execution_count": 5,
   "id": "6e985883",
   "metadata": {},
   "outputs": [
    {
     "data": {
      "text/plain": [
       "argparse.BooleanOptionalAction"
      ]
     },
     "execution_count": 5,
     "metadata": {},
     "output_type": "execute_result"
    }
   ],
   "source": [
    "argparse.BooleanOptionalAction"
   ]
  },
  {
   "cell_type": "code",
   "execution_count": 6,
   "id": "ad0a2dc4",
   "metadata": {},
   "outputs": [],
   "source": [
    "# model.cuda()"
   ]
  },
  {
   "cell_type": "code",
   "execution_count": 7,
   "id": "a4566f22-4459-45cd-9cf3-608a64b4580b",
   "metadata": {},
   "outputs": [
    {
     "data": {
      "text/plain": [
       "torch.Size([12288])"
      ]
     },
     "execution_count": 7,
     "metadata": {},
     "output_type": "execute_result"
    }
   ],
   "source": [
    "x = torch.randn(1, 3, 64, 64)\n",
    "x = x.flatten()\n",
    "x.shape"
   ]
  },
  {
   "cell_type": "markdown",
   "id": "3a1921d3",
   "metadata": {},
   "source": [
    "### Import dataset and initialize the DataLoader"
   ]
  },
  {
   "cell_type": "code",
   "execution_count": 8,
   "id": "eab64cc3-5d61-418a-9f94-1e19b81d6609",
   "metadata": {},
   "outputs": [
    {
     "name": "stdout",
     "output_type": "stream",
     "text": [
      "Files already downloaded and verified\n"
     ]
    }
   ],
   "source": [
    "mean = (0.4914, 0.4822, 0.4465)\n",
    "std = (0.2471, 0.2435, 0.2616)\n",
    "\n",
    "transform = transforms.Compose([\n",
    "    transforms.Resize((crop_resolution, crop_resolution)),\n",
    "    transforms.ToTensor(),\n",
    "    transforms.Normalize(mean, std),\n",
    "])\n",
    "\n",
    "cifar10_dataset = datasets.CIFAR10(root='./data', train=True, download=True, transform=transform)\n",
    "loader = DataLoader(cifar10_dataset, batch_size=1000, shuffle=True)\n",
    "\n",
    "\n",
    "cifar10_classes = [\n",
    "    'airplane', 'automobile', 'bird', 'cat', 'deer',\n",
    "    'dog', 'frog', 'horse', 'ship', 'truck'\n",
    "]"
   ]
  },
  {
   "cell_type": "markdown",
   "id": "154f1178",
   "metadata": {},
   "source": [
    "### For each class, calculate the mean image"
   ]
  },
  {
   "cell_type": "code",
   "execution_count": 9,
   "id": "ce7d993e",
   "metadata": {},
   "outputs": [],
   "source": [
    "num_class = 10\n",
    "cmeans = [[] for i in range(num_class)]\n",
    "r = 0\n",
    "for x,y in loader:\n",
    "    r+=1\n",
    "    for c in range(num_class):\n",
    "        cmeans[c].append(x[y==c])\n"
   ]
  },
  {
   "cell_type": "code",
   "execution_count": 10,
   "id": "2b6be9fb",
   "metadata": {},
   "outputs": [],
   "source": [
    "clist = [torch.cat(cmeans[i]).mean(dim=0) for i in range(num_class)]"
   ]
  },
  {
   "cell_type": "code",
   "execution_count": 11,
   "id": "73148100",
   "metadata": {},
   "outputs": [
    {
     "data": {
      "text/plain": [
       "torch.Size([10, 3, 64, 64])"
      ]
     },
     "execution_count": 11,
     "metadata": {},
     "output_type": "execute_result"
    }
   ],
   "source": [
    "cclist = [c.unsqueeze(0) for c in clist]\n",
    "centers = torch.cat(cclist)\n",
    "centers.shape"
   ]
  },
  {
   "cell_type": "code",
   "execution_count": 13,
   "id": "3f0f577f",
   "metadata": {},
   "outputs": [
    {
     "name": "stderr",
     "output_type": "stream",
     "text": [
      "Clipping input data to the valid range for imshow with RGB data ([0..1] for floats or [0..255] for integers).\n"
     ]
    },
    {
     "data": {
      "text/plain": [
       "<matplotlib.image.AxesImage at 0x12b894a00>"
      ]
     },
     "execution_count": 13,
     "metadata": {},
     "output_type": "execute_result"
    },
    {
     "data": {
      "image/png": "[encoded data removed]",
      "text/plain": [
       "<Figure size 640x480 with 1 Axes>"
      ]
     },
     "metadata": {},
     "output_type": "display_data"
    }
   ],
   "source": [
    "plt.imshow(clist[8].numpy().transpose(1,2,0))"
   ]
  },
  {
   "cell_type": "markdown",
   "id": "c45e44ae",
   "metadata": {},
   "source": [
    "### Define the ClassMaximization class and create an instance of it"
   ]
  },
  {
   "cell_type": "code",
   "execution_count": 92,
   "id": "70476580-15f0-4b53-bcf6-2b3693e8f928",
   "metadata": {},
   "outputs": [],
   "source": [
    "x_c = nn.parameter.Parameter(torch.randn(3,64,64))\n",
    "\n",
    "\n",
    "class ClassMaxim(nn.Module):\n",
    "    def __init__(self,num_class, centers=None):\n",
    "        super(ClassMaxim, self).__init__()\n",
    "        self.x_c = nn.parameter.Parameter(torch.randn(num_class, 3, 64, 64))\n",
    "        if centers!=None:\n",
    "            self.x_c = nn.parameter.Parameter(centers.clone())    \n",
    "        self.clone = self.x_c.clone()"
   ]
  },
  {
   "cell_type": "code",
   "execution_count": 94,
   "id": "8d654e5c-b26c-43e8-9b5c-f89b4bf0754c",
   "metadata": {},
   "outputs": [],
   "source": [
    "# create the model\n",
    "clsmax = ClassMaxim(num_class=10, centers=centers)"
   ]
  },
  {
   "cell_type": "code",
   "execution_count": 95,
   "id": "560a33aa-8c71-4672-9b71-c5894bc4a600",
   "metadata": {
    "scrolled": true
   },
   "outputs": [
    {
     "data": {
      "text/plain": [
       "tensor([[[[True, True, True,  ..., True, True, True],\n",
       "          [True, True, True,  ..., True, True, True],\n",
       "          [True, True, True,  ..., True, True, True],\n",
       "          ...,\n",
       "          [True, True, True,  ..., True, True, True],\n",
       "          [True, True, True,  ..., True, True, True],\n",
       "          [True, True, True,  ..., True, True, True]],\n",
       "\n",
       "         [[True, True, True,  ..., True, True, True],\n",
       "          [True, True, True,  ..., True, True, True],\n",
       "          [True, True, True,  ..., True, True, True],\n",
       "          ...,\n",
       "          [True, True, True,  ..., True, True, True],\n",
       "          [True, True, True,  ..., True, True, True],\n",
       "          [True, True, True,  ..., True, True, True]],\n",
       "\n",
       "         [[True, True, True,  ..., True, True, True],\n",
       "          [True, True, True,  ..., True, True, True],\n",
       "          [True, True, True,  ..., True, True, True],\n",
       "          ...,\n",
       "          [True, True, True,  ..., True, True, True],\n",
       "          [True, True, True,  ..., True, True, True],\n",
       "          [True, True, True,  ..., True, True, True]]],\n",
       "\n",
       "\n",
       "        [[[True, True, True,  ..., True, True, True],\n",
       "          [True, True, True,  ..., True, True, True],\n",
       "          [True, True, True,  ..., True, True, True],\n",
       "          ...,\n",
       "          [True, True, True,  ..., True, True, True],\n",
       "          [True, True, True,  ..., True, True, True],\n",
       "          [True, True, True,  ..., True, True, True]],\n",
       "\n",
       "         [[True, True, True,  ..., True, True, True],\n",
       "          [True, True, True,  ..., True, True, True],\n",
       "          [True, True, True,  ..., True, True, True],\n",
       "          ...,\n",
       "          [True, True, True,  ..., True, True, True],\n",
       "          [True, True, True,  ..., True, True, True],\n",
       "          [True, True, True,  ..., True, True, True]],\n",
       "\n",
       "         [[True, True, True,  ..., True, True, True],\n",
       "          [True, True, True,  ..., True, True, True],\n",
       "          [True, True, True,  ..., True, True, True],\n",
       "          ...,\n",
       "          [True, True, True,  ..., True, True, True],\n",
       "          [True, True, True,  ..., True, True, True],\n",
       "          [True, True, True,  ..., True, True, True]]],\n",
       "\n",
       "\n",
       "        [[[True, True, True,  ..., True, True, True],\n",
       "          [True, True, True,  ..., True, True, True],\n",
       "          [True, True, True,  ..., True, True, True],\n",
       "          ...,\n",
       "          [True, True, True,  ..., True, True, True],\n",
       "          [True, True, True,  ..., True, True, True],\n",
       "          [True, True, True,  ..., True, True, True]],\n",
       "\n",
       "         [[True, True, True,  ..., True, True, True],\n",
       "          [True, True, True,  ..., True, True, True],\n",
       "          [True, True, True,  ..., True, True, True],\n",
       "          ...,\n",
       "          [True, True, True,  ..., True, True, True],\n",
       "          [True, True, True,  ..., True, True, True],\n",
       "          [True, True, True,  ..., True, True, True]],\n",
       "\n",
       "         [[True, True, True,  ..., True, True, True],\n",
       "          [True, True, True,  ..., True, True, True],\n",
       "          [True, True, True,  ..., True, True, True],\n",
       "          ...,\n",
       "          [True, True, True,  ..., True, True, True],\n",
       "          [True, True, True,  ..., True, True, True],\n",
       "          [True, True, True,  ..., True, True, True]]],\n",
       "\n",
       "\n",
       "        ...,\n",
       "\n",
       "\n",
       "        [[[True, True, True,  ..., True, True, True],\n",
       "          [True, True, True,  ..., True, True, True],\n",
       "          [True, True, True,  ..., True, True, True],\n",
       "          ...,\n",
       "          [True, True, True,  ..., True, True, True],\n",
       "          [True, True, True,  ..., True, True, True],\n",
       "          [True, True, True,  ..., True, True, True]],\n",
       "\n",
       "         [[True, True, True,  ..., True, True, True],\n",
       "          [True, True, True,  ..., True, True, True],\n",
       "          [True, True, True,  ..., True, True, True],\n",
       "          ...,\n",
       "          [True, True, True,  ..., True, True, True],\n",
       "          [True, True, True,  ..., True, True, True],\n",
       "          [True, True, True,  ..., True, True, True]],\n",
       "\n",
       "         [[True, True, True,  ..., True, True, True],\n",
       "          [True, True, True,  ..., True, True, True],\n",
       "          [True, True, True,  ..., True, True, True],\n",
       "          ...,\n",
       "          [True, True, True,  ..., True, True, True],\n",
       "          [True, True, True,  ..., True, True, True],\n",
       "          [True, True, True,  ..., True, True, True]]],\n",
       "\n",
       "\n",
       "        [[[True, True, True,  ..., True, True, True],\n",
       "          [True, True, True,  ..., True, True, True],\n",
       "          [True, True, True,  ..., True, True, True],\n",
       "          ...,\n",
       "          [True, True, True,  ..., True, True, True],\n",
       "          [True, True, True,  ..., True, True, True],\n",
       "          [True, True, True,  ..., True, True, True]],\n",
       "\n",
       "         [[True, True, True,  ..., True, True, True],\n",
       "          [True, True, True,  ..., True, True, True],\n",
       "          [True, True, True,  ..., True, True, True],\n",
       "          ...,\n",
       "          [True, True, True,  ..., True, True, True],\n",
       "          [True, True, True,  ..., True, True, True],\n",
       "          [True, True, True,  ..., True, True, True]],\n",
       "\n",
       "         [[True, True, True,  ..., True, True, True],\n",
       "          [True, True, True,  ..., True, True, True],\n",
       "          [True, True, True,  ..., True, True, True],\n",
       "          ...,\n",
       "          [True, True, True,  ..., True, True, True],\n",
       "          [True, True, True,  ..., True, True, True],\n",
       "          [True, True, True,  ..., True, True, True]]],\n",
       "\n",
       "\n",
       "        [[[True, True, True,  ..., True, True, True],\n",
       "          [True, True, True,  ..., True, True, True],\n",
       "          [True, True, True,  ..., True, True, True],\n",
       "          ...,\n",
       "          [True, True, True,  ..., True, True, True],\n",
       "          [True, True, True,  ..., True, True, True],\n",
       "          [True, True, True,  ..., True, True, True]],\n",
       "\n",
       "         [[True, True, True,  ..., True, True, True],\n",
       "          [True, True, True,  ..., True, True, True],\n",
       "          [True, True, True,  ..., True, True, True],\n",
       "          ...,\n",
       "          [True, True, True,  ..., True, True, True],\n",
       "          [True, True, True,  ..., True, True, True],\n",
       "          [True, True, True,  ..., True, True, True]],\n",
       "\n",
       "         [[True, True, True,  ..., True, True, True],\n",
       "          [True, True, True,  ..., True, True, True],\n",
       "          [True, True, True,  ..., True, True, True],\n",
       "          ...,\n",
       "          [True, True, True,  ..., True, True, True],\n",
       "          [True, True, True,  ..., True, True, True],\n",
       "          [True, True, True,  ..., True, True, True]]]])"
      ]
     },
     "execution_count": 95,
     "metadata": {},
     "output_type": "execute_result"
    }
   ],
   "source": [
    "clsmax.clone==clsmax.x_c"
   ]
  },
  {
   "cell_type": "code",
   "execution_count": 100,
   "id": "6d5bcb65-f4d4-49ef-addf-24c8f1554071",
   "metadata": {},
   "outputs": [
    {
     "name": "stdout",
     "output_type": "stream",
     "text": [
      "<class 'torch.Tensor'> torch.Size([10, 3, 64, 64])\n"
     ]
    },
    {
     "data": {
      "text/plain": [
       "torch.Size([3, 64, 64])"
      ]
     },
     "execution_count": 100,
     "metadata": {},
     "output_type": "execute_result"
    }
   ],
   "source": [
    "for param in clsmax.parameters():\n",
    "    print(type(param.data), param.size())\n",
    "\n",
    "clsmax.x_c[0].shape"
   ]
  },
  {
   "cell_type": "code",
   "execution_count": 110,
   "id": "efe0e3d5-73ce-4938-be80-89337d8b6763",
   "metadata": {
    "scrolled": true
   },
   "outputs": [
    {
     "data": {
      "text/plain": [
       "[Parameter containing:\n",
       " tensor([[[[0.5686, 0.5681, 0.5661,  ..., 0.5668, 0.5671, 0.5669],\n",
       "           [0.5690, 0.5684, 0.5664,  ..., 0.5667, 0.5671, 0.5670],\n",
       "           [0.5688, 0.5682, 0.5661,  ..., 0.5657, 0.5663, 0.5662],\n",
       "           ...,\n",
       "           [0.5153, 0.5144, 0.5117,  ..., 0.5086, 0.5098, 0.5100],\n",
       "           [0.5159, 0.5151, 0.5126,  ..., 0.5089, 0.5097, 0.5098],\n",
       "           [0.5159, 0.5151, 0.5127,  ..., 0.5086, 0.5093, 0.5092]],\n",
       " \n",
       "          [[0.6323, 0.6318, 0.6297,  ..., 0.6301, 0.6300, 0.6296],\n",
       "           [0.6327, 0.6321, 0.6301,  ..., 0.6301, 0.6301, 0.6298],\n",
       "           [0.6327, 0.6320, 0.6297,  ..., 0.6293, 0.6294, 0.6292],\n",
       "           ...,\n",
       "           [0.5399, 0.5390, 0.5360,  ..., 0.5337, 0.5348, 0.5349],\n",
       "           [0.5400, 0.5391, 0.5365,  ..., 0.5333, 0.5341, 0.5341],\n",
       "           [0.5396, 0.5388, 0.5363,  ..., 0.5326, 0.5333, 0.5333]],\n",
       " \n",
       "          [[0.6989, 0.6984, 0.6963,  ..., 0.6955, 0.6953, 0.6948],\n",
       "           [0.6992, 0.6986, 0.6965,  ..., 0.6956, 0.6955, 0.6951],\n",
       "           [0.6988, 0.6981, 0.6957,  ..., 0.6948, 0.6948, 0.6945],\n",
       "           ...,\n",
       "           [0.5470, 0.5459, 0.5427,  ..., 0.5406, 0.5421, 0.5424],\n",
       "           [0.5465, 0.5455, 0.5426,  ..., 0.5398, 0.5410, 0.5411],\n",
       "           [0.5459, 0.5449, 0.5421,  ..., 0.5389, 0.5399, 0.5400]]],\n",
       " \n",
       " \n",
       "         [[[0.5362, 0.5363, 0.5358,  ..., 0.5344, 0.5329, 0.5318],\n",
       "           [0.5355, 0.5357, 0.5351,  ..., 0.5332, 0.5317, 0.5305],\n",
       "           [0.5334, 0.5335, 0.5329,  ..., 0.5299, 0.5282, 0.5270],\n",
       "           ...,\n",
       "           [0.5260, 0.5240, 0.5188,  ..., 0.5197, 0.5223, 0.5232],\n",
       "           [0.5274, 0.5260, 0.5220,  ..., 0.5216, 0.5237, 0.5242],\n",
       "           [0.5276, 0.5265, 0.5232,  ..., 0.5220, 0.5238, 0.5243]],\n",
       " \n",
       "          [[0.5421, 0.5422, 0.5414,  ..., 0.5412, 0.5399, 0.5388],\n",
       "           [0.5412, 0.5413, 0.5405,  ..., 0.5399, 0.5385, 0.5374],\n",
       "           [0.5387, 0.5387, 0.5379,  ..., 0.5363, 0.5347, 0.5335],\n",
       "           ...,\n",
       "           [0.5180, 0.5159, 0.5105,  ..., 0.5110, 0.5138, 0.5147],\n",
       "           [0.5193, 0.5178, 0.5136,  ..., 0.5129, 0.5150, 0.5156],\n",
       "           [0.5195, 0.5182, 0.5147,  ..., 0.5133, 0.5151, 0.5156]],\n",
       " \n",
       "          [[0.5333, 0.5332, 0.5323,  ..., 0.5333, 0.5323, 0.5315],\n",
       "           [0.5320, 0.5320, 0.5311,  ..., 0.5315, 0.5305, 0.5295],\n",
       "           [0.5285, 0.5286, 0.5277,  ..., 0.5271, 0.5258, 0.5247],\n",
       "           ...,\n",
       "           [0.4962, 0.4941, 0.4888,  ..., 0.4914, 0.4945, 0.4956],\n",
       "           [0.4978, 0.4963, 0.4922,  ..., 0.4936, 0.4960, 0.4967],\n",
       "           [0.4982, 0.4969, 0.4934,  ..., 0.4942, 0.4962, 0.4968]]],\n",
       " \n",
       " \n",
       "         [[[0.4899, 0.4906, 0.4909,  ..., 0.4888, 0.4880, 0.4871],\n",
       "           [0.4903, 0.4910, 0.4912,  ..., 0.4891, 0.4882, 0.4872],\n",
       "           [0.4902, 0.4908, 0.4910,  ..., 0.4887, 0.4875, 0.4865],\n",
       "           ...,\n",
       "           [0.4903, 0.4903, 0.4891,  ..., 0.4921, 0.4915, 0.4907],\n",
       "           [0.4906, 0.4904, 0.4893,  ..., 0.4928, 0.4919, 0.4910],\n",
       "           [0.4902, 0.4901, 0.4889,  ..., 0.4927, 0.4916, 0.4907]],\n",
       " \n",
       "          [[0.5135, 0.5143, 0.5147,  ..., 0.5123, 0.5115, 0.5106],\n",
       "           [0.5139, 0.5146, 0.5150,  ..., 0.5126, 0.5117, 0.5107],\n",
       "           [0.5137, 0.5143, 0.5145,  ..., 0.5122, 0.5111, 0.5101],\n",
       "           ...,\n",
       "           [0.4939, 0.4937, 0.4922,  ..., 0.4952, 0.4950, 0.4945],\n",
       "           [0.4937, 0.4935, 0.4920,  ..., 0.4955, 0.4951, 0.4944],\n",
       "           [0.4931, 0.4929, 0.4915,  ..., 0.4951, 0.4946, 0.4939]],\n",
       " \n",
       "          [[0.4525, 0.4530, 0.4530,  ..., 0.4501, 0.4498, 0.4492],\n",
       "           [0.4525, 0.4530, 0.4529,  ..., 0.4500, 0.4496, 0.4489],\n",
       "           [0.4514, 0.4519, 0.4518,  ..., 0.4487, 0.4480, 0.4473],\n",
       "           ...,\n",
       "           [0.4176, 0.4173, 0.4157,  ..., 0.4185, 0.4188, 0.4185],\n",
       "           [0.4187, 0.4184, 0.4168,  ..., 0.4195, 0.4196, 0.4192],\n",
       "           [0.4189, 0.4185, 0.4169,  ..., 0.4195, 0.4195, 0.4190]]],\n",
       " \n",
       " \n",
       "         ...,\n",
       " \n",
       " \n",
       "         [[[0.5293, 0.5285, 0.5258,  ..., 0.5325, 0.5336, 0.5338],\n",
       "           [0.5277, 0.5268, 0.5241,  ..., 0.5301, 0.5314, 0.5316],\n",
       "           [0.5235, 0.5225, 0.5195,  ..., 0.5242, 0.5258, 0.5262],\n",
       "           ...,\n",
       "           [0.5529, 0.5513, 0.5471,  ..., 0.5437, 0.5457, 0.5462],\n",
       "           [0.5560, 0.5546, 0.5508,  ..., 0.5469, 0.5487, 0.5491],\n",
       "           [0.5570, 0.5557, 0.5521,  ..., 0.5481, 0.5497, 0.5500]],\n",
       " \n",
       "          [[0.5547, 0.5538, 0.5510,  ..., 0.5586, 0.5594, 0.5594],\n",
       "           [0.5527, 0.5518, 0.5489,  ..., 0.5560, 0.5569, 0.5570],\n",
       "           [0.5479, 0.5468, 0.5437,  ..., 0.5496, 0.5510, 0.5512],\n",
       "           ...,\n",
       "           [0.5316, 0.5297, 0.5249,  ..., 0.5216, 0.5244, 0.5254],\n",
       "           [0.5344, 0.5327, 0.5284,  ..., 0.5252, 0.5276, 0.5283],\n",
       "           [0.5354, 0.5338, 0.5297,  ..., 0.5265, 0.5287, 0.5293]],\n",
       " \n",
       "          [[0.5391, 0.5382, 0.5356,  ..., 0.5415, 0.5426, 0.5426],\n",
       "           [0.5364, 0.5355, 0.5328,  ..., 0.5384, 0.5395, 0.5397],\n",
       "           [0.5302, 0.5292, 0.5263,  ..., 0.5310, 0.5325, 0.5328],\n",
       "           ...,\n",
       "           [0.4259, 0.4239, 0.4188,  ..., 0.4163, 0.4197, 0.4209],\n",
       "           [0.4291, 0.4273, 0.4226,  ..., 0.4201, 0.4231, 0.4241],\n",
       "           [0.4302, 0.4285, 0.4240,  ..., 0.4215, 0.4243, 0.4253]]],\n",
       " \n",
       " \n",
       "         [[[0.5736, 0.5732, 0.5714,  ..., 0.5721, 0.5722, 0.5718],\n",
       "           [0.5730, 0.5726, 0.5707,  ..., 0.5711, 0.5711, 0.5707],\n",
       "           [0.5708, 0.5703, 0.5683,  ..., 0.5680, 0.5680, 0.5676],\n",
       "           ...,\n",
       "           [0.3875, 0.3861, 0.3822,  ..., 0.3753, 0.3774, 0.3780],\n",
       "           [0.3877, 0.3864, 0.3828,  ..., 0.3757, 0.3778, 0.3783],\n",
       "           [0.3874, 0.3861, 0.3826,  ..., 0.3754, 0.3775, 0.3780]],\n",
       " \n",
       "          [[0.6385, 0.6382, 0.6366,  ..., 0.6380, 0.6378, 0.6373],\n",
       "           [0.6380, 0.6376, 0.6360,  ..., 0.6372, 0.6370, 0.6364],\n",
       "           [0.6360, 0.6356, 0.6339,  ..., 0.6346, 0.6343, 0.6337],\n",
       "           ...,\n",
       "           [0.4411, 0.4395, 0.4351,  ..., 0.4285, 0.4309, 0.4317],\n",
       "           [0.4407, 0.4391, 0.4350,  ..., 0.4282, 0.4305, 0.4311],\n",
       "           [0.4400, 0.4385, 0.4345,  ..., 0.4275, 0.4297, 0.4304]],\n",
       " \n",
       "          [[0.7016, 0.7013, 0.6998,  ..., 0.6996, 0.6990, 0.6983],\n",
       "           [0.7009, 0.7007, 0.6991,  ..., 0.6987, 0.6980, 0.6973],\n",
       "           [0.6987, 0.6985, 0.6969,  ..., 0.6959, 0.6951, 0.6943],\n",
       "           ...,\n",
       "           [0.4746, 0.4726, 0.4676,  ..., 0.4607, 0.4637, 0.4647],\n",
       "           [0.4734, 0.4715, 0.4667,  ..., 0.4597, 0.4625, 0.4634],\n",
       "           [0.4723, 0.4704, 0.4658,  ..., 0.4587, 0.4615, 0.4623]]],\n",
       " \n",
       " \n",
       "         [[[0.6562, 0.6557, 0.6538,  ..., 0.6538, 0.6527, 0.6517],\n",
       "           [0.6551, 0.6546, 0.6527,  ..., 0.6520, 0.6508, 0.6499],\n",
       "           [0.6520, 0.6515, 0.6494,  ..., 0.6473, 0.6462, 0.6453],\n",
       "           ...,\n",
       "           [0.5488, 0.5453, 0.5375,  ..., 0.5341, 0.5380, 0.5396],\n",
       "           [0.5540, 0.5512, 0.5446,  ..., 0.5417, 0.5442, 0.5450],\n",
       "           [0.5562, 0.5537, 0.5476,  ..., 0.5450, 0.5468, 0.5472]],\n",
       " \n",
       "          [[0.6954, 0.6949, 0.6929,  ..., 0.6928, 0.6914, 0.6903],\n",
       "           [0.6940, 0.6934, 0.6915,  ..., 0.6908, 0.6894, 0.6883],\n",
       "           [0.6901, 0.6897, 0.6876,  ..., 0.6857, 0.6844, 0.6833],\n",
       "           ...,\n",
       "           [0.5333, 0.5298, 0.5218,  ..., 0.5191, 0.5233, 0.5249],\n",
       "           [0.5388, 0.5358, 0.5290,  ..., 0.5268, 0.5295, 0.5304],\n",
       "           [0.5411, 0.5384, 0.5321,  ..., 0.5301, 0.5321, 0.5327]],\n",
       " \n",
       "          [[0.7242, 0.7236, 0.7216,  ..., 0.7206, 0.7196, 0.7187],\n",
       "           [0.7220, 0.7214, 0.7196,  ..., 0.7182, 0.7171, 0.7162],\n",
       "           [0.7167, 0.7163, 0.7144,  ..., 0.7122, 0.7111, 0.7101],\n",
       "           ...,\n",
       "           [0.5044, 0.5009, 0.4927,  ..., 0.4895, 0.4939, 0.4957],\n",
       "           [0.5098, 0.5068, 0.4997,  ..., 0.4972, 0.5003, 0.5014],\n",
       "           [0.5121, 0.5093, 0.5027,  ..., 0.5007, 0.5030, 0.5038]]]],\n",
       "        requires_grad=True)]"
      ]
     },
     "execution_count": 110,
     "metadata": {},
     "output_type": "execute_result"
    }
   ],
   "source": [
    "list(clsmax.parameters())"
   ]
  },
  {
   "cell_type": "code",
   "execution_count": 111,
   "id": "89ab20c3-5d92-4808-a8e4-56974327db07",
   "metadata": {},
   "outputs": [],
   "source": [
    "parser = get_training_parser()\n",
    "args = parser.parse_args(args=[])\n",
    "\n",
    "epoch = 100\n",
    "num_class=10\n",
    "\n",
    "loss_fn = CrossEntropyLoss(label_smoothing=args.smooth)\n",
    "opt = get_optimizer(args.optimizer)(clsmax.parameters(), lr=0.003, weight_decay=args.weight_decay)#args.lr\n",
    "scheduler = get_scheduler(opt, args.scheduler, **args.__dict__)"
   ]
  },
  {
   "cell_type": "code",
   "execution_count": 114,
   "id": "90254740-4a66-464b-9bbe-7f2e6d4781c7",
   "metadata": {
    "scrolled": true
   },
   "outputs": [
    {
     "name": "stdout",
     "output_type": "stream",
     "text": [
      "tensor(1.5574, grad_fn=<SelectBackward0>)\n",
      "tensor(2.5286, grad_fn=<SelectBackward0>)\n",
      "tensor(2.7787, grad_fn=<SelectBackward0>)\n",
      "tensor(3.0540, grad_fn=<SelectBackward0>)\n",
      "tensor(3.2471, grad_fn=<SelectBackward0>)\n",
      "tensor(3.3144, grad_fn=<SelectBackward0>)\n",
      "tensor(3.2991, grad_fn=<SelectBackward0>)\n",
      "tensor(3.5806, grad_fn=<SelectBackward0>)\n",
      "tensor(3.7763, grad_fn=<SelectBackward0>)\n",
      "tensor(3.9521, grad_fn=<SelectBackward0>)\n",
      "tensor(4.0764, grad_fn=<SelectBackward0>)\n",
      "tensor(4.1131, grad_fn=<SelectBackward0>)\n",
      "tensor(4.3527, grad_fn=<SelectBackward0>)\n",
      "tensor(4.3751, grad_fn=<SelectBackward0>)\n",
      "tensor(4.6343, grad_fn=<SelectBackward0>)\n",
      "tensor(4.7068, grad_fn=<SelectBackward0>)\n",
      "tensor(4.8893, grad_fn=<SelectBackward0>)\n",
      "tensor(5.0124, grad_fn=<SelectBackward0>)\n",
      "tensor(5.1493, grad_fn=<SelectBackward0>)\n",
      "tensor(5.2786, grad_fn=<SelectBackward0>)\n",
      "tensor(5.3794, grad_fn=<SelectBackward0>)\n",
      "tensor(5.4742, grad_fn=<SelectBackward0>)\n",
      "tensor(5.6504, grad_fn=<SelectBackward0>)\n",
      "tensor(5.6988, grad_fn=<SelectBackward0>)\n",
      "tensor(5.8596, grad_fn=<SelectBackward0>)\n",
      "tensor(5.9044, grad_fn=<SelectBackward0>)\n",
      "tensor(6.0614, grad_fn=<SelectBackward0>)\n",
      "tensor(6.0868, grad_fn=<SelectBackward0>)\n",
      "tensor(6.2660, grad_fn=<SelectBackward0>)\n",
      "tensor(6.2791, grad_fn=<SelectBackward0>)\n",
      "tensor(6.4296, grad_fn=<SelectBackward0>)\n",
      "tensor(6.4579, grad_fn=<SelectBackward0>)\n",
      "tensor(6.5613, grad_fn=<SelectBackward0>)\n",
      "tensor(6.6481, grad_fn=<SelectBackward0>)\n",
      "tensor(6.7322, grad_fn=<SelectBackward0>)\n",
      "tensor(6.8248, grad_fn=<SelectBackward0>)\n",
      "tensor(6.8982, grad_fn=<SelectBackward0>)\n",
      "tensor(6.9822, grad_fn=<SelectBackward0>)\n",
      "tensor(7.0392, grad_fn=<SelectBackward0>)\n",
      "tensor(7.2077, grad_fn=<SelectBackward0>)\n"
     ]
    }
   ],
   "source": [
    "start = time.time()\n",
    "model.eval() # fixed model\n",
    "\n",
    "# total_acc, total_top5 = AverageMeter(), AverageMeter()\n",
    "total_loss = AverageMeter()\n",
    "\n",
    "for step in range(40):\n",
    "    for c in range(1):\n",
    "        xx = clsmax.x_c[c].flatten()#.cuda()\n",
    "        preds = model(xx)\n",
    "        targs = torch.tensor(c)#.cuda()\n",
    "\n",
    "\n",
    "        (-preds[c]).backward()\n",
    "        # loss = loss_fn(preds, targs)\n",
    "        \n",
    "        # loss = loss / args.accum_steps\n",
    "        # loss.backward()\n",
    "\n",
    "        print(preds[c])\n",
    "        \n",
    "        opt.step()\n",
    "        opt.zero_grad()\n",
    "    \n",
    "        #total_loss.update(loss.item() * args.accum_steps, 1)\n",
    "\n",
    "end = time.time()\n",
    "\n",
    "scheduler.step()"
   ]
  },
  {
   "cell_type": "code",
   "execution_count": 116,
   "id": "6e8c54b2-e6f8-4af7-a8f9-e9d52392dc6a",
   "metadata": {},
   "outputs": [
    {
     "data": {
      "text/plain": [
       "tensor(62.5754, grad_fn=<LinalgVectorNormBackward0>)"
      ]
     },
     "execution_count": 116,
     "metadata": {},
     "output_type": "execute_result"
    }
   ],
   "source": [
    "torch.norm(clsmax.x_c[0])"
   ]
  },
  {
   "cell_type": "code",
   "execution_count": 117,
   "id": "e3dc65a4",
   "metadata": {},
   "outputs": [
    {
     "data": {
      "text/plain": [
       "tensor(62.3464)"
      ]
     },
     "execution_count": 117,
     "metadata": {},
     "output_type": "execute_result"
    }
   ],
   "source": [
    "torch.norm(centers[0])"
   ]
  },
  {
   "cell_type": "code",
   "execution_count": 118,
   "id": "71585bcc-c739-4f98-ae46-841870b877b2",
   "metadata": {},
   "outputs": [
    {
     "data": {
      "text/plain": [
       "<matplotlib.image.AxesImage at 0x17c24a8c0>"
      ]
     },
     "execution_count": 118,
     "metadata": {},
     "output_type": "execute_result"
    },
    {
     "data": {
      "image/png": "[encoded data removed]",
      "text/plain": [
       "<Figure size 640x480 with 1 Axes>"
      ]
     },
     "metadata": {},
     "output_type": "display_data"
    }
   ],
   "source": [
    "plt.imshow(clsmax.x_c[0].detach().numpy().transpose(1,2,0))"
   ]
  },
  {
   "cell_type": "code",
   "execution_count": 119,
   "id": "a9490de9-bd80-4e23-9236-aeacdd9c1a79",
   "metadata": {},
   "outputs": [
    {
     "data": {
      "text/plain": [
       "<matplotlib.image.AxesImage at 0x17c2e9f60>"
      ]
     },
     "execution_count": 119,
     "metadata": {},
     "output_type": "execute_result"
    },
    {
     "data": {
      "image/png": "[encoded data removed]",
      "text/plain": [
       "<Figure size 640x480 with 1 Axes>"
      ]
     },
     "metadata": {},
     "output_type": "display_data"
    }
   ],
   "source": [
    "plt.imshow(clsmax.clone[0].detach().numpy().transpose(1,2,0))"
   ]
  },
  {
   "cell_type": "code",
   "execution_count": 121,
   "id": "848cac2e-3e82-4efa-98e9-5a9aab4b41da",
   "metadata": {
    "scrolled": true
   },
   "outputs": [
    {
     "data": {
      "text/plain": [
       "tensor([[[False, False, False,  ..., False, False, False],\n",
       "         [False, False, False,  ..., False, False, False],\n",
       "         [False, False, False,  ..., False, False, False],\n",
       "         ...,\n",
       "         [False, False, False,  ..., False, False, False],\n",
       "         [False, False,  True,  ..., False, False, False],\n",
       "         [False, False, False,  ..., False, False, False]],\n",
       "\n",
       "        [[False, False, False,  ..., False, False, False],\n",
       "         [False, False, False,  ..., False,  True,  True],\n",
       "         [False, False, False,  ..., False,  True, False],\n",
       "         ...,\n",
       "         [False, False, False,  ..., False, False, False],\n",
       "         [False, False, False,  ..., False, False, False],\n",
       "         [False, False,  True,  ..., False, False, False]],\n",
       "\n",
       "        [[False, False, False,  ..., False, False, False],\n",
       "         [False, False, False,  ..., False, False, False],\n",
       "         [False, False, False,  ..., False, False, False],\n",
       "         ...,\n",
       "         [False,  True, False,  ..., False, False, False],\n",
       "         [False, False, False,  ..., False, False, False],\n",
       "         [False, False, False,  ..., False, False, False]]])"
      ]
     },
     "execution_count": 121,
     "metadata": {},
     "output_type": "execute_result"
    }
   ],
   "source": [
    "clsmax.clone[0]==clsmax.x_c[0]"
   ]
  },
  {
   "cell_type": "markdown",
   "id": "440c657e",
   "metadata": {},
   "source": [
    "# Same thing for CNNs"
   ]
  },
  {
   "cell_type": "code",
   "execution_count": 14,
   "id": "d63af152",
   "metadata": {},
   "outputs": [
    {
     "data": {
      "text/plain": [
       "<All keys matched successfully>"
      ]
     },
     "execution_count": 14,
     "metadata": {},
     "output_type": "execute_result"
    }
   ],
   "source": [
    "# USE CNN that is pretrained on cifar10\n",
    "from cifar10_models.resnet import *\n",
    "\n",
    "model = resnet18()\n",
    "weights = torch.load('state_dicts/resnet18.pt')\n",
    "model.load_state_dict(weights)"
   ]
  },
  {
   "cell_type": "code",
   "execution_count": null,
   "id": "925c7071",
   "metadata": {},
   "outputs": [],
   "source": []
  },
  {
   "cell_type": "code",
   "execution_count": 15,
   "id": "2b4b9488",
   "metadata": {},
   "outputs": [
    {
     "name": "stdout",
     "output_type": "stream",
     "text": [
      "Files already downloaded and verified\n"
     ]
    }
   ],
   "source": [
    "mean = (0.4914, 0.4822, 0.4465)\n",
    "std = (0.2471, 0.2435, 0.2616)\n",
    "\n",
    "transform = transforms.Compose([\n",
    "    # transforms.Resize((crop_resolution, crop_resolution)),\n",
    "    transforms.ToTensor(),\n",
    "    transforms.Normalize(mean, std),\n",
    "])\n",
    "\n",
    "cifar10_dataset = datasets.CIFAR10(root='./data', train=True, download=True, transform=transform)\n",
    "loader = DataLoader(cifar10_dataset, batch_size=1000, shuffle=True)\n",
    "\n",
    "\n",
    "cifar10_classes = [\n",
    "    'airplane', 'automobile', 'bird', 'cat', 'deer',\n",
    "    'dog', 'frog', 'horse', 'ship', 'truck'\n",
    "]"
   ]
  },
  {
   "cell_type": "code",
   "execution_count": null,
   "id": "c6b2a9e0",
   "metadata": {},
   "outputs": [],
   "source": []
  },
  {
   "cell_type": "code",
   "execution_count": 16,
   "id": "0f345d6f",
   "metadata": {},
   "outputs": [],
   "source": [
    "num_class = 10\n",
    "cmeans = [[] for i in range(num_class)]\n",
    "r = 0\n",
    "for x,y in loader:\n",
    "    r+=1\n",
    "    for c in range(num_class):\n",
    "        cmeans[c].append(x[y==c])"
   ]
  },
  {
   "cell_type": "code",
   "execution_count": 17,
   "id": "79136533",
   "metadata": {},
   "outputs": [
    {
     "data": {
      "text/plain": [
       "98"
      ]
     },
     "execution_count": 17,
     "metadata": {},
     "output_type": "execute_result"
    }
   ],
   "source": [
    "len(cmeans[c][3])"
   ]
  },
  {
   "cell_type": "code",
   "execution_count": 23,
   "id": "90bfac62",
   "metadata": {},
   "outputs": [
    {
     "data": {
      "text/plain": [
       "torch.Size([5000, 3, 32, 32])"
      ]
     },
     "execution_count": 23,
     "metadata": {},
     "output_type": "execute_result"
    }
   ],
   "source": [
    "torch.cat(cmeans[0]).shape"
   ]
  },
  {
   "cell_type": "code",
   "execution_count": 24,
   "id": "af423161",
   "metadata": {},
   "outputs": [],
   "source": [
    "std_tens = torch.tensor(std).reshape(-1,1,1)\n",
    "mean_tens = torch.tensor(mean).reshape(-1,1,1)"
   ]
  },
  {
   "cell_type": "code",
   "execution_count": 25,
   "id": "890ad682",
   "metadata": {},
   "outputs": [
    {
     "data": {
      "text/plain": [
       "<matplotlib.image.AxesImage at 0x12bbb2440>"
      ]
     },
     "execution_count": 25,
     "metadata": {},
     "output_type": "execute_result"
    },
    {
     "data": {
      "image/png": "[encoded data removed]",
      "text/plain": [
       "<Figure size 640x480 with 1 Axes>"
      ]
     },
     "metadata": {},
     "output_type": "display_data"
    }
   ],
   "source": [
    "plt.imshow((torch.cat(cmeans[0])[123]*std_tens + mean_tens).detach().numpy().transpose(1,2,0))"
   ]
  },
  {
   "cell_type": "code",
   "execution_count": null,
   "id": "206165d2",
   "metadata": {},
   "outputs": [],
   "source": []
  },
  {
   "cell_type": "code",
   "execution_count": 26,
   "id": "40e77ab3",
   "metadata": {},
   "outputs": [
    {
     "data": {
      "text/plain": [
       "torch.Size([3, 32, 32])"
      ]
     },
     "execution_count": 26,
     "metadata": {},
     "output_type": "execute_result"
    }
   ],
   "source": [
    "torch.cat(cmeans[0]).mean(dim=0).shape"
   ]
  },
  {
   "cell_type": "code",
   "execution_count": 27,
   "id": "8cd0feec",
   "metadata": {},
   "outputs": [],
   "source": [
    "clist = [torch.cat(cmeans[i]).mean(dim=0) for i in range(num_class)]"
   ]
  },
  {
   "cell_type": "code",
   "execution_count": 28,
   "id": "813d9592",
   "metadata": {},
   "outputs": [
    {
     "data": {
      "text/plain": [
       "torch.Size([10, 3, 32, 32])"
      ]
     },
     "execution_count": 28,
     "metadata": {},
     "output_type": "execute_result"
    }
   ],
   "source": [
    "cclist = [c.unsqueeze(0) for c in clist]\n",
    "centers = torch.cat(cclist)\n",
    "centers.shape"
   ]
  },
  {
   "cell_type": "code",
   "execution_count": null,
   "id": "3912819c",
   "metadata": {},
   "outputs": [],
   "source": []
  },
  {
   "cell_type": "markdown",
   "id": "ea77db8d",
   "metadata": {},
   "source": [
    "### Define the ClassMaximization class and create an instance of it"
   ]
  },
  {
   "cell_type": "code",
   "execution_count": 29,
   "id": "82a069e4",
   "metadata": {},
   "outputs": [],
   "source": [
    "x_c = nn.parameter.Parameter(torch.randn(3,64,64))\n",
    "\n",
    "class ClassMaxim(nn.Module):\n",
    "    def __init__(self,num_class, centers=None, reso=32):\n",
    "        super(ClassMaxim, self).__init__()\n",
    "        self.x_c = nn.parameter.Parameter(torch.randn(num_class, 3, reso, reso))\n",
    "        if centers!=None:\n",
    "            self.x_c = nn.parameter.Parameter(centers.clone())    \n",
    "        self.clone = self.x_c.clone()"
   ]
  },
  {
   "cell_type": "code",
   "execution_count": 30,
   "id": "43274b25",
   "metadata": {},
   "outputs": [
    {
     "data": {
      "text/plain": [
       "torch.Size([10, 3, 32, 32])"
      ]
     },
     "execution_count": 30,
     "metadata": {},
     "output_type": "execute_result"
    }
   ],
   "source": [
    "centers.shape"
   ]
  },
  {
   "cell_type": "code",
   "execution_count": 31,
   "id": "42334d6f",
   "metadata": {},
   "outputs": [],
   "source": [
    "# create the model\n",
    "# clsmax = ClassMaxim(num_class=10, centers=centers, reso=32)\n",
    "clsmax = ClassMaxim(num_class=10, reso=32)"
   ]
  },
  {
   "cell_type": "code",
   "execution_count": 32,
   "id": "fc7a97c0",
   "metadata": {},
   "outputs": [
    {
     "data": {
      "text/plain": [
       "tensor(0)"
      ]
     },
     "execution_count": 32,
     "metadata": {},
     "output_type": "execute_result"
    }
   ],
   "source": [
    "torch.sum(clsmax.clone!=clsmax.x_c)"
   ]
  },
  {
   "cell_type": "code",
   "execution_count": 34,
   "id": "e2398a7a",
   "metadata": {},
   "outputs": [],
   "source": [
    "parser = get_training_parser()\n",
    "args = parser.parse_args(args=[])\n",
    "\n",
    "epoch = 100\n",
    "lr = 0.01\n",
    "num_class=10\n",
    "\n",
    "loss_fn = CrossEntropyLoss(label_smoothing=args.smooth)\n",
    "opt = get_optimizer(args.optimizer)(clsmax.parameters(), lr=lr, weight_decay=args.weight_decay)#args.lr\n",
    "scheduler = get_scheduler(opt, args.scheduler, **args.__dict__)\n",
    "\n",
    "lamb = 0.4"
   ]
  },
  {
   "cell_type": "code",
   "execution_count": 440,
   "id": "c8c46aa0",
   "metadata": {},
   "outputs": [
    {
     "name": "stdout",
     "output_type": "stream",
     "text": [
      "torch.Size([10])\n",
      "tensor([-0.8262, -0.8564,  0.3211,  0.0649, -0.3483, -0.5806,  4.8648, -0.8914,\n",
      "        -0.8885, -0.8592], grad_fn=<SqueezeBackward1>)\n",
      "torch.Size([10])\n",
      "tensor([-0.8256, -0.8539,  0.3057,  0.0605, -0.3497, -0.5796,  4.8762, -0.8899,\n",
      "        -0.8864, -0.8571], grad_fn=<SqueezeBackward1>)\n",
      "torch.Size([10])\n",
      "tensor([-0.8251, -0.8515,  0.2908,  0.0562, -0.3510, -0.5787,  4.8874, -0.8886,\n",
      "        -0.8844, -0.8550], grad_fn=<SqueezeBackward1>)\n",
      "torch.Size([10])\n",
      "tensor([-0.8246, -0.8492,  0.2766,  0.0518, -0.3524, -0.5778,  4.8984, -0.8873,\n",
      "        -0.8825, -0.8531], grad_fn=<SqueezeBackward1>)\n",
      "torch.Size([10])\n",
      "tensor([-0.8241, -0.8470,  0.2629,  0.0474, -0.3538, -0.5769,  4.9093, -0.8860,\n",
      "        -0.8806, -0.8511], grad_fn=<SqueezeBackward1>)\n",
      "torch.Size([10])\n",
      "tensor([-0.8237, -0.8448,  0.2494,  0.0430, -0.3552, -0.5760,  4.9202, -0.8848,\n",
      "        -0.8787, -0.8493], grad_fn=<SqueezeBackward1>)\n",
      "torch.Size([10])\n",
      "tensor([-0.8233, -0.8428,  0.2367,  0.0385, -0.3566, -0.5752,  4.9309, -0.8836,\n",
      "        -0.8770, -0.8475], grad_fn=<SqueezeBackward1>)\n",
      "torch.Size([10])\n",
      "tensor([-0.8229, -0.8410,  0.2247,  0.0341, -0.3580, -0.5744,  4.9415, -0.8826,\n",
      "        -0.8754, -0.8459], grad_fn=<SqueezeBackward1>)\n",
      "torch.Size([10])\n",
      "tensor([-0.8226, -0.8392,  0.2129,  0.0297, -0.3594, -0.5737,  4.9520, -0.8815,\n",
      "        -0.8739, -0.8443], grad_fn=<SqueezeBackward1>)\n",
      "torch.Size([10])\n",
      "tensor([-0.8222, -0.8374,  0.2016,  0.0254, -0.3607, -0.5730,  4.9623, -0.8806,\n",
      "        -0.8724, -0.8428], grad_fn=<SqueezeBackward1>)\n",
      "torch.Size([10])\n",
      "tensor([-0.8220, -0.8359,  0.1912,  0.0212, -0.3621, -0.5725,  4.9723, -0.8797,\n",
      "        -0.8710, -0.8414], grad_fn=<SqueezeBackward1>)\n",
      "torch.Size([10])\n",
      "tensor([-0.8217, -0.8344,  0.1816,  0.0171, -0.3634, -0.5720,  4.9819, -0.8790,\n",
      "        -0.8698, -0.8402], grad_fn=<SqueezeBackward1>)\n",
      "torch.Size([10])\n",
      "tensor([-0.8215, -0.8331,  0.1728,  0.0129, -0.3648, -0.5715,  4.9912, -0.8783,\n",
      "        -0.8687, -0.8390], grad_fn=<SqueezeBackward1>)\n",
      "torch.Size([10])\n",
      "tensor([-0.8213, -0.8318,  0.1648,  0.0087, -0.3661, -0.5711,  5.0001, -0.8776,\n",
      "        -0.8676, -0.8379], grad_fn=<SqueezeBackward1>)\n",
      "torch.Size([10])\n",
      "tensor([-8.2109e-01, -8.3060e-01,  1.5703e-01,  4.5483e-03, -3.6754e-01,\n",
      "        -5.7085e-01,  5.0089e+00, -8.7704e-01, -8.6653e-01, -8.3683e-01],\n",
      "       grad_fn=<SqueezeBackward1>)\n",
      "torch.Size([10])\n",
      "tensor([-8.2088e-01, -8.2940e-01,  1.4968e-01,  4.3474e-04, -3.6903e-01,\n",
      "        -5.7055e-01,  5.0176e+00, -8.7646e-01, -8.6552e-01, -8.3580e-01],\n",
      "       grad_fn=<SqueezeBackward1>)\n",
      "torch.Size([10])\n",
      "tensor([-8.2070e-01, -8.2828e-01,  1.4284e-01, -3.7083e-03, -3.7064e-01,\n",
      "        -5.7029e-01,  5.0262e+00, -8.7594e-01, -8.6459e-01, -8.3484e-01],\n",
      "       grad_fn=<SqueezeBackward1>)\n",
      "torch.Size([10])\n",
      "tensor([-0.8205, -0.8272,  0.1367, -0.0078, -0.3722, -0.5701,  5.0344, -0.8755,\n",
      "        -0.8637, -0.8340], grad_fn=<SqueezeBackward1>)\n",
      "torch.Size([10])\n",
      "tensor([-0.8204, -0.8262,  0.1307, -0.0118, -0.3738, -0.5699,  5.0425, -0.8750,\n",
      "        -0.8629, -0.8331], grad_fn=<SqueezeBackward1>)\n",
      "torch.Size([10])\n",
      "tensor([-0.8203, -0.8253,  0.1248, -0.0155, -0.3751, -0.5697,  5.0501, -0.8746,\n",
      "        -0.8621, -0.8323], grad_fn=<SqueezeBackward1>)\n",
      "torch.Size([10])\n",
      "tensor([-0.8201, -0.8243,  0.1191, -0.0195, -0.3765, -0.5694,  5.0577, -0.8741,\n",
      "        -0.8613, -0.8315], grad_fn=<SqueezeBackward1>)\n",
      "torch.Size([10])\n",
      "tensor([-0.8199, -0.8233,  0.1136, -0.0233, -0.3779, -0.5692,  5.0650, -0.8737,\n",
      "        -0.8605, -0.8307], grad_fn=<SqueezeBackward1>)\n",
      "torch.Size([10])\n",
      "tensor([-0.8197, -0.8223,  0.1083, -0.0271, -0.3792, -0.5689,  5.0719, -0.8732,\n",
      "        -0.8597, -0.8299], grad_fn=<SqueezeBackward1>)\n",
      "torch.Size([10])\n",
      "tensor([-0.8195, -0.8214,  0.1031, -0.0306, -0.3805, -0.5686,  5.0784, -0.8728,\n",
      "        -0.8590, -0.8291], grad_fn=<SqueezeBackward1>)\n",
      "torch.Size([10])\n",
      "tensor([-0.8194, -0.8204,  0.0979, -0.0340, -0.3817, -0.5682,  5.0847, -0.8723,\n",
      "        -0.8582, -0.8283], grad_fn=<SqueezeBackward1>)\n",
      "torch.Size([10])\n",
      "tensor([-0.8192, -0.8195,  0.0928, -0.0372, -0.3830, -0.5677,  5.0907, -0.8718,\n",
      "        -0.8575, -0.8276], grad_fn=<SqueezeBackward1>)\n",
      "torch.Size([10])\n",
      "tensor([-0.8190, -0.8187,  0.0877, -0.0402, -0.3841, -0.5672,  5.0965, -0.8714,\n",
      "        -0.8568, -0.8268], grad_fn=<SqueezeBackward1>)\n",
      "torch.Size([10])\n",
      "tensor([-0.8188, -0.8179,  0.0828, -0.0430, -0.3851, -0.5667,  5.1019, -0.8709,\n",
      "        -0.8561, -0.8261], grad_fn=<SqueezeBackward1>)\n",
      "torch.Size([10])\n",
      "tensor([-0.8186, -0.8171,  0.0780, -0.0458, -0.3861, -0.5661,  5.1070, -0.8705,\n",
      "        -0.8554, -0.8254], grad_fn=<SqueezeBackward1>)\n",
      "torch.Size([10])\n",
      "tensor([-0.8185, -0.8163,  0.0735, -0.0485, -0.3869, -0.5654,  5.1116, -0.8700,\n",
      "        -0.8547, -0.8248], grad_fn=<SqueezeBackward1>)\n",
      "torch.Size([10])\n",
      "tensor([-0.8183, -0.8156,  0.0693, -0.0511, -0.3875, -0.5648,  5.1158, -0.8696,\n",
      "        -0.8541, -0.8241], grad_fn=<SqueezeBackward1>)\n",
      "torch.Size([10])\n",
      "tensor([-0.8181, -0.8148,  0.0652, -0.0535, -0.3881, -0.5641,  5.1196, -0.8692,\n",
      "        -0.8535, -0.8235], grad_fn=<SqueezeBackward1>)\n",
      "torch.Size([10])\n",
      "tensor([-0.8179, -0.8141,  0.0613, -0.0560, -0.3887, -0.5635,  5.1234, -0.8687,\n",
      "        -0.8529, -0.8229], grad_fn=<SqueezeBackward1>)\n",
      "torch.Size([10])\n",
      "tensor([-0.8177, -0.8135,  0.0576, -0.0584, -0.3892, -0.5628,  5.1271, -0.8683,\n",
      "        -0.8523, -0.8223], grad_fn=<SqueezeBackward1>)\n",
      "torch.Size([10])\n",
      "tensor([-0.8175, -0.8128,  0.0538, -0.0608, -0.3898, -0.5622,  5.1306, -0.8679,\n",
      "        -0.8517, -0.8217], grad_fn=<SqueezeBackward1>)\n",
      "torch.Size([10])\n",
      "tensor([-0.8173, -0.8120,  0.0504, -0.0632, -0.3902, -0.5617,  5.1337, -0.8674,\n",
      "        -0.8511, -0.8211], grad_fn=<SqueezeBackward1>)\n",
      "torch.Size([10])\n",
      "tensor([-0.8171, -0.8113,  0.0470, -0.0655, -0.3906, -0.5610,  5.1365, -0.8669,\n",
      "        -0.8505, -0.8205], grad_fn=<SqueezeBackward1>)\n",
      "torch.Size([10])\n",
      "tensor([-0.8168, -0.8106,  0.0436, -0.0679, -0.3910, -0.5605,  5.1393, -0.8664,\n",
      "        -0.8499, -0.8199], grad_fn=<SqueezeBackward1>)\n",
      "torch.Size([10])\n",
      "tensor([-0.8165, -0.8099,  0.0403, -0.0701, -0.3915, -0.5599,  5.1421, -0.8659,\n",
      "        -0.8493, -0.8193], grad_fn=<SqueezeBackward1>)\n",
      "torch.Size([10])\n",
      "tensor([-0.8163, -0.8092,  0.0370, -0.0723, -0.3919, -0.5593,  5.1448, -0.8654,\n",
      "        -0.8487, -0.8187], grad_fn=<SqueezeBackward1>)\n",
      "torch.Size([10])\n",
      "tensor([-0.8160, -0.8086,  0.0339, -0.0743, -0.3922, -0.5588,  5.1471, -0.8649,\n",
      "        -0.8481, -0.8181], grad_fn=<SqueezeBackward1>)\n",
      "torch.Size([10])\n",
      "tensor([-0.8158, -0.8079,  0.0308, -0.0763, -0.3925, -0.5584,  5.1495, -0.8644,\n",
      "        -0.8475, -0.8175], grad_fn=<SqueezeBackward1>)\n",
      "torch.Size([10])\n",
      "tensor([-0.8155, -0.8073,  0.0278, -0.0783, -0.3928, -0.5579,  5.1517, -0.8639,\n",
      "        -0.8469, -0.8169], grad_fn=<SqueezeBackward1>)\n",
      "torch.Size([10])\n",
      "tensor([-0.8153, -0.8066,  0.0248, -0.0803, -0.3930, -0.5574,  5.1539, -0.8634,\n",
      "        -0.8464, -0.8164], grad_fn=<SqueezeBackward1>)\n",
      "torch.Size([10])\n",
      "tensor([-0.8150, -0.8060,  0.0218, -0.0821, -0.3931, -0.5569,  5.1559, -0.8629,\n",
      "        -0.8458, -0.8158], grad_fn=<SqueezeBackward1>)\n",
      "torch.Size([10])\n",
      "tensor([-0.8148, -0.8053,  0.0190, -0.0839, -0.3932, -0.5564,  5.1577, -0.8624,\n",
      "        -0.8453, -0.8153], grad_fn=<SqueezeBackward1>)\n",
      "torch.Size([10])\n",
      "tensor([-0.8145, -0.8047,  0.0163, -0.0856, -0.3933, -0.5559,  5.1594, -0.8620,\n",
      "        -0.8447, -0.8148], grad_fn=<SqueezeBackward1>)\n",
      "torch.Size([10])\n",
      "tensor([-0.8143, -0.8041,  0.0135, -0.0872, -0.3933, -0.5554,  5.1607, -0.8615,\n",
      "        -0.8442, -0.8143], grad_fn=<SqueezeBackward1>)\n",
      "torch.Size([10])\n",
      "tensor([-0.8140, -0.8035,  0.0109, -0.0886, -0.3933, -0.5548,  5.1620, -0.8610,\n",
      "        -0.8437, -0.8138], grad_fn=<SqueezeBackward1>)\n",
      "torch.Size([10])\n",
      "tensor([-0.8138, -0.8029,  0.0082, -0.0900, -0.3933, -0.5542,  5.1631, -0.8605,\n",
      "        -0.8432, -0.8133], grad_fn=<SqueezeBackward1>)\n",
      "torch.Size([10])\n",
      "tensor([-0.8135, -0.8024,  0.0056, -0.0913, -0.3931, -0.5537,  5.1641, -0.8601,\n",
      "        -0.8428, -0.8128], grad_fn=<SqueezeBackward1>)\n",
      "torch.Size([10])\n",
      "tensor([-8.1330e-01, -8.0184e-01,  3.0828e-03, -9.2561e-02, -3.9300e-01,\n",
      "        -5.5305e-01,  5.1650e+00, -8.5960e-01, -8.4229e-01, -8.1234e-01],\n",
      "       grad_fn=<SqueezeBackward1>)\n",
      "torch.Size([10])\n",
      "tensor([-8.1308e-01, -8.0130e-01,  6.5065e-04, -9.3711e-02, -3.9282e-01,\n",
      "        -5.5244e-01,  5.1656e+00, -8.5915e-01, -8.4184e-01, -8.1190e-01],\n",
      "       grad_fn=<SqueezeBackward1>)\n",
      "torch.Size([10])\n"
     ]
    },
    {
     "ename": "KeyboardInterrupt",
     "evalue": "",
     "output_type": "error",
     "traceback": [
      "\u001b[0;31m---------------------------------------------------------------------------\u001b[0m",
      "\u001b[0;31mKeyboardInterrupt\u001b[0m                         Traceback (most recent call last)",
      "\u001b[1;32m/Users/alpayozkan/eth/dl_proj/class_maxim.ipynb Cell 48\u001b[0m line \u001b[0;36m1\n\u001b[1;32m     <a href='vscode-notebook-cell:/Users/alpayozkan/eth/dl_proj/class_maxim.ipynb#Y231sZmlsZQ%3D%3D?line=15'>16</a>\u001b[0m targs \u001b[39m=\u001b[39m torch\u001b[39m.\u001b[39mtensor(c)\u001b[39m#.cuda()\u001b[39;00m\n\u001b[1;32m     <a href='vscode-notebook-cell:/Users/alpayozkan/eth/dl_proj/class_maxim.ipynb#Y231sZmlsZQ%3D%3D?line=17'>18</a>\u001b[0m loss \u001b[39m=\u001b[39m (preds[c] \u001b[39m-\u001b[39m lamb\u001b[39m*\u001b[39m(torch\u001b[39m.\u001b[39mnorm(clsmax\u001b[39m.\u001b[39mx_c[c])))\n\u001b[0;32m---> <a href='vscode-notebook-cell:/Users/alpayozkan/eth/dl_proj/class_maxim.ipynb#Y231sZmlsZQ%3D%3D?line=18'>19</a>\u001b[0m (loss)\u001b[39m.\u001b[39;49mbackward()\n\u001b[1;32m     <a href='vscode-notebook-cell:/Users/alpayozkan/eth/dl_proj/class_maxim.ipynb#Y231sZmlsZQ%3D%3D?line=19'>20</a>\u001b[0m \u001b[39m# loss = loss_fn(preds, targs)\u001b[39;00m\n\u001b[1;32m     <a href='vscode-notebook-cell:/Users/alpayozkan/eth/dl_proj/class_maxim.ipynb#Y231sZmlsZQ%3D%3D?line=20'>21</a>\u001b[0m \n\u001b[1;32m     <a href='vscode-notebook-cell:/Users/alpayozkan/eth/dl_proj/class_maxim.ipynb#Y231sZmlsZQ%3D%3D?line=21'>22</a>\u001b[0m \u001b[39m# loss = loss / args.accum_steps\u001b[39;00m\n\u001b[1;32m     <a href='vscode-notebook-cell:/Users/alpayozkan/eth/dl_proj/class_maxim.ipynb#Y231sZmlsZQ%3D%3D?line=22'>23</a>\u001b[0m \u001b[39m# loss.backward()\u001b[39;00m\n\u001b[1;32m     <a href='vscode-notebook-cell:/Users/alpayozkan/eth/dl_proj/class_maxim.ipynb#Y231sZmlsZQ%3D%3D?line=24'>25</a>\u001b[0m \u001b[39mprint\u001b[39m(preds)\n",
      "File \u001b[0;32m~/opt/anaconda3/envs/ex4/lib/python3.10/site-packages/torch/_tensor.py:492\u001b[0m, in \u001b[0;36mTensor.backward\u001b[0;34m(self, gradient, retain_graph, create_graph, inputs)\u001b[0m\n\u001b[1;32m    482\u001b[0m \u001b[39mif\u001b[39;00m has_torch_function_unary(\u001b[39mself\u001b[39m):\n\u001b[1;32m    483\u001b[0m     \u001b[39mreturn\u001b[39;00m handle_torch_function(\n\u001b[1;32m    484\u001b[0m         Tensor\u001b[39m.\u001b[39mbackward,\n\u001b[1;32m    485\u001b[0m         (\u001b[39mself\u001b[39m,),\n\u001b[0;32m   (...)\u001b[0m\n\u001b[1;32m    490\u001b[0m         inputs\u001b[39m=\u001b[39minputs,\n\u001b[1;32m    491\u001b[0m     )\n\u001b[0;32m--> 492\u001b[0m torch\u001b[39m.\u001b[39;49mautograd\u001b[39m.\u001b[39;49mbackward(\n\u001b[1;32m    493\u001b[0m     \u001b[39mself\u001b[39;49m, gradient, retain_graph, create_graph, inputs\u001b[39m=\u001b[39;49minputs\n\u001b[1;32m    494\u001b[0m )\n",
      "File \u001b[0;32m~/opt/anaconda3/envs/ex4/lib/python3.10/site-packages/torch/autograd/__init__.py:251\u001b[0m, in \u001b[0;36mbackward\u001b[0;34m(tensors, grad_tensors, retain_graph, create_graph, grad_variables, inputs)\u001b[0m\n\u001b[1;32m    246\u001b[0m     retain_graph \u001b[39m=\u001b[39m create_graph\n\u001b[1;32m    248\u001b[0m \u001b[39m# The reason we repeat the same comment below is that\u001b[39;00m\n\u001b[1;32m    249\u001b[0m \u001b[39m# some Python versions print out the first line of a multi-line function\u001b[39;00m\n\u001b[1;32m    250\u001b[0m \u001b[39m# calls in the traceback and some print out the last line\u001b[39;00m\n\u001b[0;32m--> 251\u001b[0m Variable\u001b[39m.\u001b[39;49m_execution_engine\u001b[39m.\u001b[39;49mrun_backward(  \u001b[39m# Calls into the C++ engine to run the backward pass\u001b[39;49;00m\n\u001b[1;32m    252\u001b[0m     tensors,\n\u001b[1;32m    253\u001b[0m     grad_tensors_,\n\u001b[1;32m    254\u001b[0m     retain_graph,\n\u001b[1;32m    255\u001b[0m     create_graph,\n\u001b[1;32m    256\u001b[0m     inputs,\n\u001b[1;32m    257\u001b[0m     allow_unreachable\u001b[39m=\u001b[39;49m\u001b[39mTrue\u001b[39;49;00m,\n\u001b[1;32m    258\u001b[0m     accumulate_grad\u001b[39m=\u001b[39;49m\u001b[39mTrue\u001b[39;49;00m,\n\u001b[1;32m    259\u001b[0m )\n",
      "\u001b[0;31mKeyboardInterrupt\u001b[0m: "
     ]
    }
   ],
   "source": [
    "start = time.time()\n",
    "model.eval() # fixed model\n",
    "\n",
    "# total_acc, total_top5 = AverageMeter(), AverageMeter()\n",
    "total_loss = AverageMeter()\n",
    "\n",
    "for step in range(1000):\n",
    "    # for c in range(1):\n",
    "    c=1\n",
    "    xx = clsmax.x_c[c]#.flatten()#.cuda()\n",
    "    #print(xx.size())\n",
    "    preds = model(xx.unsqueeze(0)) # cnn 1 x 3 x 32 x 32, expected dim\n",
    "    preds = preds.squeeze(0)\n",
    "\n",
    "    print(preds.size())\n",
    "    targs = torch.tensor(c)#.cuda()\n",
    "\n",
    "    loss = (preds[c] - lamb*(torch.norm(clsmax.x_c[c])))\n",
    "    (loss).backward()\n",
    "    # loss = loss_fn(preds, targs)\n",
    "    \n",
    "    # loss = loss / args.accum_steps\n",
    "    # loss.backward()\n",
    "\n",
    "    print(preds)\n",
    "    \n",
    "    grad = clsmax.x_c.grad / (torch.norm(clsmax.x_c.grad)+ 1e-5) # l2 norm, grads\n",
    "    clsmax.x_c = nn.Parameter(clsmax.x_c + grad*lr) # update step, gradient ascent\n",
    "    # opt.step()\n",
    "    # opt.zero_grad()\n",
    "\n",
    "    #total_loss.update(loss.item() * args.accum_steps, 1)\n",
    "\n",
    "end = time.time()\n",
    "\n",
    "# scheduler.step()"
   ]
  },
  {
   "cell_type": "code",
   "execution_count": 35,
   "id": "00121f60",
   "metadata": {},
   "outputs": [
    {
     "name": "stderr",
     "output_type": "stream",
     "text": [
      "Clipping input data to the valid range for imshow with RGB data ([0..1] for floats or [0..255] for integers).\n"
     ]
    },
    {
     "data": {
      "image/png": "[encoded data removed]",
      "text/plain": [
       "<Figure size 640x480 with 1 Axes>"
      ]
     },
     "metadata": {},
     "output_type": "display_data"
    },
    {
     "name": "stderr",
     "output_type": "stream",
     "text": [
      "Clipping input data to the valid range for imshow with RGB data ([0..1] for floats or [0..255] for integers).\n"
     ]
    },
    {
     "data": {
      "image/png": "[encoded data removed]",
      "text/plain": [
       "<Figure size 640x480 with 1 Axes>"
      ]
     },
     "metadata": {},
     "output_type": "display_data"
    },
    {
     "name": "stderr",
     "output_type": "stream",
     "text": [
      "Clipping input data to the valid range for imshow with RGB data ([0..1] for floats or [0..255] for integers).\n"
     ]
    },
    {
     "data": {
      "image/png": "[encoded data removed]",
      "text/plain": [
       "<Figure size 640x480 with 1 Axes>"
      ]
     },
     "metadata": {},
     "output_type": "display_data"
    },
    {
     "name": "stderr",
     "output_type": "stream",
     "text": [
      "Clipping input data to the valid range for imshow with RGB data ([0..1] for floats or [0..255] for integers).\n"
     ]
    },
    {
     "data": {
      "image/png": "[encoded data removed]",
      "text/plain": [
       "<Figure size 640x480 with 1 Axes>"
      ]
     },
     "metadata": {},
     "output_type": "display_data"
    },
    {
     "name": "stderr",
     "output_type": "stream",
     "text": [
      "Clipping input data to the valid range for imshow with RGB data ([0..1] for floats or [0..255] for integers).\n"
     ]
    },
    {
     "data": {
      "image/png": "[encoded data removed]",
      "text/plain": [
       "<Figure size 640x480 with 1 Axes>"
      ]
     },
     "metadata": {},
     "output_type": "display_data"
    },
    {
     "name": "stderr",
     "output_type": "stream",
     "text": [
      "Clipping input data to the valid range for imshow with RGB data ([0..1] for floats or [0..255] for integers).\n"
     ]
    },
    {
     "data": {
      "image/png": "[encoded data removed]",
      "text/plain": [
       "<Figure size 640x480 with 1 Axes>"
      ]
     },
     "metadata": {},
     "output_type": "display_data"
    },
    {
     "ename": "KeyboardInterrupt",
     "evalue": "",
     "output_type": "error",
     "traceback": [
      "\u001b[0;31m---------------------------------------------------------------------------\u001b[0m",
      "\u001b[0;31mKeyboardInterrupt\u001b[0m                         Traceback (most recent call last)",
      "\u001b[1;32m/Users/alpayozkan/eth/dl_proj/class_maxim.ipynb Cell 50\u001b[0m line \u001b[0;36m2\n\u001b[1;32m     <a href='vscode-notebook-cell:/Users/alpayozkan/eth/dl_proj/class_maxim.ipynb#X66sZmlsZQ%3D%3D?line=17'>18</a>\u001b[0m xx \u001b[39m=\u001b[39m clsmax\u001b[39m.\u001b[39mx_c[c]\u001b[39m#.flatten()#.cuda()\u001b[39;00m\n\u001b[1;32m     <a href='vscode-notebook-cell:/Users/alpayozkan/eth/dl_proj/class_maxim.ipynb#X66sZmlsZQ%3D%3D?line=18'>19</a>\u001b[0m \u001b[39m#print(xx.size())\u001b[39;00m\n\u001b[0;32m---> <a href='vscode-notebook-cell:/Users/alpayozkan/eth/dl_proj/class_maxim.ipynb#X66sZmlsZQ%3D%3D?line=19'>20</a>\u001b[0m preds \u001b[39m=\u001b[39m model(xx\u001b[39m.\u001b[39;49munsqueeze(\u001b[39m0\u001b[39;49m)) \u001b[39m# cnn 1 x 3 x 32 x 32, expected dim\u001b[39;00m\n\u001b[1;32m     <a href='vscode-notebook-cell:/Users/alpayozkan/eth/dl_proj/class_maxim.ipynb#X66sZmlsZQ%3D%3D?line=20'>21</a>\u001b[0m preds \u001b[39m=\u001b[39m preds\u001b[39m.\u001b[39msqueeze(\u001b[39m0\u001b[39m)\n\u001b[1;32m     <a href='vscode-notebook-cell:/Users/alpayozkan/eth/dl_proj/class_maxim.ipynb#X66sZmlsZQ%3D%3D?line=22'>23</a>\u001b[0m \u001b[39m# print(preds.size())\u001b[39;00m\n",
      "File \u001b[0;32m~/opt/anaconda3/envs/ex4/lib/python3.10/site-packages/torch/nn/modules/module.py:1518\u001b[0m, in \u001b[0;36mModule._wrapped_call_impl\u001b[0;34m(self, *args, **kwargs)\u001b[0m\n\u001b[1;32m   1516\u001b[0m     \u001b[39mreturn\u001b[39;00m \u001b[39mself\u001b[39m\u001b[39m.\u001b[39m_compiled_call_impl(\u001b[39m*\u001b[39margs, \u001b[39m*\u001b[39m\u001b[39m*\u001b[39mkwargs)  \u001b[39m# type: ignore[misc]\u001b[39;00m\n\u001b[1;32m   1517\u001b[0m \u001b[39melse\u001b[39;00m:\n\u001b[0;32m-> 1518\u001b[0m     \u001b[39mreturn\u001b[39;00m \u001b[39mself\u001b[39;49m\u001b[39m.\u001b[39;49m_call_impl(\u001b[39m*\u001b[39;49margs, \u001b[39m*\u001b[39;49m\u001b[39m*\u001b[39;49mkwargs)\n",
      "File \u001b[0;32m~/opt/anaconda3/envs/ex4/lib/python3.10/site-packages/torch/nn/modules/module.py:1527\u001b[0m, in \u001b[0;36mModule._call_impl\u001b[0;34m(self, *args, **kwargs)\u001b[0m\n\u001b[1;32m   1522\u001b[0m \u001b[39m# If we don't have any hooks, we want to skip the rest of the logic in\u001b[39;00m\n\u001b[1;32m   1523\u001b[0m \u001b[39m# this function, and just call forward.\u001b[39;00m\n\u001b[1;32m   1524\u001b[0m \u001b[39mif\u001b[39;00m \u001b[39mnot\u001b[39;00m (\u001b[39mself\u001b[39m\u001b[39m.\u001b[39m_backward_hooks \u001b[39mor\u001b[39;00m \u001b[39mself\u001b[39m\u001b[39m.\u001b[39m_backward_pre_hooks \u001b[39mor\u001b[39;00m \u001b[39mself\u001b[39m\u001b[39m.\u001b[39m_forward_hooks \u001b[39mor\u001b[39;00m \u001b[39mself\u001b[39m\u001b[39m.\u001b[39m_forward_pre_hooks\n\u001b[1;32m   1525\u001b[0m         \u001b[39mor\u001b[39;00m _global_backward_pre_hooks \u001b[39mor\u001b[39;00m _global_backward_hooks\n\u001b[1;32m   1526\u001b[0m         \u001b[39mor\u001b[39;00m _global_forward_hooks \u001b[39mor\u001b[39;00m _global_forward_pre_hooks):\n\u001b[0;32m-> 1527\u001b[0m     \u001b[39mreturn\u001b[39;00m forward_call(\u001b[39m*\u001b[39;49margs, \u001b[39m*\u001b[39;49m\u001b[39m*\u001b[39;49mkwargs)\n\u001b[1;32m   1529\u001b[0m \u001b[39mtry\u001b[39;00m:\n\u001b[1;32m   1530\u001b[0m     result \u001b[39m=\u001b[39m \u001b[39mNone\u001b[39;00m\n",
      "File \u001b[0;32m~/eth/dl_proj/cifar10_models/resnet.py:253\u001b[0m, in \u001b[0;36mResNet.forward\u001b[0;34m(self, x)\u001b[0m\n\u001b[1;32m    251\u001b[0m x \u001b[39m=\u001b[39m \u001b[39mself\u001b[39m\u001b[39m.\u001b[39mlayer2(x)\n\u001b[1;32m    252\u001b[0m x \u001b[39m=\u001b[39m \u001b[39mself\u001b[39m\u001b[39m.\u001b[39mlayer3(x)\n\u001b[0;32m--> 253\u001b[0m x \u001b[39m=\u001b[39m \u001b[39mself\u001b[39;49m\u001b[39m.\u001b[39;49mlayer4(x)\n\u001b[1;32m    255\u001b[0m x \u001b[39m=\u001b[39m \u001b[39mself\u001b[39m\u001b[39m.\u001b[39mavgpool(x)\n\u001b[1;32m    256\u001b[0m x \u001b[39m=\u001b[39m x\u001b[39m.\u001b[39mreshape(x\u001b[39m.\u001b[39msize(\u001b[39m0\u001b[39m), \u001b[39m-\u001b[39m\u001b[39m1\u001b[39m)\n",
      "File \u001b[0;32m~/opt/anaconda3/envs/ex4/lib/python3.10/site-packages/torch/nn/modules/module.py:1518\u001b[0m, in \u001b[0;36mModule._wrapped_call_impl\u001b[0;34m(self, *args, **kwargs)\u001b[0m\n\u001b[1;32m   1516\u001b[0m     \u001b[39mreturn\u001b[39;00m \u001b[39mself\u001b[39m\u001b[39m.\u001b[39m_compiled_call_impl(\u001b[39m*\u001b[39margs, \u001b[39m*\u001b[39m\u001b[39m*\u001b[39mkwargs)  \u001b[39m# type: ignore[misc]\u001b[39;00m\n\u001b[1;32m   1517\u001b[0m \u001b[39melse\u001b[39;00m:\n\u001b[0;32m-> 1518\u001b[0m     \u001b[39mreturn\u001b[39;00m \u001b[39mself\u001b[39;49m\u001b[39m.\u001b[39;49m_call_impl(\u001b[39m*\u001b[39;49margs, \u001b[39m*\u001b[39;49m\u001b[39m*\u001b[39;49mkwargs)\n",
      "File \u001b[0;32m~/opt/anaconda3/envs/ex4/lib/python3.10/site-packages/torch/nn/modules/module.py:1527\u001b[0m, in \u001b[0;36mModule._call_impl\u001b[0;34m(self, *args, **kwargs)\u001b[0m\n\u001b[1;32m   1522\u001b[0m \u001b[39m# If we don't have any hooks, we want to skip the rest of the logic in\u001b[39;00m\n\u001b[1;32m   1523\u001b[0m \u001b[39m# this function, and just call forward.\u001b[39;00m\n\u001b[1;32m   1524\u001b[0m \u001b[39mif\u001b[39;00m \u001b[39mnot\u001b[39;00m (\u001b[39mself\u001b[39m\u001b[39m.\u001b[39m_backward_hooks \u001b[39mor\u001b[39;00m \u001b[39mself\u001b[39m\u001b[39m.\u001b[39m_backward_pre_hooks \u001b[39mor\u001b[39;00m \u001b[39mself\u001b[39m\u001b[39m.\u001b[39m_forward_hooks \u001b[39mor\u001b[39;00m \u001b[39mself\u001b[39m\u001b[39m.\u001b[39m_forward_pre_hooks\n\u001b[1;32m   1525\u001b[0m         \u001b[39mor\u001b[39;00m _global_backward_pre_hooks \u001b[39mor\u001b[39;00m _global_backward_hooks\n\u001b[1;32m   1526\u001b[0m         \u001b[39mor\u001b[39;00m _global_forward_hooks \u001b[39mor\u001b[39;00m _global_forward_pre_hooks):\n\u001b[0;32m-> 1527\u001b[0m     \u001b[39mreturn\u001b[39;00m forward_call(\u001b[39m*\u001b[39;49margs, \u001b[39m*\u001b[39;49m\u001b[39m*\u001b[39;49mkwargs)\n\u001b[1;32m   1529\u001b[0m \u001b[39mtry\u001b[39;00m:\n\u001b[1;32m   1530\u001b[0m     result \u001b[39m=\u001b[39m \u001b[39mNone\u001b[39;00m\n",
      "File \u001b[0;32m~/opt/anaconda3/envs/ex4/lib/python3.10/site-packages/torch/nn/modules/container.py:215\u001b[0m, in \u001b[0;36mSequential.forward\u001b[0;34m(self, input)\u001b[0m\n\u001b[1;32m    213\u001b[0m \u001b[39mdef\u001b[39;00m \u001b[39mforward\u001b[39m(\u001b[39mself\u001b[39m, \u001b[39minput\u001b[39m):\n\u001b[1;32m    214\u001b[0m     \u001b[39mfor\u001b[39;00m module \u001b[39min\u001b[39;00m \u001b[39mself\u001b[39m:\n\u001b[0;32m--> 215\u001b[0m         \u001b[39minput\u001b[39m \u001b[39m=\u001b[39m module(\u001b[39minput\u001b[39;49m)\n\u001b[1;32m    216\u001b[0m     \u001b[39mreturn\u001b[39;00m \u001b[39minput\u001b[39m\n",
      "File \u001b[0;32m~/opt/anaconda3/envs/ex4/lib/python3.10/site-packages/torch/nn/modules/module.py:1518\u001b[0m, in \u001b[0;36mModule._wrapped_call_impl\u001b[0;34m(self, *args, **kwargs)\u001b[0m\n\u001b[1;32m   1516\u001b[0m     \u001b[39mreturn\u001b[39;00m \u001b[39mself\u001b[39m\u001b[39m.\u001b[39m_compiled_call_impl(\u001b[39m*\u001b[39margs, \u001b[39m*\u001b[39m\u001b[39m*\u001b[39mkwargs)  \u001b[39m# type: ignore[misc]\u001b[39;00m\n\u001b[1;32m   1517\u001b[0m \u001b[39melse\u001b[39;00m:\n\u001b[0;32m-> 1518\u001b[0m     \u001b[39mreturn\u001b[39;00m \u001b[39mself\u001b[39;49m\u001b[39m.\u001b[39;49m_call_impl(\u001b[39m*\u001b[39;49margs, \u001b[39m*\u001b[39;49m\u001b[39m*\u001b[39;49mkwargs)\n",
      "File \u001b[0;32m~/opt/anaconda3/envs/ex4/lib/python3.10/site-packages/torch/nn/modules/module.py:1527\u001b[0m, in \u001b[0;36mModule._call_impl\u001b[0;34m(self, *args, **kwargs)\u001b[0m\n\u001b[1;32m   1522\u001b[0m \u001b[39m# If we don't have any hooks, we want to skip the rest of the logic in\u001b[39;00m\n\u001b[1;32m   1523\u001b[0m \u001b[39m# this function, and just call forward.\u001b[39;00m\n\u001b[1;32m   1524\u001b[0m \u001b[39mif\u001b[39;00m \u001b[39mnot\u001b[39;00m (\u001b[39mself\u001b[39m\u001b[39m.\u001b[39m_backward_hooks \u001b[39mor\u001b[39;00m \u001b[39mself\u001b[39m\u001b[39m.\u001b[39m_backward_pre_hooks \u001b[39mor\u001b[39;00m \u001b[39mself\u001b[39m\u001b[39m.\u001b[39m_forward_hooks \u001b[39mor\u001b[39;00m \u001b[39mself\u001b[39m\u001b[39m.\u001b[39m_forward_pre_hooks\n\u001b[1;32m   1525\u001b[0m         \u001b[39mor\u001b[39;00m _global_backward_pre_hooks \u001b[39mor\u001b[39;00m _global_backward_hooks\n\u001b[1;32m   1526\u001b[0m         \u001b[39mor\u001b[39;00m _global_forward_hooks \u001b[39mor\u001b[39;00m _global_forward_pre_hooks):\n\u001b[0;32m-> 1527\u001b[0m     \u001b[39mreturn\u001b[39;00m forward_call(\u001b[39m*\u001b[39;49margs, \u001b[39m*\u001b[39;49m\u001b[39m*\u001b[39;49mkwargs)\n\u001b[1;32m   1529\u001b[0m \u001b[39mtry\u001b[39;00m:\n\u001b[1;32m   1530\u001b[0m     result \u001b[39m=\u001b[39m \u001b[39mNone\u001b[39;00m\n",
      "File \u001b[0;32m~/eth/dl_proj/cifar10_models/resnet.py:69\u001b[0m, in \u001b[0;36mBasicBlock.forward\u001b[0;34m(self, x)\u001b[0m\n\u001b[1;32m     66\u001b[0m out \u001b[39m=\u001b[39m \u001b[39mself\u001b[39m\u001b[39m.\u001b[39mbn1(out)\n\u001b[1;32m     67\u001b[0m out \u001b[39m=\u001b[39m \u001b[39mself\u001b[39m\u001b[39m.\u001b[39mrelu(out)\n\u001b[0;32m---> 69\u001b[0m out \u001b[39m=\u001b[39m \u001b[39mself\u001b[39;49m\u001b[39m.\u001b[39;49mconv2(out)\n\u001b[1;32m     70\u001b[0m out \u001b[39m=\u001b[39m \u001b[39mself\u001b[39m\u001b[39m.\u001b[39mbn2(out)\n\u001b[1;32m     72\u001b[0m \u001b[39mif\u001b[39;00m \u001b[39mself\u001b[39m\u001b[39m.\u001b[39mdownsample \u001b[39mis\u001b[39;00m \u001b[39mnot\u001b[39;00m \u001b[39mNone\u001b[39;00m:\n",
      "File \u001b[0;32m~/opt/anaconda3/envs/ex4/lib/python3.10/site-packages/torch/nn/modules/module.py:1518\u001b[0m, in \u001b[0;36mModule._wrapped_call_impl\u001b[0;34m(self, *args, **kwargs)\u001b[0m\n\u001b[1;32m   1516\u001b[0m     \u001b[39mreturn\u001b[39;00m \u001b[39mself\u001b[39m\u001b[39m.\u001b[39m_compiled_call_impl(\u001b[39m*\u001b[39margs, \u001b[39m*\u001b[39m\u001b[39m*\u001b[39mkwargs)  \u001b[39m# type: ignore[misc]\u001b[39;00m\n\u001b[1;32m   1517\u001b[0m \u001b[39melse\u001b[39;00m:\n\u001b[0;32m-> 1518\u001b[0m     \u001b[39mreturn\u001b[39;00m \u001b[39mself\u001b[39;49m\u001b[39m.\u001b[39;49m_call_impl(\u001b[39m*\u001b[39;49margs, \u001b[39m*\u001b[39;49m\u001b[39m*\u001b[39;49mkwargs)\n",
      "File \u001b[0;32m~/opt/anaconda3/envs/ex4/lib/python3.10/site-packages/torch/nn/modules/module.py:1527\u001b[0m, in \u001b[0;36mModule._call_impl\u001b[0;34m(self, *args, **kwargs)\u001b[0m\n\u001b[1;32m   1522\u001b[0m \u001b[39m# If we don't have any hooks, we want to skip the rest of the logic in\u001b[39;00m\n\u001b[1;32m   1523\u001b[0m \u001b[39m# this function, and just call forward.\u001b[39;00m\n\u001b[1;32m   1524\u001b[0m \u001b[39mif\u001b[39;00m \u001b[39mnot\u001b[39;00m (\u001b[39mself\u001b[39m\u001b[39m.\u001b[39m_backward_hooks \u001b[39mor\u001b[39;00m \u001b[39mself\u001b[39m\u001b[39m.\u001b[39m_backward_pre_hooks \u001b[39mor\u001b[39;00m \u001b[39mself\u001b[39m\u001b[39m.\u001b[39m_forward_hooks \u001b[39mor\u001b[39;00m \u001b[39mself\u001b[39m\u001b[39m.\u001b[39m_forward_pre_hooks\n\u001b[1;32m   1525\u001b[0m         \u001b[39mor\u001b[39;00m _global_backward_pre_hooks \u001b[39mor\u001b[39;00m _global_backward_hooks\n\u001b[1;32m   1526\u001b[0m         \u001b[39mor\u001b[39;00m _global_forward_hooks \u001b[39mor\u001b[39;00m _global_forward_pre_hooks):\n\u001b[0;32m-> 1527\u001b[0m     \u001b[39mreturn\u001b[39;00m forward_call(\u001b[39m*\u001b[39;49margs, \u001b[39m*\u001b[39;49m\u001b[39m*\u001b[39;49mkwargs)\n\u001b[1;32m   1529\u001b[0m \u001b[39mtry\u001b[39;00m:\n\u001b[1;32m   1530\u001b[0m     result \u001b[39m=\u001b[39m \u001b[39mNone\u001b[39;00m\n",
      "File \u001b[0;32m~/opt/anaconda3/envs/ex4/lib/python3.10/site-packages/torch/nn/modules/conv.py:460\u001b[0m, in \u001b[0;36mConv2d.forward\u001b[0;34m(self, input)\u001b[0m\n\u001b[1;32m    459\u001b[0m \u001b[39mdef\u001b[39;00m \u001b[39mforward\u001b[39m(\u001b[39mself\u001b[39m, \u001b[39minput\u001b[39m: Tensor) \u001b[39m-\u001b[39m\u001b[39m>\u001b[39m Tensor:\n\u001b[0;32m--> 460\u001b[0m     \u001b[39mreturn\u001b[39;00m \u001b[39mself\u001b[39;49m\u001b[39m.\u001b[39;49m_conv_forward(\u001b[39minput\u001b[39;49m, \u001b[39mself\u001b[39;49m\u001b[39m.\u001b[39;49mweight, \u001b[39mself\u001b[39;49m\u001b[39m.\u001b[39;49mbias)\n",
      "File \u001b[0;32m~/opt/anaconda3/envs/ex4/lib/python3.10/site-packages/torch/nn/modules/conv.py:456\u001b[0m, in \u001b[0;36mConv2d._conv_forward\u001b[0;34m(self, input, weight, bias)\u001b[0m\n\u001b[1;32m    452\u001b[0m \u001b[39mif\u001b[39;00m \u001b[39mself\u001b[39m\u001b[39m.\u001b[39mpadding_mode \u001b[39m!=\u001b[39m \u001b[39m'\u001b[39m\u001b[39mzeros\u001b[39m\u001b[39m'\u001b[39m:\n\u001b[1;32m    453\u001b[0m     \u001b[39mreturn\u001b[39;00m F\u001b[39m.\u001b[39mconv2d(F\u001b[39m.\u001b[39mpad(\u001b[39minput\u001b[39m, \u001b[39mself\u001b[39m\u001b[39m.\u001b[39m_reversed_padding_repeated_twice, mode\u001b[39m=\u001b[39m\u001b[39mself\u001b[39m\u001b[39m.\u001b[39mpadding_mode),\n\u001b[1;32m    454\u001b[0m                     weight, bias, \u001b[39mself\u001b[39m\u001b[39m.\u001b[39mstride,\n\u001b[1;32m    455\u001b[0m                     _pair(\u001b[39m0\u001b[39m), \u001b[39mself\u001b[39m\u001b[39m.\u001b[39mdilation, \u001b[39mself\u001b[39m\u001b[39m.\u001b[39mgroups)\n\u001b[0;32m--> 456\u001b[0m \u001b[39mreturn\u001b[39;00m F\u001b[39m.\u001b[39;49mconv2d(\u001b[39minput\u001b[39;49m, weight, bias, \u001b[39mself\u001b[39;49m\u001b[39m.\u001b[39;49mstride,\n\u001b[1;32m    457\u001b[0m                 \u001b[39mself\u001b[39;49m\u001b[39m.\u001b[39;49mpadding, \u001b[39mself\u001b[39;49m\u001b[39m.\u001b[39;49mdilation, \u001b[39mself\u001b[39;49m\u001b[39m.\u001b[39;49mgroups)\n",
      "\u001b[0;31mKeyboardInterrupt\u001b[0m: "
     ]
    }
   ],
   "source": [
    "std_tens = torch.tensor(std).reshape(-1,1,1)\n",
    "mean_tens = torch.tensor(mean).reshape(-1,1,1)\n",
    "\n",
    "\n",
    "start = time.time()\n",
    "model.eval() # fixed model\n",
    "\n",
    "# total_acc, total_top5 = AverageMeter(), AverageMeter()\n",
    "total_loss = AverageMeter()\n",
    "\n",
    "plt.figure()\n",
    "for i in range(40):\n",
    "    plt.imshow((clsmax.x_c[c]*std_tens + mean_tens).detach().numpy().transpose(1,2,0))\n",
    "    plt.show()\n",
    "    for step in range(250):\n",
    "        # for c in range(1):\n",
    "        c=1\n",
    "        xx = clsmax.x_c[c]#.flatten()#.cuda()\n",
    "        #print(xx.size())\n",
    "        preds = model(xx.unsqueeze(0)) # cnn 1 x 3 x 32 x 32, expected dim\n",
    "        preds = preds.squeeze(0)\n",
    "\n",
    "        # print(preds.size())\n",
    "        targs = torch.tensor(c)#.cuda()\n",
    "\n",
    "        loss = (preds[c] - lamb*(torch.norm(clsmax.x_c[c])))\n",
    "        (loss).backward()\n",
    "        # loss = loss_fn(preds, targs)\n",
    "        \n",
    "        # loss = loss / args.accum_steps\n",
    "        # loss.backward()\n",
    "\n",
    "        # print(preds)\n",
    "        \n",
    "        grad = clsmax.x_c.grad / (torch.norm(clsmax.x_c.grad)+ 1e-5) # l2 norm, grads\n",
    "        clsmax.x_c = nn.Parameter(clsmax.x_c + grad*lr) # update step, gradient ascent\n",
    "        # opt.step()\n",
    "        # opt.zero_grad()\n",
    "\n",
    "        #total_loss.update(loss.item() * args.accum_steps, 1)\n",
    "\n",
    "    end = time.time()\n",
    "\n",
    "    # scheduler.step()"
   ]
  },
  {
   "cell_type": "code",
   "execution_count": null,
   "id": "ef79dbda",
   "metadata": {},
   "outputs": [],
   "source": []
  },
  {
   "cell_type": "code",
   "execution_count": null,
   "id": "d97d3644",
   "metadata": {},
   "outputs": [],
   "source": []
  },
  {
   "cell_type": "code",
   "execution_count": null,
   "id": "6d88fb5b",
   "metadata": {},
   "outputs": [],
   "source": []
  },
  {
   "cell_type": "code",
   "execution_count": 362,
   "id": "ccba4f39",
   "metadata": {},
   "outputs": [
    {
     "ename": "AttributeError",
     "evalue": "'NoneType' object has no attribute 'layout'",
     "output_type": "error",
     "traceback": [
      "\u001b[0;31m---------------------------------------------------------------------------\u001b[0m",
      "\u001b[0;31mAttributeError\u001b[0m                            Traceback (most recent call last)",
      "\u001b[1;32m/Users/alpayozkan/eth/dl_proj/class_maxim.ipynb Cell 49\u001b[0m line \u001b[0;36m1\n\u001b[0;32m----> <a href='vscode-notebook-cell:/Users/alpayozkan/eth/dl_proj/class_maxim.ipynb#Y232sZmlsZQ%3D%3D?line=0'>1</a>\u001b[0m grad \u001b[39m=\u001b[39m clsmax\u001b[39m.\u001b[39mx_c\u001b[39m.\u001b[39mgrad \u001b[39m/\u001b[39m (torch\u001b[39m.\u001b[39;49mnorm(clsmax\u001b[39m.\u001b[39;49mx_c\u001b[39m.\u001b[39;49mgrad)\u001b[39m+\u001b[39m \u001b[39m1e-5\u001b[39m) \u001b[39m# l2 norm, grads\u001b[39;00m\n\u001b[1;32m      <a href='vscode-notebook-cell:/Users/alpayozkan/eth/dl_proj/class_maxim.ipynb#Y232sZmlsZQ%3D%3D?line=1'>2</a>\u001b[0m grad\u001b[39m.\u001b[39mshape\n",
      "File \u001b[0;32m~/opt/anaconda3/envs/ex4/lib/python3.10/site-packages/torch/functional.py:1582\u001b[0m, in \u001b[0;36mnorm\u001b[0;34m(input, p, dim, keepdim, out, dtype)\u001b[0m\n\u001b[1;32m   1575\u001b[0m     \u001b[39mreturn\u001b[39;00m handle_torch_function(\n\u001b[1;32m   1576\u001b[0m         norm, (\u001b[39minput\u001b[39m,), \u001b[39minput\u001b[39m, p\u001b[39m=\u001b[39mp, dim\u001b[39m=\u001b[39mdim, keepdim\u001b[39m=\u001b[39mkeepdim, out\u001b[39m=\u001b[39mout, dtype\u001b[39m=\u001b[39mdtype)\n\u001b[1;32m   1578\u001b[0m \u001b[39m# NB. All the repeated code and weird python is to please TorchScript.\u001b[39;00m\n\u001b[1;32m   1579\u001b[0m \u001b[39m#     For a more compact implementation see the relevant function in `_refs/__init__.py`\u001b[39;00m\n\u001b[1;32m   1580\u001b[0m \n\u001b[1;32m   1581\u001b[0m \u001b[39m# We don't do this for MPS or sparse tensors\u001b[39;00m\n\u001b[0;32m-> 1582\u001b[0m \u001b[39mif\u001b[39;00m \u001b[39minput\u001b[39;49m\u001b[39m.\u001b[39;49mlayout \u001b[39m==\u001b[39m torch\u001b[39m.\u001b[39mstrided \u001b[39mand\u001b[39;00m \u001b[39minput\u001b[39m\u001b[39m.\u001b[39mdevice\u001b[39m.\u001b[39mtype \u001b[39min\u001b[39;00m \\\n\u001b[1;32m   1583\u001b[0m         (\u001b[39m\"\u001b[39m\u001b[39mcpu\u001b[39m\u001b[39m\"\u001b[39m, \u001b[39m\"\u001b[39m\u001b[39mcuda\u001b[39m\u001b[39m\"\u001b[39m, \u001b[39m\"\u001b[39m\u001b[39mmeta\u001b[39m\u001b[39m\"\u001b[39m, torch\u001b[39m.\u001b[39mutils\u001b[39m.\u001b[39mbackend_registration\u001b[39m.\u001b[39m_privateuse1_backend_name):\n\u001b[1;32m   1584\u001b[0m     \u001b[39mif\u001b[39;00m dim \u001b[39mis\u001b[39;00m \u001b[39mnot\u001b[39;00m \u001b[39mNone\u001b[39;00m:\n\u001b[1;32m   1585\u001b[0m         \u001b[39mif\u001b[39;00m \u001b[39misinstance\u001b[39m(dim, \u001b[39mint\u001b[39m):\n",
      "\u001b[0;31mAttributeError\u001b[0m: 'NoneType' object has no attribute 'layout'"
     ]
    }
   ],
   "source": [
    "grad = clsmax.x_c.grad / (torch.norm(clsmax.x_c.grad)+ 1e-5) # l2 norm, grads\n",
    "grad.shape"
   ]
  },
  {
   "cell_type": "code",
   "execution_count": null,
   "id": "256384b1",
   "metadata": {},
   "outputs": [],
   "source": []
  },
  {
   "cell_type": "code",
   "execution_count": 363,
   "id": "6628d212",
   "metadata": {},
   "outputs": [
    {
     "ename": "TypeError",
     "evalue": "cannot assign 'torch.FloatTensor' as parameter 'x_c' (torch.nn.Parameter or None expected)",
     "output_type": "error",
     "traceback": [
      "\u001b[0;31m---------------------------------------------------------------------------\u001b[0m",
      "\u001b[0;31mTypeError\u001b[0m                                 Traceback (most recent call last)",
      "\u001b[1;32m/Users/alpayozkan/eth/dl_proj/class_maxim.ipynb Cell 51\u001b[0m line \u001b[0;36m1\n\u001b[0;32m----> <a href='vscode-notebook-cell:/Users/alpayozkan/eth/dl_proj/class_maxim.ipynb#Y234sZmlsZQ%3D%3D?line=0'>1</a>\u001b[0m clsmax\u001b[39m.\u001b[39;49mx_c \u001b[39m=\u001b[39m clsmax\u001b[39m.\u001b[39mx_c \u001b[39m+\u001b[39m grad\u001b[39m*\u001b[39mlr \u001b[39m# update step, gradient ascent\u001b[39;00m\n",
      "File \u001b[0;32m~/opt/anaconda3/envs/ex4/lib/python3.10/site-packages/torch/nn/modules/module.py:1715\u001b[0m, in \u001b[0;36mModule.__setattr__\u001b[0;34m(self, name, value)\u001b[0m\n\u001b[1;32m   1713\u001b[0m \u001b[39melif\u001b[39;00m params \u001b[39mis\u001b[39;00m \u001b[39mnot\u001b[39;00m \u001b[39mNone\u001b[39;00m \u001b[39mand\u001b[39;00m name \u001b[39min\u001b[39;00m params:\n\u001b[1;32m   1714\u001b[0m     \u001b[39mif\u001b[39;00m value \u001b[39mis\u001b[39;00m \u001b[39mnot\u001b[39;00m \u001b[39mNone\u001b[39;00m:\n\u001b[0;32m-> 1715\u001b[0m         \u001b[39mraise\u001b[39;00m \u001b[39mTypeError\u001b[39;00m(\u001b[39mf\u001b[39m\u001b[39m\"\u001b[39m\u001b[39mcannot assign \u001b[39m\u001b[39m'\u001b[39m\u001b[39m{\u001b[39;00mtorch\u001b[39m.\u001b[39mtypename(value)\u001b[39m}\u001b[39;00m\u001b[39m'\u001b[39m\u001b[39m as parameter \u001b[39m\u001b[39m'\u001b[39m\u001b[39m{\u001b[39;00mname\u001b[39m}\u001b[39;00m\u001b[39m'\u001b[39m\u001b[39m \u001b[39m\u001b[39m\"\u001b[39m\n\u001b[1;32m   1716\u001b[0m                         \u001b[39m\"\u001b[39m\u001b[39m(torch.nn.Parameter or None expected)\u001b[39m\u001b[39m\"\u001b[39m\n\u001b[1;32m   1717\u001b[0m                         )\n\u001b[1;32m   1718\u001b[0m     \u001b[39mself\u001b[39m\u001b[39m.\u001b[39mregister_parameter(name, value)\n\u001b[1;32m   1719\u001b[0m \u001b[39melse\u001b[39;00m:\n",
      "\u001b[0;31mTypeError\u001b[0m: cannot assign 'torch.FloatTensor' as parameter 'x_c' (torch.nn.Parameter or None expected)"
     ]
    }
   ],
   "source": [
    "        \n",
    "clsmax.x_c = clsmax.x_c + grad*lr # update step, gradient ascent"
   ]
  },
  {
   "cell_type": "code",
   "execution_count": 364,
   "id": "11aeedde",
   "metadata": {},
   "outputs": [
    {
     "name": "stdout",
     "output_type": "stream",
     "text": [
      "torch.Size([10])\n"
     ]
    }
   ],
   "source": [
    "preds = model(xx.unsqueeze(0)) # cnn 1 x 3 x 32 x 32, expected dim\n",
    "preds = preds.squeeze(0)\n",
    "\n",
    "print(preds.size())\n",
    "targs = torch.tensor(c)#.cuda()\n",
    "\n",
    "loss = -preds[c] + lamb*(torch.norm(clsmax.x_c[c]))\n",
    "(loss).backward()"
   ]
  },
  {
   "cell_type": "code",
   "execution_count": 365,
   "id": "61932103",
   "metadata": {},
   "outputs": [
    {
     "data": {
      "text/plain": [
       "torch.Size([10, 3, 32, 32])"
      ]
     },
     "execution_count": 365,
     "metadata": {},
     "output_type": "execute_result"
    }
   ],
   "source": [
    "clsmax.x_c.shape"
   ]
  },
  {
   "cell_type": "code",
   "execution_count": 366,
   "id": "0c499bc2",
   "metadata": {},
   "outputs": [
    {
     "data": {
      "text/plain": [
       "tensor(0.1000)"
      ]
     },
     "execution_count": 366,
     "metadata": {},
     "output_type": "execute_result"
    }
   ],
   "source": [
    "torch.norm(clsmax.x_c.grad)"
   ]
  },
  {
   "cell_type": "code",
   "execution_count": 367,
   "id": "6765d50c",
   "metadata": {},
   "outputs": [
    {
     "data": {
      "text/plain": [
       "tensor(0.)"
      ]
     },
     "execution_count": 367,
     "metadata": {},
     "output_type": "execute_result"
    }
   ],
   "source": [
    "torch.norm(clsmax.x_c.grad[0])"
   ]
  },
  {
   "cell_type": "code",
   "execution_count": 368,
   "id": "f94f6945",
   "metadata": {},
   "outputs": [
    {
     "data": {
      "text/plain": [
       "tensor([[[[ 0.0000e+00,  0.0000e+00,  0.0000e+00,  ...,  0.0000e+00,\n",
       "            0.0000e+00,  0.0000e+00],\n",
       "          [ 0.0000e+00,  0.0000e+00,  0.0000e+00,  ...,  0.0000e+00,\n",
       "            0.0000e+00,  0.0000e+00],\n",
       "          [ 0.0000e+00,  0.0000e+00,  0.0000e+00,  ...,  0.0000e+00,\n",
       "            0.0000e+00,  0.0000e+00],\n",
       "          ...,\n",
       "          [ 0.0000e+00,  0.0000e+00,  0.0000e+00,  ...,  0.0000e+00,\n",
       "            0.0000e+00,  0.0000e+00],\n",
       "          [ 0.0000e+00,  0.0000e+00,  0.0000e+00,  ...,  0.0000e+00,\n",
       "            0.0000e+00,  0.0000e+00],\n",
       "          [ 0.0000e+00,  0.0000e+00,  0.0000e+00,  ...,  0.0000e+00,\n",
       "            0.0000e+00,  0.0000e+00]],\n",
       "\n",
       "         [[ 0.0000e+00,  0.0000e+00,  0.0000e+00,  ...,  0.0000e+00,\n",
       "            0.0000e+00,  0.0000e+00],\n",
       "          [ 0.0000e+00,  0.0000e+00,  0.0000e+00,  ...,  0.0000e+00,\n",
       "            0.0000e+00,  0.0000e+00],\n",
       "          [ 0.0000e+00,  0.0000e+00,  0.0000e+00,  ...,  0.0000e+00,\n",
       "            0.0000e+00,  0.0000e+00],\n",
       "          ...,\n",
       "          [ 0.0000e+00,  0.0000e+00,  0.0000e+00,  ...,  0.0000e+00,\n",
       "            0.0000e+00,  0.0000e+00],\n",
       "          [ 0.0000e+00,  0.0000e+00,  0.0000e+00,  ...,  0.0000e+00,\n",
       "            0.0000e+00,  0.0000e+00],\n",
       "          [ 0.0000e+00,  0.0000e+00,  0.0000e+00,  ...,  0.0000e+00,\n",
       "            0.0000e+00,  0.0000e+00]],\n",
       "\n",
       "         [[ 0.0000e+00,  0.0000e+00,  0.0000e+00,  ...,  0.0000e+00,\n",
       "            0.0000e+00,  0.0000e+00],\n",
       "          [ 0.0000e+00,  0.0000e+00,  0.0000e+00,  ...,  0.0000e+00,\n",
       "            0.0000e+00,  0.0000e+00],\n",
       "          [ 0.0000e+00,  0.0000e+00,  0.0000e+00,  ...,  0.0000e+00,\n",
       "            0.0000e+00,  0.0000e+00],\n",
       "          ...,\n",
       "          [ 0.0000e+00,  0.0000e+00,  0.0000e+00,  ...,  0.0000e+00,\n",
       "            0.0000e+00,  0.0000e+00],\n",
       "          [ 0.0000e+00,  0.0000e+00,  0.0000e+00,  ...,  0.0000e+00,\n",
       "            0.0000e+00,  0.0000e+00],\n",
       "          [ 0.0000e+00,  0.0000e+00,  0.0000e+00,  ...,  0.0000e+00,\n",
       "            0.0000e+00,  0.0000e+00]]],\n",
       "\n",
       "\n",
       "        [[[-3.7084e-03,  4.7466e-04,  1.2669e-03,  ...,  6.0145e-04,\n",
       "           -2.0666e-04,  5.7654e-05],\n",
       "          [ 1.7627e-03, -1.2297e-03,  1.1485e-03,  ..., -1.3782e-04,\n",
       "           -5.6487e-04,  4.1999e-04],\n",
       "          [ 2.0928e-03, -5.6601e-04,  6.2862e-03,  ...,  8.6847e-04,\n",
       "           -7.5844e-04,  2.9206e-04],\n",
       "          ...,\n",
       "          [ 6.2654e-04,  4.9733e-04,  1.1115e-03,  ..., -2.8927e-04,\n",
       "            4.1237e-05, -7.3972e-05],\n",
       "          [ 4.6781e-04,  5.4254e-04,  1.1561e-03,  ...,  2.7610e-04,\n",
       "            2.2257e-04,  3.4976e-05],\n",
       "          [-1.0809e-04,  1.1280e-04, -2.5533e-04,  ...,  2.7928e-04,\n",
       "            2.1551e-04,  5.4351e-05]],\n",
       "\n",
       "         [[-5.0765e-04,  3.0614e-03, -3.4284e-04,  ...,  2.0263e-04,\n",
       "           -2.8037e-04,  2.0900e-04],\n",
       "          [ 3.3850e-03, -1.6573e-03, -7.6672e-03,  ...,  2.9505e-07,\n",
       "           -2.4240e-04,  2.5406e-04],\n",
       "          [-1.8724e-04, -4.4185e-03, -6.3813e-04,  ...,  1.7202e-03,\n",
       "            4.2136e-04, -1.6565e-04],\n",
       "          ...,\n",
       "          [ 2.2228e-04,  1.3864e-04, -3.4175e-04,  ..., -2.7799e-04,\n",
       "            4.3200e-05,  3.4117e-05],\n",
       "          [ 1.7521e-04,  1.9475e-04, -3.6917e-04,  ...,  1.3320e-04,\n",
       "            4.7270e-05,  1.2385e-04],\n",
       "          [ 2.0648e-04,  9.3375e-05, -1.8807e-05,  ...,  1.9163e-04,\n",
       "            1.6377e-04,  1.0558e-04]],\n",
       "\n",
       "         [[-2.0052e-04,  4.3238e-03,  1.9156e-03,  ...,  7.8204e-04,\n",
       "            4.3890e-04,  5.0668e-04],\n",
       "          [ 4.3098e-03,  2.2105e-03, -4.8788e-03,  ...,  9.5446e-04,\n",
       "            6.8864e-04,  5.1149e-04],\n",
       "          [ 9.8560e-05, -2.9710e-03, -5.9087e-04,  ...,  2.2945e-03,\n",
       "            4.8543e-04,  2.7051e-05],\n",
       "          ...,\n",
       "          [-5.6102e-04, -8.0374e-04, -1.4812e-03,  ..., -7.5092e-05,\n",
       "            2.8887e-04,  9.7959e-05],\n",
       "          [-4.2119e-04, -6.9750e-04, -1.5672e-03,  ...,  2.6058e-04,\n",
       "            2.9999e-04,  2.2450e-04],\n",
       "          [ 4.4661e-05, -1.4837e-04,  1.3023e-04,  ...,  1.8939e-04,\n",
       "            6.8815e-05,  4.0161e-05]]],\n",
       "\n",
       "\n",
       "        [[[ 0.0000e+00,  0.0000e+00,  0.0000e+00,  ...,  0.0000e+00,\n",
       "            0.0000e+00,  0.0000e+00],\n",
       "          [ 0.0000e+00,  0.0000e+00,  0.0000e+00,  ...,  0.0000e+00,\n",
       "            0.0000e+00,  0.0000e+00],\n",
       "          [ 0.0000e+00,  0.0000e+00,  0.0000e+00,  ...,  0.0000e+00,\n",
       "            0.0000e+00,  0.0000e+00],\n",
       "          ...,\n",
       "          [ 0.0000e+00,  0.0000e+00,  0.0000e+00,  ...,  0.0000e+00,\n",
       "            0.0000e+00,  0.0000e+00],\n",
       "          [ 0.0000e+00,  0.0000e+00,  0.0000e+00,  ...,  0.0000e+00,\n",
       "            0.0000e+00,  0.0000e+00],\n",
       "          [ 0.0000e+00,  0.0000e+00,  0.0000e+00,  ...,  0.0000e+00,\n",
       "            0.0000e+00,  0.0000e+00]],\n",
       "\n",
       "         [[ 0.0000e+00,  0.0000e+00,  0.0000e+00,  ...,  0.0000e+00,\n",
       "            0.0000e+00,  0.0000e+00],\n",
       "          [ 0.0000e+00,  0.0000e+00,  0.0000e+00,  ...,  0.0000e+00,\n",
       "            0.0000e+00,  0.0000e+00],\n",
       "          [ 0.0000e+00,  0.0000e+00,  0.0000e+00,  ...,  0.0000e+00,\n",
       "            0.0000e+00,  0.0000e+00],\n",
       "          ...,\n",
       "          [ 0.0000e+00,  0.0000e+00,  0.0000e+00,  ...,  0.0000e+00,\n",
       "            0.0000e+00,  0.0000e+00],\n",
       "          [ 0.0000e+00,  0.0000e+00,  0.0000e+00,  ...,  0.0000e+00,\n",
       "            0.0000e+00,  0.0000e+00],\n",
       "          [ 0.0000e+00,  0.0000e+00,  0.0000e+00,  ...,  0.0000e+00,\n",
       "            0.0000e+00,  0.0000e+00]],\n",
       "\n",
       "         [[ 0.0000e+00,  0.0000e+00,  0.0000e+00,  ...,  0.0000e+00,\n",
       "            0.0000e+00,  0.0000e+00],\n",
       "          [ 0.0000e+00,  0.0000e+00,  0.0000e+00,  ...,  0.0000e+00,\n",
       "            0.0000e+00,  0.0000e+00],\n",
       "          [ 0.0000e+00,  0.0000e+00,  0.0000e+00,  ...,  0.0000e+00,\n",
       "            0.0000e+00,  0.0000e+00],\n",
       "          ...,\n",
       "          [ 0.0000e+00,  0.0000e+00,  0.0000e+00,  ...,  0.0000e+00,\n",
       "            0.0000e+00,  0.0000e+00],\n",
       "          [ 0.0000e+00,  0.0000e+00,  0.0000e+00,  ...,  0.0000e+00,\n",
       "            0.0000e+00,  0.0000e+00],\n",
       "          [ 0.0000e+00,  0.0000e+00,  0.0000e+00,  ...,  0.0000e+00,\n",
       "            0.0000e+00,  0.0000e+00]]],\n",
       "\n",
       "\n",
       "        ...,\n",
       "\n",
       "\n",
       "        [[[ 0.0000e+00,  0.0000e+00,  0.0000e+00,  ...,  0.0000e+00,\n",
       "            0.0000e+00,  0.0000e+00],\n",
       "          [ 0.0000e+00,  0.0000e+00,  0.0000e+00,  ...,  0.0000e+00,\n",
       "            0.0000e+00,  0.0000e+00],\n",
       "          [ 0.0000e+00,  0.0000e+00,  0.0000e+00,  ...,  0.0000e+00,\n",
       "            0.0000e+00,  0.0000e+00],\n",
       "          ...,\n",
       "          [ 0.0000e+00,  0.0000e+00,  0.0000e+00,  ...,  0.0000e+00,\n",
       "            0.0000e+00,  0.0000e+00],\n",
       "          [ 0.0000e+00,  0.0000e+00,  0.0000e+00,  ...,  0.0000e+00,\n",
       "            0.0000e+00,  0.0000e+00],\n",
       "          [ 0.0000e+00,  0.0000e+00,  0.0000e+00,  ...,  0.0000e+00,\n",
       "            0.0000e+00,  0.0000e+00]],\n",
       "\n",
       "         [[ 0.0000e+00,  0.0000e+00,  0.0000e+00,  ...,  0.0000e+00,\n",
       "            0.0000e+00,  0.0000e+00],\n",
       "          [ 0.0000e+00,  0.0000e+00,  0.0000e+00,  ...,  0.0000e+00,\n",
       "            0.0000e+00,  0.0000e+00],\n",
       "          [ 0.0000e+00,  0.0000e+00,  0.0000e+00,  ...,  0.0000e+00,\n",
       "            0.0000e+00,  0.0000e+00],\n",
       "          ...,\n",
       "          [ 0.0000e+00,  0.0000e+00,  0.0000e+00,  ...,  0.0000e+00,\n",
       "            0.0000e+00,  0.0000e+00],\n",
       "          [ 0.0000e+00,  0.0000e+00,  0.0000e+00,  ...,  0.0000e+00,\n",
       "            0.0000e+00,  0.0000e+00],\n",
       "          [ 0.0000e+00,  0.0000e+00,  0.0000e+00,  ...,  0.0000e+00,\n",
       "            0.0000e+00,  0.0000e+00]],\n",
       "\n",
       "         [[ 0.0000e+00,  0.0000e+00,  0.0000e+00,  ...,  0.0000e+00,\n",
       "            0.0000e+00,  0.0000e+00],\n",
       "          [ 0.0000e+00,  0.0000e+00,  0.0000e+00,  ...,  0.0000e+00,\n",
       "            0.0000e+00,  0.0000e+00],\n",
       "          [ 0.0000e+00,  0.0000e+00,  0.0000e+00,  ...,  0.0000e+00,\n",
       "            0.0000e+00,  0.0000e+00],\n",
       "          ...,\n",
       "          [ 0.0000e+00,  0.0000e+00,  0.0000e+00,  ...,  0.0000e+00,\n",
       "            0.0000e+00,  0.0000e+00],\n",
       "          [ 0.0000e+00,  0.0000e+00,  0.0000e+00,  ...,  0.0000e+00,\n",
       "            0.0000e+00,  0.0000e+00],\n",
       "          [ 0.0000e+00,  0.0000e+00,  0.0000e+00,  ...,  0.0000e+00,\n",
       "            0.0000e+00,  0.0000e+00]]],\n",
       "\n",
       "\n",
       "        [[[ 0.0000e+00,  0.0000e+00,  0.0000e+00,  ...,  0.0000e+00,\n",
       "            0.0000e+00,  0.0000e+00],\n",
       "          [ 0.0000e+00,  0.0000e+00,  0.0000e+00,  ...,  0.0000e+00,\n",
       "            0.0000e+00,  0.0000e+00],\n",
       "          [ 0.0000e+00,  0.0000e+00,  0.0000e+00,  ...,  0.0000e+00,\n",
       "            0.0000e+00,  0.0000e+00],\n",
       "          ...,\n",
       "          [ 0.0000e+00,  0.0000e+00,  0.0000e+00,  ...,  0.0000e+00,\n",
       "            0.0000e+00,  0.0000e+00],\n",
       "          [ 0.0000e+00,  0.0000e+00,  0.0000e+00,  ...,  0.0000e+00,\n",
       "            0.0000e+00,  0.0000e+00],\n",
       "          [ 0.0000e+00,  0.0000e+00,  0.0000e+00,  ...,  0.0000e+00,\n",
       "            0.0000e+00,  0.0000e+00]],\n",
       "\n",
       "         [[ 0.0000e+00,  0.0000e+00,  0.0000e+00,  ...,  0.0000e+00,\n",
       "            0.0000e+00,  0.0000e+00],\n",
       "          [ 0.0000e+00,  0.0000e+00,  0.0000e+00,  ...,  0.0000e+00,\n",
       "            0.0000e+00,  0.0000e+00],\n",
       "          [ 0.0000e+00,  0.0000e+00,  0.0000e+00,  ...,  0.0000e+00,\n",
       "            0.0000e+00,  0.0000e+00],\n",
       "          ...,\n",
       "          [ 0.0000e+00,  0.0000e+00,  0.0000e+00,  ...,  0.0000e+00,\n",
       "            0.0000e+00,  0.0000e+00],\n",
       "          [ 0.0000e+00,  0.0000e+00,  0.0000e+00,  ...,  0.0000e+00,\n",
       "            0.0000e+00,  0.0000e+00],\n",
       "          [ 0.0000e+00,  0.0000e+00,  0.0000e+00,  ...,  0.0000e+00,\n",
       "            0.0000e+00,  0.0000e+00]],\n",
       "\n",
       "         [[ 0.0000e+00,  0.0000e+00,  0.0000e+00,  ...,  0.0000e+00,\n",
       "            0.0000e+00,  0.0000e+00],\n",
       "          [ 0.0000e+00,  0.0000e+00,  0.0000e+00,  ...,  0.0000e+00,\n",
       "            0.0000e+00,  0.0000e+00],\n",
       "          [ 0.0000e+00,  0.0000e+00,  0.0000e+00,  ...,  0.0000e+00,\n",
       "            0.0000e+00,  0.0000e+00],\n",
       "          ...,\n",
       "          [ 0.0000e+00,  0.0000e+00,  0.0000e+00,  ...,  0.0000e+00,\n",
       "            0.0000e+00,  0.0000e+00],\n",
       "          [ 0.0000e+00,  0.0000e+00,  0.0000e+00,  ...,  0.0000e+00,\n",
       "            0.0000e+00,  0.0000e+00],\n",
       "          [ 0.0000e+00,  0.0000e+00,  0.0000e+00,  ...,  0.0000e+00,\n",
       "            0.0000e+00,  0.0000e+00]]],\n",
       "\n",
       "\n",
       "        [[[ 0.0000e+00,  0.0000e+00,  0.0000e+00,  ...,  0.0000e+00,\n",
       "            0.0000e+00,  0.0000e+00],\n",
       "          [ 0.0000e+00,  0.0000e+00,  0.0000e+00,  ...,  0.0000e+00,\n",
       "            0.0000e+00,  0.0000e+00],\n",
       "          [ 0.0000e+00,  0.0000e+00,  0.0000e+00,  ...,  0.0000e+00,\n",
       "            0.0000e+00,  0.0000e+00],\n",
       "          ...,\n",
       "          [ 0.0000e+00,  0.0000e+00,  0.0000e+00,  ...,  0.0000e+00,\n",
       "            0.0000e+00,  0.0000e+00],\n",
       "          [ 0.0000e+00,  0.0000e+00,  0.0000e+00,  ...,  0.0000e+00,\n",
       "            0.0000e+00,  0.0000e+00],\n",
       "          [ 0.0000e+00,  0.0000e+00,  0.0000e+00,  ...,  0.0000e+00,\n",
       "            0.0000e+00,  0.0000e+00]],\n",
       "\n",
       "         [[ 0.0000e+00,  0.0000e+00,  0.0000e+00,  ...,  0.0000e+00,\n",
       "            0.0000e+00,  0.0000e+00],\n",
       "          [ 0.0000e+00,  0.0000e+00,  0.0000e+00,  ...,  0.0000e+00,\n",
       "            0.0000e+00,  0.0000e+00],\n",
       "          [ 0.0000e+00,  0.0000e+00,  0.0000e+00,  ...,  0.0000e+00,\n",
       "            0.0000e+00,  0.0000e+00],\n",
       "          ...,\n",
       "          [ 0.0000e+00,  0.0000e+00,  0.0000e+00,  ...,  0.0000e+00,\n",
       "            0.0000e+00,  0.0000e+00],\n",
       "          [ 0.0000e+00,  0.0000e+00,  0.0000e+00,  ...,  0.0000e+00,\n",
       "            0.0000e+00,  0.0000e+00],\n",
       "          [ 0.0000e+00,  0.0000e+00,  0.0000e+00,  ...,  0.0000e+00,\n",
       "            0.0000e+00,  0.0000e+00]],\n",
       "\n",
       "         [[ 0.0000e+00,  0.0000e+00,  0.0000e+00,  ...,  0.0000e+00,\n",
       "            0.0000e+00,  0.0000e+00],\n",
       "          [ 0.0000e+00,  0.0000e+00,  0.0000e+00,  ...,  0.0000e+00,\n",
       "            0.0000e+00,  0.0000e+00],\n",
       "          [ 0.0000e+00,  0.0000e+00,  0.0000e+00,  ...,  0.0000e+00,\n",
       "            0.0000e+00,  0.0000e+00],\n",
       "          ...,\n",
       "          [ 0.0000e+00,  0.0000e+00,  0.0000e+00,  ...,  0.0000e+00,\n",
       "            0.0000e+00,  0.0000e+00],\n",
       "          [ 0.0000e+00,  0.0000e+00,  0.0000e+00,  ...,  0.0000e+00,\n",
       "            0.0000e+00,  0.0000e+00],\n",
       "          [ 0.0000e+00,  0.0000e+00,  0.0000e+00,  ...,  0.0000e+00,\n",
       "            0.0000e+00,  0.0000e+00]]]])"
      ]
     },
     "execution_count": 368,
     "metadata": {},
     "output_type": "execute_result"
    }
   ],
   "source": [
    "clsmax.x_c.grad"
   ]
  },
  {
   "cell_type": "code",
   "execution_count": 369,
   "id": "a43cfe71",
   "metadata": {},
   "outputs": [
    {
     "data": {
      "text/plain": [
       "tensor([[[0., 0., 0.,  ..., 0., 0., 0.],\n",
       "         [0., 0., 0.,  ..., 0., 0., 0.],\n",
       "         [0., 0., 0.,  ..., 0., 0., 0.],\n",
       "         ...,\n",
       "         [0., 0., 0.,  ..., 0., 0., 0.],\n",
       "         [0., 0., 0.,  ..., 0., 0., 0.],\n",
       "         [0., 0., 0.,  ..., 0., 0., 0.]],\n",
       "\n",
       "        [[0., 0., 0.,  ..., 0., 0., 0.],\n",
       "         [0., 0., 0.,  ..., 0., 0., 0.],\n",
       "         [0., 0., 0.,  ..., 0., 0., 0.],\n",
       "         ...,\n",
       "         [0., 0., 0.,  ..., 0., 0., 0.],\n",
       "         [0., 0., 0.,  ..., 0., 0., 0.],\n",
       "         [0., 0., 0.,  ..., 0., 0., 0.]],\n",
       "\n",
       "        [[0., 0., 0.,  ..., 0., 0., 0.],\n",
       "         [0., 0., 0.,  ..., 0., 0., 0.],\n",
       "         [0., 0., 0.,  ..., 0., 0., 0.],\n",
       "         ...,\n",
       "         [0., 0., 0.,  ..., 0., 0., 0.],\n",
       "         [0., 0., 0.,  ..., 0., 0., 0.],\n",
       "         [0., 0., 0.,  ..., 0., 0., 0.]]])"
      ]
     },
     "execution_count": 369,
     "metadata": {},
     "output_type": "execute_result"
    }
   ],
   "source": [
    "clsmax.x_c.grad[0]"
   ]
  },
  {
   "cell_type": "code",
   "execution_count": 370,
   "id": "2cb48fb9",
   "metadata": {},
   "outputs": [
    {
     "data": {
      "text/plain": [
       "tensor([[[-3.7081e-02,  4.7461e-03,  1.2668e-02,  ...,  6.0139e-03,\n",
       "          -2.0664e-03,  5.7649e-04],\n",
       "         [ 1.7625e-02, -1.2296e-02,  1.1483e-02,  ..., -1.3780e-03,\n",
       "          -5.6481e-03,  4.1995e-03],\n",
       "         [ 2.0926e-02, -5.6596e-03,  6.2855e-02,  ...,  8.6839e-03,\n",
       "          -7.5836e-03,  2.9203e-03],\n",
       "         ...,\n",
       "         [ 6.2647e-03,  4.9728e-03,  1.1114e-02,  ..., -2.8924e-03,\n",
       "           4.1232e-04, -7.3965e-04],\n",
       "         [ 4.6777e-03,  5.4249e-03,  1.1560e-02,  ...,  2.7607e-03,\n",
       "           2.2255e-03,  3.4972e-04],\n",
       "         [-1.0808e-03,  1.1279e-03, -2.5531e-03,  ...,  2.7925e-03,\n",
       "           2.1548e-03,  5.4346e-04]],\n",
       "\n",
       "        [[-5.0760e-03,  3.0611e-02, -3.4280e-03,  ...,  2.0261e-03,\n",
       "          -2.8034e-03,  2.0898e-03],\n",
       "         [ 3.3846e-02, -1.6572e-02, -7.6664e-02,  ...,  2.9502e-06,\n",
       "          -2.4238e-03,  2.5404e-03],\n",
       "         [-1.8722e-03, -4.4180e-02, -6.3806e-03,  ...,  1.7200e-02,\n",
       "           4.2132e-03, -1.6563e-03],\n",
       "         ...,\n",
       "         [ 2.2226e-03,  1.3863e-03, -3.4171e-03,  ..., -2.7796e-03,\n",
       "           4.3196e-04,  3.4114e-04],\n",
       "         [ 1.7519e-03,  1.9473e-03, -3.6913e-03,  ...,  1.3319e-03,\n",
       "           4.7266e-04,  1.2384e-03],\n",
       "         [ 2.0646e-03,  9.3366e-04, -1.8806e-04,  ...,  1.9161e-03,\n",
       "           1.6376e-03,  1.0557e-03]],\n",
       "\n",
       "        [[-2.0050e-03,  4.3234e-02,  1.9154e-02,  ...,  7.8196e-03,\n",
       "           4.3885e-03,  5.0663e-03],\n",
       "         [ 4.3094e-02,  2.2103e-02, -4.8784e-02,  ...,  9.5437e-03,\n",
       "           6.8858e-03,  5.1144e-03],\n",
       "         [ 9.8550e-04, -2.9707e-02, -5.9081e-03,  ...,  2.2943e-02,\n",
       "           4.8538e-03,  2.7048e-04],\n",
       "         ...,\n",
       "         [-5.6096e-03, -8.0366e-03, -1.4811e-02,  ..., -7.5085e-04,\n",
       "           2.8884e-03,  9.7950e-04],\n",
       "         [-4.2115e-03, -6.9743e-03, -1.5671e-02,  ...,  2.6055e-03,\n",
       "           2.9996e-03,  2.2448e-03],\n",
       "         [ 4.4657e-04, -1.4835e-03,  1.3022e-03,  ...,  1.8937e-03,\n",
       "           6.8808e-04,  4.0157e-04]]])"
      ]
     },
     "execution_count": 370,
     "metadata": {},
     "output_type": "execute_result"
    }
   ],
   "source": [
    "clsmax.x_c.grad[c]/(torch.norm(clsmax.x_c.grad[c]) + 1e-5)"
   ]
  },
  {
   "cell_type": "code",
   "execution_count": null,
   "id": "2e581e8f",
   "metadata": {},
   "outputs": [],
   "source": []
  },
  {
   "cell_type": "code",
   "execution_count": 371,
   "id": "ca4aebad",
   "metadata": {},
   "outputs": [
    {
     "name": "stderr",
     "output_type": "stream",
     "text": [
      "/var/folders/dp/4fr32ggj4tb41_86_5pj1l8h0000gn/T/ipykernel_90916/1679040594.py:1: UserWarning: The .grad attribute of a Tensor that is not a leaf Tensor is being accessed. Its .grad attribute won't be populated during autograd.backward(). If you indeed want the .grad field to be populated for a non-leaf Tensor, use .retain_grad() on the non-leaf Tensor. If you access the non-leaf Tensor by mistake, make sure you access the leaf Tensor instead. See github.com/pytorch/pytorch/pull/30531 for more informations. (Triggered internally at /Users/runner/work/pytorch/pytorch/pytorch/build/aten/src/ATen/core/TensorBody.h:494.)\n",
      "  clsmax.x_c[0].grad\n"
     ]
    }
   ],
   "source": [
    "clsmax.x_c[0].grad"
   ]
  },
  {
   "cell_type": "code",
   "execution_count": null,
   "id": "3d47425b",
   "metadata": {},
   "outputs": [],
   "source": []
  },
  {
   "cell_type": "code",
   "execution_count": 372,
   "id": "67df0c56",
   "metadata": {},
   "outputs": [
    {
     "data": {
      "text/plain": [
       "tensor(23.9390, grad_fn=<LinalgVectorNormBackward0>)"
      ]
     },
     "execution_count": 372,
     "metadata": {},
     "output_type": "execute_result"
    }
   ],
   "source": [
    "torch.norm(clsmax.x_c[0])"
   ]
  },
  {
   "cell_type": "code",
   "execution_count": 391,
   "id": "35a2b838",
   "metadata": {},
   "outputs": [
    {
     "data": {
      "text/plain": [
       "torch.Size([10])"
      ]
     },
     "execution_count": 391,
     "metadata": {},
     "output_type": "execute_result"
    }
   ],
   "source": [
    "preds.shape"
   ]
  },
  {
   "cell_type": "code",
   "execution_count": 20,
   "id": "622fd51a",
   "metadata": {},
   "outputs": [
    {
     "ename": "NameError",
     "evalue": "name 'clsmax' is not defined",
     "output_type": "error",
     "traceback": [
      "\u001b[0;31m---------------------------------------------------------------------------\u001b[0m",
      "\u001b[0;31mNameError\u001b[0m                                 Traceback (most recent call last)",
      "\u001b[1;32m/Users/alpayozkan/eth/dl_proj/class_maxim.ipynb Cell 68\u001b[0m line \u001b[0;36m3\n\u001b[1;32m      <a href='vscode-notebook-cell:/Users/alpayozkan/eth/dl_proj/class_maxim.ipynb#Y124sZmlsZQ%3D%3D?line=0'>1</a>\u001b[0m std_tens \u001b[39m=\u001b[39m torch\u001b[39m.\u001b[39mtensor(std)\u001b[39m.\u001b[39mreshape(\u001b[39m-\u001b[39m\u001b[39m1\u001b[39m,\u001b[39m1\u001b[39m,\u001b[39m1\u001b[39m)\n\u001b[1;32m      <a href='vscode-notebook-cell:/Users/alpayozkan/eth/dl_proj/class_maxim.ipynb#Y124sZmlsZQ%3D%3D?line=1'>2</a>\u001b[0m mean_tens \u001b[39m=\u001b[39m torch\u001b[39m.\u001b[39mtensor(mean)\u001b[39m.\u001b[39mreshape(\u001b[39m-\u001b[39m\u001b[39m1\u001b[39m,\u001b[39m1\u001b[39m,\u001b[39m1\u001b[39m)\n\u001b[0;32m----> <a href='vscode-notebook-cell:/Users/alpayozkan/eth/dl_proj/class_maxim.ipynb#Y124sZmlsZQ%3D%3D?line=2'>3</a>\u001b[0m plt\u001b[39m.\u001b[39mimshow((clsmax\u001b[39m.\u001b[39mx_c[c])\u001b[39m.\u001b[39mdetach()\u001b[39m.\u001b[39mnumpy()\u001b[39m.\u001b[39mtranspose(\u001b[39m1\u001b[39m,\u001b[39m2\u001b[39m,\u001b[39m0\u001b[39m))\n",
      "\u001b[0;31mNameError\u001b[0m: name 'clsmax' is not defined"
     ]
    }
   ],
   "source": [
    "std_tens = torch.tensor(std).reshape(-1,1,1)\n",
    "mean_tens = torch.tensor(mean).reshape(-1,1,1)\n",
    "plt.imshow((clsmax.x_c[c]).detach().numpy().transpose(1,2,0))"
   ]
  },
  {
   "cell_type": "code",
   "execution_count": 378,
   "id": "9a942db0",
   "metadata": {},
   "outputs": [
    {
     "data": {
      "text/plain": [
       "<matplotlib.image.AxesImage at 0x12361ae30>"
      ]
     },
     "execution_count": 378,
     "metadata": {},
     "output_type": "execute_result"
    },
    {
     "data": {
      "image/png": "[encoded data removed]",
      "text/plain": [
       "<Figure size 640x480 with 1 Axes>"
      ]
     },
     "metadata": {},
     "output_type": "display_data"
    }
   ],
   "source": [
    "std_tens = torch.tensor(std).reshape(-1,1,1)\n",
    "mean_tens = torch.tensor(mean).reshape(-1,1,1)\n",
    "plt.imshow((clsmax.x_c[c]*std_tens + mean_tens).detach().numpy().transpose(1,2,0))"
   ]
  },
  {
   "cell_type": "code",
   "execution_count": 375,
   "id": "4ef28446",
   "metadata": {},
   "outputs": [
    {
     "data": {
      "image/png": "[encoded data removed]",
      "text/plain": [
       "<Figure size 640x480 with 1 Axes>"
      ]
     },
     "metadata": {},
     "output_type": "display_data"
    },
    {
     "data": {
      "image/png": "[encoded data removed]",
      "text/plain": [
       "<Figure size 640x480 with 1 Axes>"
      ]
     },
     "metadata": {},
     "output_type": "display_data"
    },
    {
     "data": {
      "image/png": "[encoded data removed]",
      "text/plain": [
       "<Figure size 640x480 with 1 Axes>"
      ]
     },
     "metadata": {},
     "output_type": "display_data"
    },
    {
     "data": {
      "image/png": "[encoded data removed]",
      "text/plain": [
       "<Figure size 640x480 with 1 Axes>"
      ]
     },
     "metadata": {},
     "output_type": "display_data"
    }
   ],
   "source": [
    "plt.figure()\n",
    "for i in range(4):\n",
    "    plt.imshow((clsmax.x_c[c]*std_tens + mean_tens).detach().numpy().transpose(1,2,0))\n",
    "    plt.show()"
   ]
  },
  {
   "cell_type": "code",
   "execution_count": 376,
   "id": "cb027593",
   "metadata": {},
   "outputs": [
    {
     "data": {
      "text/plain": [
       "tensor([[[0.2471]],\n",
       "\n",
       "        [[0.2435]],\n",
       "\n",
       "        [[0.2616]]])"
      ]
     },
     "execution_count": 376,
     "metadata": {},
     "output_type": "execute_result"
    }
   ],
   "source": [
    "std_tens"
   ]
  },
  {
   "cell_type": "code",
   "execution_count": 377,
   "id": "aaba415e",
   "metadata": {},
   "outputs": [
    {
     "data": {
      "text/plain": [
       "tensor([[[0.4914]],\n",
       "\n",
       "        [[0.4822]],\n",
       "\n",
       "        [[0.4465]]])"
      ]
     },
     "execution_count": 377,
     "metadata": {},
     "output_type": "execute_result"
    }
   ],
   "source": [
    "mean_tens"
   ]
  },
  {
   "cell_type": "code",
   "execution_count": 387,
   "id": "5099ee21",
   "metadata": {},
   "outputs": [],
   "source": [
    "out = model((clsmax.x_c[1]).unsqueeze(0))\n",
    "cls_lbl = out.argmax() # model((clsmax.x_c[0]*std_tens + mean_tens).unsqueeze(0)).argmax()\n",
    "# cls_lbl = model((centers[0]).unsqueeze(0)).argmax()"
   ]
  },
  {
   "cell_type": "code",
   "execution_count": 388,
   "id": "91fb5894",
   "metadata": {},
   "outputs": [
    {
     "data": {
      "text/plain": [
       "tensor([[-0.6973,  7.4458, -1.0537, -0.9642, -1.0997, -1.0196, -0.9951, -1.1148,\n",
       "         -0.6196,  0.1183]], grad_fn=<AddmmBackward0>)"
      ]
     },
     "execution_count": 388,
     "metadata": {},
     "output_type": "execute_result"
    }
   ],
   "source": [
    "out"
   ]
  },
  {
   "cell_type": "code",
   "execution_count": 389,
   "id": "a0f3b28e",
   "metadata": {},
   "outputs": [],
   "source": [
    "cifar10_classes = [\n",
    "    'airplane', 'automobile', 'bird', 'cat', 'deer',\n",
    "    'dog', 'frog', 'horse', 'ship', 'truck'\n",
    "]"
   ]
  },
  {
   "cell_type": "code",
   "execution_count": 390,
   "id": "5a92a3f1",
   "metadata": {},
   "outputs": [
    {
     "name": "stdout",
     "output_type": "stream",
     "text": [
      "automobile\n"
     ]
    }
   ],
   "source": [
    "print(cifar10_classes[cls_lbl])"
   ]
  },
  {
   "cell_type": "code",
   "execution_count": null,
   "id": "027d3d04",
   "metadata": {},
   "outputs": [],
   "source": []
  },
  {
   "cell_type": "code",
   "execution_count": null,
   "id": "eb0896a5",
   "metadata": {},
   "outputs": [],
   "source": []
  }
 ],
 "metadata": {
  "kernelspec": {
   "display_name": "Python 3 (ipykernel)",
   "language": "python",
   "name": "python3"
  },
  "language_info": {
   "codemirror_mode": {
    "name": "ipython",
    "version": 3
   },
   "file_extension": ".py",
   "mimetype": "text/x-python",
   "name": "python",
   "nbconvert_exporter": "python",
   "pygments_lexer": "ipython3",
   "version": "3.10.13"
  }
 },
 "nbformat": 4,
 "nbformat_minor": 5
}
