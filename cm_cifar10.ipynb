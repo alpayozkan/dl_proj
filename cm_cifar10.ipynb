{
 "cells": [
  {
   "cell_type": "code",
   "execution_count": 1,
   "metadata": {},
   "outputs": [],
   "source": [
    "import torch\n",
    "import torch.nn as nn\n",
    "import torchvision.transforms as transforms\n",
    "import torchvision.models as models\n",
    "from torchvision.datasets import ImageNet\n",
    "from torch.utils.data import DataLoader\n",
    "import torch.optim as optim\n",
    "import torch.nn.functional as F\n",
    "import numpy as np\n",
    "import random"
   ]
  },
  {
   "cell_type": "code",
   "execution_count": 2,
   "metadata": {},
   "outputs": [
    {
     "data": {
      "text/plain": [
       "<torch._C.Generator at 0x1109d82b0>"
      ]
     },
     "execution_count": 2,
     "metadata": {},
     "output_type": "execute_result"
    }
   ],
   "source": [
    "seed = 1\n",
    "random.seed(seed)\n",
    "np.random.seed(seed)\n",
    "torch.manual_seed(seed)"
   ]
  },
  {
   "cell_type": "code",
   "execution_count": 3,
   "metadata": {},
   "outputs": [
    {
     "data": {
      "text/plain": [
       "ResNet(\n",
       "  (conv1): Conv2d(3, 64, kernel_size=(3, 3), stride=(1, 1), padding=(1, 1), bias=False)\n",
       "  (bn1): BatchNorm2d(64, eps=1e-05, momentum=0.1, affine=True, track_running_stats=True)\n",
       "  (relu): ReLU(inplace=True)\n",
       "  (maxpool): MaxPool2d(kernel_size=3, stride=2, padding=1, dilation=1, ceil_mode=False)\n",
       "  (layer1): Sequential(\n",
       "    (0): BasicBlock(\n",
       "      (conv1): Conv2d(64, 64, kernel_size=(3, 3), stride=(1, 1), padding=(1, 1), bias=False)\n",
       "      (bn1): BatchNorm2d(64, eps=1e-05, momentum=0.1, affine=True, track_running_stats=True)\n",
       "      (relu): ReLU(inplace=True)\n",
       "      (conv2): Conv2d(64, 64, kernel_size=(3, 3), stride=(1, 1), padding=(1, 1), bias=False)\n",
       "      (bn2): BatchNorm2d(64, eps=1e-05, momentum=0.1, affine=True, track_running_stats=True)\n",
       "    )\n",
       "    (1): BasicBlock(\n",
       "      (conv1): Conv2d(64, 64, kernel_size=(3, 3), stride=(1, 1), padding=(1, 1), bias=False)\n",
       "      (bn1): BatchNorm2d(64, eps=1e-05, momentum=0.1, affine=True, track_running_stats=True)\n",
       "      (relu): ReLU(inplace=True)\n",
       "      (conv2): Conv2d(64, 64, kernel_size=(3, 3), stride=(1, 1), padding=(1, 1), bias=False)\n",
       "      (bn2): BatchNorm2d(64, eps=1e-05, momentum=0.1, affine=True, track_running_stats=True)\n",
       "    )\n",
       "  )\n",
       "  (layer2): Sequential(\n",
       "    (0): BasicBlock(\n",
       "      (conv1): Conv2d(64, 128, kernel_size=(3, 3), stride=(2, 2), padding=(1, 1), bias=False)\n",
       "      (bn1): BatchNorm2d(128, eps=1e-05, momentum=0.1, affine=True, track_running_stats=True)\n",
       "      (relu): ReLU(inplace=True)\n",
       "      (conv2): Conv2d(128, 128, kernel_size=(3, 3), stride=(1, 1), padding=(1, 1), bias=False)\n",
       "      (bn2): BatchNorm2d(128, eps=1e-05, momentum=0.1, affine=True, track_running_stats=True)\n",
       "      (downsample): Sequential(\n",
       "        (0): Conv2d(64, 128, kernel_size=(1, 1), stride=(2, 2), bias=False)\n",
       "        (1): BatchNorm2d(128, eps=1e-05, momentum=0.1, affine=True, track_running_stats=True)\n",
       "      )\n",
       "    )\n",
       "    (1): BasicBlock(\n",
       "      (conv1): Conv2d(128, 128, kernel_size=(3, 3), stride=(1, 1), padding=(1, 1), bias=False)\n",
       "      (bn1): BatchNorm2d(128, eps=1e-05, momentum=0.1, affine=True, track_running_stats=True)\n",
       "      (relu): ReLU(inplace=True)\n",
       "      (conv2): Conv2d(128, 128, kernel_size=(3, 3), stride=(1, 1), padding=(1, 1), bias=False)\n",
       "      (bn2): BatchNorm2d(128, eps=1e-05, momentum=0.1, affine=True, track_running_stats=True)\n",
       "    )\n",
       "  )\n",
       "  (layer3): Sequential(\n",
       "    (0): BasicBlock(\n",
       "      (conv1): Conv2d(128, 256, kernel_size=(3, 3), stride=(2, 2), padding=(1, 1), bias=False)\n",
       "      (bn1): BatchNorm2d(256, eps=1e-05, momentum=0.1, affine=True, track_running_stats=True)\n",
       "      (relu): ReLU(inplace=True)\n",
       "      (conv2): Conv2d(256, 256, kernel_size=(3, 3), stride=(1, 1), padding=(1, 1), bias=False)\n",
       "      (bn2): BatchNorm2d(256, eps=1e-05, momentum=0.1, affine=True, track_running_stats=True)\n",
       "      (downsample): Sequential(\n",
       "        (0): Conv2d(128, 256, kernel_size=(1, 1), stride=(2, 2), bias=False)\n",
       "        (1): BatchNorm2d(256, eps=1e-05, momentum=0.1, affine=True, track_running_stats=True)\n",
       "      )\n",
       "    )\n",
       "    (1): BasicBlock(\n",
       "      (conv1): Conv2d(256, 256, kernel_size=(3, 3), stride=(1, 1), padding=(1, 1), bias=False)\n",
       "      (bn1): BatchNorm2d(256, eps=1e-05, momentum=0.1, affine=True, track_running_stats=True)\n",
       "      (relu): ReLU(inplace=True)\n",
       "      (conv2): Conv2d(256, 256, kernel_size=(3, 3), stride=(1, 1), padding=(1, 1), bias=False)\n",
       "      (bn2): BatchNorm2d(256, eps=1e-05, momentum=0.1, affine=True, track_running_stats=True)\n",
       "    )\n",
       "  )\n",
       "  (layer4): Sequential(\n",
       "    (0): BasicBlock(\n",
       "      (conv1): Conv2d(256, 512, kernel_size=(3, 3), stride=(2, 2), padding=(1, 1), bias=False)\n",
       "      (bn1): BatchNorm2d(512, eps=1e-05, momentum=0.1, affine=True, track_running_stats=True)\n",
       "      (relu): ReLU(inplace=True)\n",
       "      (conv2): Conv2d(512, 512, kernel_size=(3, 3), stride=(1, 1), padding=(1, 1), bias=False)\n",
       "      (bn2): BatchNorm2d(512, eps=1e-05, momentum=0.1, affine=True, track_running_stats=True)\n",
       "      (downsample): Sequential(\n",
       "        (0): Conv2d(256, 512, kernel_size=(1, 1), stride=(2, 2), bias=False)\n",
       "        (1): BatchNorm2d(512, eps=1e-05, momentum=0.1, affine=True, track_running_stats=True)\n",
       "      )\n",
       "    )\n",
       "    (1): BasicBlock(\n",
       "      (conv1): Conv2d(512, 512, kernel_size=(3, 3), stride=(1, 1), padding=(1, 1), bias=False)\n",
       "      (bn1): BatchNorm2d(512, eps=1e-05, momentum=0.1, affine=True, track_running_stats=True)\n",
       "      (relu): ReLU(inplace=True)\n",
       "      (conv2): Conv2d(512, 512, kernel_size=(3, 3), stride=(1, 1), padding=(1, 1), bias=False)\n",
       "      (bn2): BatchNorm2d(512, eps=1e-05, momentum=0.1, affine=True, track_running_stats=True)\n",
       "    )\n",
       "  )\n",
       "  (avgpool): AdaptiveAvgPool2d(output_size=(1, 1))\n",
       "  (fc): Linear(in_features=512, out_features=10, bias=True)\n",
       ")"
      ]
     },
     "execution_count": 3,
     "metadata": {},
     "output_type": "execute_result"
    }
   ],
   "source": [
    "# USE CNN that is pretrained on cifar10\n",
    "from cifar10_models.resnet import *\n",
    "\n",
    "model = resnet18()\n",
    "weights = torch.load('state_dicts/resnet18.pt')\n",
    "model.load_state_dict(weights)\n",
    "model.eval()"
   ]
  },
  {
   "cell_type": "markdown",
   "metadata": {},
   "source": [
    "# Check labels of class"
   ]
  },
  {
   "cell_type": "code",
   "execution_count": 4,
   "metadata": {},
   "outputs": [
    {
     "name": "stdout",
     "output_type": "stream",
     "text": [
      "Files already downloaded and verified\n"
     ]
    }
   ],
   "source": [
    "from torchvision import datasets, transforms\n",
    "from torch.utils.data import DataLoader\n",
    "\n",
    "mean = (0.4914, 0.4822, 0.4465)\n",
    "std = (0.2471, 0.2435, 0.2616)\n",
    "\n",
    "transform = transforms.Compose([\n",
    "    # transforms.Resize((crop_resolution, crop_resolution)),\n",
    "    transforms.ToTensor(),\n",
    "    transforms.Normalize(mean, std),\n",
    "])\n",
    "\n",
    "cifar10_dataset = datasets.CIFAR10(root='./data', train=True, download=True, transform=transform)\n",
    "loader = DataLoader(cifar10_dataset, batch_size=1000, shuffle=True)\n",
    "\n",
    "\n",
    "cifar10_classes = [\n",
    "    'airplane', 'automobile', 'bird', 'cat', 'deer',\n",
    "    'dog', 'frog', 'horse', 'ship', 'truck'\n",
    "]"
   ]
  },
  {
   "cell_type": "markdown",
   "metadata": {},
   "source": [
    "# Our Classmaximization Method (with gaussian blur)"
   ]
  },
  {
   "cell_type": "code",
   "execution_count": 5,
   "metadata": {},
   "outputs": [],
   "source": [
    "class ClassMaxim(nn.Module):\n",
    "    def __init__(self):\n",
    "        super(ClassMaxim, self).__init__()\n",
    "        self.x_c = nn.parameter.Parameter(torch.randn(1, 3, 32, 32))  \n",
    "        self.clone = self.x_c.clone()"
   ]
  },
  {
   "cell_type": "code",
   "execution_count": null,
   "metadata": {},
   "outputs": [],
   "source": []
  },
  {
   "cell_type": "code",
   "execution_count": 6,
   "metadata": {},
   "outputs": [],
   "source": [
    "from torchvision.transforms.functional import gaussian_blur\n",
    "from IPython.display import display, clear_output\n",
    "import matplotlib.pyplot as plt"
   ]
  },
  {
   "cell_type": "code",
   "execution_count": 7,
   "metadata": {},
   "outputs": [],
   "source": [
    "clsmax = ClassMaxim()\n",
    "clss = 9 # billard class\n",
    "\n",
    "# hyperparameters\n",
    "lamb = 0.1\n",
    "lr = 4\n",
    "sigma = 0.5\n",
    "kern_size = 3\n",
    "blur_frequency = 4"
   ]
  },
  {
   "cell_type": "code",
   "execution_count": null,
   "metadata": {},
   "outputs": [],
   "source": [
    "from torchvision.transforms.functional import gaussian_blur\n",
    "def gaussian_blur_channelwise(input_tensor, kernel_size, sigma):\n",
    "    channels = 3\n",
    "    blurred_channels = []\n",
    "    for c in range(channels):\n",
    "        blurred_channel = gaussian_blur(input_tensor[:, c:c+1, :, :], kernel_size=kernel_size, sigma=sigma)\n",
    "        blurred_channels.append(blurred_channel)\n",
    "    return torch.cat(blurred_channels, dim=1)"
   ]
  },
  {
   "cell_type": "code",
   "execution_count": null,
   "metadata": {},
   "outputs": [],
   "source": [
    "std_tens = torch.tensor(std).reshape(-1,1,1)\n",
    "mean_tens = torch.tensor(mean).reshape(-1,1,1)\n",
    "\n",
    "plt.figure()\n",
    "for i in range(40):\n",
    "    # lr-=2\n",
    "    # if lr <= 8:\n",
    "    #     lr = 8\n",
    "    plt.imshow((clsmax.x_c[0]*std_tens + mean_tens).detach().numpy().transpose(1,2,0))\n",
    "    plt.show()\n",
    "    for step in range(20):\n",
    "        xx = clsmax.x_c[0]\n",
    "        preds = model(xx.unsqueeze(0)) # cnn 1 x 3 x 32 x 32, expected dim\n",
    "        preds = preds.squeeze(0)\n",
    "\n",
    "        loss = (preds[clss] - lamb*(torch.norm(clsmax.x_c[0],p=2)))\n",
    "        (loss).backward()\n",
    "        \n",
    "        grad = clsmax.x_c.grad #/ (torch.norm(clsmax.x_c.grad)+ 1e-5) # l2 norm, grads\n",
    "        clsmax.x_c = nn.Parameter(clsmax.x_c + grad*lr) # update step, gradient ascent\n",
    "\n",
    "        with torch.no_grad():\n",
    "            # normalize between 0 and 1\n",
    "            min_value = torch.min(clsmax.x_c)\n",
    "            max_value = torch.max(clsmax.x_c)\n",
    "            normalized_tensor = (clsmax.x_c - min_value) / (max_value - min_value)\n",
    "            blurred_tensor = normalized_tensor\n",
    "\n",
    "            # Gaussian blur\n",
    "            if step % blur_frequency == 0:\n",
    "                blurred_tensor = gaussian_blur_channelwise(normalized_tensor, kernel_size=kern_size, sigma=sigma)\n",
    "            \n",
    "            # clipping pixels with small norm\n",
    "            clipped_tensor = blurred_tensor\n",
    "            norms = torch.norm(blurred_tensor, dim=1, p=2)\n",
    "            below_threshold = norms < 0.001\n",
    "            blurred_tensor[:, :, below_threshold.squeeze(0)] = 0\n",
    "            clsmax.x_c = nn.Parameter(clipped_tensor  * (max_value - min_value) + min_value)\n",
    "    \n",
    "    if(i < 39):\n",
    "        clear_output(wait=True)\n",
    "        display(plt.gcf())\n"
   ]
  },
  {
   "cell_type": "code",
   "execution_count": 8,
   "metadata": {},
   "outputs": [],
   "source": [
    "from torchvision.transforms.functional import gaussian_blur\n",
    "def gaussian_blur_channelwise(input_tensor, kernel_size, sigma):\n",
    "    channels = 3\n",
    "    blurred_channels = []\n",
    "    for c in range(channels):\n",
    "        blurred_channel = gaussian_blur(input_tensor[:, c:c+1, :, :], kernel_size=kernel_size, sigma=sigma)\n",
    "        blurred_channels.append(blurred_channel)\n",
    "    return torch.cat(blurred_channels, dim=1)"
   ]
  },
  {
   "cell_type": "code",
   "execution_count": 9,
   "metadata": {},
   "outputs": [],
   "source": [
    "normalize = transforms.Normalize(mean, std)\n",
    "\n",
    "def clamp_to_img(x):\n",
    "  return torch.clamp(x, min=0., max=1.)"
   ]
  },
  {
   "cell_type": "code",
   "execution_count": 19,
   "metadata": {},
   "outputs": [],
   "source": [
    "def activation_maxim(model, label, lamb, alpha, iters, device=\"cpu\"):\n",
    "  sigma = 1.5\n",
    "  kernel_size=5\n",
    "  image = torch.randn(1, 3, 32, 32).to(device)\n",
    "  r = torch.rand_like(image).to(device)\n",
    "  r.requires_grad_()\n",
    "\n",
    "  for i in range(iters):\n",
    "      preds = model(normalize(r)) #clamp_to_img(r)\n",
    "      loss = preds[0,label] - lamb*(torch.norm(r,p=2))\n",
    "      (-loss).backward()\n",
    "      r.data -=  alpha * r.grad.data\n",
    "      \n",
    "      if i % 4 == 0:\n",
    "        with torch.no_grad():\n",
    "          r.data = gaussian_blur_channelwise(r, kernel_size, sigma)\n",
    "          sigma*=0.99\n",
    "          if sigma < 1.1:\n",
    "             sigma = 1.1\n",
    "          norms = torch.norm(r, dim=1, p=2)\n",
    "          below_threshold = norms < 0.0001\n",
    "          r.data[:, :, below_threshold.squeeze(0)] = 0\n",
    "        if i%20==0:\n",
    "          output_image = r.detach()\n",
    "          image_np = clamp_to_img(r.detach())[0].permute(1, 2, 0).cpu().numpy()\n",
    "          clear_output(wait=True)\n",
    "          display(plt.gcf())\n",
    "          plt.imshow(image_np)\n",
    "          plt.axis('off')\n",
    "          plt.show()\n",
    "\n",
    "\n",
    "  return output_image"
   ]
  },
  {
   "cell_type": "code",
   "execution_count": 20,
   "metadata": {},
   "outputs": [
    {
     "data": {
      "text/plain": [
       "<Figure size 640x480 with 0 Axes>"
      ]
     },
     "metadata": {},
     "output_type": "display_data"
    },
    {
     "data": {
      "image/png": "[encoded data removed]",
      "text/plain": [
       "<Figure size 640x480 with 1 Axes>"
      ]
     },
     "metadata": {},
     "output_type": "display_data"
    },
    {
     "data": {
      "text/plain": [
       "tensor([[[[ 0.1177,  0.1299,  0.0008,  ...,  0.1568,  0.3667,  0.2051],\n",
       "          [ 0.2770, -0.0889, -0.0105,  ..., -0.0885,  0.2466,  0.3288],\n",
       "          [-0.0186, -0.0263, -0.0411,  ...,  0.6488,  0.1637,  0.1765],\n",
       "          ...,\n",
       "          [ 0.4125,  0.1455,  0.2086,  ...,  0.3890,  0.3295,  0.4336],\n",
       "          [ 0.3596,  0.4018, -0.0156,  ...,  0.3476,  0.3304,  0.4578],\n",
       "          [ 0.3432,  0.4103,  0.3088,  ...,  0.3172,  0.4260,  0.5393]],\n",
       "\n",
       "         [[-0.0147,  0.0642,  0.0235,  ..., -0.0519,  0.2859,  0.0369],\n",
       "          [ 0.1799, -0.0679,  0.0049,  ..., -0.3988, -0.0060,  0.1022],\n",
       "          [ 0.0227,  0.1336,  0.0537,  ...,  0.5635,  0.0423,  0.0413],\n",
       "          ...,\n",
       "          [ 0.4294,  0.2275,  0.2152,  ...,  0.3215,  0.1711,  0.3914],\n",
       "          [ 0.3465,  0.4953,  0.0783,  ...,  0.1377,  0.2134,  0.4176],\n",
       "          [ 0.3552,  0.4344,  0.3232,  ...,  0.2902,  0.3621,  0.4444]],\n",
       "\n",
       "         [[-0.1386, -0.0312, -0.0589,  ...,  0.0995,  0.4124,  0.1304],\n",
       "          [ 0.0046, -0.1556, -0.0777,  ..., -0.3633,  0.0905,  0.1794],\n",
       "          [-0.0361,  0.0993, -0.0792,  ...,  0.3301,  0.0568,  0.0928],\n",
       "          ...,\n",
       "          [ 0.1359, -0.0199,  0.0470,  ...,  0.2771,  0.1541,  0.2355],\n",
       "          [ 0.0472,  0.1743, -0.0515,  ..., -0.0016,  0.1672,  0.2595],\n",
       "          [ 0.0664,  0.1397,  0.1033,  ...,  0.1671,  0.2480,  0.3238]]]])"
      ]
     },
     "execution_count": 20,
     "metadata": {},
     "output_type": "execute_result"
    }
   ],
   "source": [
    "activation_maxim(model, 1, lamb=0.0007, alpha=0.005, iters=1000, device=\"cpu\")"
   ]
  },
  {
   "cell_type": "code",
   "execution_count": null,
   "metadata": {},
   "outputs": [],
   "source": []
  }
 ],
 "metadata": {
  "kernelspec": {
   "display_name": "dlproject",
   "language": "python",
   "name": "python3"
  },
  "language_info": {
   "codemirror_mode": {
    "name": "ipython",
    "version": 3
   },
   "file_extension": ".py",
   "mimetype": "text/x-python",
   "name": "python",
   "nbconvert_exporter": "python",
   "pygments_lexer": "ipython3",
   "version": "3.10.13"
  }
 },
 "nbformat": 4,
 "nbformat_minor": 2
}
