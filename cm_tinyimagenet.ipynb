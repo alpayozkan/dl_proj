{
 "cells": [
  {
   "cell_type": "code",
   "execution_count": 1,
   "metadata": {},
   "outputs": [],
   "source": [
    "import torch\n",
    "import torch.nn as nn\n",
    "import torchvision.transforms as transforms\n",
    "import torchvision.models as models\n",
    "from torchvision.datasets import ImageNet\n",
    "from torch.utils.data import DataLoader\n",
    "import torch.optim as optim\n",
    "import torch.nn.functional as F"
   ]
  },
  {
   "cell_type": "code",
   "execution_count": 12,
   "metadata": {},
   "outputs": [
    {
     "data": {
      "text/plain": [
       "ResNet(\n",
       "  (conv1): Conv2d(3, 64, kernel_size=(3, 3), stride=(1, 1), padding=(1, 1), bias=False)\n",
       "  (bn1): BatchNorm2d(64, eps=1e-05, momentum=0.1, affine=True, track_running_stats=True)\n",
       "  (relu): ReLU(inplace=True)\n",
       "  (maxpool): MaxPool2d(kernel_size=3, stride=2, padding=1, dilation=1, ceil_mode=False)\n",
       "  (layer1): Sequential(\n",
       "    (0): BasicBlock(\n",
       "      (conv1): Conv2d(64, 64, kernel_size=(3, 3), stride=(1, 1), padding=(1, 1), bias=False)\n",
       "      (bn1): BatchNorm2d(64, eps=1e-05, momentum=0.1, affine=True, track_running_stats=True)\n",
       "      (relu): ReLU(inplace=True)\n",
       "      (conv2): Conv2d(64, 64, kernel_size=(3, 3), stride=(1, 1), padding=(1, 1), bias=False)\n",
       "      (bn2): BatchNorm2d(64, eps=1e-05, momentum=0.1, affine=True, track_running_stats=True)\n",
       "    )\n",
       "    (1): BasicBlock(\n",
       "      (conv1): Conv2d(64, 64, kernel_size=(3, 3), stride=(1, 1), padding=(1, 1), bias=False)\n",
       "      (bn1): BatchNorm2d(64, eps=1e-05, momentum=0.1, affine=True, track_running_stats=True)\n",
       "      (relu): ReLU(inplace=True)\n",
       "      (conv2): Conv2d(64, 64, kernel_size=(3, 3), stride=(1, 1), padding=(1, 1), bias=False)\n",
       "      (bn2): BatchNorm2d(64, eps=1e-05, momentum=0.1, affine=True, track_running_stats=True)\n",
       "    )\n",
       "  )\n",
       "  (layer2): Sequential(\n",
       "    (0): BasicBlock(\n",
       "      (conv1): Conv2d(64, 128, kernel_size=(3, 3), stride=(2, 2), padding=(1, 1), bias=False)\n",
       "      (bn1): BatchNorm2d(128, eps=1e-05, momentum=0.1, affine=True, track_running_stats=True)\n",
       "      (relu): ReLU(inplace=True)\n",
       "      (conv2): Conv2d(128, 128, kernel_size=(3, 3), stride=(1, 1), padding=(1, 1), bias=False)\n",
       "      (bn2): BatchNorm2d(128, eps=1e-05, momentum=0.1, affine=True, track_running_stats=True)\n",
       "      (downsample): Sequential(\n",
       "        (0): Conv2d(64, 128, kernel_size=(1, 1), stride=(2, 2), bias=False)\n",
       "        (1): BatchNorm2d(128, eps=1e-05, momentum=0.1, affine=True, track_running_stats=True)\n",
       "      )\n",
       "    )\n",
       "    (1): BasicBlock(\n",
       "      (conv1): Conv2d(128, 128, kernel_size=(3, 3), stride=(1, 1), padding=(1, 1), bias=False)\n",
       "      (bn1): BatchNorm2d(128, eps=1e-05, momentum=0.1, affine=True, track_running_stats=True)\n",
       "      (relu): ReLU(inplace=True)\n",
       "      (conv2): Conv2d(128, 128, kernel_size=(3, 3), stride=(1, 1), padding=(1, 1), bias=False)\n",
       "      (bn2): BatchNorm2d(128, eps=1e-05, momentum=0.1, affine=True, track_running_stats=True)\n",
       "    )\n",
       "  )\n",
       "  (layer3): Sequential(\n",
       "    (0): BasicBlock(\n",
       "      (conv1): Conv2d(128, 256, kernel_size=(3, 3), stride=(2, 2), padding=(1, 1), bias=False)\n",
       "      (bn1): BatchNorm2d(256, eps=1e-05, momentum=0.1, affine=True, track_running_stats=True)\n",
       "      (relu): ReLU(inplace=True)\n",
       "      (conv2): Conv2d(256, 256, kernel_size=(3, 3), stride=(1, 1), padding=(1, 1), bias=False)\n",
       "      (bn2): BatchNorm2d(256, eps=1e-05, momentum=0.1, affine=True, track_running_stats=True)\n",
       "      (downsample): Sequential(\n",
       "        (0): Conv2d(128, 256, kernel_size=(1, 1), stride=(2, 2), bias=False)\n",
       "        (1): BatchNorm2d(256, eps=1e-05, momentum=0.1, affine=True, track_running_stats=True)\n",
       "      )\n",
       "    )\n",
       "    (1): BasicBlock(\n",
       "      (conv1): Conv2d(256, 256, kernel_size=(3, 3), stride=(1, 1), padding=(1, 1), bias=False)\n",
       "      (bn1): BatchNorm2d(256, eps=1e-05, momentum=0.1, affine=True, track_running_stats=True)\n",
       "      (relu): ReLU(inplace=True)\n",
       "      (conv2): Conv2d(256, 256, kernel_size=(3, 3), stride=(1, 1), padding=(1, 1), bias=False)\n",
       "      (bn2): BatchNorm2d(256, eps=1e-05, momentum=0.1, affine=True, track_running_stats=True)\n",
       "    )\n",
       "  )\n",
       "  (layer4): Sequential(\n",
       "    (0): BasicBlock(\n",
       "      (conv1): Conv2d(256, 512, kernel_size=(3, 3), stride=(2, 2), padding=(1, 1), bias=False)\n",
       "      (bn1): BatchNorm2d(512, eps=1e-05, momentum=0.1, affine=True, track_running_stats=True)\n",
       "      (relu): ReLU(inplace=True)\n",
       "      (conv2): Conv2d(512, 512, kernel_size=(3, 3), stride=(1, 1), padding=(1, 1), bias=False)\n",
       "      (bn2): BatchNorm2d(512, eps=1e-05, momentum=0.1, affine=True, track_running_stats=True)\n",
       "      (downsample): Sequential(\n",
       "        (0): Conv2d(256, 512, kernel_size=(1, 1), stride=(2, 2), bias=False)\n",
       "        (1): BatchNorm2d(512, eps=1e-05, momentum=0.1, affine=True, track_running_stats=True)\n",
       "      )\n",
       "    )\n",
       "    (1): BasicBlock(\n",
       "      (conv1): Conv2d(512, 512, kernel_size=(3, 3), stride=(1, 1), padding=(1, 1), bias=False)\n",
       "      (bn1): BatchNorm2d(512, eps=1e-05, momentum=0.1, affine=True, track_running_stats=True)\n",
       "      (relu): ReLU(inplace=True)\n",
       "      (conv2): Conv2d(512, 512, kernel_size=(3, 3), stride=(1, 1), padding=(1, 1), bias=False)\n",
       "      (bn2): BatchNorm2d(512, eps=1e-05, momentum=0.1, affine=True, track_running_stats=True)\n",
       "    )\n",
       "  )\n",
       "  (avgpool): AdaptiveAvgPool2d(output_size=(1, 1))\n",
       "  (fc): Linear(in_features=512, out_features=10, bias=True)\n",
       ")"
      ]
     },
     "execution_count": 12,
     "metadata": {},
     "output_type": "execute_result"
    }
   ],
   "source": [
    "# USE CNN that is pretrained on cifar10\n",
    "from cifar10_models.resnet import *\n",
    "\n",
    "model = resnet18()\n",
    "weights = torch.load('state_dicts/resnet18.pt')\n",
    "model.load_state_dict(weights)\n",
    "model.eval()"
   ]
  },
  {
   "cell_type": "markdown",
   "metadata": {},
   "source": [
    "# Check labels of class"
   ]
  },
  {
   "cell_type": "code",
   "execution_count": 3,
   "metadata": {},
   "outputs": [
    {
     "name": "stdout",
     "output_type": "stream",
     "text": [
      "Files already downloaded and verified\n"
     ]
    }
   ],
   "source": [
    "from torchvision import datasets, transforms\n",
    "from torch.utils.data import DataLoader\n",
    "\n",
    "mean = (0.4914, 0.4822, 0.4465)\n",
    "std = (0.2471, 0.2435, 0.2616)\n",
    "\n",
    "transform = transforms.Compose([\n",
    "    # transforms.Resize((crop_resolution, crop_resolution)),\n",
    "    transforms.ToTensor(),\n",
    "    transforms.Normalize(mean, std),\n",
    "])\n",
    "\n",
    "cifar10_dataset = datasets.CIFAR10(root='./data', train=True, download=True, transform=transform)\n",
    "loader = DataLoader(cifar10_dataset, batch_size=1000, shuffle=True)\n",
    "\n",
    "\n",
    "cifar10_classes = [\n",
    "    'airplane', 'automobile', 'bird', 'cat', 'deer',\n",
    "    'dog', 'frog', 'horse', 'ship', 'truck'\n",
    "]"
   ]
  },
  {
   "cell_type": "markdown",
   "metadata": {},
   "source": [
    "# Our Classmaximization Method (with gaussian blur)"
   ]
  },
  {
   "cell_type": "code",
   "execution_count": 5,
   "metadata": {},
   "outputs": [],
   "source": [
    "class ClassMaxim(nn.Module):\n",
    "    def __init__(self):\n",
    "        super(ClassMaxim, self).__init__()\n",
    "        self.x_c = nn.parameter.Parameter(torch.randn(1, 3, 32, 32))  \n",
    "        self.clone = self.x_c.clone()"
   ]
  },
  {
   "cell_type": "code",
   "execution_count": null,
   "metadata": {},
   "outputs": [],
   "source": []
  },
  {
   "cell_type": "code",
   "execution_count": 10,
   "metadata": {},
   "outputs": [],
   "source": [
    "from torchvision.transforms.functional import gaussian_blur\n",
    "from IPython.display import display, clear_output\n",
    "import matplotlib.pyplot as plt"
   ]
  },
  {
   "cell_type": "code",
   "execution_count": 37,
   "metadata": {},
   "outputs": [],
   "source": [
    "clsmax = ClassMaxim()\n",
    "clss = 9 # billard class\n",
    "\n",
    "# hyperparameters\n",
    "lamb = 0.1\n",
    "lr = 4\n",
    "sigma = 0.5\n",
    "kern_size = 3\n",
    "blur_frequency = 4"
   ]
  },
  {
   "cell_type": "code",
   "execution_count": 38,
   "metadata": {},
   "outputs": [],
   "source": [
    "from torchvision.transforms.functional import gaussian_blur\n",
    "def gaussian_blur_channelwise(input_tensor, kernel_size, sigma):\n",
    "    channels = 3\n",
    "    blurred_channels = []\n",
    "    for c in range(channels):\n",
    "        blurred_channel = gaussian_blur(input_tensor[:, c:c+1, :, :], kernel_size=kernel_size, sigma=sigma)\n",
    "        blurred_channels.append(blurred_channel)\n",
    "    return torch.cat(blurred_channels, dim=1)"
   ]
  },
  {
   "cell_type": "code",
   "execution_count": 39,
   "metadata": {},
   "outputs": [
    {
     "data": {
      "text/plain": [
       "<Figure size 640x480 with 0 Axes>"
      ]
     },
     "metadata": {},
     "output_type": "display_data"
    },
    {
     "data": {
      "image/png": "[encoded data removed]",
      "text/plain": [
       "<Figure size 640x480 with 1 Axes>"
      ]
     },
     "metadata": {},
     "output_type": "display_data"
    }
   ],
   "source": [
    "std_tens = torch.tensor(std).reshape(-1,1,1)\n",
    "mean_tens = torch.tensor(mean).reshape(-1,1,1)\n",
    "\n",
    "plt.figure()\n",
    "for i in range(40):\n",
    "    # lr-=2\n",
    "    # if lr <= 8:\n",
    "    #     lr = 8\n",
    "    plt.imshow((clsmax.x_c[0]*std_tens + mean_tens).detach().numpy().transpose(1,2,0))\n",
    "    plt.show()\n",
    "    for step in range(20):\n",
    "        xx = clsmax.x_c[0]\n",
    "        preds = model(xx.unsqueeze(0)) # cnn 1 x 3 x 32 x 32, expected dim\n",
    "        preds = preds.squeeze(0)\n",
    "\n",
    "        loss = (preds[clss] - lamb*(torch.norm(clsmax.x_c[0],p=2)))\n",
    "        (loss).backward()\n",
    "        \n",
    "        grad = clsmax.x_c.grad #/ (torch.norm(clsmax.x_c.grad)+ 1e-5) # l2 norm, grads\n",
    "        clsmax.x_c = nn.Parameter(clsmax.x_c + grad*lr) # update step, gradient ascent\n",
    "\n",
    "        with torch.no_grad():\n",
    "            # normalize between 0 and 1\n",
    "            min_value = torch.min(clsmax.x_c)\n",
    "            max_value = torch.max(clsmax.x_c)\n",
    "            normalized_tensor = (clsmax.x_c - min_value) / (max_value - min_value)\n",
    "            blurred_tensor = normalized_tensor\n",
    "\n",
    "            # Gaussian blur\n",
    "            if step % blur_frequency == 0:\n",
    "                blurred_tensor = gaussian_blur_channelwise(normalized_tensor, kernel_size=kern_size, sigma=sigma)\n",
    "            \n",
    "            # clipping pixels with small norm\n",
    "            clipped_tensor = blurred_tensor\n",
    "            norms = torch.norm(blurred_tensor, dim=1, p=2)\n",
    "            below_threshold = norms < 0.001\n",
    "            blurred_tensor[:, :, below_threshold.squeeze(0)] = 0\n",
    "            clsmax.x_c = nn.Parameter(clipped_tensor  * (max_value - min_value) + min_value)\n",
    "    \n",
    "    if(i < 39):\n",
    "        clear_output(wait=True)\n",
    "        display(plt.gcf())\n"
   ]
  },
  {
   "cell_type": "code",
   "execution_count": 6,
   "metadata": {},
   "outputs": [],
   "source": [
    "from torchvision.transforms.functional import gaussian_blur\n",
    "def gaussian_blur_channelwise(input_tensor, kernel_size, sigma):\n",
    "    channels = 3\n",
    "    blurred_channels = []\n",
    "    for c in range(channels):\n",
    "        blurred_channel = gaussian_blur(input_tensor[:, c:c+1, :, :], kernel_size=kernel_size, sigma=sigma)\n",
    "        blurred_channels.append(blurred_channel)\n",
    "    return torch.cat(blurred_channels, dim=1)"
   ]
  },
  {
   "cell_type": "code",
   "execution_count": 7,
   "metadata": {},
   "outputs": [],
   "source": [
    "normalize = transforms.Normalize(mean, std)\n",
    "\n",
    "def clamp_to_img(x):\n",
    "  return torch.clamp(x, min=0., max=1.)"
   ]
  },
  {
   "cell_type": "code",
   "execution_count": 47,
   "metadata": {},
   "outputs": [],
   "source": [
    "def activation_maxim(model, label, lamb, alpha, iters, device=\"cpu\"):\n",
    "  sigma = 1\n",
    "  kernel_size=3\n",
    "  image = torch.randn(1, 3, 32, 32).to(device)\n",
    "  r = torch.rand_like(image).to(device)\n",
    "  r.requires_grad_()\n",
    "\n",
    "  for i in range(iters):\n",
    "      preds = model(normalize(r)) #clamp_to_img(r)\n",
    "      loss = preds[0,label] - lamb*(torch.norm(r,p=2))\n",
    "      (-loss).backward()\n",
    "      r.data -=  alpha * r.grad.data\n",
    "      \n",
    "      if i % 4 == 0:\n",
    "        with torch.no_grad():\n",
    "          r.data = gaussian_blur_channelwise(r, kernel_size, sigma)\n",
    "          sigma*=0.99\n",
    "          if sigma < 0.5:\n",
    "             sigma = 0.5\n",
    "          norms = torch.norm(r, dim=1, p=2)\n",
    "          below_threshold = norms < 0.0001\n",
    "          r.data[:, :, below_threshold.squeeze(0)] = 0\n",
    "        if i%20==0:\n",
    "          image_np = clamp_to_img(r.detach())[0].permute(1, 2, 0).cpu().numpy()\n",
    "          clear_output(wait=True)\n",
    "          display(plt.gcf())\n",
    "          plt.imshow(image_np)\n",
    "          plt.axis('off')\n",
    "          plt.show()\n",
    "\n",
    "  output_image = clamp_to_img(r)\n",
    "  return output_image"
   ]
  },
  {
   "cell_type": "code",
   "execution_count": 48,
   "metadata": {},
   "outputs": [
    {
     "data": {
      "text/plain": [
       "<Figure size 640x480 with 0 Axes>"
      ]
     },
     "metadata": {},
     "output_type": "display_data"
    },
    {
     "data": {
      "image/png": "[encoded data removed]",
      "text/plain": [
       "<Figure size 640x480 with 1 Axes>"
      ]
     },
     "metadata": {},
     "output_type": "display_data"
    },
    {
     "data": {
      "text/plain": [
       "tensor([[[[0.6230, 0.6060, 0.5808,  ..., 0.5133, 0.5395, 0.5325],\n",
       "          [0.6259, 0.6066, 0.5765,  ..., 0.5172, 0.5331, 0.5301],\n",
       "          [0.6117, 0.5803, 0.5536,  ..., 0.5307, 0.5260, 0.5209],\n",
       "          ...,\n",
       "          [0.5603, 0.5511, 0.6176,  ..., 0.4578, 0.4709, 0.4677],\n",
       "          [0.5492, 0.5740, 0.6246,  ..., 0.4539, 0.4637, 0.4674],\n",
       "          [0.5417, 0.5747, 0.6083,  ..., 0.4545, 0.4598, 0.4626]],\n",
       "\n",
       "         [[0.3805, 0.3797, 0.4285,  ..., 0.6341, 0.6308, 0.6135],\n",
       "          [0.3921, 0.3911, 0.4375,  ..., 0.6359, 0.6299, 0.6184],\n",
       "          [0.4319, 0.4216, 0.4555,  ..., 0.6157, 0.6070, 0.6023],\n",
       "          ...,\n",
       "          [0.3426, 0.2792, 0.2330,  ..., 0.4972, 0.4948, 0.4923],\n",
       "          [0.3001, 0.2771, 0.2074,  ..., 0.5012, 0.4968, 0.4957],\n",
       "          [0.2772, 0.2691, 0.2084,  ..., 0.5033, 0.4960, 0.4930]],\n",
       "\n",
       "         [[0.4926, 0.4811, 0.4940,  ..., 0.5551, 0.5408, 0.5252],\n",
       "          [0.4928, 0.4796, 0.4941,  ..., 0.5497, 0.5436, 0.5364],\n",
       "          [0.4946, 0.4728, 0.4988,  ..., 0.5259, 0.5327, 0.5387],\n",
       "          ...,\n",
       "          [0.5297, 0.4783, 0.4960,  ..., 0.4925, 0.4960, 0.5032],\n",
       "          [0.5410, 0.5185, 0.4946,  ..., 0.4979, 0.4997, 0.5045],\n",
       "          [0.5373, 0.5317, 0.5094,  ..., 0.5015, 0.5035, 0.5045]]]],\n",
       "       grad_fn=<ClampBackward1>)"
      ]
     },
     "execution_count": 48,
     "metadata": {},
     "output_type": "execute_result"
    }
   ],
   "source": [
    "activation_maxim(model, 1, lamb=0.0005, alpha=0.0005, iters=1000, device=\"cpu\")"
   ]
  }
 ],
 "metadata": {
  "kernelspec": {
   "display_name": "dlproject",
   "language": "python",
   "name": "python3"
  },
  "language_info": {
   "codemirror_mode": {
    "name": "ipython",
    "version": 3
   },
   "file_extension": ".py",
   "mimetype": "text/x-python",
   "name": "python",
   "nbconvert_exporter": "python",
   "pygments_lexer": "ipython3",
   "version": "3.10.13"
  }
 },
 "nbformat": 4,
 "nbformat_minor": 2
}
