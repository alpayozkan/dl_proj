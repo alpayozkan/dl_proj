{
 "cells": [
  {
   "cell_type": "markdown",
   "metadata": {
    "collapsed": true,
    "pycharm": {
     "name": "#%% md\n"
    }
   },
   "source": [
    "# Investigate Dimensionality Reduction Techniques for comparing Vision Models\n",
    "This notebook introduces dimensionality reduction on the last-layer activations of our CIFAR10 models. It is possible to either perform t-SNE or PCA. However, other methods can be added easily."
   ]
  },
  {
   "cell_type": "code",
   "execution_count": 1,
   "metadata": {
    "pycharm": {
     "name": "#%%\n"
    }
   },
   "outputs": [],
   "source": [
    "# imports\n",
    "import os\n",
    "import random\n",
    "import torch\n",
    "import numpy as np\n",
    "\n",
    "import matplotlib.pyplot as plt\n",
    "from torchvision import datasets\n",
    "from torchvision import transforms\n",
    "from data_utils.data_stats import MEAN_DICT, STD_DICT, CLASS_DICT\n",
    "from sklearn.decomposition import PCA\n",
    "from sklearn.manifold import TSNE\n",
    "import timm"
   ]
  },
  {
   "cell_type": "code",
   "execution_count": 2,
   "metadata": {
    "pycharm": {
     "name": "#%%\n"
    }
   },
   "outputs": [
    {
     "name": "stdout",
     "output_type": "stream",
     "text": [
      "Files already downloaded and verified\n"
     ]
    }
   ],
   "source": [
    "# Dataset Configuration\n",
    "from models.networks import get_model\n",
    "from models.resnet import resnet18\n",
    "dataset_name = 'cifar10'\n",
    "mean = MEAN_DICT[dataset_name]\n",
    "std = STD_DICT[dataset_name]\n",
    "num_classes = CLASS_DICT[dataset_name]\n",
    "dataset_classes = [\n",
    "    'airplane', 'automobile', 'bird', 'cat', 'deer',\n",
    "    'dog', 'frog', 'horse', 'ship', 'truck'\n",
    "]\n",
    "device = \"cpu\"\n",
    "\n",
    "dataset = datasets.CIFAR10(root='./data', train=False, download=True, transform=transforms.ToTensor())\n",
    "\n",
    "assert len(dataset_classes) == num_classes"
   ]
  },
  {
   "cell_type": "code",
   "execution_count": 3,
   "metadata": {
    "pycharm": {
     "name": "#%%\n"
    }
   },
   "outputs": [],
   "source": [
    "# Setup dataloader\n",
    "data_loader = torch.utils.data.DataLoader(dataset,\n",
    "                                          batch_size=512,\n",
    "                                          shuffle=True,\n",
    "                                          num_workers=2)"
   ]
  },
  {
   "cell_type": "markdown",
   "metadata": {},
   "source": [
    "Select the architecture by executing the corresponding cell and follow the comments below."
   ]
  },
  {
   "cell_type": "code",
   "execution_count": 67,
   "metadata": {
    "pycharm": {
     "name": "#%%\n"
    }
   },
   "outputs": [],
   "source": [
    "# ResNet Configuration\n",
    "model = resnet18(pretrained=True)\n",
    "model_transform = transforms.Compose([\n",
    "    transforms.Normalize(mean / 255., std / 255.)\n",
    "])"
   ]
  },
  {
   "cell_type": "code",
   "execution_count": 34,
   "metadata": {
    "pycharm": {
     "name": "#%%\n"
    }
   },
   "outputs": [
    {
     "name": "stdout",
     "output_type": "stream",
     "text": [
      "Weights already downloaded\n",
      "Load_state output <All keys matched successfully>\n"
     ]
    }
   ],
   "source": [
    "# MLP Configuration\n",
    "mlp_architecture = 'B_12-Wi_512'  # B_12-Wi_512\n",
    "mlp_resolution = 64  # Resolution of fine-tuned model (64 for all models we provide)\n",
    "if not os.path.exists(\"checkpoints\"):\n",
    "    os.mkdir(\"checkpoints\")\n",
    "mlp_checkpoint = 'in21k_cifar10'  # This means you want the network pre-trained on ImageNet21k and finetuned on CIFAR10\n",
    "model = get_model(architecture=mlp_architecture, resolution=mlp_resolution, num_classes=num_classes,\n",
    "                  checkpoint=mlp_checkpoint)\n",
    "model_transform = transforms.Compose([\n",
    "    transforms.transforms.Resize((mlp_resolution, mlp_resolution)),\n",
    "    transforms.Normalize(mean / 255., std / 255.)\n",
    "])"
   ]
  },
  {
   "cell_type": "code",
   "execution_count": 4,
   "metadata": {},
   "outputs": [],
   "source": [
    "# ViT Configuration\n",
    "vit_checkpoint = \"./models/ViT_CIFAR10.py\"  # B_12-Wi_512\n",
    "vit_resolution = 384\n",
    "checkpoint = torch.load(vit_checkpoint, map_location=torch.device(device))\n",
    "model = timm.create_model(\"vit_base_patch16_384\", pretrained=True)\n",
    "model.head = torch.nn.Linear(model.head.in_features, num_classes)\n",
    "model = torch.nn.DataParallel(model) # make parallel\n",
    "model.load_state_dict(checkpoint['model'])\n",
    "model_transform = transforms.Compose([\n",
    "    transforms.Resize(vit_resolution),\n",
    "    transforms.Normalize(mean / 255., std / 255.)\n",
    "])"
   ]
  },
  {
   "cell_type": "code",
   "execution_count": 5,
   "metadata": {
    "pycharm": {
     "name": "#%%\n"
    }
   },
   "outputs": [],
   "source": [
    "# get random image\n",
    "def get_random_image():\n",
    "    image_nr = random.randrange(len(dataset))  # random image\n",
    "    # image_nr = 9297  # specific image id\n",
    "\n",
    "    image, true_label = dataset[image_nr]\n",
    "\n",
    "    image_np = image.numpy().transpose((1, 2, 0))\n",
    "    plt.imshow(image_np)\n",
    "    plt.show()\n",
    "\n",
    "    print(f\"Picked image {image_nr} with true label '{dataset_classes[true_label]}'.\")\n",
    "\n",
    "    return image, true_label\n",
    "\n",
    "# reshape to get input tensor for a particular image\n",
    "def get_input_tensor(img):\n",
    "    img = model_transform(img).unsqueeze(0)\n",
    "    # img = torch.reshape(img, (img.shape[0], -1)) # enable with MLP\n",
    "    return img"
   ]
  },
  {
   "cell_type": "code",
   "execution_count": 14,
   "metadata": {},
   "outputs": [
    {
     "name": "stdout",
     "output_type": "stream",
     "text": [
      "Intermediate values have shape: torch.Size([500, 768])\n"
     ]
    }
   ],
   "source": [
    "amount_points = 500  # how many points we want in our plot\n",
    "\n",
    "#########################\n",
    "\n",
    "activation = {}\n",
    "def get_activation(name):\n",
    "    def hook(model, input, output):\n",
    "        activation[name] = output.detach()\n",
    "    return hook\n",
    "\n",
    "# model.layer4.register_forward_hook(get_activation('layer_activations'))  # for ResNet18\n",
    "# model.blocks[11].register_forward_hook(get_activation('layer_activations'))  # for MLP\n",
    "model.module.fc_norm.register_forward_hook(get_activation('layer_activations'))  # for ViT\n",
    "model.eval()\n",
    "\n",
    "intermediate_values: list[torch.Tensor] = []\n",
    "predicted_classes: list[int] = []\n",
    "true_classes: list[int] = []\n",
    "\n",
    "with torch.no_grad():\n",
    "    for _ in range(amount_points):\n",
    "        image_nr = random.randrange(len(dataset))  # random image\n",
    "\n",
    "        image, true_label = dataset[image_nr]\n",
    "        output = model(get_input_tensor(image))\n",
    "        \n",
    "        probabilities = torch.nn.functional.softmax(output, dim=-1).squeeze()\n",
    "        predicted_class = torch.argmax(probabilities).item()\n",
    "        \n",
    "        intermediate_values.append(activation['layer_activations'].flatten())\n",
    "        predicted_classes.append(predicted_class)\n",
    "        true_classes.append(true_label)\n",
    "intermediate_values = torch.stack(intermediate_values)\n",
    "predicted_classes = np.array(predicted_classes, dtype=np.int32)\n",
    "true_classes = np.array(true_classes, dtype=np.int32)\n",
    "\n",
    "print(f\"Intermediate values have shape: {intermediate_values.shape}\")"
   ]
  },
  {
   "cell_type": "code",
   "execution_count": 15,
   "metadata": {},
   "outputs": [
    {
     "data": {
      "text/plain": [
       "Text(0.5, 1.0, 'TSNE of dataset cifar10 for ViT')"
      ]
     },
     "execution_count": 15,
     "metadata": {},
     "output_type": "execute_result"
    },
    {
     "data": {
      "image/png": "[encoded data removed]",
      "text/plain": [
       "<Figure size 640x480 with 1 Axes>"
      ]
     },
     "metadata": {},
     "output_type": "display_data"
    }
   ],
   "source": [
    "# apply dimensionality reduction\n",
    "method_name = \"PCA\"  # PCA or TSNE\n",
    "\n",
    "#########################\n",
    "\n",
    "if not (method_name == \"PCA\" or method_name == \"TSNE\"):\n",
    "    print(f\"Method {method_name} not found! Set to default value (PCA)\")\n",
    "    method_name = \"PCA\"\n",
    "else:\n",
    "    if method_name == \"PCA\":\n",
    "        method = PCA(n_components=2)\n",
    "    elif method_name == \"TSNE\":\n",
    "        method = TSNE(n_components=2, random_state=0)\n",
    "\n",
    "X = method.fit_transform(intermediate_values)\n",
    "\n",
    "# Percentage of variance explained for each components (only for PCA)\n",
    "print(f\"Explained variance ratio (first two components): {str(method.explained_variance_ratio_)}\")\n",
    "\n",
    "plt.figure()\n",
    "lw = 2\n",
    "\n",
    "for idx in range(10):\n",
    "    plt.scatter(\n",
    "        X[true_classes == idx, 0], X[true_classes == idx, 1], alpha=0.8, lw=lw, label=dataset_classes[idx]\n",
    "    )\n",
    "plt.legend(loc=\"best\", shadow=False, scatterpoints=1)\n",
    "plt.title(f\"{method_name} of dataset {dataset_name} for ViT\")"
   ]
  },
  {
   "cell_type": "code",
   "execution_count": null,
   "metadata": {},
   "outputs": [],
   "source": []
  }
 ],
 "metadata": {
  "kernelspec": {
   "display_name": "Python 3 (ipykernel)",
   "language": "python",
   "name": "python3"
  },
  "language_info": {
   "codemirror_mode": {
    "name": "ipython",
    "version": 3
   },
   "file_extension": ".py",
   "mimetype": "text/x-python",
   "name": "python",
   "nbconvert_exporter": "python",
   "pygments_lexer": "ipython3",
   "version": "3.10.9"
  }
 },
 "nbformat": 4,
 "nbformat_minor": 1
}
