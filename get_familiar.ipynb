{
  "cells": [
    {
      "cell_type": "code",
      "source": [
        "# Mount Google Drive to access and store files in '/content/gdrive'\n",
        "from google.colab import drive\n",
        "drive.mount('/content/gdrive')"
      ],
      "metadata": {
        "colab": {
          "base_uri": "https://localhost:8080/"
        },
        "id": "CMmXAlAozcI4",
        "outputId": "1ef050dd-733e-4b63-dbf9-b14ca6b1d93d"
      },
      "execution_count": null,
      "outputs": [
        {
          "output_type": "stream",
          "name": "stdout",
          "text": [
            "Mounted at /content/gdrive\n"
          ]
        }
      ]
    },
    {
      "cell_type": "code",
      "source": [
        "# Change working directory\n",
        "import os\n",
        "# TODO: Specify your path here\n",
        "new_directory = \"/content/gdrive/Othercomputers/Mein MacBook Pro/Drive/dl_proj\"\n",
        "os.chdir(new_directory)\n",
        "print(\"Current Working Directory:\", os.getcwd())"
      ],
      "metadata": {
        "colab": {
          "base_uri": "https://localhost:8080/"
        },
        "id": "93EdUgjbzwWv",
        "outputId": "3fa6f355-c6fb-4c89-f5ae-214034b7e734"
      },
      "execution_count": null,
      "outputs": [
        {
          "output_type": "stream",
          "name": "stdout",
          "text": [
            "Current Working Directory: /content/gdrive/Othercomputers/Mein MacBook Pro/Drive/dl_proj\n"
          ]
        }
      ]
    },
    {
      "cell_type": "code",
      "source": [
        "# imports\n",
        "import torch\n",
        "from torch.nn import CrossEntropyLoss\n",
        "from torchvision import datasets, transforms\n",
        "from torch.utils.data import DataLoader\n",
        "from utils.metrics import topk_acc, real_acc, AverageMeter\n",
        "\n",
        "from models.networks import get_model\n",
        "from data_utils.data_stats import *\n",
        "\n",
        "import matplotlib.pyplot as plt"
      ],
      "metadata": {
        "id": "ilS1XizV2PVL"
      },
      "execution_count": null,
      "outputs": []
    },
    {
      "cell_type": "code",
      "source": [
        "dataset = 'cifar10'                 # One of cifar10, cifar100, stl10, imagenet or imagenet21\n",
        "architecture = 'B_12-Wi_1024'\n",
        "data_resolution = 32                # Resolution of data as it is stored\n",
        "crop_resolution = 64                # Resolution of fine-tuned model (64 for all models we provide)\n",
        "num_classes = CLASS_DICT[dataset]\n",
        "#data_path = './beton/'\n",
        "eval_batch_size = 1024\n",
        "checkpoint = 'in21k_cifar10'        # This means you want the network pre-trained on ImageNet21k and finetuned on CIFAR10"
      ],
      "metadata": {
        "id": "coc47of8l01u"
      },
      "execution_count": 62,
      "outputs": []
    },
    {
      "cell_type": "code",
      "source": [
        "# TODO: Do not forget to choose GPU as runtime\n",
        "torch.backends.cuda.matmul.allow_tf32 = True\n",
        "device = torch.device(\"cuda:0\" if torch.cuda.is_available() else \"cpu\")\n",
        "\n",
        "# TODO: Create a folder called 'checkpoints'. It is already included in the .gitignore file\n",
        "# Define the model and specify the pre-trained weights\n",
        "model = get_model(architecture=architecture, resolution=crop_resolution, num_classes=num_classes, checkpoint=checkpoint)\n",
        "model.cuda()"
      ],
      "metadata": {
        "id": "0A26YPnbz1jT",
        "colab": {
          "base_uri": "https://localhost:8080/"
        },
        "outputId": "bcbc18d8-fdc0-4e35-f615-05722878fc07"
      },
      "execution_count": 63,
      "outputs": [
        {
          "output_type": "stream",
          "name": "stdout",
          "text": [
            "Downloading weights...\n"
          ]
        },
        {
          "output_type": "stream",
          "name": "stderr",
          "text": [
            "100% (453769295 of 453769295) |##########| Elapsed Time: 0:00:05 Time:  0:00:05\n"
          ]
        },
        {
          "output_type": "stream",
          "name": "stdout",
          "text": [
            "Load_state output <All keys matched successfully>\n"
          ]
        },
        {
          "output_type": "execute_result",
          "data": {
            "text/plain": [
              "BottleneckMLP(\n",
              "  (linear_in): Linear(in_features=12288, out_features=1024, bias=True)\n",
              "  (linear_out): Linear(in_features=1024, out_features=100, bias=True)\n",
              "  (blocks): ModuleList(\n",
              "    (0-11): 12 x BottleneckBlock(\n",
              "      (block): Sequential(\n",
              "        (0): Linear(in_features=1024, out_features=4096, bias=True)\n",
              "        (1): GELU(approximate='none')\n",
              "        (2): Linear(in_features=4096, out_features=1024, bias=True)\n",
              "      )\n",
              "    )\n",
              "  )\n",
              "  (layernorms): ModuleList(\n",
              "    (0-11): 12 x LayerNorm((1024,), eps=1e-05, elementwise_affine=True)\n",
              "  )\n",
              ")"
            ]
          },
          "metadata": {},
          "execution_count": 63
        }
      ]
    },
    {
      "cell_type": "code",
      "source": [
        "transform = transforms.Compose([\n",
        "    transforms.Resize((crop_resolution, crop_resolution)),\n",
        "    transforms.ToTensor(),\n",
        "])"
      ],
      "metadata": {
        "id": "eMKcIS8NnkZq"
      },
      "execution_count": 64,
      "outputs": []
    },
    {
      "cell_type": "code",
      "source": [
        "# ./data folder is ot uploaded to Github. See .gitignore\n",
        "cifar10_dataset = datasets.CIFAR10(root='./data', train=False, download=True, transform=transform)\n",
        "loader = DataLoader(cifar10_dataset, batch_size=eval_batch_size, shuffle=True)\n",
        "\n",
        "\n",
        "cifar10_classes = [\n",
        "    'airplane', 'automobile', 'bird', 'cat', 'deer',\n",
        "    'dog', 'frog', 'horse', 'ship', 'truck'\n",
        "]"
      ],
      "metadata": {
        "colab": {
          "base_uri": "https://localhost:8080/"
        },
        "id": "0mK9NE1ko2LP",
        "outputId": "4ea7f5de-8694-4efa-a62c-077cbb9d66ac"
      },
      "execution_count": 65,
      "outputs": [
        {
          "output_type": "stream",
          "name": "stdout",
          "text": [
            "Downloading https://www.cs.toronto.edu/~kriz/cifar-100-python.tar.gz to ./data/cifar-100-python.tar.gz\n"
          ]
        },
        {
          "output_type": "stream",
          "name": "stderr",
          "text": [
            "100%|██████████| 169001437/169001437 [00:02<00:00, 62323875.56it/s]\n"
          ]
        },
        {
          "output_type": "stream",
          "name": "stdout",
          "text": [
            "Extracting ./data/cifar-100-python.tar.gz to ./data\n"
          ]
        }
      ]
    },
    {
      "cell_type": "code",
      "source": [
        "# select test image\n",
        "image_nr = 300\n",
        "\n",
        "# display image\n",
        "image, true_label = cifar10_dataset[image_nr]\n",
        "image = image.numpy().transpose((1, 2, 0))\n",
        "plt.imshow(image)\n",
        "plt.show()\n",
        "\n",
        "# prepare image to be processed by model\n",
        "image, _ = cifar10_dataset[image_nr]\n",
        "image = image.unsqueeze(0)\n",
        "image = image.view(-1)\n",
        "image = image.cuda()"
      ],
      "metadata": {
        "id": "Tr_ddMPjrEuo",
        "colab": {
          "base_uri": "https://localhost:8080/",
          "height": 432
        },
        "outputId": "165b924f-b96d-4d61-d242-3cfe5a0ec7b5"
      },
      "execution_count": 66,
      "outputs": [
        {
          "output_type": "display_data",
          "data": {
            "text/plain": [
              "<Figure size 640x480 with 1 Axes>"
            ],
            "image/png": "[encoded data removed]"
          },
          "metadata": {}
        }
      ]
    },
    {
      "cell_type": "code",
      "source": [
        "model.eval()\n",
        "\n",
        "with torch.no_grad():\n",
        "    output = model(image)\n",
        "    # print(\"Shape of the output tensor:\", output.shape)\n",
        "\n",
        "probabilities = torch.nn.functional.softmax(output, dim=0)\n",
        "predicted_class = torch.argmax(probabilities).item()\n",
        "\n",
        "predicted_label = cifar10_classes[predicted_class]\n",
        "tr_label = cifar10_classes[true_label]\n",
        "\n",
        "print(f\"Model prediction:\", predicted_label)\n",
        "print(f\"True label:      \", tr_label)"
      ],
      "metadata": {
        "colab": {
          "base_uri": "https://localhost:8080/",
          "height": 242
        },
        "id": "h40sr76cvRic",
        "outputId": "78d640ad-7f87-40f4-f78e-71147cf5b45a"
      },
      "execution_count": 69,
      "outputs": [
        {
          "output_type": "error",
          "ename": "NameError",
          "evalue": "ignored",
          "traceback": [
            "\u001b[0;31m---------------------------------------------------------------------------\u001b[0m",
            "\u001b[0;31mNameError\u001b[0m                                 Traceback (most recent call last)",
            "\u001b[0;32m<ipython-input-69-89ca4db442f1>\u001b[0m in \u001b[0;36m<cell line: 10>\u001b[0;34m()\u001b[0m\n\u001b[1;32m      8\u001b[0m \u001b[0mpredicted_class\u001b[0m \u001b[0;34m=\u001b[0m \u001b[0mtorch\u001b[0m\u001b[0;34m.\u001b[0m\u001b[0margmax\u001b[0m\u001b[0;34m(\u001b[0m\u001b[0mprobabilities\u001b[0m\u001b[0;34m)\u001b[0m\u001b[0;34m.\u001b[0m\u001b[0mitem\u001b[0m\u001b[0;34m(\u001b[0m\u001b[0;34m)\u001b[0m\u001b[0;34m\u001b[0m\u001b[0;34m\u001b[0m\u001b[0m\n\u001b[1;32m      9\u001b[0m \u001b[0;34m\u001b[0m\u001b[0m\n\u001b[0;32m---> 10\u001b[0;31m \u001b[0mpredicted_label\u001b[0m \u001b[0;34m=\u001b[0m \u001b[0mcifar100_classes\u001b[0m\u001b[0;34m[\u001b[0m\u001b[0mpredicted_class\u001b[0m\u001b[0;34m]\u001b[0m\u001b[0;34m\u001b[0m\u001b[0;34m\u001b[0m\u001b[0m\n\u001b[0m\u001b[1;32m     11\u001b[0m \u001b[0mtr_label\u001b[0m \u001b[0;34m=\u001b[0m \u001b[0mcifar100_classes\u001b[0m\u001b[0;34m[\u001b[0m\u001b[0mtrue_label\u001b[0m\u001b[0;34m]\u001b[0m\u001b[0;34m\u001b[0m\u001b[0;34m\u001b[0m\u001b[0m\n\u001b[1;32m     12\u001b[0m \u001b[0;34m\u001b[0m\u001b[0m\n",
            "\u001b[0;31mNameError\u001b[0m: name 'cifar100_classes' is not defined"
          ]
        }
      ]
    },
    {
      "cell_type": "code",
      "source": [],
      "metadata": {
        "id": "CozSIQ9jN_oe"
      },
      "execution_count": null,
      "outputs": []
    },
    {
      "cell_type": "code",
      "source": [
        "from utils.parsers import get_training_parser\n",
        "\n",
        "parser = get_training_parser()\n",
        "args = parser.parse_args(args=[])"
      ],
      "metadata": {
        "id": "AdsEjXwbRFKJ"
      },
      "execution_count": 70,
      "outputs": []
    },
    {
      "cell_type": "code",
      "source": [
        "loss_fn = CrossEntropyLoss(label_smoothing=args.smooth)"
      ],
      "metadata": {
        "id": "qZjCvwUtSLiI"
      },
      "execution_count": 71,
      "outputs": []
    },
    {
      "cell_type": "code",
      "source": [
        "import time\n",
        "from tqdm import tqdm\n",
        "start = time.time()\n",
        "model.eval()\n",
        "total_acc, total_top5, total_loss = AverageMeter(), AverageMeter(), AverageMeter()\n",
        "\n",
        "for ims, targs in tqdm(loader, desc=\"Evaluation\"):\n",
        "    targs = targs.cuda()\n",
        "    ims = torch.reshape(ims, (ims.shape[0], -1)).cuda()\n",
        "    preds = model(ims)\n",
        "\n",
        "    if args.dataset != 'imagenet_real':\n",
        "        acc, top5 = topk_acc(preds, targs, k=5, avg=True)\n",
        "        loss = loss_fn(preds, targs).item()\n",
        "    else:\n",
        "        acc = real_acc(preds, targs, k=5, avg=True)\n",
        "        top5 = 0\n",
        "        loss = 0\n",
        "\n",
        "    total_acc.update(acc, ims.shape[0])\n",
        "    total_top5.update(top5, ims.shape[0])\n",
        "    total_loss.update(loss)\n",
        "\n",
        "end = time.time()"
      ],
      "metadata": {
        "id": "9j8qucLLNx1Q",
        "colab": {
          "base_uri": "https://localhost:8080/"
        },
        "outputId": "f16aa9fc-c624-4c15-c623-69ad53da4ff0"
      },
      "execution_count": 72,
      "outputs": [
        {
          "output_type": "stream",
          "name": "stderr",
          "text": [
            "Evaluation: 100%|██████████| 10/10 [00:05<00:00,  1.88it/s]\n"
          ]
        }
      ]
    },
    {
      "cell_type": "code",
      "source": [
        "#print(\"Epoch\", ep, \"       Time:\", train_time)\n",
        "#print(\"-------------- Training ----------------\")\n",
        "#print(\"Average Training Loss:       \", \"{:.6f}\".format(train_loss))\n",
        "#print(\"Average Training Accuracy:   \", \"{:.4f}\".format(train_acc))\n",
        "#print(\"Top 5 Training Accuracy:     \", \"{:.4f}\".format(train_top5))\n",
        "print(\"---------------- Test ------------------\")\n",
        "print(\"Test Accuracy        \", \"{:.4f}\".format(total_acc.get_avg(percentage=True)))\n",
        "print(\"Top 5 Test Accuracy          \", \"{:.4f}\".format(total_top5.get_avg(percentage=True)))\n",
        "print()"
      ],
      "metadata": {
        "id": "mPj_E2BkNx3n",
        "colab": {
          "base_uri": "https://localhost:8080/"
        },
        "outputId": "8570e468-66d0-46df-aef9-b688c519e50a"
      },
      "execution_count": 73,
      "outputs": [
        {
          "output_type": "stream",
          "name": "stdout",
          "text": [
            "---------------- Test ------------------\n",
            "Test Accuracy         45.5100\n",
            "Top 5 Test Accuracy           71.1500\n",
            "\n"
          ]
        }
      ]
    }
  ],
  "metadata": {
    "language_info": {
      "name": "python"
    },
    "orig_nbformat": 4,
    "colab": {
      "provenance": [],
      "gpuType": "T4"
    },
    "kernelspec": {
      "name": "python3",
      "display_name": "Python 3"
    },
    "accelerator": "GPU"
  },
  "nbformat": 4,
  "nbformat_minor": 0
}