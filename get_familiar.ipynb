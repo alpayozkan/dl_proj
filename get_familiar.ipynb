{
 "cells": [
  {
   "cell_type": "code",
   "source": [
    "# Mount Google Drive to access and store files in '/content/gdrive'\n",
    "from google.colab import drive\n",
    "drive.mount('/content/gdrive')"
   ],
   "metadata": {
    "colab": {
     "base_uri": "https://localhost:8080/"
    },
    "id": "CMmXAlAozcI4",
    "executionInfo": {
     "status": "ok",
     "timestamp": 1700319267420,
     "user_tz": -60,
     "elapsed": 22079,
     "user": {
      "displayName": "Piero Neri",
      "userId": "15910920029630871479"
     }
    },
    "outputId": "d1c84aa9-c53e-49e7-a1aa-9078264f2968"
   },
   "execution_count": 1,
   "outputs": [
    {
     "output_type": "stream",
     "name": "stdout",
     "text": [
      "Mounted at /content/gdrive\n"
     ]
    }
   ]
  },
  {
   "cell_type": "code",
   "source": [
    "# Change working directory\n",
    "import os\n",
    "# TODO: Specify your path here\n",
    "new_directory = \"/content/gdrive/Othercomputers/Mein MacBook Pro/Drive/dl_proj\"\n",
    "os.chdir(new_directory)\n",
    "print(\"Current Working Directory:\", os.getcwd())"
   ],
   "metadata": {
    "colab": {
     "base_uri": "https://localhost:8080/"
    },
    "id": "93EdUgjbzwWv",
    "executionInfo": {
     "status": "ok",
     "timestamp": 1700319267887,
     "user_tz": -60,
     "elapsed": 473,
     "user": {
      "displayName": "Piero Neri",
      "userId": "15910920029630871479"
     }
    },
    "outputId": "4619e73c-06c1-4c98-a9e6-8d62f0891675"
   },
   "execution_count": 2,
   "outputs": [
    {
     "output_type": "stream",
     "name": "stdout",
     "text": [
      "Current Working Directory: /content/gdrive/Othercomputers/Mein MacBook Pro/Drive/dl_proj\n"
     ]
    }
   ]
  },
  {
   "cell_type": "code",
   "source": [
    "# imports\n",
    "import torch\n",
    "from torchvision import datasets, transforms\n",
    "from torch.utils.data import DataLoader\n",
    "\n",
    "from models.networks import get_model\n",
    "from data_utils.data_stats import *\n",
    "\n",
    "import matplotlib.pyplot as plt"
   ],
   "metadata": {
    "id": "ilS1XizV2PVL",
    "executionInfo": {
     "status": "ok",
     "timestamp": 1700319282056,
     "user_tz": -60,
     "elapsed": 9093,
     "user": {
      "displayName": "Piero Neri",
      "userId": "15910920029630871479"
     }
    }
   },
   "execution_count": 3,
   "outputs": []
  },
  {
   "cell_type": "code",
   "source": [
    "dataset = 'cifar10'                 # One of cifar10, cifar100, stl10, imagenet or imagenet21\n",
    "architecture = 'B_12-Wi_512'\n",
    "data_resolution = 32                # Resolution of data as it is stored\n",
    "crop_resolution = 64                # Resolution of fine-tuned model (64 for all models we provide)\n",
    "num_classes = CLASS_DICT[dataset]\n",
    "#data_path = './beton/'\n",
    "eval_batch_size = 512\n",
    "checkpoint = 'in21k_cifar10'        # This means you want the network pre-trained on ImageNet21k and finetuned on CIFAR10"
   ],
   "metadata": {
    "id": "coc47of8l01u",
    "executionInfo": {
     "status": "ok",
     "timestamp": 1700319286589,
     "user_tz": -60,
     "elapsed": 4,
     "user": {
      "displayName": "Piero Neri",
      "userId": "15910920029630871479"
     }
    }
   },
   "execution_count": 4,
   "outputs": []
  },
  {
   "cell_type": "code",
   "source": [
    "# TODO: Do not forget to choose GPU as runtime\n",
    "torch.backends.cuda.matmul.allow_tf32 = True\n",
    "device = torch.device(\"cuda:0\" if torch.cuda.is_available() else \"cpu\")\n",
    "\n",
    "# TODO: Create a folder called 'checkpoints'. It is already included in the .gitignore file\n",
    "# Define the model and specify the pre-trained weights\n",
    "model = get_model(architecture=architecture, resolution=crop_resolution, num_classes=num_classes, checkpoint=checkpoint)\n",
    "model.cuda()"
   ],
   "metadata": {
    "id": "0A26YPnbz1jT",
    "colab": {
     "base_uri": "https://localhost:8080/"
    },
    "executionInfo": {
     "status": "ok",
     "timestamp": 1700319299567,
     "user_tz": -60,
     "elapsed": 9048,
     "user": {
      "displayName": "Piero Neri",
      "userId": "15910920029630871479"
     }
    },
    "outputId": "1285504e-186c-467d-deb8-8199cce71249"
   },
   "execution_count": 5,
   "outputs": [
    {
     "output_type": "stream",
     "name": "stdout",
     "text": [
      "Weights already downloaded\n",
      "Load_state output <All keys matched successfully>\n"
     ]
    },
    {
     "output_type": "execute_result",
     "data": {
      "text/plain": [
       "BottleneckMLP(\n",
       "  (linear_in): Linear(in_features=12288, out_features=512, bias=True)\n",
       "  (linear_out): Linear(in_features=512, out_features=10, bias=True)\n",
       "  (blocks): ModuleList(\n",
       "    (0-11): 12 x BottleneckBlock(\n",
       "      (block): Sequential(\n",
       "        (0): Linear(in_features=512, out_features=2048, bias=True)\n",
       "        (1): GELU(approximate='none')\n",
       "        (2): Linear(in_features=2048, out_features=512, bias=True)\n",
       "      )\n",
       "    )\n",
       "  )\n",
       "  (layernorms): ModuleList(\n",
       "    (0-11): 12 x LayerNorm((512,), eps=1e-05, elementwise_affine=True)\n",
       "  )\n",
       ")"
      ]
     },
     "metadata": {},
     "execution_count": 5
    }
   ]
  },
  {
   "cell_type": "code",
   "source": [
    "transform = transforms.Compose([\n",
    "    transforms.Resize((crop_resolution, crop_resolution)),\n",
    "    transforms.ToTensor(),\n",
    "])"
   ],
   "metadata": {
    "id": "eMKcIS8NnkZq",
    "executionInfo": {
     "status": "ok",
     "timestamp": 1700319303052,
     "user_tz": -60,
     "elapsed": 518,
     "user": {
      "displayName": "Piero Neri",
      "userId": "15910920029630871479"
     }
    }
   },
   "execution_count": 6,
   "outputs": []
  },
  {
   "cell_type": "code",
   "source": [
    "# ./data folder is not uploaded to Github. See .gitignore\n",
    "cifar10_dataset = datasets.CIFAR10(root='./data', train=False, download=True, transform=transform)\n",
    "\n",
    "cifar10_classes = [\n",
    "    'airplane', 'automobile', 'bird', 'cat', 'deer',\n",
    "    'dog', 'frog', 'horse', 'ship', 'truck'\n",
    "]"
   ],
   "metadata": {
    "colab": {
     "base_uri": "https://localhost:8080/"
    },
    "id": "0mK9NE1ko2LP",
    "executionInfo": {
     "status": "ok",
     "timestamp": 1700319311652,
     "user_tz": -60,
     "elapsed": 5740,
     "user": {
      "displayName": "Piero Neri",
      "userId": "15910920029630871479"
     }
    },
    "outputId": "acada0c3-d38f-46d0-f827-d9e766fb3eb0"
   },
   "execution_count": 7,
   "outputs": [
    {
     "output_type": "stream",
     "name": "stdout",
     "text": [
      "Files already downloaded and verified\n"
     ]
    }
   ]
  },
  {
   "cell_type": "code",
   "source": [
    "# select test image\n",
    "image_nr = 300\n",
    "\n",
    "# display image\n",
    "image, true_label = cifar10_dataset[image_nr]\n",
    "image = image.numpy().transpose((1, 2, 0))\n",
    "plt.imshow(image)\n",
    "plt.show()\n",
    "\n",
    "# prepare image to be processed by model\n",
    "image, _ = cifar10_dataset[image_nr]\n",
    "image = image.unsqueeze(0)\n",
    "image = image.view(-1)\n",
    "image = image.cuda()"
   ],
   "metadata": {
    "colab": {
     "base_uri": "https://localhost:8080/",
     "height": 432
    },
    "id": "Tr_ddMPjrEuo",
    "executionInfo": {
     "status": "ok",
     "timestamp": 1700319313472,
     "user_tz": -60,
     "elapsed": 449,
     "user": {
      "displayName": "Piero Neri",
      "userId": "15910920029630871479"
     }
    },
    "outputId": "a7f2b0cd-545e-457a-b607-dd63a00d88d9"
   },
   "execution_count": 8,
   "outputs": [
    {
     "output_type": "display_data",
     "data": {
      "text/plain": [
       "<Figure size 640x480 with 1 Axes>"
      ],
      "image/png": "[encoded data removed]"
     },
     "metadata": {}
    }
   ]
  },
  {
   "cell_type": "code",
   "source": [
    "model.eval()\n",
    "\n",
    "with torch.no_grad():\n",
    "    output = model(image)\n",
    "    # print(\"Shape of the output tensor:\", output.shape)\n",
    "\n",
    "probabilities = torch.nn.functional.softmax(output, dim=0)\n",
    "predicted_class = torch.argmax(probabilities).item()\n",
    "\n",
    "predicted_label = cifar10_classes[predicted_class]\n",
    "tr_label = cifar10_classes[true_label]\n",
    "\n",
    "print(f\"Model prediction:\", predicted_label)\n",
    "print(f\"True label:      \", tr_label)"
   ],
   "metadata": {
    "colab": {
     "base_uri": "https://localhost:8080/"
    },
    "id": "h40sr76cvRic",
    "executionInfo": {
     "status": "ok",
     "timestamp": 1700319319995,
     "user_tz": -60,
     "elapsed": 3331,
     "user": {
      "displayName": "Piero Neri",
      "userId": "15910920029630871479"
     }
    },
    "outputId": "bcb662ac-8d82-49c0-ef92-4d8e3f25c320"
   },
   "execution_count": 9,
   "outputs": [
    {
     "output_type": "stream",
     "name": "stdout",
     "text": [
      "Model prediction: frog\n",
      "True label:       frog\n"
     ]
    }
   ]
  }
 ],
 "metadata": {
  "language_info": {
   "name": "python"
  },
  "orig_nbformat": 4,
  "colab": {
   "provenance": [],
   "gpuType": "T4"
  },
  "kernelspec": {
   "name": "python3",
   "display_name": "Python 3"
  },
  "accelerator": "GPU"
 },
 "nbformat": 4,
 "nbformat_minor": 0
}