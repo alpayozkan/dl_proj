{
 "cells": [
  {
   "cell_type": "code",
   "execution_count": 1,
   "metadata": {
    "colab": {
     "base_uri": "https://localhost:8080/"
    },
    "executionInfo": {
     "elapsed": 473,
     "status": "ok",
     "timestamp": 1700319267887,
     "user": {
      "displayName": "Piero Neri",
      "userId": "15910920029630871479"
     },
     "user_tz": -60
    },
    "id": "93EdUgjbzwWv",
    "outputId": "4619e73c-06c1-4c98-a9e6-8d62f0891675"
   },
   "outputs": [
    {
     "name": "stdout",
     "output_type": "stream",
     "text": [
      "Current Working Directory: /Users/me/Tmp/ETH/DL/dl_proj\n"
     ]
    }
   ],
   "source": [
    "# Change working directory\n",
    "import os\n",
    "# TODO: Specify your path here\n",
    "new_directory = \"./\"\n",
    "os.chdir(new_directory)\n",
    "print(\"Current Working Directory:\", os.getcwd())"
   ]
  },
  {
   "cell_type": "code",
   "execution_count": 2,
   "metadata": {
    "executionInfo": {
     "elapsed": 9093,
     "status": "ok",
     "timestamp": 1700319282056,
     "user": {
      "displayName": "Piero Neri",
      "userId": "15910920029630871479"
     },
     "user_tz": -60
    },
    "id": "ilS1XizV2PVL"
   },
   "outputs": [],
   "source": [
    "# imports\n",
    "import torch\n",
    "from torchvision import datasets, transforms\n",
    "from torch.utils.data import DataLoader\n",
    "\n",
    "from models.networks import get_model\n",
    "from data_utils.data_stats import *\n",
    "\n",
    "import matplotlib.pyplot as plt"
   ]
  },
  {
   "cell_type": "code",
   "execution_count": 3,
   "metadata": {
    "executionInfo": {
     "elapsed": 4,
     "status": "ok",
     "timestamp": 1700319286589,
     "user": {
      "displayName": "Piero Neri",
      "userId": "15910920029630871479"
     },
     "user_tz": -60
    },
    "id": "coc47of8l01u"
   },
   "outputs": [],
   "source": [
    "dataset = 'cifar10'                 # One of cifar10, cifar100, stl10, imagenet or imagenet21\n",
    "architecture = 'B_6-Wi_512'\n",
    "data_resolution = 32                # Resolution of data as it is stored\n",
    "crop_resolution = 64                # Resolution of fine-tuned model (64 for all models we provide)\n",
    "num_classes = CLASS_DICT[dataset]\n",
    "#data_path = './beton/'\n",
    "eval_batch_size = 512\n",
    "checkpoint = 'in21k_cifar10'        # This means you want the network pre-trained on ImageNet21k and finetuned on CIFAR10"
   ]
  },
  {
   "cell_type": "code",
   "execution_count": 4,
   "metadata": {
    "colab": {
     "base_uri": "https://localhost:8080/"
    },
    "executionInfo": {
     "elapsed": 9048,
     "status": "ok",
     "timestamp": 1700319299567,
     "user": {
      "displayName": "Piero Neri",
      "userId": "15910920029630871479"
     },
     "user_tz": -60
    },
    "id": "0A26YPnbz1jT",
    "outputId": "1285504e-186c-467d-deb8-8199cce71249"
   },
   "outputs": [
    {
     "name": "stdout",
     "output_type": "stream",
     "text": [
      "Weights already downloaded\n",
      "Load_state output <All keys matched successfully>\n"
     ]
    }
   ],
   "source": [
    "# TODO: Do not forget to choose GPU as runtime\n",
    "torch.backends.cuda.matmul.allow_tf32 = True\n",
    "device = torch.device(\"cuda:0\" if torch.cuda.is_available() else \"cpu\")\n",
    "\n",
    "# TODO: Create a folder called 'checkpoints'. It is already included in the .gitignore file\n",
    "# Define the model and specify the pre-trained weights\n",
    "model = get_model(architecture=architecture, resolution=crop_resolution, num_classes=num_classes, checkpoint=checkpoint)\n",
    "# model.cuda()"
   ]
  },
  {
   "cell_type": "code",
   "execution_count": 5,
   "metadata": {
    "executionInfo": {
     "elapsed": 518,
     "status": "ok",
     "timestamp": 1700319303052,
     "user": {
      "displayName": "Piero Neri",
      "userId": "15910920029630871479"
     },
     "user_tz": -60
    },
    "id": "eMKcIS8NnkZq"
   },
   "outputs": [],
   "source": [
    "transform = transforms.Compose([\n",
    "    transforms.Resize((crop_resolution, crop_resolution)),\n",
    "    transforms.ToTensor(),\n",
    "])"
   ]
  },
  {
   "cell_type": "code",
   "execution_count": 6,
   "metadata": {
    "colab": {
     "base_uri": "https://localhost:8080/"
    },
    "executionInfo": {
     "elapsed": 5740,
     "status": "ok",
     "timestamp": 1700319311652,
     "user": {
      "displayName": "Piero Neri",
      "userId": "15910920029630871479"
     },
     "user_tz": -60
    },
    "id": "0mK9NE1ko2LP",
    "outputId": "acada0c3-d38f-46d0-f827-d9e766fb3eb0"
   },
   "outputs": [
    {
     "name": "stdout",
     "output_type": "stream",
     "text": [
      "Files already downloaded and verified\n"
     ]
    }
   ],
   "source": [
    "# ./data folder is ot uploaded to Github. See .gitignore\n",
    "cifar10_dataset = datasets.CIFAR10(root='./data', train=False, download=True, transform=transform)\n",
    "\n",
    "cifar10_classes = [\n",
    "    'airplane', 'automobile', 'bird', 'cat', 'deer',\n",
    "    'dog', 'frog', 'horse', 'ship', 'truck'\n",
    "]"
   ]
  },
  {
   "cell_type": "code",
   "execution_count": 25,
   "metadata": {
    "colab": {
     "base_uri": "https://localhost:8080/",
     "height": 432
    },
    "executionInfo": {
     "elapsed": 449,
     "status": "ok",
     "timestamp": 1700319313472,
     "user": {
      "displayName": "Piero Neri",
      "userId": "15910920029630871479"
     },
     "user_tz": -60
    },
    "id": "Tr_ddMPjrEuo",
    "outputId": "a7f2b0cd-545e-457a-b607-dd63a00d88d9"
   },
   "outputs": [
    {
     "name": "stdout",
     "output_type": "stream",
     "text": [
      "torch.Size([3, 64, 64])\n"
     ]
    },
    {
     "data": {
      "image/png": "[encoded data removed]",
      "text/plain": [
       "<Figure size 640x480 with 1 Axes>"
      ]
     },
     "metadata": {},
     "output_type": "display_data"
    }
   ],
   "source": [
    "# select test image\n",
    "image_nr = 300\n",
    "\n",
    "# display image\n",
    "image, true_label = cifar10_dataset[image_nr]\n",
    "print(image.shape)\n",
    "image = image.numpy().transpose((1, 2, 0))\n",
    "plt.imshow(image)\n",
    "plt.show()\n",
    "\n",
    "# prepare image to be processed by model\n",
    "image, _ = cifar10_dataset[image_nr]\n",
    "image = image.unsqueeze(0)\n",
    "image = image.view(-1)\n",
    "# image = image.cuda()"
   ]
  },
  {
   "cell_type": "code",
   "execution_count": 8,
   "metadata": {
    "colab": {
     "base_uri": "https://localhost:8080/"
    },
    "executionInfo": {
     "elapsed": 3331,
     "status": "ok",
     "timestamp": 1700319319995,
     "user": {
      "displayName": "Piero Neri",
      "userId": "15910920029630871479"
     },
     "user_tz": -60
    },
    "id": "h40sr76cvRic",
    "outputId": "bcb662ac-8d82-49c0-ef92-4d8e3f25c320"
   },
   "outputs": [
    {
     "name": "stdout",
     "output_type": "stream",
     "text": [
      "Shape of the output tensor: torch.Size([10])\n",
      "Model prediction: frog\n",
      "True label:       frog\n"
     ]
    }
   ],
   "source": [
    "model.eval()\n",
    "\n",
    "with torch.no_grad():\n",
    "    output = model(image)\n",
    "    print(\"Shape of the output tensor:\", output.shape)\n",
    "\n",
    "probabilities = torch.nn.functional.softmax(output, dim=0)\n",
    "predicted_class = torch.argmax(probabilities).item()\n",
    "\n",
    "predicted_label = cifar10_classes[predicted_class]\n",
    "tr_label = cifar10_classes[true_label]\n",
    "\n",
    "print(f\"Model prediction:\", predicted_label)\n",
    "print(f\"True label:      \", tr_label)"
   ]
  },
  {
   "cell_type": "code",
   "execution_count": 9,
   "metadata": {
    "colab": {
     "base_uri": "https://localhost:8080/"
    },
    "executionInfo": {
     "elapsed": 3331,
     "status": "ok",
     "timestamp": 1700319319995,
     "user": {
      "displayName": "Piero Neri",
      "userId": "15910920029630871479"
     },
     "user_tz": -60
    },
    "id": "h40sr76cvRic",
    "outputId": "bcb662ac-8d82-49c0-ef92-4d8e3f25c320"
   },
   "outputs": [
    {
     "data": {
      "text/plain": [
       "=================================================================\n",
       "Layer (type:depth-idx)                   Param #\n",
       "=================================================================\n",
       "BottleneckMLP                            --\n",
       "├─Linear: 1-1                            6,291,968\n",
       "├─Linear: 1-2                            5,130\n",
       "├─ModuleList: 1-3                        --\n",
       "│    └─BottleneckBlock: 2-1              --\n",
       "│    │    └─Sequential: 3-1              2,099,712\n",
       "│    └─BottleneckBlock: 2-2              --\n",
       "│    │    └─Sequential: 3-2              2,099,712\n",
       "│    └─BottleneckBlock: 2-3              --\n",
       "│    │    └─Sequential: 3-3              2,099,712\n",
       "│    └─BottleneckBlock: 2-4              --\n",
       "│    │    └─Sequential: 3-4              2,099,712\n",
       "│    └─BottleneckBlock: 2-5              --\n",
       "│    │    └─Sequential: 3-5              2,099,712\n",
       "│    └─BottleneckBlock: 2-6              --\n",
       "│    │    └─Sequential: 3-6              2,099,712\n",
       "├─ModuleList: 1-4                        --\n",
       "│    └─LayerNorm: 2-7                    1,024\n",
       "│    └─LayerNorm: 2-8                    1,024\n",
       "│    └─LayerNorm: 2-9                    1,024\n",
       "│    └─LayerNorm: 2-10                   1,024\n",
       "│    └─LayerNorm: 2-11                   1,024\n",
       "│    └─LayerNorm: 2-12                   1,024\n",
       "=================================================================\n",
       "Total params: 18,901,514\n",
       "Trainable params: 18,901,514\n",
       "Non-trainable params: 0\n",
       "================================================================="
      ]
     },
     "execution_count": 9,
     "metadata": {},
     "output_type": "execute_result"
    }
   ],
   "source": [
    "from torchinfo import summary\n",
    "\n",
    "summary(model)"
   ]
  },
  {
   "cell_type": "code",
   "execution_count": 10,
   "metadata": {},
   "outputs": [
    {
     "data": {
      "text/plain": [
       "BottleneckMLP(\n",
       "  (linear_in): Linear(in_features=12288, out_features=512, bias=True)\n",
       "  (linear_out): Linear(in_features=512, out_features=10, bias=True)\n",
       "  (blocks): ModuleList(\n",
       "    (0-5): 6 x BottleneckBlock(\n",
       "      (block): Sequential(\n",
       "        (0): Linear(in_features=512, out_features=2048, bias=True)\n",
       "        (1): GELU(approximate='none')\n",
       "        (2): Linear(in_features=2048, out_features=512, bias=True)\n",
       "      )\n",
       "    )\n",
       "  )\n",
       "  (layernorms): ModuleList(\n",
       "    (0-5): 6 x LayerNorm((512,), eps=1e-05, elementwise_affine=True)\n",
       "  )\n",
       ")"
      ]
     },
     "execution_count": 10,
     "metadata": {},
     "output_type": "execute_result"
    }
   ],
   "source": [
    "model"
   ]
  },
  {
   "cell_type": "code",
   "execution_count": 11,
   "metadata": {},
   "outputs": [
    {
     "data": {
      "text/plain": [
       "Linear(in_features=2048, out_features=512, bias=True)"
      ]
     },
     "execution_count": 11,
     "metadata": {},
     "output_type": "execute_result"
    }
   ],
   "source": [
    "model.blocks[-1].block[2]"
   ]
  },
  {
   "cell_type": "code",
   "execution_count": null,
   "metadata": {},
   "outputs": [],
   "source": []
  },
  {
   "cell_type": "code",
   "execution_count": 12,
   "metadata": {},
   "outputs": [
    {
     "data": {
      "text/plain": [
       "tensor([0.0492, 0.0371, 0.0519, 0.0243, 0.0230, 0.0255, 0.7060, 0.0280, 0.0319,\n",
       "        0.0230])"
      ]
     },
     "execution_count": 12,
     "metadata": {},
     "output_type": "execute_result"
    }
   ],
   "source": [
    "torch.softmax(output, dim=-1)"
   ]
  },
  {
   "cell_type": "code",
   "execution_count": 13,
   "metadata": {
    "colab": {
     "base_uri": "https://localhost:8080/"
    },
    "executionInfo": {
     "elapsed": 3331,
     "status": "ok",
     "timestamp": 1700319319995,
     "user": {
      "displayName": "Piero Neri",
      "userId": "15910920029630871479"
     },
     "user_tz": -60
    },
    "id": "h40sr76cvRic",
    "outputId": "bcb662ac-8d82-49c0-ef92-4d8e3f25c320"
   },
   "outputs": [
    {
     "name": "stdout",
     "output_type": "stream",
     "text": [
      "torch.Size([1, 12288])\n"
     ]
    },
    {
     "ename": "AxisError",
     "evalue": "axis 2 is out of bounds for array of dimension 1",
     "output_type": "error",
     "traceback": [
      "\u001b[0;31m---------------------------------------------------------------------------\u001b[0m",
      "\u001b[0;31mAxisError\u001b[0m                                 Traceback (most recent call last)",
      "Cell \u001b[0;32mIn[13], line 33\u001b[0m\n\u001b[1;32m     30\u001b[0m targets \u001b[38;5;241m=\u001b[39m [SoftmaxOutputTarget()]\n\u001b[1;32m     32\u001b[0m \u001b[38;5;66;03m# You can also pass aug_smooth=True and eigen_smooth=True, to apply smoothing.\u001b[39;00m\n\u001b[0;32m---> 33\u001b[0m grayscale_cam \u001b[38;5;241m=\u001b[39m \u001b[43mcam\u001b[49m\u001b[43m(\u001b[49m\u001b[43minput_tensor\u001b[49m\u001b[38;5;241;43m=\u001b[39;49m\u001b[43minput_tensor\u001b[49m\u001b[43m,\u001b[49m\u001b[43m \u001b[49m\u001b[43mtargets\u001b[49m\u001b[38;5;241;43m=\u001b[39;49m\u001b[43mtargets\u001b[49m\u001b[43m)\u001b[49m\n\u001b[1;32m     35\u001b[0m \u001b[38;5;66;03m# In this example grayscale_cam has only one image in the batch:\u001b[39;00m\n\u001b[1;32m     36\u001b[0m grayscale_cam \u001b[38;5;241m=\u001b[39m grayscale_cam[\u001b[38;5;241m0\u001b[39m, :]\n",
      "File \u001b[0;32m~/Tmp/ETH/DL/dl_proj/grad_cam/base_cam.py:190\u001b[0m, in \u001b[0;36mBaseCAM.__call__\u001b[0;34m(self, input_tensor, targets, aug_smooth, eigen_smooth)\u001b[0m\n\u001b[1;32m    186\u001b[0m \u001b[38;5;28;01mif\u001b[39;00m aug_smooth \u001b[38;5;129;01mis\u001b[39;00m \u001b[38;5;28;01mTrue\u001b[39;00m:\n\u001b[1;32m    187\u001b[0m     \u001b[38;5;28;01mreturn\u001b[39;00m \u001b[38;5;28mself\u001b[39m\u001b[38;5;241m.\u001b[39mforward_augmentation_smoothing(\n\u001b[1;32m    188\u001b[0m         input_tensor, targets, eigen_smooth)\n\u001b[0;32m--> 190\u001b[0m \u001b[38;5;28;01mreturn\u001b[39;00m \u001b[38;5;28;43mself\u001b[39;49m\u001b[38;5;241;43m.\u001b[39;49m\u001b[43mforward\u001b[49m\u001b[43m(\u001b[49m\u001b[43minput_tensor\u001b[49m\u001b[43m,\u001b[49m\n\u001b[1;32m    191\u001b[0m \u001b[43m                    \u001b[49m\u001b[43mtargets\u001b[49m\u001b[43m,\u001b[49m\u001b[43m \u001b[49m\u001b[43meigen_smooth\u001b[49m\u001b[43m)\u001b[49m\n",
      "File \u001b[0;32m~/Tmp/ETH/DL/dl_proj/grad_cam/base_cam.py:95\u001b[0m, in \u001b[0;36mBaseCAM.forward\u001b[0;34m(self, input_tensor, targets, eigen_smooth)\u001b[0m\n\u001b[1;32m     84\u001b[0m     loss\u001b[38;5;241m.\u001b[39mbackward(retain_graph\u001b[38;5;241m=\u001b[39m\u001b[38;5;28;01mTrue\u001b[39;00m)\n\u001b[1;32m     86\u001b[0m \u001b[38;5;66;03m# In most of the saliency attribution papers, the saliency is\u001b[39;00m\n\u001b[1;32m     87\u001b[0m \u001b[38;5;66;03m# computed with a single target layer.\u001b[39;00m\n\u001b[1;32m     88\u001b[0m \u001b[38;5;66;03m# Commonly it is the last convolutional layer.\u001b[39;00m\n\u001b[0;32m   (...)\u001b[0m\n\u001b[1;32m     93\u001b[0m \u001b[38;5;66;03m# use all conv layers for example, all Batchnorm layers,\u001b[39;00m\n\u001b[1;32m     94\u001b[0m \u001b[38;5;66;03m# or something else.\u001b[39;00m\n\u001b[0;32m---> 95\u001b[0m cam_per_layer \u001b[38;5;241m=\u001b[39m \u001b[38;5;28;43mself\u001b[39;49m\u001b[38;5;241;43m.\u001b[39;49m\u001b[43mcompute_cam_per_layer\u001b[49m\u001b[43m(\u001b[49m\u001b[43minput_tensor\u001b[49m\u001b[43m,\u001b[49m\n\u001b[1;32m     96\u001b[0m \u001b[43m                                           \u001b[49m\u001b[43mtargets\u001b[49m\u001b[43m,\u001b[49m\n\u001b[1;32m     97\u001b[0m \u001b[43m                                           \u001b[49m\u001b[43meigen_smooth\u001b[49m\u001b[43m)\u001b[49m\n\u001b[1;32m     98\u001b[0m \u001b[38;5;28;01mreturn\u001b[39;00m \u001b[38;5;28mself\u001b[39m\u001b[38;5;241m.\u001b[39maggregate_multi_layers(cam_per_layer)\n",
      "File \u001b[0;32m~/Tmp/ETH/DL/dl_proj/grad_cam/base_cam.py:129\u001b[0m, in \u001b[0;36mBaseCAM.compute_cam_per_layer\u001b[0;34m(self, input_tensor, targets, eigen_smooth)\u001b[0m\n\u001b[1;32m    126\u001b[0m \u001b[38;5;28;01mif\u001b[39;00m i \u001b[38;5;241m<\u001b[39m \u001b[38;5;28mlen\u001b[39m(grads_list):\n\u001b[1;32m    127\u001b[0m     layer_grads \u001b[38;5;241m=\u001b[39m grads_list[i]\n\u001b[0;32m--> 129\u001b[0m cam \u001b[38;5;241m=\u001b[39m \u001b[38;5;28;43mself\u001b[39;49m\u001b[38;5;241;43m.\u001b[39;49m\u001b[43mget_cam_image\u001b[49m\u001b[43m(\u001b[49m\u001b[43minput_tensor\u001b[49m\u001b[43m,\u001b[49m\n\u001b[1;32m    130\u001b[0m \u001b[43m                         \u001b[49m\u001b[43mtarget_layer\u001b[49m\u001b[43m,\u001b[49m\n\u001b[1;32m    131\u001b[0m \u001b[43m                         \u001b[49m\u001b[43mtargets\u001b[49m\u001b[43m,\u001b[49m\n\u001b[1;32m    132\u001b[0m \u001b[43m                         \u001b[49m\u001b[43mlayer_activations\u001b[49m\u001b[43m,\u001b[49m\n\u001b[1;32m    133\u001b[0m \u001b[43m                         \u001b[49m\u001b[43mlayer_grads\u001b[49m\u001b[43m,\u001b[49m\n\u001b[1;32m    134\u001b[0m \u001b[43m                         \u001b[49m\u001b[43meigen_smooth\u001b[49m\u001b[43m)\u001b[49m\n\u001b[1;32m    135\u001b[0m cam \u001b[38;5;241m=\u001b[39m np\u001b[38;5;241m.\u001b[39mmaximum(cam, \u001b[38;5;241m0\u001b[39m)\n\u001b[1;32m    136\u001b[0m scaled \u001b[38;5;241m=\u001b[39m scale_cam_image(cam, target_size)\n",
      "File \u001b[0;32m~/Tmp/ETH/DL/dl_proj/grad_cam/base_cam.py:50\u001b[0m, in \u001b[0;36mBaseCAM.get_cam_image\u001b[0;34m(self, input_tensor, target_layer, targets, activations, grads, eigen_smooth)\u001b[0m\n\u001b[1;32m     42\u001b[0m \u001b[38;5;28;01mdef\u001b[39;00m \u001b[38;5;21mget_cam_image\u001b[39m(\u001b[38;5;28mself\u001b[39m,\n\u001b[1;32m     43\u001b[0m                   input_tensor: torch\u001b[38;5;241m.\u001b[39mTensor,\n\u001b[1;32m     44\u001b[0m                   target_layer: torch\u001b[38;5;241m.\u001b[39mnn\u001b[38;5;241m.\u001b[39mModule,\n\u001b[0;32m   (...)\u001b[0m\n\u001b[1;32m     47\u001b[0m                   grads: torch\u001b[38;5;241m.\u001b[39mTensor,\n\u001b[1;32m     48\u001b[0m                   eigen_smooth: \u001b[38;5;28mbool\u001b[39m \u001b[38;5;241m=\u001b[39m \u001b[38;5;28;01mFalse\u001b[39;00m) \u001b[38;5;241m-\u001b[39m\u001b[38;5;241m>\u001b[39m np\u001b[38;5;241m.\u001b[39mndarray:\n\u001b[0;32m---> 50\u001b[0m     weights \u001b[38;5;241m=\u001b[39m \u001b[38;5;28;43mself\u001b[39;49m\u001b[38;5;241;43m.\u001b[39;49m\u001b[43mget_cam_weights\u001b[49m\u001b[43m(\u001b[49m\u001b[43minput_tensor\u001b[49m\u001b[43m,\u001b[49m\n\u001b[1;32m     51\u001b[0m \u001b[43m                                   \u001b[49m\u001b[43mtarget_layer\u001b[49m\u001b[43m,\u001b[49m\n\u001b[1;32m     52\u001b[0m \u001b[43m                                   \u001b[49m\u001b[43mtargets\u001b[49m\u001b[43m,\u001b[49m\n\u001b[1;32m     53\u001b[0m \u001b[43m                                   \u001b[49m\u001b[43mactivations\u001b[49m\u001b[43m,\u001b[49m\n\u001b[1;32m     54\u001b[0m \u001b[43m                                   \u001b[49m\u001b[43mgrads\u001b[49m\u001b[43m)\u001b[49m\n\u001b[1;32m     55\u001b[0m     weighted_activations \u001b[38;5;241m=\u001b[39m weights[:, :, \u001b[38;5;28;01mNone\u001b[39;00m, \u001b[38;5;28;01mNone\u001b[39;00m] \u001b[38;5;241m*\u001b[39m activations\n\u001b[1;32m     56\u001b[0m     \u001b[38;5;28;01mif\u001b[39;00m eigen_smooth:\n",
      "File \u001b[0;32m~/Tmp/ETH/DL/dl_proj/grad_cam/grad_cam.py:22\u001b[0m, in \u001b[0;36mGradCAM.get_cam_weights\u001b[0;34m(self, input_tensor, target_layer, target_category, activations, grads)\u001b[0m\n\u001b[1;32m     16\u001b[0m \u001b[38;5;28;01mdef\u001b[39;00m \u001b[38;5;21mget_cam_weights\u001b[39m(\u001b[38;5;28mself\u001b[39m,\n\u001b[1;32m     17\u001b[0m                     input_tensor,\n\u001b[1;32m     18\u001b[0m                     target_layer,\n\u001b[1;32m     19\u001b[0m                     target_category,\n\u001b[1;32m     20\u001b[0m                     activations,\n\u001b[1;32m     21\u001b[0m                     grads):\n\u001b[0;32m---> 22\u001b[0m     \u001b[38;5;28;01mreturn\u001b[39;00m \u001b[43mnp\u001b[49m\u001b[38;5;241;43m.\u001b[39;49m\u001b[43mmean\u001b[49m\u001b[43m(\u001b[49m\u001b[43mgrads\u001b[49m\u001b[43m,\u001b[49m\u001b[43m \u001b[49m\u001b[43maxis\u001b[49m\u001b[38;5;241;43m=\u001b[39;49m\u001b[43m(\u001b[49m\u001b[38;5;241;43m2\u001b[39;49m\u001b[43m,\u001b[49m\u001b[43m \u001b[49m\u001b[38;5;241;43m3\u001b[39;49m\u001b[43m)\u001b[49m\u001b[43m)\u001b[49m\n",
      "File \u001b[0;32m<__array_function__ internals>:180\u001b[0m, in \u001b[0;36mmean\u001b[0;34m(*args, **kwargs)\u001b[0m\n",
      "File \u001b[0;32m~/miniforge3/lib/python3.10/site-packages/numpy/core/fromnumeric.py:3432\u001b[0m, in \u001b[0;36mmean\u001b[0;34m(a, axis, dtype, out, keepdims, where)\u001b[0m\n\u001b[1;32m   3429\u001b[0m     \u001b[38;5;28;01melse\u001b[39;00m:\n\u001b[1;32m   3430\u001b[0m         \u001b[38;5;28;01mreturn\u001b[39;00m mean(axis\u001b[38;5;241m=\u001b[39maxis, dtype\u001b[38;5;241m=\u001b[39mdtype, out\u001b[38;5;241m=\u001b[39mout, \u001b[38;5;241m*\u001b[39m\u001b[38;5;241m*\u001b[39mkwargs)\n\u001b[0;32m-> 3432\u001b[0m \u001b[38;5;28;01mreturn\u001b[39;00m \u001b[43m_methods\u001b[49m\u001b[38;5;241;43m.\u001b[39;49m\u001b[43m_mean\u001b[49m\u001b[43m(\u001b[49m\u001b[43ma\u001b[49m\u001b[43m,\u001b[49m\u001b[43m \u001b[49m\u001b[43maxis\u001b[49m\u001b[38;5;241;43m=\u001b[39;49m\u001b[43maxis\u001b[49m\u001b[43m,\u001b[49m\u001b[43m \u001b[49m\u001b[43mdtype\u001b[49m\u001b[38;5;241;43m=\u001b[39;49m\u001b[43mdtype\u001b[49m\u001b[43m,\u001b[49m\n\u001b[1;32m   3433\u001b[0m \u001b[43m                      \u001b[49m\u001b[43mout\u001b[49m\u001b[38;5;241;43m=\u001b[39;49m\u001b[43mout\u001b[49m\u001b[43m,\u001b[49m\u001b[43m \u001b[49m\u001b[38;5;241;43m*\u001b[39;49m\u001b[38;5;241;43m*\u001b[39;49m\u001b[43mkwargs\u001b[49m\u001b[43m)\u001b[49m\n",
      "File \u001b[0;32m~/miniforge3/lib/python3.10/site-packages/numpy/core/_methods.py:168\u001b[0m, in \u001b[0;36m_mean\u001b[0;34m(a, axis, dtype, out, keepdims, where)\u001b[0m\n\u001b[1;32m    164\u001b[0m arr \u001b[38;5;241m=\u001b[39m asanyarray(a)\n\u001b[1;32m    166\u001b[0m is_float16_result \u001b[38;5;241m=\u001b[39m \u001b[38;5;28;01mFalse\u001b[39;00m\n\u001b[0;32m--> 168\u001b[0m rcount \u001b[38;5;241m=\u001b[39m \u001b[43m_count_reduce_items\u001b[49m\u001b[43m(\u001b[49m\u001b[43marr\u001b[49m\u001b[43m,\u001b[49m\u001b[43m \u001b[49m\u001b[43maxis\u001b[49m\u001b[43m,\u001b[49m\u001b[43m \u001b[49m\u001b[43mkeepdims\u001b[49m\u001b[38;5;241;43m=\u001b[39;49m\u001b[43mkeepdims\u001b[49m\u001b[43m,\u001b[49m\u001b[43m \u001b[49m\u001b[43mwhere\u001b[49m\u001b[38;5;241;43m=\u001b[39;49m\u001b[43mwhere\u001b[49m\u001b[43m)\u001b[49m\n\u001b[1;32m    169\u001b[0m \u001b[38;5;28;01mif\u001b[39;00m rcount \u001b[38;5;241m==\u001b[39m \u001b[38;5;241m0\u001b[39m \u001b[38;5;28;01mif\u001b[39;00m where \u001b[38;5;129;01mis\u001b[39;00m \u001b[38;5;28;01mTrue\u001b[39;00m \u001b[38;5;28;01melse\u001b[39;00m umr_any(rcount \u001b[38;5;241m==\u001b[39m \u001b[38;5;241m0\u001b[39m, axis\u001b[38;5;241m=\u001b[39m\u001b[38;5;28;01mNone\u001b[39;00m):\n\u001b[1;32m    170\u001b[0m     warnings\u001b[38;5;241m.\u001b[39mwarn(\u001b[38;5;124m\"\u001b[39m\u001b[38;5;124mMean of empty slice.\u001b[39m\u001b[38;5;124m\"\u001b[39m, \u001b[38;5;167;01mRuntimeWarning\u001b[39;00m, stacklevel\u001b[38;5;241m=\u001b[39m\u001b[38;5;241m2\u001b[39m)\n",
      "File \u001b[0;32m~/miniforge3/lib/python3.10/site-packages/numpy/core/_methods.py:76\u001b[0m, in \u001b[0;36m_count_reduce_items\u001b[0;34m(arr, axis, keepdims, where)\u001b[0m\n\u001b[1;32m     74\u001b[0m     items \u001b[38;5;241m=\u001b[39m \u001b[38;5;241m1\u001b[39m\n\u001b[1;32m     75\u001b[0m     \u001b[38;5;28;01mfor\u001b[39;00m ax \u001b[38;5;129;01min\u001b[39;00m axis:\n\u001b[0;32m---> 76\u001b[0m         items \u001b[38;5;241m*\u001b[39m\u001b[38;5;241m=\u001b[39m arr\u001b[38;5;241m.\u001b[39mshape[\u001b[43mmu\u001b[49m\u001b[38;5;241;43m.\u001b[39;49m\u001b[43mnormalize_axis_index\u001b[49m\u001b[43m(\u001b[49m\u001b[43max\u001b[49m\u001b[43m,\u001b[49m\u001b[43m \u001b[49m\u001b[43marr\u001b[49m\u001b[38;5;241;43m.\u001b[39;49m\u001b[43mndim\u001b[49m\u001b[43m)\u001b[49m]\n\u001b[1;32m     77\u001b[0m     items \u001b[38;5;241m=\u001b[39m nt\u001b[38;5;241m.\u001b[39mintp(items)\n\u001b[1;32m     78\u001b[0m \u001b[38;5;28;01melse\u001b[39;00m:\n\u001b[1;32m     79\u001b[0m     \u001b[38;5;66;03m# TODO: Optimize case when `where` is broadcast along a non-reduction\u001b[39;00m\n\u001b[1;32m     80\u001b[0m     \u001b[38;5;66;03m# axis and full sum is more excessive than needed.\u001b[39;00m\n\u001b[1;32m     81\u001b[0m \n\u001b[1;32m     82\u001b[0m     \u001b[38;5;66;03m# guarded to protect circular imports\u001b[39;00m\n",
      "\u001b[0;31mAxisError\u001b[0m: axis 2 is out of bounds for array of dimension 1"
     ]
    }
   ],
   "source": [
    "from grad_cam.grad_cam import GradCAM\n",
    "from grad_cam.utils.model_targets import ClassifierOutputTarget, ClassifierOutputSoftmaxTarget, SoftmaxOutputTarget\n",
    "from grad_cam.utils.image import show_cam_on_image\n",
    "from torchvision.models import resnet50\n",
    "\n",
    "target_layers = [model.blocks[-1].block[2]]\n",
    "input_image = torch.unsqueeze(image, dim=0)\n",
    "print(input_image.shape)\n",
    "input_tensor = input_image # Create an input tensor image for your model..\n",
    "# Note: input_tensor can be a batch tensor with several images!\n",
    "\n",
    "# Construct the CAM object once, and then re-use it on many images:\n",
    "cam = GradCAM(model=model, target_layers=target_layers, use_cuda=False)\n",
    "\n",
    "# You can also use it within a with statement, to make sure it is freed,\n",
    "# In case you need to re-create it inside an outer loop:\n",
    "# with GradCAM(model=model, target_layers=target_layers, use_cuda=args.use_cuda) as cam:\n",
    "#   ...\n",
    "\n",
    "# We have to specify the target we want to generate\n",
    "# the Class Activation Maps for.\n",
    "# If targets is None, the highest scoring category\n",
    "# will be used for every image in the batch.\n",
    "# Here we use ClassifierOutputTarget, but you can define your own custom targets\n",
    "# That are, for example, combinations of categories, or specific outputs in a non standard model.\n",
    "\n",
    "# targets = None\n",
    "\n",
    "# both ClassifierOutputTarget and ClassifierOutputSoftmaxTarget are 2D, so we cannot use them\n",
    "targets = [SoftmaxOutputTarget()]\n",
    "\n",
    "# You can also pass aug_smooth=True and eigen_smooth=True, to apply smoothing.\n",
    "grayscale_cam = cam(input_tensor=input_tensor, targets=targets)\n",
    "\n",
    "# In this example grayscale_cam has only one image in the batch:\n",
    "grayscale_cam = grayscale_cam[0, :]\n",
    "visualization = show_cam_on_image(rgb_img, grayscale_cam, use_rgb=True)"
   ]
  },
  {
   "cell_type": "code",
   "execution_count": 30,
   "metadata": {},
   "outputs": [
    {
     "name": "stderr",
     "output_type": "stream",
     "text": [
      "/Users/me/miniforge3/lib/python3.10/site-packages/torchvision/models/_utils.py:208: UserWarning: The parameter 'pretrained' is deprecated since 0.13 and may be removed in the future, please use 'weights' instead.\n",
      "  warnings.warn(\n",
      "/Users/me/miniforge3/lib/python3.10/site-packages/torchvision/models/_utils.py:223: UserWarning: Arguments other than a weight enum or `None` for 'weights' are deprecated since 0.13 and may be removed in the future. The current behavior is equivalent to passing `weights=ResNet50_Weights.IMAGENET1K_V1`. You can also use `weights=ResNet50_Weights.DEFAULT` to get the most up-to-date weights.\n",
      "  warnings.warn(msg)\n"
     ]
    }
   ],
   "source": [
    "from torchvision import models\n",
    "resnet_model = models.resnet50(pretrained=True)"
   ]
  },
  {
   "cell_type": "code",
   "execution_count": 31,
   "metadata": {},
   "outputs": [
    {
     "data": {
      "text/plain": [
       "BatchNorm2d(2048, eps=1e-05, momentum=0.1, affine=True, track_running_stats=True)"
      ]
     },
     "execution_count": 31,
     "metadata": {},
     "output_type": "execute_result"
    }
   ],
   "source": [
    "resnet_model.layer4[-1].bn3"
   ]
  },
  {
   "cell_type": "code",
   "execution_count": 32,
   "metadata": {},
   "outputs": [
    {
     "name": "stdout",
     "output_type": "stream",
     "text": [
      "(64, 64)\n"
     ]
    },
    {
     "data": {
      "image/png": "[encoded data removed]",
      "text/plain": [
       "<Figure size 640x480 with 1 Axes>"
      ]
     },
     "metadata": {},
     "output_type": "display_data"
    }
   ],
   "source": [
    "from grad_cam.utils.image import (\n",
    "    show_cam_on_image, deprocess_image, preprocess_image\n",
    ")\n",
    "from grad_cam import (\n",
    "    GradCAM, HiResCAM, ScoreCAM, GradCAMPlusPlus,\n",
    "    AblationCAM, XGradCAM, EigenCAM, EigenGradCAM,\n",
    "    LayerCAM, FullGrad, GradCAMElementWise\n",
    ")\n",
    "target_layers = [resnet_model.layer4[-1].bn3]\n",
    "rgb_img, _ = cifar10_dataset[image_nr]\n",
    "rgb_img = rgb_img.numpy().transpose((1, 2, 0))\n",
    "rgb_img = np.float32(rgb_img) / 255\n",
    "input_tensor = preprocess_image(rgb_img,\n",
    "                                mean=[0.485, 0.456, 0.406],\n",
    "                                std=[0.229, 0.224, 0.225])\n",
    "\n",
    "output = resnet_model(input_tensor)\n",
    "\n",
    "# We have to specify the target we want to generate\n",
    "# the Class Activation Maps for.\n",
    "# If targets is None, the highest scoring category (for every member in the batch) will be used.\n",
    "# You can target specific categories by\n",
    "# targets = [e.g ClassifierOutputTarget(281)]\n",
    "targets = None\n",
    "\n",
    "# Using the with statement ensures the context is freed, and you can\n",
    "# recreate different CAM objects in a loop.\n",
    "cam_algorithm = GradCAM\n",
    "with cam_algorithm(model=resnet_model,\n",
    "                   target_layers=target_layers,\n",
    "                   use_cuda=False) as cam:\n",
    "\n",
    "\n",
    "    # AblationCAM and ScoreCAM have batched implementations.\n",
    "    # You can override the internal batch size for faster computation.\n",
    "    cam.batch_size = 32\n",
    "    grayscale_cam = cam(input_tensor=input_tensor,\n",
    "                        targets=targets)\n",
    "\n",
    "    grayscale_cam = grayscale_cam[0, :]\n",
    "    print(grayscale_cam.shape)\n",
    "    cam_image = show_cam_on_image(rgb_img, grayscale_cam, use_rgb=True)\n",
    "    plt.imshow(cam_image)\n",
    "    plt.show()"
   ]
  },
  {
   "cell_type": "code",
   "execution_count": 42,
   "metadata": {},
   "outputs": [
    {
     "name": "stdout",
     "output_type": "stream",
     "text": [
      "torch.Size([12288])\n",
      "tensor([-0.3861, -0.6676, -0.3331, -1.0902, -1.1450, -1.0445,  2.2772, -0.9510,\n",
      "        -0.8194, -1.1487], grad_fn=<SqueezeBackward0>)\n",
      "6\n",
      "torch.Size([10])\n",
      "(12288,)\n",
      "[0.78349301 0.78256253 0.78163205 ... 0.84548925 0.84862925 0.85176926]\n"
     ]
    },
    {
     "data": {
      "image/png": "[encoded data removed]",
      "text/plain": [
       "<Figure size 640x480 with 1 Axes>"
      ]
     },
     "metadata": {},
     "output_type": "display_data"
    }
   ],
   "source": [
    "# from https://github.com/liguge/1D-Grad-CAM-for-interpretable-intelligent-fault-diagnosis/blob/main/Grad-CAM%2B%2B%201d.py\n",
    "\n",
    "import torch\n",
    "import torch.nn as nn\n",
    "import torch.nn.functional as F\n",
    "import numpy as np\n",
    "\n",
    "def target_category_loss(x, category_index, nb_classes):\n",
    "    return torch.mul(x, F.one_hot(category_index, nb_classes))\n",
    "\n",
    "def target_category_loss_output_shape(input_shape):\n",
    "    return input_shape\n",
    "\n",
    "def normalize(x):\n",
    "    # utility function to normalize a tensor by its L2 norm\n",
    "    return x / (torch.sqrt(torch.mean(torch.square(x))) + 1e-5)\n",
    "\n",
    "def resize_1d(array, shape):\n",
    "    res = np.zeros(shape)\n",
    "    if array.shape[0] >= shape:\n",
    "        ratio = array.shape[0]/shape\n",
    "        for i in range(array.shape[0]):\n",
    "            res[int(i/ratio)] += array[i]*(1-(i/ratio-int(i/ratio)))\n",
    "            if int(i/ratio) != shape-1:\n",
    "                res[int(i/ratio)+1] += array[i]*(i/ratio-int(i/ratio))\n",
    "            else:\n",
    "                res[int(i/ratio)] += array[i]*(i/ratio-int(i/ratio))\n",
    "        res = res[::-1]\n",
    "        array = array[::-1]\n",
    "        for i in range(array.shape[0]):\n",
    "            res[int(i/ratio)] += array[i]*(1-(i/ratio-int(i/ratio)))\n",
    "            if int(i/ratio) != shape-1:\n",
    "                res[int(i/ratio)+1] += array[i]*(i/ratio-int(i/ratio))\n",
    "            else:\n",
    "                res[int(i/ratio)] += array[i]*(i/ratio-int(i/ratio))\n",
    "        res = res[::-1]/(2*ratio)\n",
    "        array = array[::-1]\n",
    "    else:\n",
    "        ratio = shape/array.shape[0]\n",
    "        left = 0\n",
    "        right = 1\n",
    "        for i in range(shape):\n",
    "            if left < int(i/ratio):\n",
    "                left += 1\n",
    "                right += 1\n",
    "            if right > array.shape[0]-1:\n",
    "                res[i] += array[left]\n",
    "            else:\n",
    "                res[i] += array[right] * \\\n",
    "                    (i - left * ratio)/ratio+array[left]*(right*ratio-i)/ratio\n",
    "        res = res[::-1]\n",
    "        array = array[::-1]\n",
    "        left = 0\n",
    "        right = 1\n",
    "        for i in range(shape):\n",
    "            if left < int(i/ratio):\n",
    "                left += 1\n",
    "                right += 1\n",
    "            if right > array.shape[0]-1:\n",
    "                res[i] += array[left]\n",
    "            else:\n",
    "                res[i] += array[right] * \\\n",
    "                    (i - left * ratio)/ratio+array[left]*(right*ratio-i)/ratio\n",
    "        res = res[::-1]/2\n",
    "        array = array[::-1]\n",
    "    return res\n",
    "\n",
    "class ActivationsAndGradients:\n",
    "    \"\"\" Class for extracting activations and\n",
    "    registering gradients from targetted intermediate layers \"\"\"\n",
    "\n",
    "    def __init__(self, model, target_layer):\n",
    "        self.model = model\n",
    "        self.gradients = []\n",
    "        self.activations = []\n",
    "\n",
    "        target_layer.register_forward_hook(self.save_activation)\n",
    "        target_layer.register_full_backward_hook(self.save_gradient)\n",
    "\n",
    "    def save_activation(self, module, input, output):\n",
    "        self.activations.append(output)\n",
    "\n",
    "    def save_gradient(self, module, grad_input, grad_output):\n",
    "        # Gradients are computed in reverse order\n",
    "        self.gradients = [grad_output[0]] + self.gradients\n",
    "\n",
    "    def __call__(self, x):\n",
    "        self.gradients = []\n",
    "        self.activations = []\n",
    "        return self.model(x)\n",
    "\n",
    "\n",
    "class BaseCAM:\n",
    "    def __init__(self, model, target_layer, use_cuda=False):\n",
    "        self.model = model.eval()\n",
    "        self.target_layer = target_layer\n",
    "        self.cuda = use_cuda\n",
    "        if self.cuda:\n",
    "            self.model = model.cuda()\n",
    "\n",
    "        self.activations_and_grads = ActivationsAndGradients(self.model, target_layer)\n",
    "\n",
    "    def forward(self, input_img):\n",
    "        return self.model(input_img)\n",
    "\n",
    "    def get_cam_weights(self,\n",
    "                        input_tensor,\n",
    "                        target_category,\n",
    "                        activations,\n",
    "                        grads):\n",
    "        raise Exception(\"Not Implemented\")\n",
    "\n",
    "    def get_loss(self, output, target_category):\n",
    "        print(output.size())\n",
    "        return output[target_category]\n",
    "\n",
    "    def __call__(self, input_tensor, target_category=None):\n",
    "        if self.cuda:\n",
    "            input_tensor = input_tensor.cuda()\n",
    "\n",
    "        output = self.activations_and_grads(input_tensor)\n",
    "\n",
    "        if target_category is None:\n",
    "            output = output.squeeze()\n",
    "            target_category = np.argmax(output.cpu().data.numpy())\n",
    "            print(output)\n",
    "            print(target_category)\n",
    "        self.model.zero_grad()\n",
    "        loss = self.get_loss(output, target_category)\n",
    "        loss.backward(retain_graph=True)\n",
    "\n",
    "        activations = self.activations_and_grads.activations[-1].cpu().data.numpy()\n",
    "        grads = self.activations_and_grads.gradients[-1].cpu().data.numpy()\n",
    "        #weights = np.mean(grads, axis=(0))\n",
    "        weights = self.get_cam_weights(input_tensor, target_category, activations, grads)\n",
    "        # cam = np.zeros(activations.shape[1:], dtype=np.float32)\n",
    "        #\n",
    "        # for i, w in enumerate(weights):\n",
    "        #     cam += w * activations[i, :]\n",
    "        # cam = activations.dot(weights)\n",
    "        cam = activations.T.dot(weights)    #maybe better\n",
    "        # print(input_tensor.shape[1])\n",
    "        # print(cam.shape)\n",
    "        # x = np.arange(0, 247, 1)\n",
    "        # plt.plot(x, cam.reshape(-1, 1))\n",
    "        # sns.set()\n",
    "        # ax = sns.heatmap(cam.reshape(-1, 1).T)\n",
    "        #cam = cv2.resize(cam, input_tensor.shape[1:][::-1])\n",
    "        cam = resize_1d(cam, (12288))\n",
    "        #cam = np.maximum(cam, 0)\n",
    "        # cam = np.expand_dims(cam, axis=1)\n",
    "        # ax = sns.heatmap(cam)\n",
    "        # plt.show()\n",
    "        # cam = cam - np.min(cam)\n",
    "        # cam = cam / np.max(cam)\n",
    "        heatmap = (cam - np.min(cam)) / (np.max(cam) - np.min(cam) + 1e-10)\n",
    "        print(heatmap.shape)\n",
    "        return heatmap\n",
    "class GradCAM(BaseCAM):\n",
    "    def __init__(self, model, target_layer, use_cuda=False):\n",
    "        super(GradCAM, self).__init__(model, target_layer, use_cuda)\n",
    "\n",
    "    def get_cam_weights(self, input_tensor,\n",
    "                        target_category,\n",
    "                        activations,\n",
    "                        grads):\n",
    "        grads_power_2 = grads ** 2\n",
    "        grads_power_3 = grads_power_2 * grads\n",
    "        sum_activations = np.sum(activations)\n",
    "        eps = 0.000001\n",
    "        aij = grads_power_2 / (2 * grads_power_2 + sum_activations * grads_power_3 + eps)\n",
    "        aij = np.where(grads != 0, aij, 0)\n",
    "\n",
    "        weights = np.maximum(grads, 0) * aij\n",
    "        weights = np.sum(weights)\n",
    "        return weights\n",
    "# from pytorch_grad_cam.utils.image import preprocess_image\n",
    "target_layer = model.blocks[-1].block[2]\n",
    "\n",
    "net = GradCAM(model, target_layer)\n",
    "\n",
    "input_tensor = image\n",
    "print(image.shape)\n",
    "output = net(input_tensor)\n",
    "print(output)\n",
    "output_image = torch.tensor(output).view(3, 64, 64).numpy()\n",
    "output_image = output_image.transpose((1, 2, 0))\n",
    "plt.imshow(output_image)\n",
    "plt.show()"
   ]
  }
 ],
 "metadata": {
  "accelerator": "GPU",
  "colab": {
   "gpuType": "T4",
   "provenance": []
  },
  "kernelspec": {
   "display_name": "Python 3 (ipykernel)",
   "language": "python",
   "name": "python3"
  },
  "language_info": {
   "codemirror_mode": {
    "name": "ipython",
    "version": 3
   },
   "file_extension": ".py",
   "mimetype": "text/x-python",
   "name": "python",
   "nbconvert_exporter": "python",
   "pygments_lexer": "ipython3",
   "version": "3.10.10"
  }
 },
 "nbformat": 4,
 "nbformat_minor": 4
}
