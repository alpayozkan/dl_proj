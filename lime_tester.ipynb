{
 "cells": [
  {
   "cell_type": "markdown",
   "metadata": {
    "collapsed": true
   },
   "source": [
    "# Testing LIME for visual explanations of model's predictions"
   ]
  },
  {
   "cell_type": "code",
   "execution_count": 491,
   "metadata": {},
   "outputs": [],
   "source": [
    "# imports\n",
    "import os\n",
    "import random\n",
    "import torch\n",
    "\n",
    "import matplotlib.pyplot as plt\n",
    "\n",
    "from torchvision import datasets, transforms\n",
    "from data_utils.data_stats import *\n",
    "from models.resnet import resnet18\n",
    "from lime import lime_image\n",
    "from skimage.segmentation import mark_boundaries\n",
    "from lime.wrappers.scikit_image import SegmentationAlgorithm\n",
    "from models.networks import get_model"
   ]
  },
  {
   "cell_type": "code",
   "execution_count": 492,
   "metadata": {},
   "outputs": [
    {
     "name": "stdout",
     "output_type": "stream",
     "text": [
      "Files already downloaded and verified\n"
     ]
    }
   ],
   "source": [
    "# Dataset Configuration\n",
    "dataset_name = 'cifar10'\n",
    "mean = MEAN_DICT[dataset_name]\n",
    "std = STD_DICT[dataset_name]\n",
    "num_classes = CLASS_DICT[dataset_name]\n",
    "dataset_classes = [\n",
    "    'airplane', 'automobile', 'bird', 'cat', 'deer',\n",
    "    'dog', 'frog', 'horse', 'ship', 'truck'\n",
    "]\n",
    "\n",
    "dataset = datasets.CIFAR10(root='./data', train=False, download=True, transform=transforms.ToTensor())\n",
    "\n",
    "assert len(dataset_classes) == num_classes"
   ]
  },
  {
   "cell_type": "code",
   "execution_count": 493,
   "metadata": {},
   "outputs": [],
   "source": [
    "# Setup dataloader\n",
    "data_loader = torch.utils.data.DataLoader(dataset,\n",
    "                                          batch_size=512,\n",
    "                                          shuffle=True,\n",
    "                                          num_workers=2)"
   ]
  },
  {
   "cell_type": "markdown",
   "metadata": {},
   "source": [
    "Select the architecture by executing the corresponding cell and follow the comments below."
   ]
  },
  {
   "cell_type": "code",
   "execution_count": 524,
   "metadata": {},
   "outputs": [],
   "source": [
    "# ResNet Configuration\n",
    "model = resnet18(pretrained=True)\n",
    "model_transform = transforms.Compose([\n",
    "    transforms.Normalize(mean / 255., std / 255.)\n",
    "])"
   ]
  },
  {
   "cell_type": "code",
   "execution_count": 502,
   "metadata": {},
   "outputs": [
    {
     "name": "stdout",
     "output_type": "stream",
     "text": [
      "Weights already downloaded\n",
      "Load_state output <All keys matched successfully>\n"
     ]
    }
   ],
   "source": [
    "# MLP Configuration\n",
    "mlp_architecture = 'B_12-Wi_512'  # B_12-Wi_512\n",
    "mlp_resolution = 64  # Resolution of fine-tuned model (64 for all models we provide)\n",
    "if not os.path.exists(\"checkpoints\"):\n",
    "    os.mkdir(\"checkpoints\")\n",
    "mlp_checkpoint = 'in21k_cifar10'  # This means you want the network pre-trained on ImageNet21k and finetuned on CIFAR10\n",
    "model = get_model(architecture=mlp_architecture, resolution=mlp_resolution, num_classes=num_classes,\n",
    "                  checkpoint=mlp_checkpoint)\n",
    "model_transform = transforms.Compose([\n",
    "    transforms.transforms.Resize((mlp_resolution, mlp_resolution)),\n",
    "    transforms.Normalize(mean / 255., std / 255.)\n",
    "])"
   ]
  },
  {
   "cell_type": "code",
   "execution_count": 525,
   "metadata": {},
   "outputs": [],
   "source": [
    "# get random image\n",
    "def get_random_image():\n",
    "    # image_nr = random.randrange(len(dataset))  # random image\n",
    "    image_nr = 9297  # specific image id\n",
    "\n",
    "    image, true_label = dataset[image_nr]\n",
    "    \n",
    "    image_np = image.numpy().transpose((1, 2, 0))\n",
    "    plt.imshow(image_np)\n",
    "    plt.show()\n",
    "    \n",
    "    print(f\"Picked image {image_nr} with true label '{dataset_classes[true_label]}'.\")\n",
    "    \n",
    "    return image, true_label\n",
    "\n",
    "# reshape to get input tensor for a particular image\n",
    "def get_input_tensor(img):\n",
    "    img = model_transform(img).unsqueeze(0)\n",
    "    # img = torch.reshape(img, (img.shape[0], -1)) # enable with MLP\n",
    "    return img"
   ]
  },
  {
   "cell_type": "code",
   "execution_count": 526,
   "metadata": {},
   "outputs": [
    {
     "data": {
      "image/png": "[encoded data removed]",
      "text/plain": [
       "<Figure size 640x480 with 1 Axes>"
      ]
     },
     "metadata": {},
     "output_type": "display_data"
    },
    {
     "name": "stdout",
     "output_type": "stream",
     "text": [
      "Picked image 9297 with true label 'bird'.\n",
      "Predicted 'bird' with probability 98.55%'\n"
     ]
    }
   ],
   "source": [
    "# prediction of our model\n",
    "model.eval()\n",
    "\n",
    "with torch.no_grad():\n",
    "    img, true_label = get_random_image() # 4136, 6358, 4073, 4991, 9297\n",
    "    output = model(get_input_tensor(img))\n",
    "    probabilities = torch.nn.functional.softmax(output, dim=-1).squeeze()\n",
    "    predicted_class = torch.argmax(probabilities).item()\n",
    "\n",
    "    predicted_label = dataset_classes[predicted_class]\n",
    "    \n",
    "    print(f\"Predicted '{predicted_label}' with probability {(probabilities[predicted_class] * 100):.2f}%'\")"
   ]
  },
  {
   "cell_type": "code",
   "execution_count": 528,
   "metadata": {},
   "outputs": [],
   "source": [
    "lime_transform = transforms.Compose([\n",
    "    transforms.ToTensor(),\n",
    "    model_transform\n",
    "])\n",
    "def batch_predict(images):\n",
    "    model.eval()\n",
    "    \n",
    "    batch = torch.stack([lime_transform(i) for i in images])\n",
    "    # batch = torch.reshape(batch, (batch.shape[0], -1))  # enable if MLP\n",
    "\n",
    "    with torch.no_grad():\n",
    "        logits = model(batch)\n",
    "        probs = torch.nn.functional.softmax(logits, dim=-1).numpy()\n",
    "        return probs"
   ]
  },
  {
   "cell_type": "markdown",
   "metadata": {},
   "source": [
    "In the next stage, we will perform LIME analyzis on the random image.\n",
    "The parameters can be adjusted:\n",
    "- top_labels: selects the K topmost predicted classes to perform the analysis\n",
    "- hide_color: if not specified, avg of segment is used to mask out part of the image\n",
    "- segmentation_fn: which segmentation algorithm to be used\n",
    "- num_samples: number of images that will be classified\n",
    "\n",
    "Here we can certainly play around with the **segmentation algorithm** and hyperparameters thereof.<br>\n",
    "Default is quickshift(kernel_size=4, max_dist=200, ratio=0.2)"
   ]
  },
  {
   "cell_type": "code",
   "execution_count": 529,
   "metadata": {},
   "outputs": [
    {
     "data": {
      "application/vnd.jupyter.widget-view+json": {
       "model_id": "65fa25230a1d45c7baf5600e9b3e4e8d",
       "version_major": 2,
       "version_minor": 0
      },
      "text/plain": [
       "  0%|          | 0/1000 [00:00<?, ?it/s]"
      ]
     },
     "metadata": {},
     "output_type": "display_data"
    }
   ],
   "source": [
    "# Perform LIME operations\n",
    "explainer = lime_image.LimeImageExplainer()\n",
    "explanation = explainer.explain_instance(img.numpy().transpose(1, 2, 0), \n",
    "                                         batch_predict, # classification function\n",
    "                                         top_labels=1, \n",
    "                                         hide_color=0,\n",
    "                                         #segmentation_fn=SegmentationAlgorithm('quickshift', kernel_size=4, \n",
    "                                         #                                      max_dist=200, ratio=0.2),\n",
    "                                         segmentation_fn=SegmentationAlgorithm('felzenszwalb', scale=1, sigma=.8),\n",
    "                                         num_samples=1000) # number of images that will be sent to classification"
   ]
  },
  {
   "cell_type": "markdown",
   "metadata": {},
   "source": [
    "The next two cells show the results. The parameters are:\n",
    "- positive_only: only show the areas (segments) that correlate with the top label\n",
    "- num_features: somehow indicates the size of the correlated area\n",
    "- hide_rest: whether the unnecessary parts of the image should be masked out\n",
    "\n",
    "Here, one can certainly play around with the **num_features** parameter"
   ]
  },
  {
   "cell_type": "code",
   "execution_count": 532,
   "metadata": {},
   "outputs": [
    {
     "data": {
      "text/plain": [
       "<matplotlib.image.AxesImage at 0x7f99be23e140>"
      ]
     },
     "execution_count": 532,
     "metadata": {},
     "output_type": "execute_result"
    },
    {
     "data": {
      "image/png": "[encoded data removed]",
      "text/plain": [
       "<Figure size 640x480 with 1 Axes>"
      ]
     },
     "metadata": {},
     "output_type": "display_data"
    }
   ],
   "source": [
    "temp, mask = explanation.get_image_and_mask(explanation.top_labels[0], positive_only=True, num_features=5, hide_rest=True)\n",
    "img_boundry = mark_boundaries(temp, mask)\n",
    "plt.imshow(img_boundry)"
   ]
  },
  {
   "cell_type": "code",
   "execution_count": 533,
   "metadata": {},
   "outputs": [
    {
     "data": {
      "text/plain": [
       "<matplotlib.image.AxesImage at 0x7f99c270c040>"
      ]
     },
     "execution_count": 533,
     "metadata": {},
     "output_type": "execute_result"
    },
    {
     "data": {
      "image/png": "[encoded data removed]",
      "text/plain": [
       "<Figure size 640x480 with 1 Axes>"
      ]
     },
     "metadata": {},
     "output_type": "display_data"
    }
   ],
   "source": [
    "temp, mask = explanation.get_image_and_mask(explanation.top_labels[0], positive_only=False, num_features=5, hide_rest=False)\n",
    "img_boundry = mark_boundaries(temp, mask)\n",
    "plt.imshow(img_boundry)"
   ]
  },
  {
   "cell_type": "code",
   "execution_count": null,
   "metadata": {},
   "outputs": [],
   "source": []
  }
 ],
 "metadata": {
  "kernelspec": {
   "display_name": "Python 3 (ipykernel)",
   "language": "python",
   "name": "python3"
  },
  "language_info": {
   "codemirror_mode": {
    "name": "ipython",
    "version": 3
   },
   "file_extension": ".py",
   "mimetype": "text/x-python",
   "name": "python",
   "nbconvert_exporter": "python",
   "pygments_lexer": "ipython3",
   "version": "3.10.9"
  }
 },
 "nbformat": 4,
 "nbformat_minor": 1
}